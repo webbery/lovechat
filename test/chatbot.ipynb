{
 "cells": [
  {
   "cell_type": "code",
   "execution_count": 6,
   "metadata": {},
   "outputs": [],
   "source": [
    "import pandas as pd\n",
    "import jieba as jb\n",
    "from sklearn.externals import joblib\n",
    "import numpy as np\n",
    "import sys\n",
    "# sys.setdefaultencoding(\"utf-8\")"
   ]
  },
  {
   "cell_type": "code",
   "execution_count": 7,
   "metadata": {},
   "outputs": [],
   "source": [
    "# qa_corpus = pd.read_csv('./qa_corpus.csv')\n",
    "qa_corpus = pd.read_csv('./raw_chat_corpus/qingyun-11w/12万对话语料青云库.csv',sep='\\t',engine='python',encoding=\"utf8\")"
   ]
  },
  {
   "cell_type": "code",
   "execution_count": 8,
   "metadata": {},
   "outputs": [
    {
     "data": {
      "text/html": [
       "<div>\n",
       "<style scoped>\n",
       "    .dataframe tbody tr th:only-of-type {\n",
       "        vertical-align: middle;\n",
       "    }\n",
       "\n",
       "    .dataframe tbody tr th {\n",
       "        vertical-align: top;\n",
       "    }\n",
       "\n",
       "    .dataframe thead th {\n",
       "        text-align: right;\n",
       "    }\n",
       "</style>\n",
       "<table border=\"1\" class=\"dataframe\">\n",
       "  <thead>\n",
       "    <tr style=\"text-align: right;\">\n",
       "      <th></th>\n",
       "      <th>question</th>\n",
       "      <th>answer</th>\n",
       "    </tr>\n",
       "  </thead>\n",
       "  <tbody>\n",
       "    <tr>\n",
       "      <th>0</th>\n",
       "      <td>南京在哪里</td>\n",
       "      <td>在这里了</td>\n",
       "    </tr>\n",
       "    <tr>\n",
       "      <th>1</th>\n",
       "      <td>咋死???红烧还是爆炒</td>\n",
       "      <td>哦了哦了哦了,咱聊点别的吧</td>\n",
       "    </tr>\n",
       "    <tr>\n",
       "      <th>2</th>\n",
       "      <td>你个小骚货，哥哥的巴操你爽不爽？</td>\n",
       "      <td>不要这样说嘛！很不文明哦</td>\n",
       "    </tr>\n",
       "    <tr>\n",
       "      <th>3</th>\n",
       "      <td>额麻麻怎么会有那玩意儿</td>\n",
       "      <td>无法理解您的话，获取帮助请发送 help</td>\n",
       "    </tr>\n",
       "    <tr>\n",
       "      <th>4</th>\n",
       "      <td>孩纸,新年快乐</td>\n",
       "      <td>{r+}同乐同乐，大家一起乐~</td>\n",
       "    </tr>\n",
       "  </tbody>\n",
       "</table>\n",
       "</div>"
      ],
      "text/plain": [
       "           question                answer\n",
       "0             南京在哪里                  在这里了\n",
       "1       咋死???红烧还是爆炒         哦了哦了哦了,咱聊点别的吧\n",
       "2  你个小骚货，哥哥的巴操你爽不爽？          不要这样说嘛！很不文明哦\n",
       "3       额麻麻怎么会有那玩意儿  无法理解您的话，获取帮助请发送 help\n",
       "4           孩纸,新年快乐       {r+}同乐同乐，大家一起乐~"
      ]
     },
     "execution_count": 8,
     "metadata": {},
     "output_type": "execute_result"
    }
   ],
   "source": [
    "qa_corpus.head()"
   ]
  },
  {
   "cell_type": "code",
   "execution_count": 9,
   "metadata": {},
   "outputs": [
    {
     "data": {
      "text/plain": [
       "117528"
      ]
     },
     "execution_count": 9,
     "metadata": {},
     "output_type": "execute_result"
    }
   ],
   "source": [
    "len(qa_corpus)"
   ]
  },
  {
   "cell_type": "code",
   "execution_count": 10,
   "metadata": {},
   "outputs": [
    {
     "data": {
      "text/plain": [
       "0                    南京在哪里\n",
       "1              咋死???红烧还是爆炒\n",
       "2         你个小骚货，哥哥的巴操你爽不爽？\n",
       "3              额麻麻怎么会有那玩意儿\n",
       "4                  孩纸,新年快乐\n",
       "5                    拿尿冲一冲\n",
       "6                   那重点是什么\n",
       "7         在上一条我回复你,你怎么不回复我\n",
       "8                    章子怡新宠\n",
       "9                      求勾引\n",
       "10                    说不粗来\n",
       "11                    喜欢毛线\n",
       "12         祝胡子润生日快乐成年happy\n",
       "13                  刚才还说女生\n",
       "14                      起来\n",
       "15                  这年头都搞基\n",
       "16                  唐杰不爱我了\n",
       "17                那我请你吃kfc\n",
       "18                    比尔盖茨\n",
       "19              你个小黄毛,怎么说话\n",
       "20              是我的错,没给你吃药\n",
       "21                   回家见基友\n",
       "22             你是我唯一朋友,可悲吗\n",
       "23                  就是,,走你\n",
       "24                 告诉她晚上加油\n",
       "25                  看来你很爱钱\n",
       "26           仔要跑去主人的梦里找主人了\n",
       "27                洗干净,上桌等我\n",
       "28                 无论大小都实成\n",
       "29                   给我讲笑话\n",
       "                ...       \n",
       "117498          夏言轻最爱的士官大人\n",
       "117499            你比移动智能多了\n",
       "117500         solo?我让你一只手\n",
       "117501                背个古诗\n",
       "117502                这是鸟语\n",
       "117503                 你生日\n",
       "117504                给我揉揉\n",
       "117505            讨厌,干嘛学人家\n",
       "117506               你会回我吗\n",
       "117507          噢你学会什么新东西没\n",
       "117508              戈你马勒戈壁\n",
       "117509             基情四射有木有\n",
       "117510               你有对象不\n",
       "117511                活好给米\n",
       "117512                我妹两岁\n",
       "117513                 你惹的\n",
       "117514            笨葡萄的紫葡萄啊\n",
       "117515               我怕她骂我\n",
       "117516            你干啥呢崽,下蛋\n",
       "117517             哈喇满地哈士奇\n",
       "117518        你的毛为什么还没有呈上来\n",
       "117519          你太坏了,哼哼哼哼哼\n",
       "117520              那你教教我吧\n",
       "117521         我种的百合为什么还不开\n",
       "117522       就当消消毒……那么多人用过\n",
       "117523                 不乐意\n",
       "117524          那就先留你一条小命叭\n",
       "117525           狂欢是一群人的孤单\n",
       "117526               最喜欢炸了\n",
       "117527              敢不敢说句话\n",
       "Name: question, Length: 117528, dtype: object"
      ]
     },
     "execution_count": 10,
     "metadata": {},
     "output_type": "execute_result"
    }
   ],
   "source": [
    "qa_corpus['question']"
   ]
  },
  {
   "cell_type": "markdown",
   "metadata": {},
   "source": [
    "+ 对quest和answer做预处理，求词向量和句向量"
   ]
  },
  {
   "cell_type": "code",
   "execution_count": 11,
   "metadata": {},
   "outputs": [
    {
     "name": "stdout",
     "output_type": "stream",
     "text": [
      "Executing op Range in device /job:localhost/replica:0/task:0/device:CPU:0\n",
      "Executing op Cast in device /job:localhost/replica:0/task:0/device:CPU:0\n",
      "Executing op HashTableV2 in device /job:localhost/replica:0/task:0/device:CPU:0\n",
      "Executing op LookupTableImportV2 in device /job:localhost/replica:0/task:0/device:CPU:0\n",
      "Executing op HashTableV2 in device /job:localhost/replica:0/task:0/device:CPU:0\n",
      "Executing op TruncatedNormal in device /job:localhost/replica:0/task:0/device:CPU:0\n",
      "Executing op Mul in device /job:localhost/replica:0/task:0/device:CPU:0\n",
      "Executing op Add in device /job:localhost/replica:0/task:0/device:CPU:0\n",
      "Executing op MutexV2 in device /job:localhost/replica:0/task:0/device:CPU:0\n",
      "Executing op VarHandleOp in device /job:localhost/replica:0/task:0/device:CPU:0\n",
      "Executing op VarIsInitializedOp in device /job:localhost/replica:0/task:0/device:CPU:0\n",
      "Executing op LogicalNot in device /job:localhost/replica:0/task:0/device:CPU:0\n",
      "Executing op Assert in device /job:localhost/replica:0/task:0/device:CPU:0\n",
      "Executing op AssignVariableOp in device /job:localhost/replica:0/task:0/device:CPU:0\n",
      "Executing op RandomUniform in device /job:localhost/replica:0/task:0/device:CPU:0\n",
      "Executing op Sub in device /job:localhost/replica:0/task:0/device:CPU:0\n",
      "Executing op Mul in device /job:localhost/replica:0/task:0/device:CPU:0\n",
      "Executing op Add in device /job:localhost/replica:0/task:0/device:CPU:0\n",
      "Executing op VarHandleOp in device /job:localhost/replica:0/task:0/device:CPU:0\n",
      "Executing op Fill in device /job:localhost/replica:0/task:0/device:CPU:0\n",
      "Executing op VarHandleOp in device /job:localhost/replica:0/task:0/device:CPU:0\n",
      "Executing op VarHandleOp in device /job:localhost/replica:0/task:0/device:CPU:0\n",
      "Executing op AssignVariableOp in device /job:localhost/replica:0/task:0/device:CPU:0\n",
      "Executing op VarHandleOp in device /job:localhost/replica:0/task:0/device:CPU:0\n"
     ]
    }
   ],
   "source": [
    "import cut_sentence as cs\n",
    "import hanlp\n",
    "from tqdm import tqdm\n",
    "\n",
    "tokenizer = hanlp.load('CTB6_CONVSEG')\n",
    "\n",
    "def cut_sentence(sentence):\n",
    "    cleaned_data = ''.join(re.findall(r'[\\u4e00-\\u9fa5]', sentence))\n",
    "    return tokenizer(cleaned_data)\n",
    "\n",
    "# cut_sentence('你丫再滚个我看看')"
   ]
  },
  {
   "cell_type": "code",
   "execution_count": 14,
   "metadata": {},
   "outputs": [
    {
     "name": "stderr",
     "output_type": "stream",
     "text": [
      "100%|████████████████████████████████████████████████████████████████████████| 117528/117528 [00:39<00:00, 2944.86it/s]\n"
     ]
    }
   ],
   "source": [
    "import re\n",
    "all_sentence = []\n",
    "all_questions = []\n",
    "for idx in tqdm(range(len(qa_corpus))):\n",
    "    q = qa_corpus['question'][idx]\n",
    "#     q = ''.join(re.findall(r'[\\u4e00-\\u9fa5]', q))\n",
    "    if isinstance(q,str):\n",
    "        question = cs.segment(q,'arr')\n",
    "        all_sentence.append(question)\n",
    "        all_questions.append(question)\n",
    "    a = qa_corpus['answer'][idx]\n",
    "#     a = ''.join(re.findall(r'[\\u4e00-\\u9fa5]', a))\n",
    "    if isinstance(a,str):\n",
    "        answer = cs.segment(a,'arr')\n",
    "        all_sentence.append(answer)"
   ]
  },
  {
   "cell_type": "code",
   "execution_count": 15,
   "metadata": {},
   "outputs": [],
   "source": [
    "# 用fastText求所有的词向量\n",
    "from gensim.models import FastText\n",
    "\n",
    "model = FastText(all_sentence,size=8, window=3, min_count=1, iter=10,min_n = 3 , max_n = 6,word_ngrams = 0)"
   ]
  },
  {
   "cell_type": "code",
   "execution_count": 28,
   "metadata": {},
   "outputs": [],
   "source": [
    "model.save(\"fasttext.model\")"
   ]
  },
  {
   "cell_type": "code",
   "execution_count": 16,
   "metadata": {},
   "outputs": [],
   "source": [
    "# 做句向量\n",
    "X_sentences= []\n",
    "new_sentences = []\n",
    "for idx in range(len(all_questions)):\n",
    "    sentence = all_questions[idx]\n",
    "    if len(sentence)>0:\n",
    "        vec = sum([model.wv[word] for word in sentence])/len(sentence)\n",
    "        X_sentences.append(vec)\n",
    "        new_sentences.append(sentence)"
   ]
  },
  {
   "cell_type": "markdown",
   "metadata": {},
   "source": [
    "## 意图识别"
   ]
  },
  {
   "cell_type": "markdown",
   "metadata": {},
   "source": [
    "#### 意图识别的目标是将问题分类\n",
    "+ 先对语料库中的问题进行聚类"
   ]
  },
  {
   "cell_type": "code",
   "execution_count": null,
   "metadata": {},
   "outputs": [],
   "source": [
    "# K-means的K能否用随机行走的方式来得到？\n",
    "# 随机从一个点出发，寻找离这个点最近距离的点，然后移动到最近点，接着从这个点继续移动到下一个最近点，这条路径记为L；\n",
    "# 寻找一个合适的K，使得K个团的L总和最小，并且每个K团之间的距离最大（尽可能分开）"
   ]
  },
  {
   "cell_type": "code",
   "execution_count": 17,
   "metadata": {},
   "outputs": [
    {
     "name": "stdout",
     "output_type": "stream",
     "text": [
      "kmean: k=5, cost=-674843\n"
     ]
    }
   ],
   "source": [
    "# 使用K-mean聚类\n",
    "from sklearn.cluster import KMeans\n",
    "\n",
    "n_clusters = 5\n",
    "kmean = KMeans(n_clusters=n_clusters)\n",
    "kmean.fit(X_sentences)\n",
    "print(\"kmean: k={}, cost={}\".format(n_clusters, int(kmean.score(X_sentences))))"
   ]
  },
  {
   "cell_type": "code",
   "execution_count": 19,
   "metadata": {},
   "outputs": [
    {
     "data": {
      "image/png": "[encoded data removed]",
      "text/plain": [
       "<Figure size 432x288 with 1 Axes>"
      ]
     },
     "metadata": {},
     "output_type": "display_data"
    }
   ],
   "source": [
    "import matplotlib.pyplot as plt\n",
    "from mpl_toolkits.mplot3d import Axes3D\n",
    "from sklearn.decomposition import PCA\n",
    "\n",
    "labels = kmean.labels_\n",
    "centers = kmean.cluster_centers_\n",
    "X_plot = np.array(X_sentences)\n",
    "pca = PCA(n_components=2)   #降到2维\n",
    "pca.fit(X_plot)                  #训练\n",
    "newX=pca.fit_transform(X_plot)   #降维后的数据\n",
    "\n",
    "fig = plt.figure()\n",
    "# ax = fig.gca(projection='3d')\n",
    "ax = fig.gca()\n",
    "ax.scatter(newX[:, 0], newX[:, 1], c=labels, cmap=plt.cm.Spectral)\n",
    "plt.show()"
   ]
  },
  {
   "cell_type": "code",
   "execution_count": 20,
   "metadata": {},
   "outputs": [
    {
     "name": "stdout",
     "output_type": "stream",
     "text": [
      "class:  [0]\n"
     ]
    }
   ],
   "source": [
    "# 测试一下，输入句子属于哪一类\n",
    "input = '你好'\n",
    "x_quest = cs.segment(input,'arr')\n",
    "x_vec = sum([model.wv[word] for word in x_quest])/len(x_quest)\n",
    "\n",
    "print('class: ',kmean.predict([x_vec]))\n"
   ]
  },
  {
   "cell_type": "code",
   "execution_count": 21,
   "metadata": {},
   "outputs": [
    {
     "data": {
      "text/plain": [
       "['km.pkl']"
      ]
     },
     "execution_count": 21,
     "metadata": {},
     "output_type": "execute_result"
    }
   ],
   "source": [
    "joblib.dump(kmean , 'km.pkl')"
   ]
  },
  {
   "cell_type": "markdown",
   "metadata": {},
   "source": [
    "## 语义相似度判断"
   ]
  },
  {
   "cell_type": "code",
   "execution_count": 22,
   "metadata": {},
   "outputs": [
    {
     "name": "stdout",
     "output_type": "stream",
     "text": [
      "[2 1 2 ... 2 2 3]\n"
     ]
    }
   ],
   "source": [
    "kmean = joblib.load('km.pkl')\n",
    "print(kmean.labels_)"
   ]
  },
  {
   "cell_type": "code",
   "execution_count": 20,
   "metadata": {},
   "outputs": [],
   "source": [
    "def get_class(model,sentence):\n",
    "    return model.predict([vectorize(sentence)])"
   ]
  },
  {
   "cell_type": "code",
   "execution_count": 22,
   "metadata": {},
   "outputs": [],
   "source": [
    "from sklearn.neighbors import KDTree\n",
    "\n",
    "class DataSpace():\n",
    "    def __init__(self,classes_data):\n",
    "        '''\n",
    "        构建KD树\n",
    "        '''\n",
    "        points = len(classes_data)\n",
    "        leaf = points/2-1\n",
    "        self.tree = KDTree(classes_data,leaf)\n",
    "        \n",
    "    def __vectorize__(self,sentence):\n",
    "        x_quest = cs.segment(sentence,'arr')\n",
    "        return [sum([model.wv[word] for word in x_quest])/len(x_quest)]\n",
    "    \n",
    "    def similarity(self,sentence,topk=10):\n",
    "        '''\n",
    "        从KD树中找到最相似的k个数据\n",
    "        '''\n",
    "        v = self.__vectorize__(sentence)\n",
    "        dist, ind = self.tree.query(v,k=topk)\n",
    "        return (dist,ind)\n",
    "    \n",
    "    def save(self,filename):\n",
    "        pass"
   ]
  },
  {
   "cell_type": "code",
   "execution_count": 23,
   "metadata": {},
   "outputs": [],
   "source": [
    "data0 = DataSpace(np.array(X_sentences)[kmean.labels_==0])\n",
    "sentence1 = np.array(new_sentences)[kmean.labels_==0]\n",
    "data1 = DataSpace(np.array(X_sentences)[kmean.labels_==1])\n",
    "sentence2 = np.array(new_sentences)[kmean.labels_==1]\n",
    "data2 = DataSpace(np.array(X_sentences)[kmean.labels_==2])\n",
    "sentence3 = np.array(new_sentences)[kmean.labels_==2]\n",
    "data3 = DataSpace(np.array(X_sentences)[kmean.labels_==3])\n",
    "sentence4 = np.array(new_sentences)[kmean.labels_==3]\n",
    "data4 = DataSpace(np.array(X_sentences)[kmean.labels_==4])\n",
    "sentence5 = np.array(new_sentences)[kmean.labels_==4]"
   ]
  },
  {
   "cell_type": "code",
   "execution_count": 24,
   "metadata": {},
   "outputs": [
    {
     "data": {
      "text/plain": [
       "array([[list(['索', '小粒', '我', '的', '麻麻', '呀']), list(['是', '呀', '谢谢']),\n",
       "        list(['真', '听话']),\n",
       "        list(['嘿嘿', '必须', '的', '我', '这么', '可爱', '的', '~']),\n",
       "        list(['就是', '主人', '你好', '聪明', '啊', '么', '么']),\n",
       "        list(['比', '你', '高', '啦']), list(['你妹', '呀', '的']),\n",
       "        list(['那', '是因为', '主人', '你', '更', '可爱', '呀']),\n",
       "        list(['哈哈', '你妹']), list(['真', '他妈的', '贱'])]], dtype=object)"
      ]
     },
     "execution_count": 24,
     "metadata": {},
     "output_type": "execute_result"
    }
   ],
   "source": [
    "_,ind = data2.similarity('你好')\n",
    "sentence3[ind]"
   ]
  },
  {
   "cell_type": "markdown",
   "metadata": {},
   "source": [
    "## 布尔搜索"
   ]
  },
  {
   "cell_type": "code",
   "execution_count": 25,
   "metadata": {},
   "outputs": [],
   "source": [
    "import json\n",
    "\n",
    "#建立词汇-文档表\n",
    "class BoolSearch():\n",
    "    def __init__(self,docs=None):\n",
    "        if docs==None: return\n",
    "        self.words={}\n",
    "        #二进制位数\n",
    "        self.bits = len(docs)\n",
    "        self.keys = set()\n",
    "        for indx in tqdm(range(self.bits)):\n",
    "            for word in docs[indx]: self.keys.add(word)\n",
    "                    \n",
    "        for word in tqdm(self.keys):\n",
    "            for indx in range(self.bits):\n",
    "                if word not in self.words: self.words[word]=0\n",
    "                self.words[word] <<= 1\n",
    "                if word in docs[indx]:\n",
    "                    self.words[word] |= 1\n",
    "#         print(self.words)\n",
    "        self.mask = self.__all__(self.bits)\n",
    "\n",
    "    def __itr_dict__(self,doc):\n",
    "        # 1.先遍历词典,判断词典中的词是否在新文档中\n",
    "        for word in self.words.keys():\n",
    "        # 2.如果在文档中\n",
    "            self.words[word] <<= 1\n",
    "            if word in doc:\n",
    "        # 3.就向左移位并加一\n",
    "                self.words[word] |= 1\n",
    "        # 4.否则只向左移位\n",
    "        # 5.然后从文档中移除这个词\n",
    "                while word in doc: doc.remove(word)\n",
    "                \n",
    "    def __itr_doc__(self,doc):\n",
    "        # 6.接着遍历文档中剩下的词,重复步骤3\n",
    "        for word in doc:\n",
    "            self.words[word] = 0\n",
    "            self.words[word] <<= 1\n",
    "            self.words[word] |= 1\n",
    "                    \n",
    "    def __all__(self,n):\n",
    "        num = 1\n",
    "        for i in range(n-1):\n",
    "            num <<=1\n",
    "            num |= 1\n",
    "        return num\n",
    "    \n",
    "    def search(self,input):\n",
    "        result = self.mask\n",
    "#         print(self.bits,result)\n",
    "        for word in input:\n",
    "            if not self.words.__contains__(word): continue\n",
    "            result &= self.words[word]\n",
    "        return result\n",
    "    \n",
    "    def show(self):\n",
    "        print(self.words)\n",
    "        \n",
    "    def get_indexes(self,input):\n",
    "        result = self.search(input)\n",
    "        indexes = []\n",
    "        for indx in range(self.bits):\n",
    "            if result & 1: indexes.append(self.bits-indx -1)\n",
    "            result >>=1\n",
    "        return indexes\n",
    "    \n",
    "    def save(self,filepath):\n",
    "        with open(filepath, 'w') as fw:\n",
    "            json.dump({'bits':self.bits,'words':self.words},fw)\n",
    "        \n",
    "    def load(self,filepath):\n",
    "        with open(filepath,'r') as f:\n",
    "            s = json.load(f)\n",
    "            self.bits = s['bits']\n",
    "            self.words = s['words']\n",
    "            self.mask = self.__all__(self.bits)\n",
    "            "
   ]
  },
  {
   "cell_type": "code",
   "execution_count": 26,
   "metadata": {},
   "outputs": [
    {
     "name": "stderr",
     "output_type": "stream",
     "text": [
      "100%|██████████████████████████████████████████████████████████████████████| 117527/117527 [00:00<00:00, 849753.95it/s]\n",
      "100%|██████████████████████████████████████████████████████████████████████████| 39362/39362 [1:42:38<00:00,  6.39it/s]\n"
     ]
    }
   ],
   "source": [
    "bool_search = BoolSearch(all_questions)"
   ]
  },
  {
   "cell_type": "code",
   "execution_count": 27,
   "metadata": {},
   "outputs": [],
   "source": [
    "bool_search.save('search_answer.jsn')"
   ]
  },
  {
   "cell_type": "code",
   "execution_count": null,
   "metadata": {},
   "outputs": [],
   "source": []
  }
 ],
 "metadata": {
  "kernelspec": {
   "display_name": "Python 3",
   "language": "python",
   "name": "python3"
  },
  "language_info": {
   "codemirror_mode": {
    "name": "ipython",
    "version": 3
   },
   "file_extension": ".py",
   "mimetype": "text/x-python",
   "name": "python",
   "nbconvert_exporter": "python",
   "pygments_lexer": "ipython3",
   "version": "3.6.5"
  }
 },
 "nbformat": 4,
 "nbformat_minor": 2
}
