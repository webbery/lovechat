{
 "cells": [
  {
   "cell_type": "code",
   "execution_count": 1,
   "metadata": {},
   "outputs": [
    {
     "name": "stderr",
     "output_type": "stream",
     "text": [
      "Building prefix dict from the default dictionary ...\n",
      "Loading model from cache C:\\Users\\yuanwb\\AppData\\Local\\Temp\\jieba.cache\n",
      "Loading model cost 2.009 seconds.\n",
      "Prefix dict has been built successfully.\n"
     ]
    },
    {
     "name": "stdout",
     "output_type": "stream",
     "text": [
      "[pair('蕾', 'nr'), pair('姆', 'x'), pair('蕾', 'nr'), pair('姆', 'x'), pair('这个', 'r'), pair('人', 'n'), pair('是不是', 'l'), pair('傻', 'a')]\n"
     ]
    }
   ],
   "source": [
    "import jieba\n",
    "import re\n",
    "import jieba.analyse\n",
    "import jieba.posseg\n",
    "\n",
    "def cut_sentence(sentence):\n",
    "    cleaned_data = ''.join(re.findall(r'[\\u4e00-\\u9fa5]', sentence))\n",
    "    return jieba.posseg.lcut(cleaned_data)\n",
    "\n",
    "word=\"盗墓不是请客吃饭，不是做文章，不是绘画绣花，不能那样雅致，那样从容不迫，文质彬彬，那样温良恭俭让，盗墓是一门技术，一门进行破坏的技术。古代贵族们建造坟墓的时候，一定是想方设法的防止被盗，故此无所不用其极，在墓中设置种种机关暗器，消息埋伏，有巨石、流沙、毒箭、毒虫、陷坑等等数不胜数。到了明代，受到西洋奇技淫巧的影响，一些大墓甚至用到了西洋的八宝转心机关，尤其是清代的帝陵，堪称集数千年防盗技术于一体的杰作，大军阀孙殿英想挖开东陵用里面的财宝充当军饷，起动大批军队，连挖带炸用了五六天才得手，其坚固程度可想而知。盗墓贼的课题就是千方百计的破解这些机关，进入墓中探宝。不过在现代，比起如何挖开古墓更困难的是寻找古墓，地面上有封土堆和石碑之类明显建筑的大墓早就被人发掘得差不多了，如果要找那些年深日深藏于地下，又没有任何地上标记的古墓，那就需要一定的技术和特殊工具了，铁钎、洛阳铲、竹钉，钻地龙，探阴爪，黑折子等工具都应运而生，还有一些高手不依赖工具，有的通过寻找古代文献中的线索寻找古墓，还有极少数的一些人掌握秘术，可以通过解读山川河流的脉象，用看风水的本领找墓穴，我就是属于最后这一类的，在我的盗墓生涯中踏遍了各地，其间经历了很多诡异离奇的事迹，若是一件件的表白出来，足以让观者惊心，闻者乍舌，毕竟那些龙形虎藏、揭天拔地、倒海翻江的举动，都非比寻常。\"\n",
    "sentence = \"蕾姆蕾姆,这个人是不是傻？\"\n",
    "wordlist = cut_sentence(sentence)\n",
    "print(wordlist)"
   ]
  },
  {
   "cell_type": "code",
   "execution_count": 2,
   "metadata": {},
   "outputs": [
    {
     "name": "stdout",
     "output_type": "stream",
     "text": [
      "[pair('团队', 'n'), pair('因', 'p'), pair('无法', 'n'), pair('登陆', 'v'), pair('暂时', 'd'), pair('无法', 'n'), pair('解决', 'v'), pair('无法', 'n'), pair('登陆', 'v'), pair('问题', 'n')]\n"
     ]
    }
   ],
   "source": [
    "wordlist = cut_sentence('VPN团队因无法登陆VPN暂时无法解决VPN无法登陆问题')\n",
    "print(wordlist)"
   ]
  },
  {
   "cell_type": "code",
   "execution_count": 1,
   "metadata": {},
   "outputs": [
    {
     "name": "stdout",
     "output_type": "stream",
     "text": [
      "Executing op Range in device /job:localhost/replica:0/task:0/device:CPU:0\n",
      "Executing op Cast in device /job:localhost/replica:0/task:0/device:CPU:0\n",
      "Executing op HashTableV2 in device /job:localhost/replica:0/task:0/device:CPU:0\n",
      "Executing op LookupTableImportV2 in device /job:localhost/replica:0/task:0/device:CPU:0\n",
      "Executing op HashTableV2 in device /job:localhost/replica:0/task:0/device:CPU:0\n",
      "Executing op TruncatedNormal in device /job:localhost/replica:0/task:0/device:CPU:0\n",
      "Executing op Mul in device /job:localhost/replica:0/task:0/device:CPU:0\n",
      "Executing op Add in device /job:localhost/replica:0/task:0/device:CPU:0\n",
      "Executing op MutexV2 in device /job:localhost/replica:0/task:0/device:CPU:0\n",
      "Executing op VarHandleOp in device /job:localhost/replica:0/task:0/device:CPU:0\n",
      "Executing op VarIsInitializedOp in device /job:localhost/replica:0/task:0/device:CPU:0\n",
      "Executing op LogicalNot in device /job:localhost/replica:0/task:0/device:CPU:0\n",
      "Executing op Assert in device /job:localhost/replica:0/task:0/device:CPU:0\n",
      "Executing op AssignVariableOp in device /job:localhost/replica:0/task:0/device:CPU:0\n",
      "Executing op RandomUniform in device /job:localhost/replica:0/task:0/device:CPU:0\n",
      "Executing op Sub in device /job:localhost/replica:0/task:0/device:CPU:0\n",
      "Executing op Mul in device /job:localhost/replica:0/task:0/device:CPU:0\n",
      "Executing op Add in device /job:localhost/replica:0/task:0/device:CPU:0\n",
      "Executing op VarHandleOp in device /job:localhost/replica:0/task:0/device:CPU:0\n",
      "Executing op Fill in device /job:localhost/replica:0/task:0/device:CPU:0\n",
      "Executing op VarHandleOp in device /job:localhost/replica:0/task:0/device:CPU:0\n",
      "Executing op VarHandleOp in device /job:localhost/replica:0/task:0/device:CPU:0\n",
      "Executing op AssignVariableOp in device /job:localhost/replica:0/task:0/device:CPU:0\n",
      "Executing op VarHandleOp in device /job:localhost/replica:0/task:0/device:CPU:0\n",
      "Executing op VarHandleOp in device /job:localhost/replica:0/task:0/device:CPU:0\n"
     ]
    }
   ],
   "source": [
    "import hanlp\n",
    "\n",
    "tokenizer = hanlp.load('PKU_NAME_MERGED_SIX_MONTHS_CONVSEG')"
   ]
  },
  {
   "cell_type": "code",
   "execution_count": 16,
   "metadata": {},
   "outputs": [],
   "source": [
    "syntaxnNet"
   ]
  },
  {
   "cell_type": "markdown",
   "metadata": {},
   "source": [
    "IP：简单从句\n",
    "NP：名词短语\n",
    "VP：动词短语\n",
    "PU：断句符，通常是句号、问号、感叹号等标点符号\n",
    "LCP：方位词短语\n",
    "PP：介词短语\n",
    "CP：由‘的’构成的表示修饰性关系的短语\n",
    "DNP：由‘的’构成的表示所属关系的短语\n",
    "ADVP：副词短语\n",
    "ADJP：形容词短语\n",
    "DP：限定词短语\n",
    "QP：量词短语\n",
    "NN：常用名词\n",
    "NR：固有名词\n",
    "NT：时间名词\n",
    "PN：代词\n",
    "VV：动词\n",
    "VC：是\n",
    "CC：表示连词\n",
    "VE：有\n",
    "VA：表语形容词\n",
    "AS：内容标记（如：了）\n",
    "VRD：动补复合词\n",
    "CD: 表示基数词\n",
    "DT: determiner 表示限定词\n",
    "EX: existential there 存在句\n",
    "FW: foreign word 外来词\n",
    "IN: preposition or conjunction, subordinating 介词或从属连词\n",
    "JJ: adjective or numeral, ordinal 形容词或序数词\n",
    "JJR: adjective, comparative 形容词比较级\n",
    "JJS: adjective, superlative 形容词最高级\n",
    "LS: list item marker 列表标识\n",
    "MD: modal auxiliary 情态助动词\n",
    "PDT: pre-determiner 前位限定词\n",
    "POS: genitive marker 所有格标记\n",
    "PRP: pronoun, personal 人称代词\n",
    "RB: adverb 副词\n",
    "RBR: adverb, comparative 副词比较级\n",
    "RBS: adverb, superlative 副词最高级\n",
    "RP: particle 小品词 \n",
    "SYM: symbol 符号\n",
    "TO:”to” as preposition or infinitive marker 作为介词或不定式标记 \n",
    "WDT: WH-determiner WH限定词\n",
    "WP: WH-pronoun WH代词\n",
    "WP$: WH-pronoun, possessive WH所有格代词\n",
    "WRB:Wh-adverb WH副词\n",
    "    \n",
    "关系表示\n",
    "abbrev: abbreviation modifier，缩写\n",
    "acomp: adjectival complement，形容词的补充；\n",
    "advcl : adverbial clause modifier，状语从句修饰词\n",
    "advmod: adverbial modifier状语\n",
    "agent: agent，代理，一般有by的时候会出现这个\n",
    "amod: adjectival modifier形容词\n",
    "appos: appositional modifier,同位词\n",
    "attr: attributive，属性\n",
    "aux: auxiliary，非主要动词和助词，如BE,HAVE SHOULD/COULD等到\n",
    "auxpass: passive auxiliary 被动词\n",
    "cc: coordination，并列关系，一般取第一个词\n",
    "ccomp: clausal complement从句补充\n",
    "complm: complementizer，引导从句的词好重聚中的主要动词\n",
    "conj : conjunct，连接两个并列的词。\n",
    "cop: copula。系动词（如be,seem,appear等），（命题主词与谓词间的）连系\n",
    "csubj : clausal subject，从主关系\n",
    "csubjpass: clausal passive subject 主从被动关系\n",
    "dep: dependent依赖关系\n",
    "det: determiner决定词，如冠词等\n",
    "dobj : direct object直接宾语\n",
    "expl: expletive，主要是抓取there\n",
    "infmod: infinitival modifier，动词不定式\n",
    "iobj : indirect object，非直接宾语，也就是所以的间接宾语；\n",
    "mark: marker，主要出现在有“that” or “whether”“because”, “when”,\n",
    "mwe: multi-word expression，多个词的表示\n",
    "neg: negation modifier否定词\n",
    "nn: noun compound modifier名词组合形式\n",
    "npadvmod: noun phrase as adverbial modifier名词作状语\n",
    "nsubj : nominal subject，名词主语\n",
    "nsubjpass: passive nominal subject，被动的名词主语\n",
    "num: numeric modifier，数值修饰\n",
    "number: element of compound number，组合数字\n",
    "parataxis: parataxis: parataxis，并列关系\n",
    "partmod: participial modifier动词形式的修饰\n",
    "pcomp: prepositional complement，介词补充\n",
    "pobj : object of a preposition，介词的宾语\n",
    "poss: possession modifier，所有形式，所有格，所属\n",
    "possessive: possessive modifier，这个表示所有者和那个’S的关系\n",
    "preconj : preconjunct，常常是出现在 “either”, “both”, “neither”的情况下\n",
    "predet: predeterminer，前缀决定，常常是表示所有\n",
    "prep: prepositional modifier\n",
    "prepc: prepositional clausal modifier\n",
    "prt: phrasal verb particle，动词短语\n",
    "punct: punctuation，这个很少见，但是保留下来了，结果当中不会出现这个\n",
    "purpcl : purpose clause modifier，目的从句\n",
    "quantmod: quantifier phrase modifier，数量短语\n",
    "rcmod: relative clause modifier相关关系\n",
    "ref : referent，指示物，指代\n",
    "rel : relative\n",
    "root: root，最重要的词，从它开始，根节点\n",
    "tmod: temporal modifier\n",
    "xcomp: open clausal complement\n",
    "xsubj : controlling subject 掌控者\n",
    "\n",
    " \n",
    "\n",
    " \n",
    "\n",
    " \n",
    "\n",
    "中心语为谓词\n",
    "  subj — 主语\n",
    " nsubj — 名词性主语（nominal subject） （同步，建设）\n",
    "   top — 主题（topic） （是，建筑）\n",
    "npsubj — 被动型主语（nominal passive subject），专指由“被”引导的被动句中的主语，一般是谓词语义上的受事 （称作，镍）\n",
    " csubj — 从句主语（clausal subject），中文不存在\n",
    " xsubj — x主语，一般是一个主语下面含多个从句 （完善，有些）\n",
    "\n",
    " \n",
    "\n",
    "中心语为谓词或介词   \n",
    "   obj — 宾语\n",
    "  dobj — 直接宾语 （颁布，文件）\n",
    "  iobj — 间接宾语（indirect object），基本不存在\n",
    " range — 间接宾语为数量词，又称为与格 （成交，元）\n",
    "  pobj — 介词宾语 （根据，要求）\n",
    "  lobj — 时间介词 （来，近年）\n",
    "\n",
    " \n",
    "\n",
    "中心语为谓词\n",
    "  comp — 补语\n",
    " ccomp — 从句补语，一般由两个动词构成，中心语引导后一个动词所在的从句(IP) （出现，纳入）\n",
    " xcomp — x从句补语（xclausal complement），不存在   \n",
    " acomp — 形容词补语（adjectival complement）\n",
    " tcomp — 时间补语（temporal complement） （遇到，以前）\n",
    "lccomp — 位置补语（localizer complement） （占，以上）\n",
    "       — 结果补语（resultative complement）\n",
    "\n",
    " \n",
    "\n",
    "中心语为名词\n",
    "   mod — 修饰语（modifier）\n",
    "  pass — 被动修饰（passive）\n",
    "  tmod — 时间修饰（temporal modifier）\n",
    " rcmod — 关系从句修饰（relative clause modifier） （问题，遇到）\n",
    " numod — 数量修饰（numeric modifier） （规定，若干）\n",
    "ornmod — 序数修饰（numeric modifier）\n",
    "   clf — 类别修饰（classifier modifier） （文件，件）\n",
    "  nmod — 复合名词修饰（noun compound modifier） （浦东，上海）\n",
    "  amod — 形容词修饰（adjetive modifier） （情况，新）\n",
    "advmod — 副词修饰（adverbial modifier） （做到，基本）\n",
    "  vmod — 动词修饰（verb modifier，participle modifier）\n",
    "prnmod — 插入词修饰（parenthetical modifier）\n",
    "   neg — 不定修饰（negative modifier） (遇到，不)\n",
    "   det — 限定词修饰（determiner modifier） （活动，这些）\n",
    " possm — 所属标记（possessive marker），NP\n",
    "  poss — 所属修饰（possessive modifier），NP\n",
    "  dvpm — DVP标记（dvp marker），DVP （简单，的）\n",
    "dvpmod — DVP修饰（dvp modifier），DVP （采取，简单）\n",
    "  assm — 关联标记（associative marker），DNP （开发，的）\n",
    "assmod — 关联修饰（associative modifier），NP|QP （教训，特区）\n",
    "  prep — 介词修饰（prepositional modifier） NP|VP|IP（采取，对）\n",
    " clmod — 从句修饰（clause modifier） （因为，开始）\n",
    " plmod — 介词性地点修饰（prepositional localizer modifier） （在，上）\n",
    "   asp — 时态标词（aspect marker） （做到，了）\n",
    "partmod– 分词修饰（participial modifier） 不存在\n",
    "   etc — 等关系（etc） （办法，等）\n",
    "\n",
    " \n",
    "\n",
    "中心语为实词\n",
    "  conj — 联合(conjunct)\n",
    "   cop — 系动(copula) 双指助动词？？？？\n",
    "    cc — 连接(coordination)，指中心词与连词 （开发，与）\n",
    "\n",
    " \n",
    "\n",
    "其它\n",
    "  attr — 属性关系 （是，工程）\n",
    "cordmod– 并列联合动词（coordinated verb compound） （颁布，实行）\n",
    "  mmod — 情态动词（modal verb） （得到，能）\n",
    "    ba — 把字关系\n",
    "tclaus — 时间从句 （以后，积累）\n",
    "       — semantic dependent\n",
    "   cpm — 补语化成分（complementizer），一般指“的”引导的CP （振兴，的）"
   ]
  },
  {
   "cell_type": "code",
   "execution_count": 3,
   "metadata": {},
   "outputs": [
    {
     "name": "stdout",
     "output_type": "stream",
     "text": [
      "94 84\n",
      "['quantmod', 'acomp', 'aux', 'abbrev', 'xcomp', 'ref', 'clmod', 'attr', 'amod', 'possessive', 'dobj', 'tclaus', 'num', 'prep', 'advmod', 'punct', 'assm', 'comp', 'prepc', 'xsubj', 'auxpass', 'mark', 'preconj', 'det', 'rcomp', 'ornmod', 'infmod', 'iobj', 'lobj', 'tmod', 'asp', 'dvpmod', 'prnmod', 'plmod', 'cordmod', 'cpm', 'conj', 'pass', 'complm', 'nmod', 'prt', 'ccomp', 'expl', 'predet', 'rel', 'range', 'numod', 'csubj', 'pobj', 'advcl', 'pcomp', 'parataxis', 'cop', 'npadvmod', 'dep', 'cc', 'neg', 'agent', 'assmod', 'root', 'etc', 'mmod', 'vmod', 'mwe', 'appos', 'rcmod', 'number', 'mod', 'possm', 'purpcl', 'nsubjpass', 'subj', 'clf', 'ba', 'csubjpass', 'dvpm', 'poss', 'partmod', 'nsubj', 'top', 'npsubj', 'nn', 'obj', 'lccomp']\n"
     ]
    }
   ],
   "source": [
    "relations = [\n",
    "    'abbrev','acomp','advcl','advmod','agent','amod','appos','aux','auxpass','complm','conj','csubj','csubjpass','dep','expl','infmod','mark',\n",
    "    'mwe','nn','npadvmod','nsubj','nsubjpass','num','number','parataxis','partmod','pcomp','possessive','preconj','predet','prepc','prt',\n",
    "    'punct','purpcl','quantmod','rcmod','ref','rel','root','tmod',\n",
    "    'subj','nsubj','top','npsubj','csubj','xsubj',\n",
    "    'obj','dobj','iobj','range','pobj','lobj',\n",
    "    'comp','ccomp','xcomp','acomp','acomp','lccomp','rcomp',\n",
    "    'mod','pass','tmod','rcmod','numod','ornmod','clf','nmod','amod','advmod','vmod','prnmod','neg','det','possm','poss','dvpm','dvpmod',\n",
    "    'assm','assmod','prep','clmod','plmod','asp','partmod','etc',\n",
    "    'conj','cop','cc',\n",
    "    'attr','cordmod','mmod','ba','tclaus','cpm'\n",
    "]\n",
    "ids = list(set(relations))\n",
    "print(len(relations),len(ids))\n",
    "print(ids)"
   ]
  },
  {
   "cell_type": "code",
   "execution_count": null,
   "metadata": {},
   "outputs": [],
   "source": [
    "import torch.nn as nn\n",
    "import torch.nn.functional as F\n",
    "import torch as t\n",
    "import torch.optim as opt\n",
    "\n",
    "# 三个d维的embedding，分别为词嵌入、pos tag嵌入、关系嵌入\n",
    "dim = len(relations)\n",
    "\n",
    "NULL = '<NULL>'\n",
    "ROOT = '<ROOT>'"
   ]
  },
  {
   "cell_type": "code",
   "execution_count": 5,
   "metadata": {},
   "outputs": [
    {
     "name": "stdout",
     "output_type": "stream",
     "text": [
      "Executing op TensorDataset in device /job:localhost/replica:0/task:0/device:CPU:0\n",
      "Executing op FlatMapDataset in device /job:localhost/replica:0/task:0/device:CPU:0\n",
      "Executing op PaddedBatchDatasetV2 in device /job:localhost/replica:0/task:0/device:CPU:0\n",
      "Executing op PrefetchDataset in device /job:localhost/replica:0/task:0/device:CPU:0\n",
      "Executing op ParallelMapDataset in device /job:localhost/replica:0/task:0/device:CPU:0\n",
      "Executing op OptimizeDataset in device /job:localhost/replica:0/task:0/device:CPU:0\n",
      "Executing op ModelDataset in device /job:localhost/replica:0/task:0/device:CPU:0\n"
     ]
    },
    {
     "data": {
      "text/plain": [
       "['蕾姆蕾姆', '，', '这个', '人', '是', '不', '是', '傻', '？']"
      ]
     },
     "execution_count": 5,
     "metadata": {},
     "output_type": "execute_result"
    }
   ],
   "source": [
    "tokenizer('蕾姆蕾姆，这个人是不是傻？')"
   ]
  },
  {
   "cell_type": "code",
   "execution_count": null,
   "metadata": {},
   "outputs": [
    {
     "name": "stdout",
     "output_type": "stream",
     "text": [
      "Executing op HashTableV2 in device /job:localhost/replica:0/task:0/device:CPU:0\n",
      "Executing op HashTableV2 in device /job:localhost/replica:0/task:0/device:CPU:0\n"
     ]
    },
    {
     "name": "stderr",
     "output_type": "stream",
     "text": [
      "\n"
     ]
    }
   ],
   "source": [
    "tagger = hanlp.load(hanlp.pretrained.pos.CTB5_POS_RNN_FASTTEXT_ZH)\n",
    "tagger(['蜡烛', '两', '头', '烧'])"
   ]
  },
  {
   "cell_type": "code",
   "execution_count": null,
   "metadata": {},
   "outputs": [],
   "source": [
    "recognizer = hanlp.load(hanlp.pretrained.ner.MSRA_NER_BERT_BASE_ZH)\n",
    "recognizer([list('蜡烛两头烧')"
   ]
  },
  {
   "cell_type": "code",
   "execution_count": 2,
   "metadata": {},
   "outputs": [
    {
     "name": "stdout",
     "output_type": "stream",
     "text": [
      "Executing op HashTableV2 in device /job:localhost/replica:0/task:0/device:CPU:0\n",
      "Executing op HashTableV2 in device /job:localhost/replica:0/task:0/device:CPU:0\n",
      "Executing op HashTableV2 in device /job:localhost/replica:0/task:0/device:CPU:0\n",
      "Executing op Fill in device /job:localhost/replica:0/task:0/device:CPU:0\n",
      "Executing op VarHandleOp in device /job:localhost/replica:0/task:0/device:CPU:0\n",
      "Executing op NotEqual in device /job:localhost/replica:0/task:0/device:CPU:0\n",
      "Executing op GreaterEqual in device /job:localhost/replica:0/task:0/device:CPU:0\n",
      "Executing op SelectV2 in device /job:localhost/replica:0/task:0/device:CPU:0\n",
      "Executing op VarHandleOp in device /job:localhost/replica:0/task:0/device:CPU:0\n",
      "Executing op ResourceGather in device /job:localhost/replica:0/task:0/device:CPU:0\n",
      "Executing op Identity in device /job:localhost/replica:0/task:0/device:CPU:0\n",
      "Executing op Identity in device /job:localhost/replica:0/task:0/device:CPU:0\n",
      "Executing op VarHandleOp in device /job:localhost/replica:0/task:0/device:CPU:0\n",
      "Executing op AddV2 in device /job:localhost/replica:0/task:0/device:CPU:0\n",
      "Executing op VarHandleOp in device /job:localhost/replica:0/task:0/device:CPU:0\n",
      "Executing op ConcatV2 in device /job:localhost/replica:0/task:0/device:CPU:0\n",
      "Executing op RandomStandardNormal in device /job:localhost/replica:0/task:0/device:CPU:0\n",
      "Executing op Qr in device /job:localhost/replica:0/task:0/device:CPU:0\n",
      "Executing op DiagPart in device /job:localhost/replica:0/task:0/device:CPU:0\n",
      "Executing op Sign in device /job:localhost/replica:0/task:0/device:CPU:0\n",
      "Executing op Transpose in device /job:localhost/replica:0/task:0/device:CPU:0\n",
      "Executing op Reshape in device /job:localhost/replica:0/task:0/device:CPU:0\n",
      "Executing op VarHandleOp in device /job:localhost/replica:0/task:0/device:CPU:0\n",
      "Executing op VarHandleOp in device /job:localhost/replica:0/task:0/device:CPU:0\n",
      "Executing op VarHandleOp in device /job:localhost/replica:0/task:0/device:CPU:0\n",
      "Executing op Shape in device /job:localhost/replica:0/task:0/device:CPU:0\n",
      "Executing op StridedSlice in device /job:localhost/replica:0/task:0/device:CPU:0\n",
      "Executing op ExpandDims in device /job:localhost/replica:0/task:0/device:CPU:0\n",
      "Executing op Transpose in device /job:localhost/replica:0/task:0/device:CPU:0\n",
      "Executing op Unpack in device /job:localhost/replica:0/task:0/device:CPU:0\n",
      "Executing op StridedSlice in device /job:localhost/replica:0/task:0/device:CPU:0\n",
      "Executing op ReadVariableOp in device /job:localhost/replica:0/task:0/device:CPU:0\n",
      "Executing op MatMul in device /job:localhost/replica:0/task:0/device:CPU:0\n",
      "Executing op BiasAdd in device /job:localhost/replica:0/task:0/device:CPU:0\n",
      "Executing op Split in device /job:localhost/replica:0/task:0/device:CPU:0\n",
      "Executing op Sigmoid in device /job:localhost/replica:0/task:0/device:CPU:0\n",
      "Executing op Tanh in device /job:localhost/replica:0/task:0/device:CPU:0\n",
      "Executing op Unpack in device /job:localhost/replica:0/task:0/device:CPU:0\n",
      "Executing op ZerosLike in device /job:localhost/replica:0/task:0/device:CPU:0\n",
      "Executing op Less in device /job:localhost/replica:0/task:0/device:CPU:0\n",
      "Executing op Tile in device /job:localhost/replica:0/task:0/device:CPU:0\n",
      "Executing op SelectV2 in device /job:localhost/replica:0/task:0/device:CPU:0\n",
      "Executing op AddV2 in device /job:localhost/replica:0/task:0/device:CPU:0\n",
      "Executing op Pack in device /job:localhost/replica:0/task:0/device:CPU:0\n",
      "Executing op ReverseV2 in device /job:localhost/replica:0/task:0/device:CPU:0\n",
      "Executing op ReverseV2 in device /job:localhost/replica:0/task:0/device:CPU:0\n",
      "Executing op VarHandleOp in device /job:localhost/replica:0/task:0/device:CPU:0\n",
      "Executing op VarHandleOp in device /job:localhost/replica:0/task:0/device:CPU:0\n",
      "Executing op VarHandleOp in device /job:localhost/replica:0/task:0/device:CPU:0\n",
      "Executing op LeakyRelu in device /job:localhost/replica:0/task:0/device:CPU:0\n",
      "Executing op VarHandleOp in device /job:localhost/replica:0/task:0/device:CPU:0\n",
      "Executing op VarHandleOp in device /job:localhost/replica:0/task:0/device:CPU:0\n",
      "Executing op VarHandleOp in device /job:localhost/replica:0/task:0/device:CPU:0\n",
      "Executing op StridedSlice in device /job:localhost/replica:0/task:0/device:CPU:0\n",
      "Executing op Einsum in device /job:localhost/replica:0/task:0/device:CPU:0\n",
      "Executing op Einsum in device /job:localhost/replica:0/task:0/device:CPU:0\n",
      "Executing op Squeeze in device /job:localhost/replica:0/task:0/device:CPU:0\n",
      "Executing op VarHandleOp in device /job:localhost/replica:0/task:0/device:CPU:0\n",
      "Executing op TensorDataset in device /job:localhost/replica:0/task:0/device:CPU:0\n",
      "Executing op FlatMapDataset in device /job:localhost/replica:0/task:0/device:CPU:0\n",
      "Executing op PrefetchDataset in device /job:localhost/replica:0/task:0/device:CPU:0\n",
      "Executing op OptimizeDataset in device /job:localhost/replica:0/task:0/device:CPU:0\n",
      "Executing op ModelDataset in device /job:localhost/replica:0/task:0/device:CPU:0\n",
      "Executing op AnonymousIteratorV2 in device /job:localhost/replica:0/task:0/device:CPU:0\n",
      "Executing op MakeIterator in device /job:localhost/replica:0/task:0/device:CPU:0\n",
      "Executing op IteratorGetNextSync in device /job:localhost/replica:0/task:0/device:CPU:0\n",
      "Executing op UniqueWithCounts in device /job:localhost/replica:0/task:0/device:CPU:0\n",
      "Executing op Cast in device /job:localhost/replica:0/task:0/device:CPU:0\n",
      "Executing op RandomShuffle in device /job:localhost/replica:0/task:0/device:CPU:0\n",
      "Executing op StridedSlice in device /job:localhost/replica:0/task:0/device:CPU:0\n",
      "Executing op ExpandDims in device /job:localhost/replica:0/task:0/device:CPU:0\n",
      "Executing op Abs in device /job:localhost/replica:0/task:0/device:CPU:0\n",
      "Executing op ArgMin in device /job:localhost/replica:0/task:0/device:CPU:0\n",
      "Executing op Pack in device /job:localhost/replica:0/task:0/device:CPU:0\n",
      "Executing op Transpose in device /job:localhost/replica:0/task:0/device:CPU:0\n",
      "Executing op GatherNd in device /job:localhost/replica:0/task:0/device:CPU:0\n",
      "Executing op Equal in device /job:localhost/replica:0/task:0/device:CPU:0\n",
      "Executing op Any in device /job:localhost/replica:0/task:0/device:CPU:0\n",
      "Executing op ExpandDims in device /job:localhost/replica:0/task:0/device:CPU:0\n",
      "Executing op Cast in device /job:localhost/replica:0/task:0/device:CPU:0\n",
      "Executing op Sum in device /job:localhost/replica:0/task:0/device:CPU:0\n",
      "Executing op RealDiv in device /job:localhost/replica:0/task:0/device:CPU:0\n",
      "Executing op Equal in device /job:localhost/replica:0/task:0/device:CPU:0\n",
      "Executing op All in device /job:localhost/replica:0/task:0/device:CPU:0\n",
      "Executing op GatherV2 in device /job:localhost/replica:0/task:0/device:CPU:0\n",
      "Executing op Unique in device /job:localhost/replica:0/task:0/device:CPU:0\n",
      "Executing op GatherV2 in device /job:localhost/replica:0/task:0/device:CPU:0\n",
      "Executing op Where in device /job:localhost/replica:0/task:0/device:CPU:0\n",
      "Executing op Squeeze in device /job:localhost/replica:0/task:0/device:CPU:0\n",
      "Executing op SplitV in device /job:localhost/replica:0/task:0/device:CPU:0\n",
      "Executing op Shape in device /job:localhost/replica:0/task:0/device:CPU:0\n",
      "Executing op LogicalAnd in device /job:localhost/replica:0/task:0/device:CPU:0\n",
      "Executing op Unpack in device /job:localhost/replica:0/task:0/device:CPU:0\n",
      "Executing op Unpack in device /job:localhost/replica:0/task:0/device:CPU:0\n",
      "Executing op Pack in device /job:localhost/replica:0/task:0/device:CPU:0\n",
      "Executing op ArgMax in device /job:localhost/replica:0/task:0/device:CPU:0\n",
      "Executing op ExpandDims in device /job:localhost/replica:0/task:0/device:CPU:0\n",
      "Executing op GatherV2 in device /job:localhost/replica:0/task:0/device:CPU:0\n",
      "Executing op NotEqual in device /job:localhost/replica:0/task:0/device:CPU:0\n",
      "Executing op Cast in device /job:localhost/replica:0/task:0/device:CPU:0\n",
      "Executing op Sum in device /job:localhost/replica:0/task:0/device:CPU:0\n",
      "Executing op StridedSlice in device /job:localhost/replica:0/task:0/device:CPU:0\n",
      "Executing op AddV2 in device /job:localhost/replica:0/task:0/device:CPU:0\n",
      "Executing op DeleteIterator in device /job:localhost/replica:0/task:0/device:CPU:0\n"
     ]
    },
    {
     "data": {
      "text/plain": [
       "[{'id': 1,\n",
       "  'form': '呵',\n",
       "  'cpos': 'AD',\n",
       "  'pos': None,\n",
       "  'head': 8,\n",
       "  'deprel': 'dep',\n",
       "  'lemma': None,\n",
       "  'feats': None,\n",
       "  'phead': None,\n",
       "  'pdeprel': None},\n",
       " {'id': 2,\n",
       "  'form': '，',\n",
       "  'cpos': 'PU',\n",
       "  'pos': None,\n",
       "  'head': 8,\n",
       "  'deprel': 'punct',\n",
       "  'lemma': None,\n",
       "  'feats': None,\n",
       "  'phead': None,\n",
       "  'pdeprel': None},\n",
       " {'id': 3,\n",
       "  'form': '愚蠢',\n",
       "  'cpos': 'VA',\n",
       "  'pos': None,\n",
       "  'head': 5,\n",
       "  'deprel': 'rcmod',\n",
       "  'lemma': None,\n",
       "  'feats': None,\n",
       "  'phead': None,\n",
       "  'pdeprel': None},\n",
       " {'id': 4,\n",
       "  'form': '的',\n",
       "  'cpos': 'DEC',\n",
       "  'pos': None,\n",
       "  'head': 3,\n",
       "  'deprel': 'cpm',\n",
       "  'lemma': None,\n",
       "  'feats': None,\n",
       "  'phead': None,\n",
       "  'pdeprel': None},\n",
       " {'id': 5,\n",
       "  'form': '人类',\n",
       "  'cpos': 'NN',\n",
       "  'pos': None,\n",
       "  'head': 8,\n",
       "  'deprel': 'nsubj',\n",
       "  'lemma': None,\n",
       "  'feats': None,\n",
       "  'phead': None,\n",
       "  'pdeprel': None},\n",
       " {'id': 6,\n",
       "  'form': '，',\n",
       "  'cpos': 'PU',\n",
       "  'pos': None,\n",
       "  'head': 8,\n",
       "  'deprel': 'punct',\n",
       "  'lemma': None,\n",
       "  'feats': None,\n",
       "  'phead': None,\n",
       "  'pdeprel': None},\n",
       " {'id': 7,\n",
       "  'form': '你',\n",
       "  'cpos': 'PN',\n",
       "  'pos': None,\n",
       "  'head': 8,\n",
       "  'deprel': 'nsubj',\n",
       "  'lemma': None,\n",
       "  'feats': None,\n",
       "  'phead': None,\n",
       "  'pdeprel': None},\n",
       " {'id': 8,\n",
       "  'form': '想',\n",
       "  'cpos': 'VV',\n",
       "  'pos': None,\n",
       "  'head': 0,\n",
       "  'deprel': 'root',\n",
       "  'lemma': None,\n",
       "  'feats': None,\n",
       "  'phead': None,\n",
       "  'pdeprel': None},\n",
       " {'id': 9,\n",
       "  'form': '跟',\n",
       "  'cpos': 'P',\n",
       "  'pos': None,\n",
       "  'head': 11,\n",
       "  'deprel': 'prep',\n",
       "  'lemma': None,\n",
       "  'feats': None,\n",
       "  'phead': None,\n",
       "  'pdeprel': None},\n",
       " {'id': 10,\n",
       "  'form': '我',\n",
       "  'cpos': 'PN',\n",
       "  'pos': None,\n",
       "  'head': 9,\n",
       "  'deprel': 'pobj',\n",
       "  'lemma': None,\n",
       "  'feats': None,\n",
       "  'phead': None,\n",
       "  'pdeprel': None},\n",
       " {'id': 11,\n",
       "  'form': '说',\n",
       "  'cpos': 'VV',\n",
       "  'pos': None,\n",
       "  'head': 8,\n",
       "  'deprel': 'ccomp',\n",
       "  'lemma': None,\n",
       "  'feats': None,\n",
       "  'phead': None,\n",
       "  'pdeprel': None},\n",
       " {'id': 12,\n",
       "  'form': '什么',\n",
       "  'cpos': 'PN',\n",
       "  'pos': None,\n",
       "  'head': 13,\n",
       "  'deprel': 'nsubj',\n",
       "  'lemma': None,\n",
       "  'feats': None,\n",
       "  'phead': None,\n",
       "  'pdeprel': None},\n",
       " {'id': 13,\n",
       "  'form': '喵',\n",
       "  'cpos': 'VV',\n",
       "  'pos': None,\n",
       "  'head': 11,\n",
       "  'deprel': 'ccomp',\n",
       "  'lemma': None,\n",
       "  'feats': None,\n",
       "  'phead': None,\n",
       "  'pdeprel': None}]"
      ]
     },
     "execution_count": 2,
     "metadata": {},
     "output_type": "execute_result"
    }
   ],
   "source": [
    "syntactic_parser = hanlp.load(hanlp.pretrained.dep.CTB7_BIAFFINE_DEP_ZH)\n",
    "syntactic_parser([('呵', 'AD'), ('，', 'PU'), ('愚蠢', 'VA'), ('的', 'DEC'), ('人类', 'NN'), ('，', 'PU'), ('你', 'PN'), ('想', 'VV'), ('跟', 'P'), ('我', 'PN'), ('说', 'VV'), ('什么', 'PN'), ('喵', 'VV')])"
   ]
  },
  {
   "cell_type": "markdown",
   "metadata": {},
   "source": [
    "## 开放域聊天"
   ]
  },
  {
   "cell_type": "code",
   "execution_count": 8,
   "metadata": {},
   "outputs": [
    {
     "data": {
      "text/html": [
       "<div>\n",
       "<style scoped>\n",
       "    .dataframe tbody tr th:only-of-type {\n",
       "        vertical-align: middle;\n",
       "    }\n",
       "\n",
       "    .dataframe tbody tr th {\n",
       "        vertical-align: top;\n",
       "    }\n",
       "\n",
       "    .dataframe thead th {\n",
       "        text-align: right;\n",
       "    }\n",
       "</style>\n",
       "<table border=\"1\" class=\"dataframe\">\n",
       "  <thead>\n",
       "    <tr style=\"text-align: right;\">\n",
       "      <th></th>\n",
       "      <th>#Question</th>\n",
       "      <th>Answer</th>\n",
       "    </tr>\n",
       "  </thead>\n",
       "  <tbody>\n",
       "    <tr>\n",
       "      <td>0</td>\n",
       "      <td>南京在哪里</td>\n",
       "      <td>在这里了</td>\n",
       "    </tr>\n",
       "    <tr>\n",
       "      <td>1</td>\n",
       "      <td>咋死???红烧还是爆炒</td>\n",
       "      <td>哦了哦了哦了,咱聊点别的吧</td>\n",
       "    </tr>\n",
       "    <tr>\n",
       "      <td>2</td>\n",
       "      <td>你个小骚货，哥哥的巴操你爽不爽？</td>\n",
       "      <td>不要这样说嘛！很不文明哦</td>\n",
       "    </tr>\n",
       "    <tr>\n",
       "      <td>3</td>\n",
       "      <td>额麻麻怎么会有那玩意儿</td>\n",
       "      <td>无法理解您的话，获取帮助请发送 help</td>\n",
       "    </tr>\n",
       "    <tr>\n",
       "      <td>4</td>\n",
       "      <td>孩纸,新年快乐</td>\n",
       "      <td>{r+}同乐同乐，大家一起乐~</td>\n",
       "    </tr>\n",
       "  </tbody>\n",
       "</table>\n",
       "</div>"
      ],
      "text/plain": [
       "          #Question                Answer\n",
       "0             南京在哪里                  在这里了\n",
       "1       咋死???红烧还是爆炒         哦了哦了哦了,咱聊点别的吧\n",
       "2  你个小骚货，哥哥的巴操你爽不爽？          不要这样说嘛！很不文明哦\n",
       "3       额麻麻怎么会有那玩意儿  无法理解您的话，获取帮助请发送 help\n",
       "4           孩纸,新年快乐       {r+}同乐同乐，大家一起乐~"
      ]
     },
     "execution_count": 8,
     "metadata": {},
     "output_type": "execute_result"
    }
   ],
   "source": [
    "import pandas as pd\n",
    "\n",
    "chat_data = pd.read_csv('./raw_chat_corpus/qingyun-11w/12万对话语料青云库.csv',sep='\\t')\n",
    "chat_data.head()"
   ]
  },
  {
   "cell_type": "markdown",
   "metadata": {},
   "source": [
    "## 语义向量提取"
   ]
  },
  {
   "cell_type": "code",
   "execution_count": 1,
   "metadata": {},
   "outputs": [
    {
     "data": {
      "text/html": [
       "<div>\n",
       "<style scoped>\n",
       "    .dataframe tbody tr th:only-of-type {\n",
       "        vertical-align: middle;\n",
       "    }\n",
       "\n",
       "    .dataframe tbody tr th {\n",
       "        vertical-align: top;\n",
       "    }\n",
       "\n",
       "    .dataframe thead th {\n",
       "        text-align: right;\n",
       "    }\n",
       "</style>\n",
       "<table border=\"1\" class=\"dataframe\">\n",
       "  <thead>\n",
       "    <tr style=\"text-align: right;\">\n",
       "      <th></th>\n",
       "      <th>no</th>\n",
       "      <th>sentence1</th>\n",
       "      <th>sentence2</th>\n",
       "      <th>similarity</th>\n",
       "    </tr>\n",
       "  </thead>\n",
       "  <tbody>\n",
       "    <tr>\n",
       "      <th>0</th>\n",
       "      <td>1</td>\n",
       "      <td>怎么更改花呗手机号码</td>\n",
       "      <td>我的花呗是以前的手机号码，怎么更改成现在的支付宝的号码手机号</td>\n",
       "      <td>1</td>\n",
       "    </tr>\n",
       "    <tr>\n",
       "      <th>1</th>\n",
       "      <td>2</td>\n",
       "      <td>也开不了花呗，就这样了？完事了</td>\n",
       "      <td>真的嘛？就是花呗付款</td>\n",
       "      <td>0</td>\n",
       "    </tr>\n",
       "    <tr>\n",
       "      <th>2</th>\n",
       "      <td>3</td>\n",
       "      <td>花呗冻结以后还能开通吗</td>\n",
       "      <td>我的条件可以开通花呗借款吗</td>\n",
       "      <td>0</td>\n",
       "    </tr>\n",
       "    <tr>\n",
       "      <th>3</th>\n",
       "      <td>4</td>\n",
       "      <td>如何得知关闭借呗</td>\n",
       "      <td>想永久关闭借呗</td>\n",
       "      <td>0</td>\n",
       "    </tr>\n",
       "    <tr>\n",
       "      <th>4</th>\n",
       "      <td>5</td>\n",
       "      <td>花呗扫码付钱</td>\n",
       "      <td>二维码扫描可以用花呗吗</td>\n",
       "      <td>0</td>\n",
       "    </tr>\n",
       "  </tbody>\n",
       "</table>\n",
       "</div>"
      ],
      "text/plain": [
       "   no        sentence1                       sentence2  similarity\n",
       "0   1       怎么更改花呗手机号码  我的花呗是以前的手机号码，怎么更改成现在的支付宝的号码手机号           1\n",
       "1   2  也开不了花呗，就这样了？完事了                      真的嘛？就是花呗付款           0\n",
       "2   3      花呗冻结以后还能开通吗                   我的条件可以开通花呗借款吗           0\n",
       "3   4         如何得知关闭借呗                         想永久关闭借呗           0\n",
       "4   5           花呗扫码付钱                     二维码扫描可以用花呗吗           0"
      ]
     },
     "execution_count": 1,
     "metadata": {},
     "output_type": "execute_result"
    }
   ],
   "source": [
    "import pandas as pd\n",
    "\n",
    "sim_data = pd.read_csv('./atec_nlp_sim_train_all.csv',sep='\\t')\n",
    "sim_data.head()"
   ]
  },
  {
   "cell_type": "code",
   "execution_count": 1,
   "metadata": {},
   "outputs": [
    {
     "name": "stderr",
     "output_type": "stream",
     "text": [
      "D:\\UnixlikePrograms\\Anaconda3\\lib\\site-packages\\tensorflow\\python\\framework\\dtypes.py:516: FutureWarning: Passing (type, 1) or '1type' as a synonym of type is deprecated; in a future version of numpy, it will be understood as (type, (1,)) / '(1,)type'.\n",
      "  _np_qint8 = np.dtype([(\"qint8\", np.int8, 1)])\n",
      "D:\\UnixlikePrograms\\Anaconda3\\lib\\site-packages\\tensorflow\\python\\framework\\dtypes.py:517: FutureWarning: Passing (type, 1) or '1type' as a synonym of type is deprecated; in a future version of numpy, it will be understood as (type, (1,)) / '(1,)type'.\n",
      "  _np_quint8 = np.dtype([(\"quint8\", np.uint8, 1)])\n",
      "D:\\UnixlikePrograms\\Anaconda3\\lib\\site-packages\\tensorflow\\python\\framework\\dtypes.py:518: FutureWarning: Passing (type, 1) or '1type' as a synonym of type is deprecated; in a future version of numpy, it will be understood as (type, (1,)) / '(1,)type'.\n",
      "  _np_qint16 = np.dtype([(\"qint16\", np.int16, 1)])\n",
      "D:\\UnixlikePrograms\\Anaconda3\\lib\\site-packages\\tensorflow\\python\\framework\\dtypes.py:519: FutureWarning: Passing (type, 1) or '1type' as a synonym of type is deprecated; in a future version of numpy, it will be understood as (type, (1,)) / '(1,)type'.\n",
      "  _np_quint16 = np.dtype([(\"quint16\", np.uint16, 1)])\n",
      "D:\\UnixlikePrograms\\Anaconda3\\lib\\site-packages\\tensorflow\\python\\framework\\dtypes.py:520: FutureWarning: Passing (type, 1) or '1type' as a synonym of type is deprecated; in a future version of numpy, it will be understood as (type, (1,)) / '(1,)type'.\n",
      "  _np_qint32 = np.dtype([(\"qint32\", np.int32, 1)])\n",
      "D:\\UnixlikePrograms\\Anaconda3\\lib\\site-packages\\tensorflow\\python\\framework\\dtypes.py:525: FutureWarning: Passing (type, 1) or '1type' as a synonym of type is deprecated; in a future version of numpy, it will be understood as (type, (1,)) / '(1,)type'.\n",
      "  np_resource = np.dtype([(\"resource\", np.ubyte, 1)])\n",
      "WARNING:root:Limited tf.compat.v2.summary API due to missing TensorBoard installation.\n"
     ]
    }
   ],
   "source": [
    "import pandas as pd\n",
    "import numpy as np\n",
    "import torch\n",
    "import torch.nn as nn\n",
    "import torch.nn.functional as F\n",
    "import torch.optim as optim\n",
    "from torch.utils.data import Dataset, DataLoader, RandomSampler\n",
    "from torch.nn.utils.rnn import pad_sequence\n",
    "from transformers import BertTokenizer, BertModel, AdamW, BertPreTrainedModel,get_linear_schedule_with_warmup,get_cosine_with_hard_restarts_schedule_with_warmup\n",
    "from sklearn.model_selection import train_test_split\n",
    "from sklearn.metrics import roc_auc_score\n",
    "from tqdm import tqdm\n",
    "\n",
    "import os\n",
    "from typing import Tuple, List\n"
   ]
  },
  {
   "cell_type": "code",
   "execution_count": 3,
   "metadata": {},
   "outputs": [
    {
     "name": "stderr",
     "output_type": "stream",
     "text": [
      "WARNING:gensim.models.word2vec:Each 'sentences' item should be a list of words (usually unicode strings). First item here is instead plain <class 'str'>.\n"
     ]
    }
   ],
   "source": [
    "from gensim.models import FastText\n",
    "sentences = []\n",
    "features = 32\n",
    "for index,row in sim_data.iterrows():\n",
    "    sentences.append(row['sentence1'])\n",
    "    sentences.append(row['sentence2'])\n",
    "words = FastText(sentences,  size=features, window=3, min_count=1, iter=10,min_n = 3 , max_n = 6,word_ngrams = 0)"
   ]
  },
  {
   "cell_type": "code",
   "execution_count": 4,
   "metadata": {},
   "outputs": [],
   "source": [
    "from sklearn.model_selection import train_test_split\n",
    "\n",
    "device = torch.device('cpu')\n",
    "# if torch.cuda.is_available():\n",
    "#     device = torch.device('cuda:0')\n",
    "train_df, val_df = train_test_split(sim_data, test_size=0.05)"
   ]
  },
  {
   "cell_type": "code",
   "execution_count": 2,
   "metadata": {},
   "outputs": [],
   "source": [
    "path = \"./\"\n",
    "device = torch.device('cpu')\n",
    "if torch.cuda.is_available():\n",
    "    device = torch.device('cuda:0')\n",
    "\n",
    "# tokenizer = BertTokenizer.from_pretrained('bert-base-cased')\n",
    "tokenizer = BertTokenizer.from_pretrained('bert-base-chinese')\n",
    "assert tokenizer.pad_token_id == 0, \"Padding value used in masks is set to zero, please change it everywhere\"\n",
    "train_df = pd.read_csv(os.path.join(path, 'atec_nlp_sim_train_all.csv'),sep='\\t')\n",
    "# training on a part of data for speed\n",
    "# train_df = train_df.sample(frac=0.33)\n",
    "train_df, val_df = train_test_split(train_df, test_size=0.05)"
   ]
  },
  {
   "cell_type": "code",
   "execution_count": 7,
   "metadata": {},
   "outputs": [
    {
     "name": "stderr",
     "output_type": "stream",
     "text": [
      "0it [00:00, ?it/s]D:\\UnixlikePrograms\\Anaconda3\\lib\\site-packages\\ipykernel_launcher.py:7: DeprecationWarning: Call to deprecated `__getitem__` (Method will be removed in 4.0.0, use self.wv.__getitem__() instead).\n",
      "  import sys\n",
      "D:\\UnixlikePrograms\\Anaconda3\\lib\\site-packages\\ipykernel_launcher.py:8: DeprecationWarning: Call to deprecated `__getitem__` (Method will be removed in 4.0.0, use self.wv.__getitem__() instead).\n",
      "  \n",
      "97353it [00:43, 2242.15it/s]\n",
      "5124it [00:02, 2063.20it/s]\n"
     ]
    }
   ],
   "source": [
    "class SimDataset(Dataset):\n",
    "    def __init__(self, dataframe, device):\n",
    "        self.device = device\n",
    "        self.X = []\n",
    "        self.Y = []\n",
    "        for i, (row) in tqdm(dataframe.iterrows()):\n",
    "            text1 = sum([words[word] for word in row[\"sentence1\"]])/len(row)\n",
    "            text2 = sum([words[word] for word in row[\"sentence2\"]])/len(row)\n",
    "            val = [1-row[\"similarity\"]]\n",
    "#             print(val)\n",
    "            tags = torch.FloatTensor(val)\n",
    "            self.X.append([text1,text2])\n",
    "#             self.X.append(text1)\n",
    "\n",
    "            self.Y.append(tags)\n",
    "            self.X.append([text2,text1])\n",
    "            self.Y.append(tags)\n",
    "            if tags.shape[0]==0:\n",
    "                print(row[\"sentence1\"])\n",
    "                print(row[\"sentence2\"])\n",
    "                print(row[\"similarity\"])\n",
    "                print(tags)\n",
    "    \n",
    "    def __len__(self):\n",
    "        return len(self.X)\n",
    "\n",
    "    def __getitem__(self, index: int) -> Tuple[List[torch.FloatTensor], torch.LongTensor]:\n",
    "        return self.X[index], self.Y[index]\n",
    "\n",
    "def collate_fn(batch: List[Tuple[List[torch.FloatTensor], torch.LongTensor]]) \\\n",
    "        -> Tuple[torch.FloatTensor,torch.FloatTensor, torch.LongTensor]:\n",
    "    x, y = list(zip(*batch))\n",
    "#     print('-------------------')\n",
    "#     print(x)\n",
    "    x = list(zip(*x))\n",
    "    x1 = x[0]\n",
    "#     print(x1)\n",
    "#     print('-------------------')\n",
    "#     print(y)\n",
    "#     print('-------------------')\n",
    "#     print(*batch)\n",
    "    x2 = x[1]\n",
    "#     print(len(x1),type(x1))\n",
    "#     x1 = pad_sequence(x1, batch_first=True, padding_value=0)\n",
    "#     x2 = pad_sequence(x2, batch_first=True, padding_value=0)\n",
    "    y = torch.stack(y)\n",
    "    return x1, x2, y.to(device)\n",
    "\n",
    "train_dataset = SimDataset(train_df, device)\n",
    "dev_dataset = SimDataset(val_df, device)\n",
    "\n",
    "BATCH_SIZE = 8\n",
    "train_sampler = RandomSampler(train_dataset)\n",
    "dev_sampler = RandomSampler(dev_dataset)\n",
    "train_iterator = DataLoader(train_dataset, batch_size=BATCH_SIZE, sampler=train_sampler, collate_fn=collate_fn)\n",
    "dev_iterator = DataLoader(dev_dataset, batch_size=BATCH_SIZE, sampler=dev_sampler, collate_fn=collate_fn)"
   ]
  },
  {
   "cell_type": "code",
   "execution_count": 3,
   "metadata": {},
   "outputs": [
    {
     "name": "stderr",
     "output_type": "stream",
     "text": [
      "97353it [01:32, 1049.48it/s]\n",
      "5124it [00:04, 1056.70it/s]\n"
     ]
    }
   ],
   "source": [
    "class SimDataset(Dataset):\n",
    "    \n",
    "    def __init__(self, tokenizer, dataframe, device):\n",
    "        self.device = device\n",
    "        self.tokenizer = tokenizer\n",
    "        self.pad_idx = tokenizer.pad_token_id\n",
    "        self.X = []\n",
    "        self.Y = []\n",
    "        for i, (row) in tqdm(dataframe.iterrows()):\n",
    "            if len(tokenizer.tokenize(row[\"sentence1\"])) > 120:\n",
    "                continue\n",
    "            if len(tokenizer.tokenize(row[\"sentence2\"])) > 120:\n",
    "                continue\n",
    "            text1 = tokenizer.encode(row[\"sentence1\"], add_special_tokens=True)\n",
    "            text2 = tokenizer.encode(row[\"sentence2\"], add_special_tokens=True)\n",
    "\n",
    "            text1 = torch.LongTensor(text1)\n",
    "            text2 = torch.LongTensor(text2)\n",
    "            val = [1-row[\"similarity\"]]\n",
    "#             print(val)\n",
    "            tags = torch.FloatTensor(val)\n",
    "            self.X.append([text1,text2])\n",
    "#             self.X.append(text1)\n",
    "\n",
    "            self.Y.append(tags)\n",
    "            self.X.append([text2,text1])\n",
    "            self.Y.append(tags)\n",
    "            if tags.shape[0]==0:\n",
    "                print(row[\"sentence1\"])\n",
    "                print(row[\"sentence2\"])\n",
    "                print(row[\"similarity\"])\n",
    "                print(tags)\n",
    "    \n",
    "    def __len__(self):\n",
    "        return len(self.X)\n",
    "\n",
    "    def __getitem__(self, index: int) -> Tuple[torch.LongTensor, torch.LongTensor]:\n",
    "        return self.X[index], self.Y[index]\n",
    "\n",
    "def collate_fn(batch: List[Tuple[List[torch.LongTensor], torch.LongTensor]]) \\\n",
    "        -> Tuple[torch.LongTensor,torch.LongTensor, torch.LongTensor]:\n",
    "    x, y = list(zip(*batch))\n",
    "#     print('-------------------')\n",
    "#     print(x)\n",
    "    x = list(zip(*x))\n",
    "    x1 = x[0]\n",
    "#     print(x1)\n",
    "#     print('-------------------')\n",
    "#     print(y)\n",
    "#     print('-------------------')\n",
    "#     print(*batch)\n",
    "    x2 = x[1]\n",
    "#     print(len(x1),type(x1))\n",
    "    x1 = pad_sequence(x1, batch_first=True, padding_value=0)\n",
    "    x2 = pad_sequence(x2, batch_first=True, padding_value=0)\n",
    "    y = torch.stack(y)\n",
    "    return x1.to(device), x2.to(device), y.to(device)\n",
    "\n",
    "train_dataset = SimDataset(tokenizer, train_df, device)\n",
    "dev_dataset = SimDataset(tokenizer, val_df, device)\n",
    "\n",
    "BATCH_SIZE = 8\n",
    "train_sampler = RandomSampler(train_dataset)\n",
    "dev_sampler = RandomSampler(dev_dataset)\n",
    "train_iterator = DataLoader(train_dataset, batch_size=BATCH_SIZE, sampler=train_sampler, collate_fn=collate_fn)\n",
    "dev_iterator = DataLoader(dev_dataset, batch_size=BATCH_SIZE, sampler=dev_sampler, collate_fn=collate_fn)"
   ]
  },
  {
   "cell_type": "code",
   "execution_count": 19,
   "metadata": {},
   "outputs": [
    {
     "name": "stdout",
     "output_type": "stream",
     "text": [
      "([1, 2],) (3,)\n",
      "[(1, 3, 5), (2, 4, 6)]\n"
     ]
    }
   ],
   "source": [
    "t=[1,2],3\n",
    "test = [t]\n",
    "t,tt = list(zip(*test))\n",
    "print(t,tt)\n",
    "\n",
    "t = [1,2],[3,4],[5,6]\n",
    "print(list(zip(*t)))\n",
    "# class dismoid(torch.autograd.Function):\n",
    "    \n",
    "#     @staticmethod\n",
    "#     def forward(ctx, input):\n",
    "#         ctx.save_for_backward(input)\n",
    "#         abs = torch.abs(input)\n",
    "#         return abs/(1+abs)\n",
    "    \n",
    "#     @staticmethod\n",
    "#     def backward(ctx, grad_output):\n",
    "#         input, = ctx.saved_tensors\n",
    "#         grad_input = grad_output.clone()\n",
    "#         abs = torch.abs(input)\n",
    "#         demon = 1+abs\n",
    "#         demon_2 = demon*demon\n",
    "#         grad_input[input >= 0] = 1/demon[input >= 0]-abs[input >= 0]/demon_2[input >= 0]\n",
    "#         grad_input[input < 0] = abs[input < 0]/demon_2[input < 0]-1/demon[input < 0]\n",
    "#         return grad_input"
   ]
  },
  {
   "cell_type": "code",
   "execution_count": 8,
   "metadata": {},
   "outputs": [],
   "source": [
    "class FastTextClassifier(nn.Module):\n",
    "    \n",
    "    def __init__(self,features):\n",
    "        super(FastTextClassifier, self).__init__()\n",
    "        self.linear_left_1 = nn.Linear(features, 128)\n",
    "        self.relu_left = nn.ReLU()\n",
    "        self.linear_left_2 = nn.Linear(128, 64)\n",
    "\n",
    "        self.linear_right_1 = nn.Linear(features, 128)\n",
    "        self.relu_right = nn.ReLU()\n",
    "        self.linear_right_2 = nn.Linear(128, 64)\n",
    "        self.softsign = nn.Softsign()\n",
    "#         self.classifier = torch.Linear(128,2)\n",
    "        \n",
    "    def forward(self, input_ids1, input_ids2, token_type_ids=None, position_ids=None, head_mask=None,\n",
    "            labels=None):\n",
    "#         print(input_ids1)\n",
    "#         print('-----------')\n",
    "#         print(labels)\n",
    "        output1 = torch.FloatTensor(list(input_ids1))\n",
    "        output1 = self.linear_left_2(self.relu_left(self.linear_left_1(output1))) # batch, 2 \n",
    "#         output1 = torch.sigmoid(output1)\n",
    "        if input_ids2!=None:\n",
    "            output2 = torch.FloatTensor(list(input_ids2))\n",
    "            output2 = self.linear_right_2(self.relu_right(self.linear_right_1(output2))) # batch, 2\n",
    "#         output2 = torch.sigmoid(output2)\n",
    "\n",
    "            cls_output = self.softsign(F.pairwise_distance(output2,output1))\n",
    "            criterion = nn.BCELoss()\n",
    "            loss = 0\n",
    "            if labels is not None:\n",
    "                loss = criterion(cls_output, labels)\n",
    "            return loss, cls_output\n",
    "        else:\n",
    "            return output1\n",
    "\n",
    "model = FastTextClassifier(features).to(device)"
   ]
  },
  {
   "cell_type": "code",
   "execution_count": 4,
   "metadata": {},
   "outputs": [],
   "source": [
    "class BertClassifier(BertPreTrainedModel):\n",
    "    \n",
    "    def __init__(self, config):\n",
    "        super(BertClassifier, self).__init__(config)\n",
    "        self.bert = BertModel(config)\n",
    "        self.linear1 = nn.Linear(config.hidden_size, 128)\n",
    "        self.relu1 = nn.ReLU()\n",
    "        self.net1 = nn.Linear(128,64)\n",
    "        self.linear2 = nn.Linear(config.hidden_size, 128)\n",
    "        self.relu2 = nn.ReLU()\n",
    "        self.net2 = nn.Linear(128,64)\n",
    "        self.softsign = nn.Softsign()\n",
    "#         self.classifier = torch.Linear(128,2)\n",
    "        \n",
    "    def forward(self, input_ids1, input_ids2=None, attention_mask1=None, attention_mask2=None, token_type_ids=None, position_ids=None, head_mask=None,\n",
    "                \n",
    "            labels=None):\n",
    "        outputs1 = self.bert(input_ids1,\n",
    "                               attention_mask=attention_mask1,\n",
    "                               token_type_ids=token_type_ids,\n",
    "                               position_ids=position_ids,\n",
    "                               head_mask=head_mask)\n",
    "        output1 = self.net1(self.relu1(self.linear1(outputs1[1]))) # batch, 2 \n",
    "        if input_ids2 is not None:\n",
    "            outputs2 = self.bert(input_ids2,\n",
    "                       attention_mask=attention_mask2,\n",
    "                       token_type_ids=token_type_ids,\n",
    "                       position_ids=position_ids,\n",
    "                       head_mask=head_mask)\n",
    "            output2 = self.net2(self.relu2(self.linear2(outputs2[1]))) # batch, 2\n",
    "            cls_output = self.softsign(F.pairwise_distance(output2,output1))\n",
    "            criterion = nn.BCELoss()\n",
    "            loss = 0\n",
    "            if labels is not None:\n",
    "                loss = criterion(cls_output, labels)\n",
    "            return loss, cls_output\n",
    "        else:\n",
    "            return output1\n",
    "        \n",
    "    def save(self,filename):\n",
    "        torch.save(self.state_dict(),filename)\n",
    "        # torch.save(self.net2, filename)\n",
    "        \n",
    "    def load(self,filename):\n",
    "        self.load_state_dict(torch.load(PATH))\n",
    "        self.eval()\n",
    "        # self.net1 = torch.load(filename)\n",
    "\n",
    "model = BertClassifier.from_pretrained('bert-base-chinese').to(device)\n",
    "# model = BertClassifier.from_pretrained('bert-base-cased').to(device)"
   ]
  },
  {
   "cell_type": "code",
   "execution_count": 20,
   "metadata": {},
   "outputs": [],
   "source": [
    "def train(model, iterator, optimizer, scheduler):\n",
    "    model.train()\n",
    "    total_loss = 0\n",
    "#     print(type(iterator))\n",
    "    for x1,x2,y in tqdm(iterator):\n",
    "        optimizer.zero_grad()\n",
    "\n",
    "        loss, outputs = model(x1, x2, labels=y)\n",
    "        total_loss += loss.item()\n",
    "        loss.backward()\n",
    "        optimizer.step()\n",
    "        scheduler.step()\n",
    "    avg_loss = total_loss / len(iterator)\n",
    "    print(f\"Train loss {avg_loss}\")\n",
    "    return avg_loss\n",
    "\n",
    "def evaluate(model, iterator):\n",
    "    model.eval()\n",
    "    pred = []\n",
    "    true = []\n",
    "    with torch.no_grad():\n",
    "        total_loss = 0\n",
    "        for x1,x2, y in tqdm(iterator):\n",
    "            loss, outputs = model(x1,x2, labels=y)\n",
    "            total_loss += loss\n",
    "            true += y.cpu().numpy().tolist()\n",
    "            pred += outputs.cpu().numpy().tolist()\n",
    "    true = np.array(true)\n",
    "    pred = np.array(pred)\n",
    "#     print(true.reshape(1,-1))\n",
    "#     print('-----------')\n",
    "#     print(pred)\n",
    "    for i, name in enumerate(['similarity']):\n",
    "        val = roc_auc_score(true.reshape(1,-1)[0], pred)\n",
    "        print(f\"{name} roc_auc {val}\")\n",
    "    avg_loss = total_loss / len(iterator)\n",
    "    print(f\"Evaluate loss {avg_loss}\")\n",
    "    return avg_loss,val"
   ]
  },
  {
   "cell_type": "code",
   "execution_count": 5,
   "metadata": {},
   "outputs": [],
   "source": [
    "def train(model, iterator, optimizer, scheduler):\n",
    "    model.train()\n",
    "    total_loss = 0\n",
    "#     print(type(iterator))\n",
    "    for x1,x2,y in tqdm(iterator):\n",
    "        optimizer.zero_grad()\n",
    "        mask1 = (x1 != 0).float()\n",
    "        mask2 = (x2 != 0).float()\n",
    "\n",
    "#         print(x1)\n",
    "#         print('+++++++++++++++++++++++++++++++++++')\n",
    "#         print(x2)\n",
    "        try:\n",
    "            loss, outputs = model(x1, x2, attention_mask1=mask1,attention_mask2 = mask2, labels=y)\n",
    "        except:\n",
    "            print(x1)\n",
    "            print('++++++++++')\n",
    "            print(x2)\n",
    "        total_loss += loss.item()\n",
    "        loss.backward()\n",
    "        optimizer.step()\n",
    "        scheduler.step()\n",
    "    avg_loss = total_loss / len(iterator)\n",
    "    print(f\"Train loss {avg_loss}\")\n",
    "    return avg_loss\n",
    "\n",
    "def evaluate(model, iterator):\n",
    "    model.eval()\n",
    "    pred = []\n",
    "    true = []\n",
    "    with torch.no_grad():\n",
    "        total_loss = 0\n",
    "        for x1,x2, y in tqdm(iterator):\n",
    "            mask1 = (x1 != 0).float()\n",
    "            mask2 = (x2 != 0).float()\n",
    "            loss, outputs = model(x1, x2, attention_mask1=mask1,attention_mask2 = mask2, labels=y)\n",
    "            total_loss += loss\n",
    "            true += y.cpu().numpy().tolist()\n",
    "            pred += outputs.cpu().numpy().tolist()\n",
    "    true = np.array(true)\n",
    "    pred = np.array(pred)\n",
    "    for i, name in enumerate(['similarity']):\n",
    "        val = roc_auc_score(true.reshape(1,-1)[0], pred)\n",
    "        print(f\"{name} roc_auc {val}\")\n",
    "    avg_loss = total_loss / len(iterator)\n",
    "    print(f\"Evaluate loss {avg_loss}\")\n",
    "    return avg_loss,val"
   ]
  },
  {
   "cell_type": "code",
   "execution_count": 6,
   "metadata": {},
   "outputs": [],
   "source": [
    "no_decay = ['bias', 'LayerNorm.weight']\n",
    "optimizer_grouped_parameters = [\n",
    "{'params': [p for n, p in model.named_parameters() if not any(nd in n for nd in no_decay)], 'weight_decay': 0.01},\n",
    "{'params': [p for n, p in model.named_parameters() if any(nd in n for nd in no_decay)], 'weight_decay': 0.0}\n",
    "]\n",
    "optimizer = AdamW(optimizer_grouped_parameters, lr=2e-5, eps=1e-8)"
   ]
  },
  {
   "cell_type": "code",
   "execution_count": 7,
   "metadata": {},
   "outputs": [],
   "source": [
    "EPOCH_NUM = 50\n",
    "\n",
    "losses = []\n",
    "val_losses = []\n",
    "rocs = []\n",
    "start_epoch = -1\n",
    "\n",
    "checkpoint_name='checkpoint.pkl'"
   ]
  },
  {
   "cell_type": "code",
   "execution_count": 16,
   "metadata": {},
   "outputs": [],
   "source": [
    "## 加载模式再训练\n",
    "checkpoint = torch.load(checkpoint_name)\n",
    "model.load_state_dict(checkpoint['model'])\n",
    "optimizer.load_state_dict(checkpoint['optimizer'])\n",
    "start_epoch = checkpoint['epoch']\n",
    "losses = checkpoint['train_loss']\n",
    "val_losses = checkpoint['val_loss']\n",
    "rocs = checkpoint['auc']"
   ]
  },
  {
   "cell_type": "code",
   "execution_count": 8,
   "metadata": {},
   "outputs": [
    {
     "name": "stdout",
     "output_type": "stream",
     "text": [
      "current epoch: -1\n",
      "0\n",
      "1204781 12169\n"
     ]
    }
   ],
   "source": [
    "print(f\"current epoch: {start_epoch}\")\n",
    "print(len(losses))\n",
    "# triangular learning rate, linearly grows untill half of first epoch, then linearly decays \n",
    "warmup_steps = int(0.5 * len(train_iterator))\n",
    "total_steps = len(train_iterator) * EPOCH_NUM - warmup_steps\n",
    "print(total_steps,warmup_steps)\n",
    "scheduler = get_cosine_with_hard_restarts_schedule_with_warmup(optimizer, num_warmup_steps=warmup_steps, num_training_steps=total_steps,last_epoch=start_epoch)\n",
    "# scheduler = get_linear_schedule_with_warmuparmup(optimizer, num_warmup_steps=warmup_steps, num_training_steps=total_steps,last_epoch=start_epoch)"
   ]
  },
  {
   "cell_type": "code",
   "execution_count": 9,
   "metadata": {},
   "outputs": [],
   "source": [
    "# 保存以便下次训练\n",
    "try:\n",
    "    if start_epoch is None: start_epoch = 0\n",
    "except NameError:\n",
    "    start_epoch = 0\n",
    "    \n",
    "def save_checkpoint(model,optimizer,start_epoch,filename):\n",
    "    all_state = {'model':model.state_dict(), 'optimizer':optimizer.state_dict(), 'epoch': start_epoch,'train_loss':losses,'val_loss':val_losses,'auc':rocs}\n",
    "\n",
    "    torch.save(all_state, filename)"
   ]
  },
  {
   "cell_type": "code",
   "execution_count": null,
   "metadata": {},
   "outputs": [
    {
     "name": "stdout",
     "output_type": "stream",
     "text": [
      "================================================== EPOCH 0 ==================================================\n"
     ]
    },
    {
     "name": "stderr",
     "output_type": "stream",
     "text": [
      "  0%|                                                                                        | 0/24339 [00:00<?, ?it/s]D:\\UnixlikePrograms\\Anaconda3\\lib\\site-packages\\torch\\nn\\modules\\loss.py:498: UserWarning: Using a target size (torch.Size([8, 1])) that is different to the input size (torch.Size([8])) is deprecated. Please ensure they have the same size.\n",
      "  return F.binary_cross_entropy(input, target, weight=self.weight, reduction=self.reduction)\n",
      "100%|█████████████████████████████████████████████████████████████████████████▉| 24338/24339 [1:55:09<00:00,  3.37it/s]D:\\UnixlikePrograms\\Anaconda3\\lib\\site-packages\\torch\\nn\\modules\\loss.py:498: UserWarning: Using a target size (torch.Size([2, 1])) that is different to the input size (torch.Size([2])) is deprecated. Please ensure they have the same size.\n",
      "  return F.binary_cross_entropy(input, target, weight=self.weight, reduction=self.reduction)\n",
      "100%|██████████████████████████████████████████████████████████████████████████| 24339/24339 [1:55:09<00:00,  3.52it/s]\n"
     ]
    },
    {
     "name": "stdout",
     "output_type": "stream",
     "text": [
      "Train loss 0.46492970097621616\n"
     ]
    },
    {
     "name": "stderr",
     "output_type": "stream",
     "text": [
      "100%|██████████████████████████████████████████████████████████████████████████████| 1281/1281 [01:23<00:00, 15.37it/s]\n"
     ]
    },
    {
     "name": "stdout",
     "output_type": "stream",
     "text": [
      "similarity roc_auc 0.5281497306517973\n",
      "Evaluate loss 0.4749499559402466\n",
      "================================================== EPOCH 1 ==================================================\n"
     ]
    },
    {
     "name": "stderr",
     "output_type": "stream",
     "text": [
      "  0%|                                                                                        | 0/24339 [00:00<?, ?it/s]D:\\UnixlikePrograms\\Anaconda3\\lib\\site-packages\\torch\\nn\\modules\\loss.py:498: UserWarning: Using a target size (torch.Size([8, 1])) that is different to the input size (torch.Size([8])) is deprecated. Please ensure they have the same size.\n",
      "  return F.binary_cross_entropy(input, target, weight=self.weight, reduction=self.reduction)\n",
      "100%|█████████████████████████████████████████████████████████████████████████▉| 24338/24339 [2:03:00<00:00,  3.29it/s]D:\\UnixlikePrograms\\Anaconda3\\lib\\site-packages\\torch\\nn\\modules\\loss.py:498: UserWarning: Using a target size (torch.Size([2, 1])) that is different to the input size (torch.Size([2])) is deprecated. Please ensure they have the same size.\n",
      "  return F.binary_cross_entropy(input, target, weight=self.weight, reduction=self.reduction)\n",
      "100%|██████████████████████████████████████████████████████████████████████████| 24339/24339 [2:03:01<00:00,  3.30it/s]\n"
     ]
    },
    {
     "name": "stdout",
     "output_type": "stream",
     "text": [
      "Train loss 0.47555014945817975\n"
     ]
    },
    {
     "name": "stderr",
     "output_type": "stream",
     "text": [
      "100%|██████████████████████████████████████████████████████████████████████████████| 1281/1281 [01:25<00:00, 15.05it/s]\n"
     ]
    },
    {
     "name": "stdout",
     "output_type": "stream",
     "text": [
      "similarity roc_auc 0.5256215092260309\n",
      "Evaluate loss 0.4739690124988556\n",
      "================================================== EPOCH 2 ==================================================\n"
     ]
    },
    {
     "name": "stderr",
     "output_type": "stream",
     "text": [
      "  0%|                                                                                        | 0/24339 [00:00<?, ?it/s]D:\\UnixlikePrograms\\Anaconda3\\lib\\site-packages\\torch\\nn\\modules\\loss.py:498: UserWarning: Using a target size (torch.Size([8, 1])) that is different to the input size (torch.Size([8])) is deprecated. Please ensure they have the same size.\n",
      "  return F.binary_cross_entropy(input, target, weight=self.weight, reduction=self.reduction)\n",
      "100%|█████████████████████████████████████████████████████████████████████████▉| 24338/24339 [2:01:33<00:00,  3.62it/s]D:\\UnixlikePrograms\\Anaconda3\\lib\\site-packages\\torch\\nn\\modules\\loss.py:498: UserWarning: Using a target size (torch.Size([2, 1])) that is different to the input size (torch.Size([2])) is deprecated. Please ensure they have the same size.\n",
      "  return F.binary_cross_entropy(input, target, weight=self.weight, reduction=self.reduction)\n",
      "100%|██████████████████████████████████████████████████████████████████████████| 24339/24339 [2:01:33<00:00,  3.34it/s]\n"
     ]
    },
    {
     "name": "stdout",
     "output_type": "stream",
     "text": [
      "Train loss 0.47543053993081064\n"
     ]
    },
    {
     "name": "stderr",
     "output_type": "stream",
     "text": [
      "100%|██████████████████████████████████████████████████████████████████████████████| 1281/1281 [01:22<00:00, 15.49it/s]\n"
     ]
    },
    {
     "name": "stdout",
     "output_type": "stream",
     "text": [
      "similarity roc_auc 0.517288929454569\n",
      "Evaluate loss 0.47402822971343994\n",
      "================================================== EPOCH 3 ==================================================\n"
     ]
    },
    {
     "name": "stderr",
     "output_type": "stream",
     "text": [
      "  0%|                                                                                        | 0/24339 [00:00<?, ?it/s]D:\\UnixlikePrograms\\Anaconda3\\lib\\site-packages\\torch\\nn\\modules\\loss.py:498: UserWarning: Using a target size (torch.Size([8, 1])) that is different to the input size (torch.Size([8])) is deprecated. Please ensure they have the same size.\n",
      "  return F.binary_cross_entropy(input, target, weight=self.weight, reduction=self.reduction)\n",
      " 64%|███████████████████████████████████████████████▎                          | 15561/24339 [1:16:50<45:11,  3.24it/s]"
     ]
    }
   ],
   "source": [
    "for i in range(EPOCH_NUM-start_epoch-1):\n",
    "    print('=' * 50, f\"EPOCH {start_epoch+i+1}\", '=' * 50)\n",
    "    l = train(model, train_iterator, optimizer, scheduler)\n",
    "    losses.append(l)\n",
    "    l,r = evaluate(model, dev_iterator)\n",
    "    val_losses.append(l)\n",
    "    rocs.append(r)\n",
    "    save_checkpoint(model,optimizer,i,checkpoint_name)"
   ]
  },
  {
   "cell_type": "code",
   "execution_count": 28,
   "metadata": {},
   "outputs": [],
   "source": [
    "save_checkpoint(model,optimizer,start_epoch+i,'checkpoint.pkl')"
   ]
  },
  {
   "cell_type": "code",
   "execution_count": 18,
   "metadata": {},
   "outputs": [
    {
     "data": {
      "text/plain": [
       "<matplotlib.legend.Legend at 0x17bab885dd8>"
      ]
     },
     "execution_count": 18,
     "metadata": {},
     "output_type": "execute_result"
    },
    {
     "data": {
      "image/png": "[encoded data removed]",
      "text/plain": [
       "<Figure size 432x288 with 2 Axes>"
      ]
     },
     "metadata": {},
     "output_type": "display_data"
    }
   ],
   "source": [
    "import matplotlib.pyplot as plt\n",
    "\n",
    "x = range(len(losses))\n",
    "\n",
    "plt.figure(1)\n",
    "\n",
    "ax1 = plt.subplot(1,2,1)\n",
    "ax2 = plt.subplot(1,2,2)\n",
    "\n",
    "plt.sca(ax1)\n",
    "plt.plot(x, losses, 'r',label='train loss')\n",
    "plt.plot(x, val_losses, ms=10,label='validate loss')\n",
    "plt.legend()  # 让图例生效\n",
    "\n",
    "plt.sca(ax2)\n",
    "plt.plot(x, rocs, 'g',ms=10,label='auc')\n",
    "\n",
    "plt.legend()  # 让图例生效\n",
    "# plt.show()"
   ]
  },
  {
   "cell_type": "code",
   "execution_count": 19,
   "metadata": {},
   "outputs": [
    {
     "name": "stdout",
     "output_type": "stream",
     "text": [
      "[tensor(1.1027, grad_fn=<BinaryCrossEntropyBackward>), tensor(0.2360, grad_fn=<BinaryCrossEntropyBackward>), tensor(0.2215, grad_fn=<BinaryCrossEntropyBackward>), tensor(0.1934, grad_fn=<BinaryCrossEntropyBackward>), tensor(0.1940, grad_fn=<BinaryCrossEntropyBackward>), tensor(0.9548, grad_fn=<BinaryCrossEntropyBackward>), tensor(1.1011, grad_fn=<BinaryCrossEntropyBackward>), tensor(0.1890, grad_fn=<BinaryCrossEntropyBackward>), tensor(0.1255, grad_fn=<BinaryCrossEntropyBackward>), tensor(0.1997, grad_fn=<BinaryCrossEntropyBackward>), tensor(0.1775, grad_fn=<BinaryCrossEntropyBackward>), tensor(0.2117, grad_fn=<BinaryCrossEntropyBackward>), tensor(1.5485, grad_fn=<BinaryCrossEntropyBackward>), tensor(0.1266, grad_fn=<BinaryCrossEntropyBackward>), tensor(0.6800, grad_fn=<BinaryCrossEntropyBackward>), tensor(0.1041, grad_fn=<BinaryCrossEntropyBackward>), tensor(0.8624, grad_fn=<BinaryCrossEntropyBackward>), tensor(0.0915, grad_fn=<BinaryCrossEntropyBackward>), tensor(1.6718, grad_fn=<BinaryCrossEntropyBackward>), tensor(0.7334, grad_fn=<BinaryCrossEntropyBackward>), tensor(0.2202, grad_fn=<BinaryCrossEntropyBackward>), tensor(0.1904, grad_fn=<BinaryCrossEntropyBackward>), tensor(0.6982, grad_fn=<BinaryCrossEntropyBackward>), tensor(0.1561, grad_fn=<BinaryCrossEntropyBackward>), tensor(0.1740, grad_fn=<BinaryCrossEntropyBackward>), tensor(0.1440, grad_fn=<BinaryCrossEntropyBackward>), tensor(0.1524, grad_fn=<BinaryCrossEntropyBackward>), tensor(1.9979, grad_fn=<BinaryCrossEntropyBackward>), tensor(0.6241, grad_fn=<BinaryCrossEntropyBackward>), tensor(0.2134, grad_fn=<BinaryCrossEntropyBackward>), tensor(0.5964, grad_fn=<BinaryCrossEntropyBackward>), tensor(0.5353, grad_fn=<BinaryCrossEntropyBackward>), tensor(0.1839, grad_fn=<BinaryCrossEntropyBackward>), tensor(1.0047, grad_fn=<BinaryCrossEntropyBackward>), tensor(0.1282, grad_fn=<BinaryCrossEntropyBackward>), tensor(0.8252, grad_fn=<BinaryCrossEntropyBackward>), tensor(0.8369, grad_fn=<BinaryCrossEntropyBackward>), tensor(0.3340, grad_fn=<BinaryCrossEntropyBackward>), tensor(0.4756, grad_fn=<BinaryCrossEntropyBackward>), tensor(0.8254, grad_fn=<BinaryCrossEntropyBackward>), tensor(0.1780, grad_fn=<BinaryCrossEntropyBackward>), tensor(0.1540, grad_fn=<BinaryCrossEntropyBackward>), tensor(0.1822, grad_fn=<BinaryCrossEntropyBackward>), tensor(0.1619, grad_fn=<BinaryCrossEntropyBackward>), tensor(0.2137, grad_fn=<BinaryCrossEntropyBackward>), tensor(0.9330, grad_fn=<BinaryCrossEntropyBackward>), tensor(0.2375, grad_fn=<BinaryCrossEntropyBackward>), tensor(0.2246, grad_fn=<BinaryCrossEntropyBackward>), tensor(0.2512, grad_fn=<BinaryCrossEntropyBackward>), tensor(0.2208, grad_fn=<BinaryCrossEntropyBackward>)]\n"
     ]
    }
   ],
   "source": [
    "print(losses)"
   ]
  },
  {
   "cell_type": "code",
   "execution_count": null,
   "metadata": {},
   "outputs": [],
   "source": []
  }
 ],
 "metadata": {
  "kernelspec": {
   "display_name": "Python 3",
   "language": "python",
   "name": "python3"
  },
  "language_info": {
   "codemirror_mode": {
    "name": "ipython",
    "version": 3
   },
   "file_extension": ".py",
   "mimetype": "text/x-python",
   "name": "python",
   "nbconvert_exporter": "python",
   "pygments_lexer": "ipython3",
   "version": "3.6.5"
  }
 },
 "nbformat": 4,
 "nbformat_minor": 2
}
