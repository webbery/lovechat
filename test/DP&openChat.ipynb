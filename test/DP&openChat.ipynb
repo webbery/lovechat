{
 "cells": [
  {
   "cell_type": "code",
   "execution_count": 1,
   "metadata": {},
   "outputs": [
    {
     "name": "stderr",
     "output_type": "stream",
     "text": [
      "Building prefix dict from the default dictionary ...\n",
      "Loading model from cache C:\\Users\\yuanwb\\AppData\\Local\\Temp\\jieba.cache\n",
      "Loading model cost 2.009 seconds.\n",
      "Prefix dict has been built successfully.\n"
     ]
    },
    {
     "name": "stdout",
     "output_type": "stream",
     "text": [
      "[pair('蕾', 'nr'), pair('姆', 'x'), pair('蕾', 'nr'), pair('姆', 'x'), pair('这个', 'r'), pair('人', 'n'), pair('是不是', 'l'), pair('傻', 'a')]\n"
     ]
    }
   ],
   "source": [
    "import jieba\n",
    "import re\n",
    "import jieba.analyse\n",
    "import jieba.posseg\n",
    "\n",
    "def cut_sentence(sentence):\n",
    "    cleaned_data = ''.join(re.findall(r'[\\u4e00-\\u9fa5]', sentence))\n",
    "    return jieba.posseg.lcut(cleaned_data)\n",
    "\n",
    "word=\"盗墓不是请客吃饭，不是做文章，不是绘画绣花，不能那样雅致，那样从容不迫，文质彬彬，那样温良恭俭让，盗墓是一门技术，一门进行破坏的技术。古代贵族们建造坟墓的时候，一定是想方设法的防止被盗，故此无所不用其极，在墓中设置种种机关暗器，消息埋伏，有巨石、流沙、毒箭、毒虫、陷坑等等数不胜数。到了明代，受到西洋奇技淫巧的影响，一些大墓甚至用到了西洋的八宝转心机关，尤其是清代的帝陵，堪称集数千年防盗技术于一体的杰作，大军阀孙殿英想挖开东陵用里面的财宝充当军饷，起动大批军队，连挖带炸用了五六天才得手，其坚固程度可想而知。盗墓贼的课题就是千方百计的破解这些机关，进入墓中探宝。不过在现代，比起如何挖开古墓更困难的是寻找古墓，地面上有封土堆和石碑之类明显建筑的大墓早就被人发掘得差不多了，如果要找那些年深日深藏于地下，又没有任何地上标记的古墓，那就需要一定的技术和特殊工具了，铁钎、洛阳铲、竹钉，钻地龙，探阴爪，黑折子等工具都应运而生，还有一些高手不依赖工具，有的通过寻找古代文献中的线索寻找古墓，还有极少数的一些人掌握秘术，可以通过解读山川河流的脉象，用看风水的本领找墓穴，我就是属于最后这一类的，在我的盗墓生涯中踏遍了各地，其间经历了很多诡异离奇的事迹，若是一件件的表白出来，足以让观者惊心，闻者乍舌，毕竟那些龙形虎藏、揭天拔地、倒海翻江的举动，都非比寻常。\"\n",
    "sentence = \"蕾姆蕾姆,这个人是不是傻？\"\n",
    "wordlist = cut_sentence(sentence)\n",
    "print(wordlist)"
   ]
  },
  {
   "cell_type": "code",
   "execution_count": 2,
   "metadata": {},
   "outputs": [
    {
     "name": "stdout",
     "output_type": "stream",
     "text": [
      "[pair('团队', 'n'), pair('因', 'p'), pair('无法', 'n'), pair('登陆', 'v'), pair('暂时', 'd'), pair('无法', 'n'), pair('解决', 'v'), pair('无法', 'n'), pair('登陆', 'v'), pair('问题', 'n')]\n"
     ]
    }
   ],
   "source": [
    "wordlist = cut_sentence('VPN团队因无法登陆VPN暂时无法解决VPN无法登陆问题')\n",
    "print(wordlist)"
   ]
  },
  {
   "cell_type": "code",
   "execution_count": 1,
   "metadata": {},
   "outputs": [
    {
     "name": "stdout",
     "output_type": "stream",
     "text": [
      "Executing op Range in device /job:localhost/replica:0/task:0/device:CPU:0\n",
      "Executing op Cast in device /job:localhost/replica:0/task:0/device:CPU:0\n",
      "Executing op HashTableV2 in device /job:localhost/replica:0/task:0/device:CPU:0\n",
      "Executing op LookupTableImportV2 in device /job:localhost/replica:0/task:0/device:CPU:0\n",
      "Executing op HashTableV2 in device /job:localhost/replica:0/task:0/device:CPU:0\n",
      "Executing op TruncatedNormal in device /job:localhost/replica:0/task:0/device:CPU:0\n",
      "Executing op Mul in device /job:localhost/replica:0/task:0/device:CPU:0\n",
      "Executing op Add in device /job:localhost/replica:0/task:0/device:CPU:0\n",
      "Executing op MutexV2 in device /job:localhost/replica:0/task:0/device:CPU:0\n",
      "Executing op VarHandleOp in device /job:localhost/replica:0/task:0/device:CPU:0\n",
      "Executing op VarIsInitializedOp in device /job:localhost/replica:0/task:0/device:CPU:0\n",
      "Executing op LogicalNot in device /job:localhost/replica:0/task:0/device:CPU:0\n",
      "Executing op Assert in device /job:localhost/replica:0/task:0/device:CPU:0\n",
      "Executing op AssignVariableOp in device /job:localhost/replica:0/task:0/device:CPU:0\n",
      "Executing op RandomUniform in device /job:localhost/replica:0/task:0/device:CPU:0\n",
      "Executing op Sub in device /job:localhost/replica:0/task:0/device:CPU:0\n",
      "Executing op Mul in device /job:localhost/replica:0/task:0/device:CPU:0\n",
      "Executing op Add in device /job:localhost/replica:0/task:0/device:CPU:0\n",
      "Executing op VarHandleOp in device /job:localhost/replica:0/task:0/device:CPU:0\n",
      "Executing op Fill in device /job:localhost/replica:0/task:0/device:CPU:0\n",
      "Executing op VarHandleOp in device /job:localhost/replica:0/task:0/device:CPU:0\n",
      "Executing op VarHandleOp in device /job:localhost/replica:0/task:0/device:CPU:0\n",
      "Executing op AssignVariableOp in device /job:localhost/replica:0/task:0/device:CPU:0\n",
      "Executing op VarHandleOp in device /job:localhost/replica:0/task:0/device:CPU:0\n",
      "Executing op VarHandleOp in device /job:localhost/replica:0/task:0/device:CPU:0\n"
     ]
    }
   ],
   "source": [
    "import hanlp\n",
    "\n",
    "tokenizer = hanlp.load('PKU_NAME_MERGED_SIX_MONTHS_CONVSEG')"
   ]
  },
  {
   "cell_type": "code",
   "execution_count": 16,
   "metadata": {
    "collapsed": true
   },
   "outputs": [],
   "source": [
    "syntaxnNet"
   ]
  },
  {
   "cell_type": "markdown",
   "metadata": {},
   "source": [
    "IP：简单从句\n",
    "NP：名词短语\n",
    "VP：动词短语\n",
    "PU：断句符，通常是句号、问号、感叹号等标点符号\n",
    "LCP：方位词短语\n",
    "PP：介词短语\n",
    "CP：由‘的’构成的表示修饰性关系的短语\n",
    "DNP：由‘的’构成的表示所属关系的短语\n",
    "ADVP：副词短语\n",
    "ADJP：形容词短语\n",
    "DP：限定词短语\n",
    "QP：量词短语\n",
    "NN：常用名词\n",
    "NR：固有名词\n",
    "NT：时间名词\n",
    "PN：代词\n",
    "VV：动词\n",
    "VC：是\n",
    "CC：表示连词\n",
    "VE：有\n",
    "VA：表语形容词\n",
    "AS：内容标记（如：了）\n",
    "VRD：动补复合词\n",
    "CD: 表示基数词\n",
    "DT: determiner 表示限定词\n",
    "EX: existential there 存在句\n",
    "FW: foreign word 外来词\n",
    "IN: preposition or conjunction, subordinating 介词或从属连词\n",
    "JJ: adjective or numeral, ordinal 形容词或序数词\n",
    "JJR: adjective, comparative 形容词比较级\n",
    "JJS: adjective, superlative 形容词最高级\n",
    "LS: list item marker 列表标识\n",
    "MD: modal auxiliary 情态助动词\n",
    "PDT: pre-determiner 前位限定词\n",
    "POS: genitive marker 所有格标记\n",
    "PRP: pronoun, personal 人称代词\n",
    "RB: adverb 副词\n",
    "RBR: adverb, comparative 副词比较级\n",
    "RBS: adverb, superlative 副词最高级\n",
    "RP: particle 小品词 \n",
    "SYM: symbol 符号\n",
    "TO:”to” as preposition or infinitive marker 作为介词或不定式标记 \n",
    "WDT: WH-determiner WH限定词\n",
    "WP: WH-pronoun WH代词\n",
    "WP$: WH-pronoun, possessive WH所有格代词\n",
    "WRB:Wh-adverb WH副词\n",
    "    \n",
    "关系表示\n",
    "abbrev: abbreviation modifier，缩写\n",
    "acomp: adjectival complement，形容词的补充；\n",
    "advcl : adverbial clause modifier，状语从句修饰词\n",
    "advmod: adverbial modifier状语\n",
    "agent: agent，代理，一般有by的时候会出现这个\n",
    "amod: adjectival modifier形容词\n",
    "appos: appositional modifier,同位词\n",
    "attr: attributive，属性\n",
    "aux: auxiliary，非主要动词和助词，如BE,HAVE SHOULD/COULD等到\n",
    "auxpass: passive auxiliary 被动词\n",
    "cc: coordination，并列关系，一般取第一个词\n",
    "ccomp: clausal complement从句补充\n",
    "complm: complementizer，引导从句的词好重聚中的主要动词\n",
    "conj : conjunct，连接两个并列的词。\n",
    "cop: copula。系动词（如be,seem,appear等），（命题主词与谓词间的）连系\n",
    "csubj : clausal subject，从主关系\n",
    "csubjpass: clausal passive subject 主从被动关系\n",
    "dep: dependent依赖关系\n",
    "det: determiner决定词，如冠词等\n",
    "dobj : direct object直接宾语\n",
    "expl: expletive，主要是抓取there\n",
    "infmod: infinitival modifier，动词不定式\n",
    "iobj : indirect object，非直接宾语，也就是所以的间接宾语；\n",
    "mark: marker，主要出现在有“that” or “whether”“because”, “when”,\n",
    "mwe: multi-word expression，多个词的表示\n",
    "neg: negation modifier否定词\n",
    "nn: noun compound modifier名词组合形式\n",
    "npadvmod: noun phrase as adverbial modifier名词作状语\n",
    "nsubj : nominal subject，名词主语\n",
    "nsubjpass: passive nominal subject，被动的名词主语\n",
    "num: numeric modifier，数值修饰\n",
    "number: element of compound number，组合数字\n",
    "parataxis: parataxis: parataxis，并列关系\n",
    "partmod: participial modifier动词形式的修饰\n",
    "pcomp: prepositional complement，介词补充\n",
    "pobj : object of a preposition，介词的宾语\n",
    "poss: possession modifier，所有形式，所有格，所属\n",
    "possessive: possessive modifier，这个表示所有者和那个’S的关系\n",
    "preconj : preconjunct，常常是出现在 “either”, “both”, “neither”的情况下\n",
    "predet: predeterminer，前缀决定，常常是表示所有\n",
    "prep: prepositional modifier\n",
    "prepc: prepositional clausal modifier\n",
    "prt: phrasal verb particle，动词短语\n",
    "punct: punctuation，这个很少见，但是保留下来了，结果当中不会出现这个\n",
    "purpcl : purpose clause modifier，目的从句\n",
    "quantmod: quantifier phrase modifier，数量短语\n",
    "rcmod: relative clause modifier相关关系\n",
    "ref : referent，指示物，指代\n",
    "rel : relative\n",
    "root: root，最重要的词，从它开始，根节点\n",
    "tmod: temporal modifier\n",
    "xcomp: open clausal complement\n",
    "xsubj : controlling subject 掌控者\n",
    "\n",
    " \n",
    "\n",
    " \n",
    "\n",
    " \n",
    "\n",
    "中心语为谓词\n",
    "  subj — 主语\n",
    " nsubj — 名词性主语（nominal subject） （同步，建设）\n",
    "   top — 主题（topic） （是，建筑）\n",
    "npsubj — 被动型主语（nominal passive subject），专指由“被”引导的被动句中的主语，一般是谓词语义上的受事 （称作，镍）\n",
    " csubj — 从句主语（clausal subject），中文不存在\n",
    " xsubj — x主语，一般是一个主语下面含多个从句 （完善，有些）\n",
    "\n",
    " \n",
    "\n",
    "中心语为谓词或介词   \n",
    "   obj — 宾语\n",
    "  dobj — 直接宾语 （颁布，文件）\n",
    "  iobj — 间接宾语（indirect object），基本不存在\n",
    " range — 间接宾语为数量词，又称为与格 （成交，元）\n",
    "  pobj — 介词宾语 （根据，要求）\n",
    "  lobj — 时间介词 （来，近年）\n",
    "\n",
    " \n",
    "\n",
    "中心语为谓词\n",
    "  comp — 补语\n",
    " ccomp — 从句补语，一般由两个动词构成，中心语引导后一个动词所在的从句(IP) （出现，纳入）\n",
    " xcomp — x从句补语（xclausal complement），不存在   \n",
    " acomp — 形容词补语（adjectival complement）\n",
    " tcomp — 时间补语（temporal complement） （遇到，以前）\n",
    "lccomp — 位置补语（localizer complement） （占，以上）\n",
    "       — 结果补语（resultative complement）\n",
    "\n",
    " \n",
    "\n",
    "中心语为名词\n",
    "   mod — 修饰语（modifier）\n",
    "  pass — 被动修饰（passive）\n",
    "  tmod — 时间修饰（temporal modifier）\n",
    " rcmod — 关系从句修饰（relative clause modifier） （问题，遇到）\n",
    " numod — 数量修饰（numeric modifier） （规定，若干）\n",
    "ornmod — 序数修饰（numeric modifier）\n",
    "   clf — 类别修饰（classifier modifier） （文件，件）\n",
    "  nmod — 复合名词修饰（noun compound modifier） （浦东，上海）\n",
    "  amod — 形容词修饰（adjetive modifier） （情况，新）\n",
    "advmod — 副词修饰（adverbial modifier） （做到，基本）\n",
    "  vmod — 动词修饰（verb modifier，participle modifier）\n",
    "prnmod — 插入词修饰（parenthetical modifier）\n",
    "   neg — 不定修饰（negative modifier） (遇到，不)\n",
    "   det — 限定词修饰（determiner modifier） （活动，这些）\n",
    " possm — 所属标记（possessive marker），NP\n",
    "  poss — 所属修饰（possessive modifier），NP\n",
    "  dvpm — DVP标记（dvp marker），DVP （简单，的）\n",
    "dvpmod — DVP修饰（dvp modifier），DVP （采取，简单）\n",
    "  assm — 关联标记（associative marker），DNP （开发，的）\n",
    "assmod — 关联修饰（associative modifier），NP|QP （教训，特区）\n",
    "  prep — 介词修饰（prepositional modifier） NP|VP|IP（采取，对）\n",
    " clmod — 从句修饰（clause modifier） （因为，开始）\n",
    " plmod — 介词性地点修饰（prepositional localizer modifier） （在，上）\n",
    "   asp — 时态标词（aspect marker） （做到，了）\n",
    "partmod– 分词修饰（participial modifier） 不存在\n",
    "   etc — 等关系（etc） （办法，等）\n",
    "\n",
    " \n",
    "\n",
    "中心语为实词\n",
    "  conj — 联合(conjunct)\n",
    "   cop — 系动(copula) 双指助动词？？？？\n",
    "    cc — 连接(coordination)，指中心词与连词 （开发，与）\n",
    "\n",
    " \n",
    "\n",
    "其它\n",
    "  attr — 属性关系 （是，工程）\n",
    "cordmod– 并列联合动词（coordinated verb compound） （颁布，实行）\n",
    "  mmod — 情态动词（modal verb） （得到，能）\n",
    "    ba — 把字关系\n",
    "tclaus — 时间从句 （以后，积累）\n",
    "       — semantic dependent\n",
    "   cpm — 补语化成分（complementizer），一般指“的”引导的CP （振兴，的）"
   ]
  },
  {
   "cell_type": "code",
   "execution_count": 3,
   "metadata": {},
   "outputs": [
    {
     "name": "stdout",
     "output_type": "stream",
     "text": [
      "94 84\n",
      "['quantmod', 'acomp', 'aux', 'abbrev', 'xcomp', 'ref', 'clmod', 'attr', 'amod', 'possessive', 'dobj', 'tclaus', 'num', 'prep', 'advmod', 'punct', 'assm', 'comp', 'prepc', 'xsubj', 'auxpass', 'mark', 'preconj', 'det', 'rcomp', 'ornmod', 'infmod', 'iobj', 'lobj', 'tmod', 'asp', 'dvpmod', 'prnmod', 'plmod', 'cordmod', 'cpm', 'conj', 'pass', 'complm', 'nmod', 'prt', 'ccomp', 'expl', 'predet', 'rel', 'range', 'numod', 'csubj', 'pobj', 'advcl', 'pcomp', 'parataxis', 'cop', 'npadvmod', 'dep', 'cc', 'neg', 'agent', 'assmod', 'root', 'etc', 'mmod', 'vmod', 'mwe', 'appos', 'rcmod', 'number', 'mod', 'possm', 'purpcl', 'nsubjpass', 'subj', 'clf', 'ba', 'csubjpass', 'dvpm', 'poss', 'partmod', 'nsubj', 'top', 'npsubj', 'nn', 'obj', 'lccomp']\n"
     ]
    }
   ],
   "source": [
    "relations = [\n",
    "    'abbrev','acomp','advcl','advmod','agent','amod','appos','aux','auxpass','complm','conj','csubj','csubjpass','dep','expl','infmod','mark',\n",
    "    'mwe','nn','npadvmod','nsubj','nsubjpass','num','number','parataxis','partmod','pcomp','possessive','preconj','predet','prepc','prt',\n",
    "    'punct','purpcl','quantmod','rcmod','ref','rel','root','tmod',\n",
    "    'subj','nsubj','top','npsubj','csubj','xsubj',\n",
    "    'obj','dobj','iobj','range','pobj','lobj',\n",
    "    'comp','ccomp','xcomp','acomp','acomp','lccomp','rcomp',\n",
    "    'mod','pass','tmod','rcmod','numod','ornmod','clf','nmod','amod','advmod','vmod','prnmod','neg','det','possm','poss','dvpm','dvpmod',\n",
    "    'assm','assmod','prep','clmod','plmod','asp','partmod','etc',\n",
    "    'conj','cop','cc',\n",
    "    'attr','cordmod','mmod','ba','tclaus','cpm'\n",
    "]\n",
    "ids = list(set(relations))\n",
    "print(len(relations),len(ids))\n",
    "print(ids)"
   ]
  },
  {
   "cell_type": "code",
   "execution_count": null,
   "metadata": {
    "collapsed": true
   },
   "outputs": [],
   "source": [
    "import torch.nn as nn\n",
    "import torch.nn.functional as F\n",
    "import torch as t\n",
    "import torch.optim as opt\n",
    "\n",
    "# 三个d维的embedding，分别为词嵌入、pos tag嵌入、关系嵌入\n",
    "dim = len(relations)\n",
    "\n",
    "NULL = '<NULL>'\n",
    "ROOT = '<ROOT>'"
   ]
  },
  {
   "cell_type": "code",
   "execution_count": 5,
   "metadata": {},
   "outputs": [
    {
     "name": "stdout",
     "output_type": "stream",
     "text": [
      "Executing op TensorDataset in device /job:localhost/replica:0/task:0/device:CPU:0\n",
      "Executing op FlatMapDataset in device /job:localhost/replica:0/task:0/device:CPU:0\n",
      "Executing op PaddedBatchDatasetV2 in device /job:localhost/replica:0/task:0/device:CPU:0\n",
      "Executing op PrefetchDataset in device /job:localhost/replica:0/task:0/device:CPU:0\n",
      "Executing op ParallelMapDataset in device /job:localhost/replica:0/task:0/device:CPU:0\n",
      "Executing op OptimizeDataset in device /job:localhost/replica:0/task:0/device:CPU:0\n",
      "Executing op ModelDataset in device /job:localhost/replica:0/task:0/device:CPU:0\n"
     ]
    },
    {
     "data": {
      "text/plain": [
       "['蕾姆蕾姆', '，', '这个', '人', '是', '不', '是', '傻', '？']"
      ]
     },
     "execution_count": 5,
     "metadata": {},
     "output_type": "execute_result"
    }
   ],
   "source": [
    "tokenizer('蕾姆蕾姆，这个人是不是傻？')"
   ]
  },
  {
   "cell_type": "code",
   "execution_count": null,
   "metadata": {},
   "outputs": [
    {
     "name": "stdout",
     "output_type": "stream",
     "text": [
      "Executing op HashTableV2 in device /job:localhost/replica:0/task:0/device:CPU:0\n",
      "Executing op HashTableV2 in device /job:localhost/replica:0/task:0/device:CPU:0\n"
     ]
    },
    {
     "name": "stderr",
     "output_type": "stream",
     "text": [
      "\n"
     ]
    }
   ],
   "source": [
    "tagger = hanlp.load(hanlp.pretrained.pos.CTB5_POS_RNN_FASTTEXT_ZH)\n",
    "tagger(['蜡烛', '两', '头', '烧'])"
   ]
  },
  {
   "cell_type": "code",
   "execution_count": null,
   "metadata": {
    "collapsed": true
   },
   "outputs": [],
   "source": [
    "recognizer = hanlp.load(hanlp.pretrained.ner.MSRA_NER_BERT_BASE_ZH)\n",
    "recognizer([list('蜡烛两头烧')"
   ]
  },
  {
   "cell_type": "code",
   "execution_count": 2,
   "metadata": {},
   "outputs": [
    {
     "name": "stdout",
     "output_type": "stream",
     "text": [
      "Executing op HashTableV2 in device /job:localhost/replica:0/task:0/device:CPU:0\n",
      "Executing op HashTableV2 in device /job:localhost/replica:0/task:0/device:CPU:0\n",
      "Executing op HashTableV2 in device /job:localhost/replica:0/task:0/device:CPU:0\n",
      "Executing op Fill in device /job:localhost/replica:0/task:0/device:CPU:0\n",
      "Executing op VarHandleOp in device /job:localhost/replica:0/task:0/device:CPU:0\n",
      "Executing op NotEqual in device /job:localhost/replica:0/task:0/device:CPU:0\n",
      "Executing op GreaterEqual in device /job:localhost/replica:0/task:0/device:CPU:0\n",
      "Executing op SelectV2 in device /job:localhost/replica:0/task:0/device:CPU:0\n",
      "Executing op VarHandleOp in device /job:localhost/replica:0/task:0/device:CPU:0\n",
      "Executing op ResourceGather in device /job:localhost/replica:0/task:0/device:CPU:0\n",
      "Executing op Identity in device /job:localhost/replica:0/task:0/device:CPU:0\n",
      "Executing op Identity in device /job:localhost/replica:0/task:0/device:CPU:0\n",
      "Executing op VarHandleOp in device /job:localhost/replica:0/task:0/device:CPU:0\n",
      "Executing op AddV2 in device /job:localhost/replica:0/task:0/device:CPU:0\n",
      "Executing op VarHandleOp in device /job:localhost/replica:0/task:0/device:CPU:0\n",
      "Executing op ConcatV2 in device /job:localhost/replica:0/task:0/device:CPU:0\n",
      "Executing op RandomStandardNormal in device /job:localhost/replica:0/task:0/device:CPU:0\n",
      "Executing op Qr in device /job:localhost/replica:0/task:0/device:CPU:0\n",
      "Executing op DiagPart in device /job:localhost/replica:0/task:0/device:CPU:0\n",
      "Executing op Sign in device /job:localhost/replica:0/task:0/device:CPU:0\n",
      "Executing op Transpose in device /job:localhost/replica:0/task:0/device:CPU:0\n",
      "Executing op Reshape in device /job:localhost/replica:0/task:0/device:CPU:0\n",
      "Executing op VarHandleOp in device /job:localhost/replica:0/task:0/device:CPU:0\n",
      "Executing op VarHandleOp in device /job:localhost/replica:0/task:0/device:CPU:0\n",
      "Executing op VarHandleOp in device /job:localhost/replica:0/task:0/device:CPU:0\n",
      "Executing op Shape in device /job:localhost/replica:0/task:0/device:CPU:0\n",
      "Executing op StridedSlice in device /job:localhost/replica:0/task:0/device:CPU:0\n",
      "Executing op ExpandDims in device /job:localhost/replica:0/task:0/device:CPU:0\n",
      "Executing op Transpose in device /job:localhost/replica:0/task:0/device:CPU:0\n",
      "Executing op Unpack in device /job:localhost/replica:0/task:0/device:CPU:0\n",
      "Executing op StridedSlice in device /job:localhost/replica:0/task:0/device:CPU:0\n",
      "Executing op ReadVariableOp in device /job:localhost/replica:0/task:0/device:CPU:0\n",
      "Executing op MatMul in device /job:localhost/replica:0/task:0/device:CPU:0\n",
      "Executing op BiasAdd in device /job:localhost/replica:0/task:0/device:CPU:0\n",
      "Executing op Split in device /job:localhost/replica:0/task:0/device:CPU:0\n",
      "Executing op Sigmoid in device /job:localhost/replica:0/task:0/device:CPU:0\n",
      "Executing op Tanh in device /job:localhost/replica:0/task:0/device:CPU:0\n",
      "Executing op Unpack in device /job:localhost/replica:0/task:0/device:CPU:0\n",
      "Executing op ZerosLike in device /job:localhost/replica:0/task:0/device:CPU:0\n",
      "Executing op Less in device /job:localhost/replica:0/task:0/device:CPU:0\n",
      "Executing op Tile in device /job:localhost/replica:0/task:0/device:CPU:0\n",
      "Executing op SelectV2 in device /job:localhost/replica:0/task:0/device:CPU:0\n",
      "Executing op AddV2 in device /job:localhost/replica:0/task:0/device:CPU:0\n",
      "Executing op Pack in device /job:localhost/replica:0/task:0/device:CPU:0\n",
      "Executing op ReverseV2 in device /job:localhost/replica:0/task:0/device:CPU:0\n",
      "Executing op ReverseV2 in device /job:localhost/replica:0/task:0/device:CPU:0\n",
      "Executing op VarHandleOp in device /job:localhost/replica:0/task:0/device:CPU:0\n",
      "Executing op VarHandleOp in device /job:localhost/replica:0/task:0/device:CPU:0\n",
      "Executing op VarHandleOp in device /job:localhost/replica:0/task:0/device:CPU:0\n",
      "Executing op LeakyRelu in device /job:localhost/replica:0/task:0/device:CPU:0\n",
      "Executing op VarHandleOp in device /job:localhost/replica:0/task:0/device:CPU:0\n",
      "Executing op VarHandleOp in device /job:localhost/replica:0/task:0/device:CPU:0\n",
      "Executing op VarHandleOp in device /job:localhost/replica:0/task:0/device:CPU:0\n",
      "Executing op StridedSlice in device /job:localhost/replica:0/task:0/device:CPU:0\n",
      "Executing op Einsum in device /job:localhost/replica:0/task:0/device:CPU:0\n",
      "Executing op Einsum in device /job:localhost/replica:0/task:0/device:CPU:0\n",
      "Executing op Squeeze in device /job:localhost/replica:0/task:0/device:CPU:0\n",
      "Executing op VarHandleOp in device /job:localhost/replica:0/task:0/device:CPU:0\n",
      "Executing op TensorDataset in device /job:localhost/replica:0/task:0/device:CPU:0\n",
      "Executing op FlatMapDataset in device /job:localhost/replica:0/task:0/device:CPU:0\n",
      "Executing op PrefetchDataset in device /job:localhost/replica:0/task:0/device:CPU:0\n",
      "Executing op OptimizeDataset in device /job:localhost/replica:0/task:0/device:CPU:0\n",
      "Executing op ModelDataset in device /job:localhost/replica:0/task:0/device:CPU:0\n",
      "Executing op AnonymousIteratorV2 in device /job:localhost/replica:0/task:0/device:CPU:0\n",
      "Executing op MakeIterator in device /job:localhost/replica:0/task:0/device:CPU:0\n",
      "Executing op IteratorGetNextSync in device /job:localhost/replica:0/task:0/device:CPU:0\n",
      "Executing op UniqueWithCounts in device /job:localhost/replica:0/task:0/device:CPU:0\n",
      "Executing op Cast in device /job:localhost/replica:0/task:0/device:CPU:0\n",
      "Executing op RandomShuffle in device /job:localhost/replica:0/task:0/device:CPU:0\n",
      "Executing op StridedSlice in device /job:localhost/replica:0/task:0/device:CPU:0\n",
      "Executing op ExpandDims in device /job:localhost/replica:0/task:0/device:CPU:0\n",
      "Executing op Abs in device /job:localhost/replica:0/task:0/device:CPU:0\n",
      "Executing op ArgMin in device /job:localhost/replica:0/task:0/device:CPU:0\n",
      "Executing op Pack in device /job:localhost/replica:0/task:0/device:CPU:0\n",
      "Executing op Transpose in device /job:localhost/replica:0/task:0/device:CPU:0\n",
      "Executing op GatherNd in device /job:localhost/replica:0/task:0/device:CPU:0\n",
      "Executing op Equal in device /job:localhost/replica:0/task:0/device:CPU:0\n",
      "Executing op Any in device /job:localhost/replica:0/task:0/device:CPU:0\n",
      "Executing op ExpandDims in device /job:localhost/replica:0/task:0/device:CPU:0\n",
      "Executing op Cast in device /job:localhost/replica:0/task:0/device:CPU:0\n",
      "Executing op Sum in device /job:localhost/replica:0/task:0/device:CPU:0\n",
      "Executing op RealDiv in device /job:localhost/replica:0/task:0/device:CPU:0\n",
      "Executing op Equal in device /job:localhost/replica:0/task:0/device:CPU:0\n",
      "Executing op All in device /job:localhost/replica:0/task:0/device:CPU:0\n",
      "Executing op GatherV2 in device /job:localhost/replica:0/task:0/device:CPU:0\n",
      "Executing op Unique in device /job:localhost/replica:0/task:0/device:CPU:0\n",
      "Executing op GatherV2 in device /job:localhost/replica:0/task:0/device:CPU:0\n",
      "Executing op Where in device /job:localhost/replica:0/task:0/device:CPU:0\n",
      "Executing op Squeeze in device /job:localhost/replica:0/task:0/device:CPU:0\n",
      "Executing op SplitV in device /job:localhost/replica:0/task:0/device:CPU:0\n",
      "Executing op Shape in device /job:localhost/replica:0/task:0/device:CPU:0\n",
      "Executing op LogicalAnd in device /job:localhost/replica:0/task:0/device:CPU:0\n",
      "Executing op Unpack in device /job:localhost/replica:0/task:0/device:CPU:0\n",
      "Executing op Unpack in device /job:localhost/replica:0/task:0/device:CPU:0\n",
      "Executing op Pack in device /job:localhost/replica:0/task:0/device:CPU:0\n",
      "Executing op ArgMax in device /job:localhost/replica:0/task:0/device:CPU:0\n",
      "Executing op ExpandDims in device /job:localhost/replica:0/task:0/device:CPU:0\n",
      "Executing op GatherV2 in device /job:localhost/replica:0/task:0/device:CPU:0\n",
      "Executing op NotEqual in device /job:localhost/replica:0/task:0/device:CPU:0\n",
      "Executing op Cast in device /job:localhost/replica:0/task:0/device:CPU:0\n",
      "Executing op Sum in device /job:localhost/replica:0/task:0/device:CPU:0\n",
      "Executing op StridedSlice in device /job:localhost/replica:0/task:0/device:CPU:0\n",
      "Executing op AddV2 in device /job:localhost/replica:0/task:0/device:CPU:0\n",
      "Executing op DeleteIterator in device /job:localhost/replica:0/task:0/device:CPU:0\n"
     ]
    },
    {
     "data": {
      "text/plain": [
       "[{'id': 1,\n",
       "  'form': '呵',\n",
       "  'cpos': 'AD',\n",
       "  'pos': None,\n",
       "  'head': 8,\n",
       "  'deprel': 'dep',\n",
       "  'lemma': None,\n",
       "  'feats': None,\n",
       "  'phead': None,\n",
       "  'pdeprel': None},\n",
       " {'id': 2,\n",
       "  'form': '，',\n",
       "  'cpos': 'PU',\n",
       "  'pos': None,\n",
       "  'head': 8,\n",
       "  'deprel': 'punct',\n",
       "  'lemma': None,\n",
       "  'feats': None,\n",
       "  'phead': None,\n",
       "  'pdeprel': None},\n",
       " {'id': 3,\n",
       "  'form': '愚蠢',\n",
       "  'cpos': 'VA',\n",
       "  'pos': None,\n",
       "  'head': 5,\n",
       "  'deprel': 'rcmod',\n",
       "  'lemma': None,\n",
       "  'feats': None,\n",
       "  'phead': None,\n",
       "  'pdeprel': None},\n",
       " {'id': 4,\n",
       "  'form': '的',\n",
       "  'cpos': 'DEC',\n",
       "  'pos': None,\n",
       "  'head': 3,\n",
       "  'deprel': 'cpm',\n",
       "  'lemma': None,\n",
       "  'feats': None,\n",
       "  'phead': None,\n",
       "  'pdeprel': None},\n",
       " {'id': 5,\n",
       "  'form': '人类',\n",
       "  'cpos': 'NN',\n",
       "  'pos': None,\n",
       "  'head': 8,\n",
       "  'deprel': 'nsubj',\n",
       "  'lemma': None,\n",
       "  'feats': None,\n",
       "  'phead': None,\n",
       "  'pdeprel': None},\n",
       " {'id': 6,\n",
       "  'form': '，',\n",
       "  'cpos': 'PU',\n",
       "  'pos': None,\n",
       "  'head': 8,\n",
       "  'deprel': 'punct',\n",
       "  'lemma': None,\n",
       "  'feats': None,\n",
       "  'phead': None,\n",
       "  'pdeprel': None},\n",
       " {'id': 7,\n",
       "  'form': '你',\n",
       "  'cpos': 'PN',\n",
       "  'pos': None,\n",
       "  'head': 8,\n",
       "  'deprel': 'nsubj',\n",
       "  'lemma': None,\n",
       "  'feats': None,\n",
       "  'phead': None,\n",
       "  'pdeprel': None},\n",
       " {'id': 8,\n",
       "  'form': '想',\n",
       "  'cpos': 'VV',\n",
       "  'pos': None,\n",
       "  'head': 0,\n",
       "  'deprel': 'root',\n",
       "  'lemma': None,\n",
       "  'feats': None,\n",
       "  'phead': None,\n",
       "  'pdeprel': None},\n",
       " {'id': 9,\n",
       "  'form': '跟',\n",
       "  'cpos': 'P',\n",
       "  'pos': None,\n",
       "  'head': 11,\n",
       "  'deprel': 'prep',\n",
       "  'lemma': None,\n",
       "  'feats': None,\n",
       "  'phead': None,\n",
       "  'pdeprel': None},\n",
       " {'id': 10,\n",
       "  'form': '我',\n",
       "  'cpos': 'PN',\n",
       "  'pos': None,\n",
       "  'head': 9,\n",
       "  'deprel': 'pobj',\n",
       "  'lemma': None,\n",
       "  'feats': None,\n",
       "  'phead': None,\n",
       "  'pdeprel': None},\n",
       " {'id': 11,\n",
       "  'form': '说',\n",
       "  'cpos': 'VV',\n",
       "  'pos': None,\n",
       "  'head': 8,\n",
       "  'deprel': 'ccomp',\n",
       "  'lemma': None,\n",
       "  'feats': None,\n",
       "  'phead': None,\n",
       "  'pdeprel': None},\n",
       " {'id': 12,\n",
       "  'form': '什么',\n",
       "  'cpos': 'PN',\n",
       "  'pos': None,\n",
       "  'head': 13,\n",
       "  'deprel': 'nsubj',\n",
       "  'lemma': None,\n",
       "  'feats': None,\n",
       "  'phead': None,\n",
       "  'pdeprel': None},\n",
       " {'id': 13,\n",
       "  'form': '喵',\n",
       "  'cpos': 'VV',\n",
       "  'pos': None,\n",
       "  'head': 11,\n",
       "  'deprel': 'ccomp',\n",
       "  'lemma': None,\n",
       "  'feats': None,\n",
       "  'phead': None,\n",
       "  'pdeprel': None}]"
      ]
     },
     "execution_count": 2,
     "metadata": {},
     "output_type": "execute_result"
    }
   ],
   "source": [
    "syntactic_parser = hanlp.load(hanlp.pretrained.dep.CTB7_BIAFFINE_DEP_ZH)\n",
    "syntactic_parser([('呵', 'AD'), ('，', 'PU'), ('愚蠢', 'VA'), ('的', 'DEC'), ('人类', 'NN'), ('，', 'PU'), ('你', 'PN'), ('想', 'VV'), ('跟', 'P'), ('我', 'PN'), ('说', 'VV'), ('什么', 'PN'), ('喵', 'VV')])"
   ]
  },
  {
   "cell_type": "markdown",
   "metadata": {},
   "source": [
    "## 开放域聊天"
   ]
  },
  {
   "cell_type": "code",
   "execution_count": 8,
   "metadata": {},
   "outputs": [
    {
     "data": {
      "text/html": [
       "<div>\n",
       "<style scoped>\n",
       "    .dataframe tbody tr th:only-of-type {\n",
       "        vertical-align: middle;\n",
       "    }\n",
       "\n",
       "    .dataframe tbody tr th {\n",
       "        vertical-align: top;\n",
       "    }\n",
       "\n",
       "    .dataframe thead th {\n",
       "        text-align: right;\n",
       "    }\n",
       "</style>\n",
       "<table border=\"1\" class=\"dataframe\">\n",
       "  <thead>\n",
       "    <tr style=\"text-align: right;\">\n",
       "      <th></th>\n",
       "      <th>#Question</th>\n",
       "      <th>Answer</th>\n",
       "    </tr>\n",
       "  </thead>\n",
       "  <tbody>\n",
       "    <tr>\n",
       "      <td>0</td>\n",
       "      <td>南京在哪里</td>\n",
       "      <td>在这里了</td>\n",
       "    </tr>\n",
       "    <tr>\n",
       "      <td>1</td>\n",
       "      <td>咋死???红烧还是爆炒</td>\n",
       "      <td>哦了哦了哦了,咱聊点别的吧</td>\n",
       "    </tr>\n",
       "    <tr>\n",
       "      <td>2</td>\n",
       "      <td>你个小骚货，哥哥的巴操你爽不爽？</td>\n",
       "      <td>不要这样说嘛！很不文明哦</td>\n",
       "    </tr>\n",
       "    <tr>\n",
       "      <td>3</td>\n",
       "      <td>额麻麻怎么会有那玩意儿</td>\n",
       "      <td>无法理解您的话，获取帮助请发送 help</td>\n",
       "    </tr>\n",
       "    <tr>\n",
       "      <td>4</td>\n",
       "      <td>孩纸,新年快乐</td>\n",
       "      <td>{r+}同乐同乐，大家一起乐~</td>\n",
       "    </tr>\n",
       "  </tbody>\n",
       "</table>\n",
       "</div>"
      ],
      "text/plain": [
       "          #Question                Answer\n",
       "0             南京在哪里                  在这里了\n",
       "1       咋死???红烧还是爆炒         哦了哦了哦了,咱聊点别的吧\n",
       "2  你个小骚货，哥哥的巴操你爽不爽？          不要这样说嘛！很不文明哦\n",
       "3       额麻麻怎么会有那玩意儿  无法理解您的话，获取帮助请发送 help\n",
       "4           孩纸,新年快乐       {r+}同乐同乐，大家一起乐~"
      ]
     },
     "execution_count": 8,
     "metadata": {},
     "output_type": "execute_result"
    }
   ],
   "source": [
    "import pandas as pd\n",
    "\n",
    "chat_data = pd.read_csv('./raw_chat_corpus/qingyun-11w/12万对话语料青云库.csv',sep='\\t')\n",
    "chat_data.head()"
   ]
  },
  {
   "cell_type": "markdown",
   "metadata": {},
   "source": [
    "## 语义向量提取"
   ]
  },
  {
   "cell_type": "code",
   "execution_count": 1,
   "metadata": {},
   "outputs": [
    {
     "data": {
      "text/html": [
       "<div>\n",
       "<style scoped>\n",
       "    .dataframe tbody tr th:only-of-type {\n",
       "        vertical-align: middle;\n",
       "    }\n",
       "\n",
       "    .dataframe tbody tr th {\n",
       "        vertical-align: top;\n",
       "    }\n",
       "\n",
       "    .dataframe thead th {\n",
       "        text-align: right;\n",
       "    }\n",
       "</style>\n",
       "<table border=\"1\" class=\"dataframe\">\n",
       "  <thead>\n",
       "    <tr style=\"text-align: right;\">\n",
       "      <th></th>\n",
       "      <th>no</th>\n",
       "      <th>sentence1</th>\n",
       "      <th>sentence2</th>\n",
       "      <th>similarity</th>\n",
       "    </tr>\n",
       "  </thead>\n",
       "  <tbody>\n",
       "    <tr>\n",
       "      <th>0</th>\n",
       "      <td>1</td>\n",
       "      <td>怎么更改花呗手机号码</td>\n",
       "      <td>我的花呗是以前的手机号码，怎么更改成现在的支付宝的号码手机号</td>\n",
       "      <td>1</td>\n",
       "    </tr>\n",
       "    <tr>\n",
       "      <th>1</th>\n",
       "      <td>2</td>\n",
       "      <td>也开不了花呗，就这样了？完事了</td>\n",
       "      <td>真的嘛？就是花呗付款</td>\n",
       "      <td>0</td>\n",
       "    </tr>\n",
       "    <tr>\n",
       "      <th>2</th>\n",
       "      <td>3</td>\n",
       "      <td>花呗冻结以后还能开通吗</td>\n",
       "      <td>我的条件可以开通花呗借款吗</td>\n",
       "      <td>0</td>\n",
       "    </tr>\n",
       "    <tr>\n",
       "      <th>3</th>\n",
       "      <td>4</td>\n",
       "      <td>如何得知关闭借呗</td>\n",
       "      <td>想永久关闭借呗</td>\n",
       "      <td>0</td>\n",
       "    </tr>\n",
       "    <tr>\n",
       "      <th>4</th>\n",
       "      <td>5</td>\n",
       "      <td>花呗扫码付钱</td>\n",
       "      <td>二维码扫描可以用花呗吗</td>\n",
       "      <td>0</td>\n",
       "    </tr>\n",
       "  </tbody>\n",
       "</table>\n",
       "</div>"
      ],
      "text/plain": [
       "   no        sentence1                       sentence2  similarity\n",
       "0   1       怎么更改花呗手机号码  我的花呗是以前的手机号码，怎么更改成现在的支付宝的号码手机号           1\n",
       "1   2  也开不了花呗，就这样了？完事了                      真的嘛？就是花呗付款           0\n",
       "2   3      花呗冻结以后还能开通吗                   我的条件可以开通花呗借款吗           0\n",
       "3   4         如何得知关闭借呗                         想永久关闭借呗           0\n",
       "4   5           花呗扫码付钱                     二维码扫描可以用花呗吗           0"
      ]
     },
     "execution_count": 1,
     "metadata": {},
     "output_type": "execute_result"
    }
   ],
   "source": [
    "import pandas as pd\n",
    "\n",
    "sim_data = pd.read_csv('./atec_nlp_sim_train_all.csv',sep='\\t')\n",
    "sim_data.head()"
   ]
  },
  {
   "cell_type": "code",
   "execution_count": 20,
   "metadata": {},
   "outputs": [
    {
     "data": {
      "text/html": [
       "<div>\n",
       "<style scoped>\n",
       "    .dataframe tbody tr th:only-of-type {\n",
       "        vertical-align: middle;\n",
       "    }\n",
       "\n",
       "    .dataframe tbody tr th {\n",
       "        vertical-align: top;\n",
       "    }\n",
       "\n",
       "    .dataframe thead th {\n",
       "        text-align: right;\n",
       "    }\n",
       "</style>\n",
       "<table border=\"1\" class=\"dataframe\">\n",
       "  <thead>\n",
       "    <tr style=\"text-align: right;\">\n",
       "      <th></th>\n",
       "      <th>no</th>\n",
       "      <th>sentence1</th>\n",
       "      <th>index</th>\n",
       "      <th>sentence2</th>\n",
       "      <th>similarity</th>\n",
       "    </tr>\n",
       "  </thead>\n",
       "  <tbody>\n",
       "    <tr>\n",
       "      <th>0</th>\n",
       "      <td>1</td>\n",
       "      <td>咱俩谁跟谁呀。</td>\n",
       "      <td>5</td>\n",
       "      <td>我们俩谁跟谁呀。</td>\n",
       "      <td>5.0</td>\n",
       "    </tr>\n",
       "    <tr>\n",
       "      <th>1</th>\n",
       "      <td>1</td>\n",
       "      <td>咱俩谁跟谁呀。</td>\n",
       "      <td>6</td>\n",
       "      <td>咱哥俩谁跟谁呀。</td>\n",
       "      <td>5.0</td>\n",
       "    </tr>\n",
       "    <tr>\n",
       "      <th>2</th>\n",
       "      <td>7</td>\n",
       "      <td>我拿了汪老师一本书。</td>\n",
       "      <td>14</td>\n",
       "      <td>我拿了汪老师的一本书。</td>\n",
       "      <td>5.0</td>\n",
       "    </tr>\n",
       "    <tr>\n",
       "      <th>3</th>\n",
       "      <td>2</td>\n",
       "      <td>我给了她一只笔。</td>\n",
       "      <td>15</td>\n",
       "      <td>我拿了一支笔给她。</td>\n",
       "      <td>4.0</td>\n",
       "    </tr>\n",
       "    <tr>\n",
       "      <th>4</th>\n",
       "      <td>1</td>\n",
       "      <td>咱俩谁跟谁呀。</td>\n",
       "      <td>16</td>\n",
       "      <td>咱俩关系很好。</td>\n",
       "      <td>4.0</td>\n",
       "    </tr>\n",
       "  </tbody>\n",
       "</table>\n",
       "</div>"
      ],
      "text/plain": [
       "   no   sentence1  index    sentence2  similarity\n",
       "0   1     咱俩谁跟谁呀。      5     我们俩谁跟谁呀。         5.0\n",
       "1   1     咱俩谁跟谁呀。      6     咱哥俩谁跟谁呀。         5.0\n",
       "2   7  我拿了汪老师一本书。     14  我拿了汪老师的一本书。         5.0\n",
       "3   2    我给了她一只笔。     15    我拿了一支笔给她。         4.0\n",
       "4   1     咱俩谁跟谁呀。     16      咱俩关系很好。         4.0"
      ]
     },
     "execution_count": 20,
     "metadata": {},
     "output_type": "execute_result"
    }
   ],
   "source": []
  },
  {
   "cell_type": "code",
   "execution_count": 3,
   "metadata": {
    "collapsed": true
   },
   "outputs": [],
   "source": [
    "import pandas as pd\n",
    "import numpy as np\n",
    "import torch\n",
    "import torch.nn as nn\n",
    "import torch.nn.functional as F\n",
    "import torch.optim as optim\n",
    "from torch.utils.data import Dataset, DataLoader, RandomSampler\n",
    "from torch.nn.utils.rnn import pad_sequence\n",
    "from transformers import BertTokenizer, BertModel, AdamW, BertPreTrainedModel,get_linear_schedule_with_warmup,get_cosine_with_hard_restarts_schedule_with_warmup\n",
    "from sklearn.model_selection import train_test_split\n",
    "from sklearn.metrics import roc_auc_score\n",
    "from tqdm import tqdm\n",
    "\n",
    "import os\n",
    "from typing import Tuple, List\n"
   ]
  },
  {
   "cell_type": "code",
   "execution_count": 3,
   "metadata": {
    "collapsed": true
   },
   "outputs": [],
   "source": [
    "from gensim.models import FastText\n",
    "sentences = []\n",
    "features = 64\n",
    "for index,row in sim_data.iterrows():\n",
    "    sentences.append(row['sentence1'])\n",
    "    sentences.append(row['sentence2'])\n",
    "words = FastText(sentences,  size=features, window=4, min_count=1, iter=10,min_n = 3 , max_n = 6,word_ngrams = 0)"
   ]
  },
  {
   "cell_type": "code",
   "execution_count": 4,
   "metadata": {
    "collapsed": true
   },
   "outputs": [],
   "source": [
    "from sklearn.model_selection import train_test_split\n",
    "\n",
    "device = torch.device('cpu')\n",
    "# if torch.cuda.is_available():\n",
    "#     device = torch.device('cuda:0')\n",
    "train_df, val_df = train_test_split(sim_data, test_size=0.05)"
   ]
  },
  {
   "cell_type": "code",
   "execution_count": 3,
   "metadata": {
    "collapsed": true
   },
   "outputs": [],
   "source": [
    "path = \"./\"\n",
    "device = torch.device('cpu')\n",
    "# if torch.cuda.is_available():\n",
    "#     device = torch.device('cuda:0')\n",
    "\n",
    "# tokenizer = BertTokenizer.from_pretrained('bert-base-cased')\n",
    "tokenizer = BertTokenizer.from_pretrained('bert-base-chinese')\n",
    "assert tokenizer.pad_token_id == 0, \"Padding value used in masks is set to zero, please change it everywhere\"\n",
    "train_df = pd.read_csv(os.path.join(path, 'atec_nlp_sim_train_all.csv'),sep='\\t')\n",
    "# training on a part of data for speed\n",
    "# train_df = train_df.sample(frac=0.33)\n",
    "train_df, val_df = train_test_split(train_df, test_size=0.05)"
   ]
  },
  {
   "cell_type": "code",
   "execution_count": 4,
   "metadata": {
    "collapsed": true
   },
   "outputs": [],
   "source": []
  },
  {
   "cell_type": "code",
   "execution_count": 5,
   "metadata": {
    "collapsed": true
   },
   "outputs": [],
   "source": [
    "def fasttext_generator(model):\n",
    "    def generate(sentence):\n",
    "        return sum([model[word] for word in sentence])/len(sentence)\n",
    "    return generate\n",
    "\n",
    "def bert_generator(model):\n",
    "    def generate(sentence):\n",
    "        if len(tokenizer.tokenize(sentence)) > 120: return None\n",
    "        text = tokenizer.encode(sentence, add_special_tokens=True)\n",
    "        text = torch.LongTensor(text).reshape(1,-1).to(device)\n",
    "        mask = (text != 0).float()\n",
    "#         print(text.shape)\n",
    "        return model(text, attention_mask=mask)\n",
    "    return generate"
   ]
  },
  {
   "cell_type": "code",
   "execution_count": 7,
   "metadata": {},
   "outputs": [],
   "source": [
    "def generate_sentence_vector(sentence,generator):\n",
    "    return generator(sentence)"
   ]
  },
  {
   "cell_type": "code",
   "execution_count": 7,
   "metadata": {},
   "outputs": [
    {
     "name": "stderr",
     "output_type": "stream",
     "text": [
      "0it [00:00, ?it/s]D:\\UnixlikePrograms\\Anaconda3\\lib\\site-packages\\ipykernel_launcher.py:3: DeprecationWarning: Call to deprecated `__getitem__` (Method will be removed in 4.0.0, use self.wv.__getitem__() instead).\n",
      "  This is separate from the ipykernel package so we can avoid doing imports until\n",
      "97353it [00:35, 2763.03it/s]\n",
      "5124it [00:02, 2534.44it/s]\n"
     ]
    }
   ],
   "source": [
    "class SimDataset(Dataset):\n",
    "    def __init__(self, dataframe, device):\n",
    "        self.device = device\n",
    "        self.X = []\n",
    "        self.Y = []\n",
    "        generateor = fasttext_generator(words)\n",
    "#         generateor = bert_generator(model)\n",
    "        for i, (row) in tqdm(dataframe.iterrows()):\n",
    "            ## 采用平均法得到句向量\n",
    "            text1 = generate_sentence_vector(row[\"sentence1\"],generateor)\n",
    "#             print(text1)\n",
    "            text2 = generate_sentence_vector(row[\"sentence2\"],generateor)\n",
    "            if text1 is None or text2 is None: continue\n",
    "            \n",
    "            val = [1-row[\"similarity\"]]\n",
    "#             print(val)\n",
    "            tags = torch.FloatTensor(val)\n",
    "            self.X.append([text1,text2])\n",
    "#             self.X.append(text1)\n",
    "\n",
    "            self.Y.append(tags)\n",
    "            self.X.append([text2,text1])\n",
    "            self.Y.append(tags)\n",
    "            if tags.shape[0]==0:\n",
    "                print(row[\"sentence1\"])\n",
    "                print(row[\"sentence2\"])\n",
    "                print(row[\"similarity\"])\n",
    "                print(tags)\n",
    "    \n",
    "    def __len__(self):\n",
    "        return len(self.X)\n",
    "\n",
    "    def __getitem__(self, index: int) -> Tuple[List[torch.FloatTensor], torch.LongTensor]:\n",
    "        return self.X[index], self.Y[index]\n",
    "\n",
    "def collate_fn(batch: List[Tuple[List[torch.FloatTensor], torch.LongTensor]]) \\\n",
    "        -> Tuple[torch.FloatTensor,torch.FloatTensor, torch.LongTensor]:\n",
    "    x, y = list(zip(*batch))\n",
    "#     print('-------------------')\n",
    "#     print(x)\n",
    "    x = list(zip(*x))\n",
    "    x1 = x[0]\n",
    "#     print(x1)\n",
    "#     print('-------------------')\n",
    "#     print(y)\n",
    "#     print('-------------------')\n",
    "#     print(*batch)\n",
    "    x2 = x[1]\n",
    "#     print(len(x1),type(x1))\n",
    "#     x1 = pad_sequence(x1, batch_first=True, padding_value=0)\n",
    "#     x2 = pad_sequence(x2, batch_first=True, padding_value=0)\n",
    "    y = torch.stack(y)\n",
    "    return x1, x2, y.to(device)\n",
    "\n",
    "train_dataset = SimDataset(train_df, device)\n",
    "dev_dataset = SimDataset(val_df, device)\n",
    "\n",
    "BATCH_SIZE = 8\n",
    "train_sampler = RandomSampler(train_dataset)\n",
    "dev_sampler = RandomSampler(dev_dataset)\n",
    "train_iterator = DataLoader(train_dataset, batch_size=BATCH_SIZE, sampler=train_sampler, collate_fn=collate_fn)\n",
    "dev_iterator = DataLoader(dev_dataset, batch_size=BATCH_SIZE, sampler=dev_sampler, collate_fn=collate_fn)"
   ]
  },
  {
   "cell_type": "code",
   "execution_count": 24,
   "metadata": {},
   "outputs": [
    {
     "name": "stderr",
     "output_type": "stream",
     "text": [
      "\n",
      "0it [00:00, ?it/s]\u001b[A\n",
      "83it [00:00, 783.37it/s]\u001b[A\n",
      "178it [00:00, 806.15it/s]\u001b[A\n",
      "239it [00:00, 710.29it/s]\u001b[A\n",
      "335it [00:00, 769.76it/s]\u001b[A\n",
      "397it [00:00, 671.30it/s]\u001b[A\n",
      "456it [00:00, 587.33it/s]\u001b[A\n",
      "511it [00:00, 511.16it/s]\u001b[A\n",
      "577it [00:00, 534.90it/s]\u001b[A\n",
      "646it [00:01, 570.80it/s]\u001b[A\n",
      "704it [00:01, 544.89it/s]\u001b[A\n",
      "759it [00:01, 487.49it/s]\u001b[A\n",
      "836it [00:01, 536.57it/s]\u001b[A\n",
      "893it [00:01, 540.90it/s]\u001b[A\n",
      "990it [00:01, 623.62it/s]\u001b[A\n",
      "1080it [00:01, 686.89it/s]\u001b[A\n",
      "1172it [00:01, 743.36it/s]\u001b[A\n",
      "1256it [00:01, 769.89it/s]\u001b[A\n",
      "1338it [00:02, 770.94it/s]\u001b[A\n",
      "1418it [00:02, 770.34it/s]\u001b[A\n",
      "1498it [00:02, 762.89it/s]\u001b[A\n",
      "1592it [00:02, 804.82it/s]\u001b[A\n",
      "1675it [00:02, 789.17it/s]\u001b[A\n",
      "1756it [00:02, 795.30it/s]\u001b[A\n",
      "1837it [00:02, 784.44it/s]\u001b[A\n",
      "1917it [00:02, 703.92it/s]\u001b[A\n",
      "1990it [00:02, 606.97it/s]\u001b[A\n",
      "2057it [00:03, 605.99it/s]\u001b[A\n",
      "2121it [00:03, 582.28it/s]\u001b[A\n",
      "2182it [00:03, 557.44it/s]\u001b[A\n",
      "2270it [00:03, 613.77it/s]\u001b[A\n",
      "2342it [00:03, 641.52it/s]\u001b[A\n",
      "2439it [00:03, 698.79it/s]\u001b[A\n",
      "2513it [00:03, 683.33it/s]\u001b[A\n",
      "2584it [00:03, 662.02it/s]\u001b[A\n",
      "2652it [00:03, 646.77it/s]\u001b[A\n",
      "2724it [00:04, 666.67it/s]\u001b[A\n",
      "2797it [00:04, 678.17it/s]\u001b[A\n",
      "2866it [00:04, 668.88it/s]\u001b[A\n",
      "2937it [00:04, 680.20it/s]\u001b[A\n",
      "3006it [00:04, 604.04it/s]\u001b[A\n",
      "3082it [00:04, 633.90it/s]\u001b[A\n",
      "3148it [00:04, 591.54it/s]\u001b[A\n",
      "3209it [00:04, 596.88it/s]\u001b[A\n",
      "3287it [00:04, 641.69it/s]\u001b[A\n",
      "3353it [00:05, 627.43it/s]\u001b[A\n",
      "3418it [00:05, 553.48it/s]\u001b[A\n",
      "3476it [00:05, 553.96it/s]\u001b[A\n",
      "3562it [00:05, 612.38it/s]\u001b[A\n",
      "3645it [00:05, 649.15it/s]\u001b[A\n",
      "3713it [00:05, 590.17it/s]\u001b[A\n",
      "3776it [00:05, 584.68it/s]\u001b[A\n",
      "3837it [00:05, 574.94it/s]\u001b[A\n",
      "3918it [00:05, 615.95it/s]\u001b[A\n",
      "4010it [00:06, 683.49it/s]\u001b[A\n",
      "4097it [00:06, 730.07it/s]\u001b[A\n",
      "4194it [00:06, 769.72it/s]\u001b[A\n",
      "4283it [00:06, 802.16it/s]\u001b[A\n",
      "4366it [00:06, 765.69it/s]\u001b[A\n",
      "4445it [00:06, 751.53it/s]\u001b[A\n",
      "4526it [00:06, 767.70it/s]\u001b[A\n",
      "4604it [00:06, 708.43it/s]\u001b[A\n",
      "4677it [00:06, 694.44it/s]\u001b[A\n",
      "4751it [00:07, 707.50it/s]\u001b[A\n",
      "4838it [00:07, 749.08it/s]\u001b[A\n",
      "4919it [00:07, 766.34it/s]\u001b[A\n",
      "5001it [00:07, 760.31it/s]\u001b[A\n",
      "5078it [00:07, 682.07it/s]\u001b[A\n",
      "5151it [00:07, 695.49it/s]\u001b[A\n",
      "5230it [00:07, 702.53it/s]\u001b[A\n",
      "5309it [00:07, 726.50it/s]\u001b[A\n",
      "5383it [00:07, 709.12it/s]\u001b[A\n",
      "5459it [00:08, 718.13it/s]\u001b[A\n",
      "5532it [00:08, 708.25it/s]\u001b[A\n",
      "5604it [00:08, 651.94it/s]\u001b[A\n",
      "5673it [00:08, 644.44it/s]\u001b[A\n",
      "5752it [00:08, 675.56it/s]\u001b[A\n",
      "5826it [00:08, 681.76it/s]\u001b[A\n",
      "5895it [00:08, 683.99it/s]\u001b[A\n",
      "5973it [00:08, 691.87it/s]\u001b[A\n",
      "6043it [00:08, 655.45it/s]\u001b[A\n",
      "6110it [00:09, 640.52it/s]\u001b[A\n",
      "6181it [00:09, 659.82it/s]\u001b[A\n",
      "6248it [00:09, 626.06it/s]\u001b[A\n",
      "6312it [00:09, 563.59it/s]\u001b[A\n",
      "6371it [00:09, 571.04it/s]\u001b[A\n",
      "6440it [00:09, 601.85it/s]\u001b[A\n",
      "6512it [00:09, 617.12it/s]\u001b[A\n",
      "6575it [00:09, 586.29it/s]\u001b[A\n",
      "6657it [00:09, 640.77it/s]\u001b[A\n",
      "6743it [00:10, 693.79it/s]\u001b[A\n",
      "6835it [00:10, 731.41it/s]\u001b[A\n",
      "6911it [00:10, 629.84it/s]\u001b[A\n",
      "6979it [00:10, 644.08it/s]\u001b[A\n",
      "7047it [00:10, 601.79it/s]\u001b[A\n",
      "7110it [00:10, 562.62it/s]\u001b[A\n",
      "7190it [00:10, 602.50it/s]\u001b[A\n",
      "7253it [00:10, 592.68it/s]\u001b[A\n",
      "7315it [00:11, 538.31it/s]\u001b[A\n",
      "7402it [00:11, 607.74it/s]\u001b[A\n",
      "7468it [00:11, 560.62it/s]\u001b[A\n",
      "7539it [00:11, 582.47it/s]\u001b[A\n",
      "7621it [00:11, 623.31it/s]\u001b[A\n",
      "7687it [00:11, 540.86it/s]\u001b[A\n",
      "7746it [00:11, 485.82it/s]\u001b[A\n",
      "7821it [00:11, 542.92it/s]\u001b[A\n",
      "7900it [00:11, 586.01it/s]\u001b[A\n",
      "7983it [00:12, 636.49it/s]\u001b[A\n",
      "8067it [00:12, 677.18it/s]\u001b[A\n",
      "8139it [00:12, 688.69it/s]\u001b[A\n",
      "8237it [00:12, 739.75it/s]\u001b[A\n",
      "8314it [00:12, 747.51it/s]\u001b[A\n",
      "8400it [00:12, 757.84it/s]\u001b[A\n",
      "8478it [00:12, 704.45it/s]\u001b[A\n",
      "8551it [00:12, 652.77it/s]\u001b[A\n",
      "8619it [00:12, 642.08it/s]\u001b[A\n",
      "8692it [00:13, 665.89it/s]\u001b[A\n",
      "8760it [00:13, 342.41it/s]\u001b[A\n",
      "8853it [00:13, 422.22it/s]\u001b[A\n",
      "8952it [00:13, 505.33it/s]\u001b[A\n",
      "9058it [00:13, 589.43it/s]\u001b[A\n",
      "9160it [00:13, 673.94it/s]\u001b[A\n",
      "9255it [00:14, 716.01it/s]\u001b[A\n",
      "9341it [00:14, 623.11it/s]\u001b[A\n",
      "9416it [00:14, 599.50it/s]\u001b[A\n",
      "9485it [00:14, 576.99it/s]\u001b[A\n",
      "9549it [00:14, 578.51it/s]\u001b[A\n",
      "9618it [00:14, 592.07it/s]\u001b[A\n",
      "9681it [00:14, 586.84it/s]\u001b[A\n",
      "9754it [00:14, 607.77it/s]\u001b[A\n",
      "9817it [00:15, 545.99it/s]\u001b[A\n",
      "9874it [00:15, 541.23it/s]\u001b[A\n",
      "9958it [00:15, 593.31it/s]\u001b[A\n",
      "10028it [00:15, 605.34it/s]\u001b[A\n",
      "10104it [00:15, 629.13it/s]\u001b[A\n",
      "10169it [00:15, 555.36it/s]\u001b[A\n",
      "10233it [00:15, 577.96it/s]\u001b[A\n",
      "10309it [00:15, 606.37it/s]\u001b[A\n",
      "10372it [00:15, 596.00it/s]\u001b[A\n",
      "10433it [00:16, 566.62it/s]\u001b[A\n",
      "10491it [00:16, 524.45it/s]\u001b[A\n",
      "10564it [00:16, 559.46it/s]\u001b[A\n",
      "10631it [00:16, 588.56it/s]\u001b[A\n",
      "10725it [00:16, 649.36it/s]\u001b[A\n",
      "10793it [00:16, 589.35it/s]\u001b[A\n",
      "10856it [00:16, 539.82it/s]\u001b[A\n",
      "10923it [00:16, 572.57it/s]\u001b[A\n",
      "10983it [00:17, 535.09it/s]\u001b[A\n",
      "11039it [00:17, 485.52it/s]\u001b[A\n",
      "11092it [00:17, 497.43it/s]\u001b[A\n",
      "11176it [00:17, 555.60it/s]\u001b[A\n",
      "11265it [00:17, 625.72it/s]\u001b[A\n",
      "11360it [00:17, 695.73it/s]\u001b[A\n",
      "11436it [00:17, 670.31it/s]\u001b[A\n",
      "11519it [00:17, 711.36it/s]\u001b[A\n",
      "11595it [00:18, 601.27it/s]\u001b[A\n",
      "11668it [00:18, 634.82it/s]\u001b[A\n",
      "11736it [00:18, 642.18it/s]\u001b[A\n",
      "11834it [00:18, 716.22it/s]\u001b[A\n",
      "11911it [00:18, 730.77it/s]\u001b[A\n",
      "11988it [00:18, 682.48it/s]\u001b[A\n",
      "12109it [00:18, 645.95it/s]\u001b[A\n",
      "\n",
      "0it [00:00, ?it/s]\u001b[A\n",
      "52it [00:00, 519.25it/s]\u001b[A\n",
      "98it [00:00, 499.75it/s]\u001b[A\n",
      "150it [00:00, 500.29it/s]\u001b[A\n",
      "223it [00:00, 544.85it/s]\u001b[A\n",
      "270it [00:00, 518.19it/s]\u001b[A\n",
      "339it [00:00, 559.54it/s]\u001b[A\n",
      "398it [00:00, 567.89it/s]\u001b[A\n",
      "455it [00:00, 568.46it/s]\u001b[A\n",
      "510it [00:00, 562.64it/s]\u001b[A\n",
      "565it [00:01, 514.49it/s]\u001b[A\n",
      "638it [00:01, 549.90it/s]\u001b[A\n"
     ]
    }
   ],
   "source": [
    "path = \"./\"\n",
    "device = torch.device('cpu')\n",
    "if torch.cuda.is_available():\n",
    "    device = torch.device('cuda:0')\n",
    "\n",
    "# tokenizer = BertTokenizer.from_pretrained('bert-base-cased')\n",
    "tokenizer = BertTokenizer.from_pretrained('bert-base-chinese')\n",
    "assert tokenizer.pad_token_id == 0, \"Padding value used in masks is set to zero, please change it everywhere\"\n",
    "train_df = pd.read_csv(os.path.join(path, 'simtrain_to05sts.txt'),sep='\\t')\n",
    "# training on a part of data for speed\n",
    "# train_df = train_df.sample(frac=0.33)\n",
    "train_df, val_df = train_test_split(train_df, test_size=0.05)\n",
    "class SimDataset(Dataset):\n",
    "    \n",
    "    def __init__(self, tokenizer, dataframe, device):\n",
    "        self.device = device\n",
    "        self.tokenizer = tokenizer\n",
    "        self.pad_idx = tokenizer.pad_token_id\n",
    "        self.X = []\n",
    "        self.Y = []\n",
    "        for i, (row) in tqdm(dataframe.iterrows()):\n",
    "            if len(tokenizer.tokenize(row[\"sentence1\"])) > 120:\n",
    "                continue\n",
    "            if len(tokenizer.tokenize(row[\"sentence2\"])) > 120:\n",
    "                continue\n",
    "            text1 = tokenizer.encode(row[\"sentence1\"], add_special_tokens=True)\n",
    "            text2 = tokenizer.encode(row[\"sentence2\"], add_special_tokens=True)\n",
    "\n",
    "            text1 = torch.LongTensor(text1)\n",
    "            text2 = torch.LongTensor(text2)\n",
    "            val = [1-row[\"similarity\"]]\n",
    "#             print(val)\n",
    "            tags = torch.FloatTensor(val)\n",
    "            self.X.append([text1,text2])\n",
    "#             self.X.append(text1)\n",
    "\n",
    "            self.Y.append(tags)\n",
    "            self.X.append([text2,text1])\n",
    "            self.Y.append(tags)\n",
    "            if tags.shape[0]==0:\n",
    "                print(row[\"sentence1\"])\n",
    "                print(row[\"sentence2\"])\n",
    "                print(row[\"similarity\"])\n",
    "                print(tags)\n",
    "    \n",
    "    def __len__(self):\n",
    "        return len(self.X)\n",
    "\n",
    "    def __getitem__(self, index: int) -> Tuple[torch.LongTensor, torch.LongTensor]:\n",
    "        return self.X[index], self.Y[index]\n",
    "\n",
    "def collate_fn(batch: List[Tuple[List[torch.LongTensor], torch.LongTensor]]) \\\n",
    "        -> Tuple[torch.LongTensor,torch.LongTensor, torch.LongTensor]:\n",
    "    x, y = list(zip(*batch))\n",
    "#     print('-------------------')\n",
    "#     print(x)\n",
    "    x = list(zip(*x))\n",
    "    x1 = x[0]\n",
    "#     print(x1)\n",
    "#     print('-------------------')\n",
    "#     print(y)\n",
    "#     print('-------------------')\n",
    "#     print(*batch)\n",
    "    x2 = x[1]\n",
    "#     print(len(x1),type(x1))\n",
    "    x1 = pad_sequence(x1, batch_first=True, padding_value=0)\n",
    "    x2 = pad_sequence(x2, batch_first=True, padding_value=0)\n",
    "    y = torch.stack(y)\n",
    "    return x1.to(device), x2.to(device), y.to(device)\n",
    "\n",
    "train_dataset = SimDataset(tokenizer, train_df, device)\n",
    "dev_dataset = SimDataset(tokenizer, val_df, device)\n",
    "\n",
    "BATCH_SIZE = 8\n",
    "train_sampler = RandomSampler(train_dataset)\n",
    "dev_sampler = RandomSampler(dev_dataset)\n",
    "train_iterator = DataLoader(train_dataset, batch_size=BATCH_SIZE, sampler=train_sampler, collate_fn=collate_fn)\n",
    "dev_iterator = DataLoader(dev_dataset, batch_size=BATCH_SIZE, sampler=dev_sampler, collate_fn=collate_fn)"
   ]
  },
  {
   "cell_type": "code",
   "execution_count": 25,
   "metadata": {
    "collapsed": true
   },
   "outputs": [],
   "source": [
    "class FastTextClassifier(nn.Module):\n",
    "    \n",
    "    def __init__(self,features):\n",
    "        super(FastTextClassifier, self).__init__()\n",
    "        self.linear_left_1 = nn.Linear(features, 128)\n",
    "        self.relu_left = nn.ReLU()\n",
    "        self.linear_left_2 = nn.Linear(128, 64)\n",
    "\n",
    "        self.linear_right_1 = nn.Linear(features, 128)\n",
    "        self.relu_right = nn.ReLU()\n",
    "        self.linear_right_2 = nn.Linear(128, 64)\n",
    "        self.softsign = nn.Softsign()\n",
    "#         self.classifier = torch.Linear(128,2)\n",
    "        \n",
    "    def forward(self, input_ids1, input_ids2, token_type_ids=None, position_ids=None, head_mask=None,\n",
    "            labels=None):\n",
    "#         print(input_ids1)\n",
    "#         print('-----------')\n",
    "#         print(labels)\n",
    "        output1 = torch.FloatTensor(list(input_ids1))\n",
    "        output1 = self.linear_left_2(self.relu_left(self.linear_left_1(output1))) # batch, 2 \n",
    "#         output1 = torch.sigmoid(output1)\n",
    "        if input_ids2!=None:\n",
    "            output2 = torch.FloatTensor(list(input_ids2))\n",
    "            output2 = self.linear_right_2(self.relu_right(self.linear_right_1(output2))) # batch, 2\n",
    "#         output2 = torch.sigmoid(output2)\n",
    "\n",
    "            cls_output = self.softsign(F.pairwise_distance(output2,output1))\n",
    "            criterion = nn.BCELoss()\n",
    "            loss = 0\n",
    "            if labels is not None:\n",
    "                loss = criterion(cls_output, labels)\n",
    "            return loss, cls_output\n",
    "        else:\n",
    "            return output1\n",
    "\n",
    "model = FastTextClassifier(features).to(device)"
   ]
  },
  {
   "cell_type": "code",
   "execution_count": 19,
   "metadata": {},
   "outputs": [],
   "source": [
    "g_input1=[]\n",
    "g_input2=[]\n",
    "g_label=[]\n",
    "class BertClassifier(BertPreTrainedModel):\n",
    "    \n",
    "    def __init__(self, config):\n",
    "        super(BertClassifier, self).__init__(config)\n",
    "        self.bert = BertModel(config)\n",
    "        self.linear1 = nn.Linear(config.hidden_size, 128)\n",
    "        self.relu1 = nn.ReLU()\n",
    "        self.net1 = nn.Linear(128,64)\n",
    "        self.linear2 = nn.Linear(config.hidden_size, 128)\n",
    "        self.relu2 = nn.ReLU()\n",
    "        self.net2 = nn.Linear(128,64)\n",
    "        self.softsign = nn.Softsign()\n",
    "#         self.classifier = torch.Linear(128,2)\n",
    "        \n",
    "    def forward(self, input_ids1, input_ids2=None, attention_mask1=None, attention_mask2=None, token_type_ids=None, position_ids=None, head_mask=None,\n",
    "                \n",
    "            labels=None):\n",
    "        outputs1 = self.bert(input_ids1,\n",
    "                               attention_mask=attention_mask1,\n",
    "                               token_type_ids=token_type_ids,\n",
    "                               position_ids=position_ids,\n",
    "                               head_mask=head_mask)\n",
    "        output1 = self.net1(self.relu1(self.linear1(outputs1[1]))) # batch, 2 \n",
    "        if input_ids2 is not None:\n",
    "            outputs2 = self.bert(input_ids2,\n",
    "                       attention_mask=attention_mask2,\n",
    "                       token_type_ids=token_type_ids,\n",
    "                       position_ids=position_ids,\n",
    "                       head_mask=head_mask)\n",
    "            output2 = self.net2(self.relu2(self.linear2(outputs2[1]))) # batch, 2\n",
    "            cls_output = self.softsign(F.pairwise_distance(output2,output1))\n",
    "            criterion = nn.MSELoss()\n",
    "#             criterion = nn.BCELoss()\n",
    "            loss = 0\n",
    "            if labels is not None:\n",
    "                loss = criterion(cls_output, labels)\n",
    "            g_input1.append(outputs1[1].cpu().numpy().tolist())\n",
    "            g_input2.append(outputs2[1].cpu().numpy().tolist())\n",
    "            g_label.append(labels.cpu().numpy().tolist())\n",
    "            return loss, cls_output\n",
    "        else:\n",
    "            return output1\n",
    "        \n",
    "    def save(self,filename):\n",
    "        torch.save(self.state_dict(),filename)\n",
    "        # torch.save(self.net2, filename)\n",
    "        \n",
    "    def load(self,filename):\n",
    "        self.load_state_dict(torch.load(PATH))\n",
    "        self.eval()\n",
    "        # self.net1 = torch.load(filename)\n",
    "\n",
    "model = BertClassifier.from_pretrained('bert-base-chinese').to(device)\n",
    "# model = BertClassifier.from_pretrained('bert-base-cased').to(device)"
   ]
  },
  {
   "cell_type": "code",
   "execution_count": 16,
   "metadata": {
    "collapsed": true
   },
   "outputs": [],
   "source": [
    "def train(model, iterator, optimizer, scheduler):\n",
    "    model.train()\n",
    "    total_loss = 0\n",
    "#     print(type(iterator))\n",
    "    for x1,x2,y in tqdm(iterator):\n",
    "        optimizer.zero_grad()\n",
    "\n",
    "        loss, outputs = model(x1, x2, labels=y)\n",
    "        total_loss += loss.item()\n",
    "        loss.backward()\n",
    "        optimizer.step()\n",
    "        scheduler.step()\n",
    "    avg_loss = total_loss / len(iterator)\n",
    "    print(f\"Train loss {avg_loss}\")\n",
    "    return avg_loss\n",
    "\n",
    "def evaluate(model, iterator):\n",
    "    model.eval()\n",
    "    pred = []\n",
    "    true = []\n",
    "    with torch.no_grad():\n",
    "        total_loss = 0\n",
    "        for x1,x2, y in tqdm(iterator):\n",
    "            loss, outputs = model(x1,x2, labels=y)\n",
    "            total_loss += loss\n",
    "            true += y.cpu().numpy().tolist()\n",
    "            pred += outputs.cpu().numpy().tolist()\n",
    "    true = np.array(true)\n",
    "    pred = np.array(pred)\n",
    "#     print(true.reshape(1,-1))\n",
    "#     print('-----------')\n",
    "#     print(pred)\n",
    "    for i, name in enumerate(['similarity']):\n",
    "        val = roc_auc_score(true.reshape(1,-1)[0], pred)\n",
    "        print(f\"{name} roc_auc {val}\")\n",
    "    avg_loss = total_loss / len(iterator)\n",
    "    print(f\"Evaluate loss {avg_loss}\")\n",
    "    return avg_loss,val"
   ]
  },
  {
   "cell_type": "code",
   "execution_count": 25,
   "metadata": {},
   "outputs": [],
   "source": [
    "def train(model, iterator, optimizer, scheduler):\n",
    "    model.train()\n",
    "    total_loss = 0\n",
    "#     print(type(iterator))\n",
    "    for x1,x2,y in tqdm(iterator):\n",
    "        optimizer.zero_grad()\n",
    "        mask1 = (x1 != 0).float()\n",
    "        mask2 = (x2 != 0).float()\n",
    "#         print(x1.shape)\n",
    "#         print(x1)\n",
    "#         print('+++++++++++++++++++++++++++++++++++')\n",
    "#         print(x2)\n",
    "#         try:\n",
    "        loss, outputs = model(x1, x2, attention_mask1=mask1,attention_mask2 = mask2, labels=y)\n",
    "#         except:\n",
    "#             print(x1)\n",
    "#             print('++++++++++')\n",
    "#             print(x2)\n",
    "        total_loss += loss.item()\n",
    "        loss.backward()\n",
    "        optimizer.step()\n",
    "        scheduler.step()\n",
    "    avg_loss = total_loss / len(iterator)\n",
    "    print(f\"Train loss {avg_loss}\")\n",
    "    return avg_loss\n",
    "\n",
    "def count_score(true,pred):\n",
    "    cnt = np.sum((true-pred)==0)\n",
    "#     print(cnt,len(true))\n",
    "#     print(true.shape,true)\n",
    "#     print('---------')\n",
    "#     print(pred.shape,pred)\n",
    "    return cnt/len(true)\n",
    "\n",
    "def evaluate(model, iterator):\n",
    "    model.eval()\n",
    "    pred = []\n",
    "    true = []\n",
    "    with torch.no_grad():\n",
    "        total_loss = 0\n",
    "        for x1,x2, y in tqdm(iterator):\n",
    "            mask1 = (x1 != 0).float()\n",
    "            mask2 = (x2 != 0).float()\n",
    "            loss, outputs = model(x1, x2, attention_mask1=mask1,attention_mask2 = mask2, labels=y)\n",
    "            total_loss += loss\n",
    "            true += y.cpu().numpy().tolist()\n",
    "            pred += outputs.cpu().numpy().tolist()\n",
    "#     true = np.array(true)\n",
    "#     pred = np.array(pred)\n",
    "    true = 5*np.array(true).reshape(1,-1)[0]\n",
    "    pred = np.rint(5*np.array(pred)).reshape(true.shape)\n",
    "    for i, name in enumerate(['similarity']):\n",
    "        val = count_score(true, pred)\n",
    "#         val = roc_auc_score(true.reshape(1,-1)[0], pred)\n",
    "        print(f\"{name} score {val}\")\n",
    "    avg_loss = total_loss / len(iterator)\n",
    "    print(f\"Evaluate loss {avg_loss}\")\n",
    "    return avg_loss,val"
   ]
  },
  {
   "cell_type": "code",
   "execution_count": 26,
   "metadata": {},
   "outputs": [],
   "source": [
    "no_decay = ['bias', 'LayerNorm.weight']\n",
    "optimizer_grouped_parameters = [\n",
    "{'params': [p for n, p in model.named_parameters() if not any(nd in n for nd in no_decay)], 'weight_decay': 0.01},\n",
    "{'params': [p for n, p in model.named_parameters() if any(nd in n for nd in no_decay)], 'weight_decay': 0.0}\n",
    "]\n",
    "optimizer = AdamW(optimizer_grouped_parameters, lr=2e-5, eps=1e-8)"
   ]
  },
  {
   "cell_type": "code",
   "execution_count": 27,
   "metadata": {},
   "outputs": [],
   "source": [
    "EPOCH_NUM = 50\n",
    "\n",
    "losses = []\n",
    "val_losses = []\n",
    "rocs = []\n",
    "start_epoch = -1\n",
    "\n",
    "checkpoint_name='checkpoint.pkl'"
   ]
  },
  {
   "cell_type": "code",
   "execution_count": 16,
   "metadata": {
    "collapsed": true
   },
   "outputs": [],
   "source": [
    "## 加载模式再训练\n",
    "checkpoint = torch.load(checkpoint_name)\n",
    "model.load_state_dict(checkpoint['model'])\n",
    "optimizer.load_state_dict(checkpoint['optimizer'])\n",
    "start_epoch = checkpoint['epoch']\n",
    "losses = checkpoint['train_loss']\n",
    "val_losses = checkpoint['val_loss']\n",
    "rocs = checkpoint['auc']"
   ]
  },
  {
   "cell_type": "code",
   "execution_count": 28,
   "metadata": {},
   "outputs": [
    {
     "name": "stdout",
     "output_type": "stream",
     "text": [
      "current epoch: -1\n",
      "0\n",
      "148401 1499\n"
     ]
    }
   ],
   "source": [
    "print(f\"current epoch: {start_epoch}\")\n",
    "print(len(losses))\n",
    "# triangular learning rate, linearly grows untill half of first epoch, then linearly decays \n",
    "warmup_steps = int(0.5 * len(train_iterator))\n",
    "total_steps = len(train_iterator) * EPOCH_NUM - warmup_steps\n",
    "print(total_steps,warmup_steps)\n",
    "scheduler = get_cosine_with_hard_restarts_schedule_with_warmup(optimizer, num_warmup_steps=warmup_steps, num_training_steps=total_steps,last_epoch=start_epoch)\n",
    "# scheduler = get_linear_schedule_with_warmuparmup(optimizer, num_warmup_steps=warmup_steps, num_training_steps=total_steps,last_epoch=start_epoch)"
   ]
  },
  {
   "cell_type": "code",
   "execution_count": 20,
   "metadata": {},
   "outputs": [],
   "source": [
    "# 保存以便下次训练\n",
    "try:\n",
    "    if start_epoch is None: start_epoch = 0\n",
    "except NameError:\n",
    "    start_epoch = 0\n",
    "    \n",
    "def save_checkpoint(model,optimizer,start_epoch,filename):\n",
    "    all_state = {'model':model.state_dict(), 'optimizer':optimizer.state_dict(), 'epoch': start_epoch,'train_loss':losses,'val_loss':val_losses,'auc':rocs}\n",
    "\n",
    "    torch.save(all_state, filename)"
   ]
  },
  {
   "cell_type": "code",
   "execution_count": 30,
   "metadata": {},
   "outputs": [
    {
     "name": "stderr",
     "output_type": "stream",
     "text": [
      "\n",
      "  0%|                                                                                         | 0/2998 [00:00<?, ?it/s]\u001b[A"
     ]
    },
    {
     "name": "stdout",
     "output_type": "stream",
     "text": [
      "================================================== EPOCH 0 ==================================================\n"
     ]
    },
    {
     "name": "stderr",
     "output_type": "stream",
     "text": [
      "\n"
     ]
    },
    {
     "ename": "RuntimeError",
     "evalue": "Can't call numpy() on Variable that requires grad. Use var.detach().numpy() instead.",
     "output_type": "error",
     "traceback": [
      "\u001b[1;31m---------------------------------------------------------------------------\u001b[0m",
      "\u001b[1;31mRuntimeError\u001b[0m                              Traceback (most recent call last)",
      "\u001b[1;32m<ipython-input-30-cd76163bf948>\u001b[0m in \u001b[0;36m<module>\u001b[1;34m()\u001b[0m\n\u001b[0;32m      1\u001b[0m \u001b[1;32mfor\u001b[0m \u001b[0mi\u001b[0m \u001b[1;32min\u001b[0m \u001b[0mrange\u001b[0m\u001b[1;33m(\u001b[0m\u001b[0mEPOCH_NUM\u001b[0m\u001b[1;33m-\u001b[0m\u001b[0mstart_epoch\u001b[0m\u001b[1;33m-\u001b[0m\u001b[1;36m1\u001b[0m\u001b[1;33m)\u001b[0m\u001b[1;33m:\u001b[0m\u001b[1;33m\u001b[0m\u001b[0m\n\u001b[0;32m      2\u001b[0m     \u001b[0mprint\u001b[0m\u001b[1;33m(\u001b[0m\u001b[1;34m'='\u001b[0m \u001b[1;33m*\u001b[0m \u001b[1;36m50\u001b[0m\u001b[1;33m,\u001b[0m \u001b[1;34mf\"EPOCH {start_epoch+i+1}\"\u001b[0m\u001b[1;33m,\u001b[0m \u001b[1;34m'='\u001b[0m \u001b[1;33m*\u001b[0m \u001b[1;36m50\u001b[0m\u001b[1;33m)\u001b[0m\u001b[1;33m\u001b[0m\u001b[0m\n\u001b[1;32m----> 3\u001b[1;33m     \u001b[0ml\u001b[0m \u001b[1;33m=\u001b[0m \u001b[0mtrain\u001b[0m\u001b[1;33m(\u001b[0m\u001b[0mmodel\u001b[0m\u001b[1;33m,\u001b[0m \u001b[0mtrain_iterator\u001b[0m\u001b[1;33m,\u001b[0m \u001b[0moptimizer\u001b[0m\u001b[1;33m,\u001b[0m \u001b[0mscheduler\u001b[0m\u001b[1;33m)\u001b[0m\u001b[1;33m\u001b[0m\u001b[0m\n\u001b[0m\u001b[0;32m      4\u001b[0m     \u001b[0mlosses\u001b[0m\u001b[1;33m.\u001b[0m\u001b[0mappend\u001b[0m\u001b[1;33m(\u001b[0m\u001b[0ml\u001b[0m\u001b[1;33m)\u001b[0m\u001b[1;33m\u001b[0m\u001b[0m\n\u001b[0;32m      5\u001b[0m     \u001b[0ml\u001b[0m\u001b[1;33m,\u001b[0m\u001b[0mr\u001b[0m \u001b[1;33m=\u001b[0m \u001b[0mevaluate\u001b[0m\u001b[1;33m(\u001b[0m\u001b[0mmodel\u001b[0m\u001b[1;33m,\u001b[0m \u001b[0mdev_iterator\u001b[0m\u001b[1;33m)\u001b[0m\u001b[1;33m\u001b[0m\u001b[0m\n",
      "\u001b[1;32m<ipython-input-25-bbc7e7c1d78b>\u001b[0m in \u001b[0;36mtrain\u001b[1;34m(model, iterator, optimizer, scheduler)\u001b[0m\n\u001b[0;32m     12\u001b[0m \u001b[1;31m#         print(x2)\u001b[0m\u001b[1;33m\u001b[0m\u001b[1;33m\u001b[0m\u001b[0m\n\u001b[0;32m     13\u001b[0m \u001b[1;31m#         try:\u001b[0m\u001b[1;33m\u001b[0m\u001b[1;33m\u001b[0m\u001b[0m\n\u001b[1;32m---> 14\u001b[1;33m         \u001b[0mloss\u001b[0m\u001b[1;33m,\u001b[0m \u001b[0moutputs\u001b[0m \u001b[1;33m=\u001b[0m \u001b[0mmodel\u001b[0m\u001b[1;33m(\u001b[0m\u001b[0mx1\u001b[0m\u001b[1;33m,\u001b[0m \u001b[0mx2\u001b[0m\u001b[1;33m,\u001b[0m \u001b[0mattention_mask1\u001b[0m\u001b[1;33m=\u001b[0m\u001b[0mmask1\u001b[0m\u001b[1;33m,\u001b[0m\u001b[0mattention_mask2\u001b[0m \u001b[1;33m=\u001b[0m \u001b[0mmask2\u001b[0m\u001b[1;33m,\u001b[0m \u001b[0mlabels\u001b[0m\u001b[1;33m=\u001b[0m\u001b[0my\u001b[0m\u001b[1;33m)\u001b[0m\u001b[1;33m\u001b[0m\u001b[0m\n\u001b[0m\u001b[0;32m     15\u001b[0m \u001b[1;31m#         except:\u001b[0m\u001b[1;33m\u001b[0m\u001b[1;33m\u001b[0m\u001b[0m\n\u001b[0;32m     16\u001b[0m \u001b[1;31m#             print(x1)\u001b[0m\u001b[1;33m\u001b[0m\u001b[1;33m\u001b[0m\u001b[0m\n",
      "\u001b[1;32mD:\\UnixlikePrograms\\Anaconda3\\lib\\site-packages\\torch\\nn\\modules\\module.py\u001b[0m in \u001b[0;36m__call__\u001b[1;34m(self, *input, **kwargs)\u001b[0m\n\u001b[0;32m    530\u001b[0m             \u001b[0mresult\u001b[0m \u001b[1;33m=\u001b[0m \u001b[0mself\u001b[0m\u001b[1;33m.\u001b[0m\u001b[0m_slow_forward\u001b[0m\u001b[1;33m(\u001b[0m\u001b[1;33m*\u001b[0m\u001b[0minput\u001b[0m\u001b[1;33m,\u001b[0m \u001b[1;33m**\u001b[0m\u001b[0mkwargs\u001b[0m\u001b[1;33m)\u001b[0m\u001b[1;33m\u001b[0m\u001b[0m\n\u001b[0;32m    531\u001b[0m         \u001b[1;32melse\u001b[0m\u001b[1;33m:\u001b[0m\u001b[1;33m\u001b[0m\u001b[0m\n\u001b[1;32m--> 532\u001b[1;33m             \u001b[0mresult\u001b[0m \u001b[1;33m=\u001b[0m \u001b[0mself\u001b[0m\u001b[1;33m.\u001b[0m\u001b[0mforward\u001b[0m\u001b[1;33m(\u001b[0m\u001b[1;33m*\u001b[0m\u001b[0minput\u001b[0m\u001b[1;33m,\u001b[0m \u001b[1;33m**\u001b[0m\u001b[0mkwargs\u001b[0m\u001b[1;33m)\u001b[0m\u001b[1;33m\u001b[0m\u001b[0m\n\u001b[0m\u001b[0;32m    533\u001b[0m         \u001b[1;32mfor\u001b[0m \u001b[0mhook\u001b[0m \u001b[1;32min\u001b[0m \u001b[0mself\u001b[0m\u001b[1;33m.\u001b[0m\u001b[0m_forward_hooks\u001b[0m\u001b[1;33m.\u001b[0m\u001b[0mvalues\u001b[0m\u001b[1;33m(\u001b[0m\u001b[1;33m)\u001b[0m\u001b[1;33m:\u001b[0m\u001b[1;33m\u001b[0m\u001b[0m\n\u001b[0;32m    534\u001b[0m             \u001b[0mhook_result\u001b[0m \u001b[1;33m=\u001b[0m \u001b[0mhook\u001b[0m\u001b[1;33m(\u001b[0m\u001b[0mself\u001b[0m\u001b[1;33m,\u001b[0m \u001b[0minput\u001b[0m\u001b[1;33m,\u001b[0m \u001b[0mresult\u001b[0m\u001b[1;33m)\u001b[0m\u001b[1;33m\u001b[0m\u001b[0m\n",
      "\u001b[1;32m<ipython-input-19-ab9f96afe4e4>\u001b[0m in \u001b[0;36mforward\u001b[1;34m(self, input_ids1, input_ids2, attention_mask1, attention_mask2, token_type_ids, position_ids, head_mask, labels)\u001b[0m\n\u001b[0;32m     36\u001b[0m \u001b[1;31m#             criterion = nn.BCELoss()\u001b[0m\u001b[1;33m\u001b[0m\u001b[1;33m\u001b[0m\u001b[0m\n\u001b[0;32m     37\u001b[0m             \u001b[0mloss\u001b[0m \u001b[1;33m=\u001b[0m \u001b[1;36m0\u001b[0m\u001b[1;33m\u001b[0m\u001b[0m\n\u001b[1;32m---> 38\u001b[1;33m             \u001b[0mg_input1\u001b[0m\u001b[1;33m.\u001b[0m\u001b[0mappend\u001b[0m\u001b[1;33m(\u001b[0m\u001b[0moutputs1\u001b[0m\u001b[1;33m[\u001b[0m\u001b[1;36m1\u001b[0m\u001b[1;33m]\u001b[0m\u001b[1;33m.\u001b[0m\u001b[0mcpu\u001b[0m\u001b[1;33m(\u001b[0m\u001b[1;33m)\u001b[0m\u001b[1;33m.\u001b[0m\u001b[0mnumpy\u001b[0m\u001b[1;33m(\u001b[0m\u001b[1;33m)\u001b[0m\u001b[1;33m.\u001b[0m\u001b[0mtolist\u001b[0m\u001b[1;33m(\u001b[0m\u001b[1;33m)\u001b[0m\u001b[1;33m)\u001b[0m\u001b[1;33m\u001b[0m\u001b[0m\n\u001b[0m\u001b[0;32m     39\u001b[0m             \u001b[0mg_input2\u001b[0m\u001b[1;33m.\u001b[0m\u001b[0mappend\u001b[0m\u001b[1;33m(\u001b[0m\u001b[0moutputs2\u001b[0m\u001b[1;33m[\u001b[0m\u001b[1;36m1\u001b[0m\u001b[1;33m]\u001b[0m\u001b[1;33m.\u001b[0m\u001b[0mcpu\u001b[0m\u001b[1;33m(\u001b[0m\u001b[1;33m)\u001b[0m\u001b[1;33m.\u001b[0m\u001b[0mnumpy\u001b[0m\u001b[1;33m(\u001b[0m\u001b[1;33m)\u001b[0m\u001b[1;33m.\u001b[0m\u001b[0mtolist\u001b[0m\u001b[1;33m(\u001b[0m\u001b[1;33m)\u001b[0m\u001b[1;33m)\u001b[0m\u001b[1;33m\u001b[0m\u001b[0m\n\u001b[0;32m     40\u001b[0m             \u001b[0mg_label\u001b[0m\u001b[1;33m.\u001b[0m\u001b[0mappend\u001b[0m\u001b[1;33m(\u001b[0m\u001b[0mlabels\u001b[0m\u001b[1;33m.\u001b[0m\u001b[0mcpu\u001b[0m\u001b[1;33m(\u001b[0m\u001b[1;33m)\u001b[0m\u001b[1;33m.\u001b[0m\u001b[0mnumpy\u001b[0m\u001b[1;33m(\u001b[0m\u001b[1;33m)\u001b[0m\u001b[1;33m.\u001b[0m\u001b[0mtolist\u001b[0m\u001b[1;33m(\u001b[0m\u001b[1;33m)\u001b[0m\u001b[1;33m)\u001b[0m\u001b[1;33m\u001b[0m\u001b[0m\n",
      "\u001b[1;31mRuntimeError\u001b[0m: Can't call numpy() on Variable that requires grad. Use var.detach().numpy() instead."
     ]
    }
   ],
   "source": [
    "for i in range(EPOCH_NUM-start_epoch-1):\n",
    "    print('=' * 50, f\"EPOCH {start_epoch+i+1}\", '=' * 50)\n",
    "    l = train(model, train_iterator, optimizer, scheduler)\n",
    "    losses.append(l)\n",
    "    l,r = evaluate(model, dev_iterator)\n",
    "    val_losses.append(l)\n",
    "    rocs.append(r)\n",
    "    save_checkpoint(model,optimizer,i,checkpoint_name)"
   ]
  },
  {
   "cell_type": "code",
   "execution_count": 28,
   "metadata": {
    "collapsed": true
   },
   "outputs": [],
   "source": [
    "save_checkpoint(model,optimizer,start_epoch+i,'checkpoint.pkl')"
   ]
  },
  {
   "cell_type": "code",
   "execution_count": 12,
   "metadata": {},
   "outputs": [
    {
     "data": {
      "text/plain": [
       "<matplotlib.legend.Legend at 0x1b252e0f518>"
      ]
     },
     "execution_count": 12,
     "metadata": {},
     "output_type": "execute_result"
    },
    {
     "data": {
      "image/png": "[encoded data removed]",
      "text/plain": [
       "<Figure size 432x288 with 2 Axes>"
      ]
     },
     "metadata": {},
     "output_type": "display_data"
    }
   ],
   "source": [
    "import matplotlib.pyplot as plt\n",
    "\n",
    "x = range(len(losses))\n",
    "\n",
    "plt.figure(1)\n",
    "\n",
    "ax1 = plt.subplot(1,2,1)\n",
    "ax2 = plt.subplot(1,2,2)\n",
    "\n",
    "plt.sca(ax1)\n",
    "plt.plot(x, losses, 'r',label='train loss')\n",
    "plt.plot(x, val_losses, ms=10,label='validate loss')\n",
    "plt.legend()  # 让图例生效\n",
    "\n",
    "plt.sca(ax2)\n",
    "plt.plot(x, rocs, 'g',ms=10,label='auc')\n",
    "\n",
    "plt.legend()  # 让图例生效\n",
    "# plt.show()"
   ]
  },
  {
   "cell_type": "code",
   "execution_count": 13,
   "metadata": {},
   "outputs": [
    {
     "name": "stdout",
     "output_type": "stream",
     "text": [
      "[0.46492970097621616, 0.47555014945817975, 0.47543053993081064, 0.4753915272826671]\n"
     ]
    }
   ],
   "source": [
    "print(losses)"
   ]
  },
  {
   "cell_type": "markdown",
   "metadata": {},
   "source": [
    "## 语义向量提取2（更换聊天数据集）"
   ]
  },
  {
   "cell_type": "code",
   "execution_count": 1,
   "metadata": {},
   "outputs": [
    {
     "data": {
      "text/html": [
       "<div>\n",
       "<style scoped>\n",
       "    .dataframe tbody tr th:only-of-type {\n",
       "        vertical-align: middle;\n",
       "    }\n",
       "\n",
       "    .dataframe tbody tr th {\n",
       "        vertical-align: top;\n",
       "    }\n",
       "\n",
       "    .dataframe thead th {\n",
       "        text-align: right;\n",
       "    }\n",
       "</style>\n",
       "<table border=\"1\" class=\"dataframe\">\n",
       "  <thead>\n",
       "    <tr style=\"text-align: right;\">\n",
       "      <th></th>\n",
       "      <th>no</th>\n",
       "      <th>sentence1</th>\n",
       "      <th>index</th>\n",
       "      <th>sentence2</th>\n",
       "      <th>similarity</th>\n",
       "    </tr>\n",
       "  </thead>\n",
       "  <tbody>\n",
       "    <tr>\n",
       "      <th>0</th>\n",
       "      <td>1</td>\n",
       "      <td>咱俩谁跟谁呀。</td>\n",
       "      <td>5</td>\n",
       "      <td>我们俩谁跟谁呀。</td>\n",
       "      <td>5.0</td>\n",
       "    </tr>\n",
       "    <tr>\n",
       "      <th>1</th>\n",
       "      <td>1</td>\n",
       "      <td>咱俩谁跟谁呀。</td>\n",
       "      <td>6</td>\n",
       "      <td>咱哥俩谁跟谁呀。</td>\n",
       "      <td>5.0</td>\n",
       "    </tr>\n",
       "    <tr>\n",
       "      <th>2</th>\n",
       "      <td>7</td>\n",
       "      <td>我拿了汪老师一本书。</td>\n",
       "      <td>14</td>\n",
       "      <td>我拿了汪老师的一本书。</td>\n",
       "      <td>5.0</td>\n",
       "    </tr>\n",
       "    <tr>\n",
       "      <th>3</th>\n",
       "      <td>2</td>\n",
       "      <td>我给了她一只笔。</td>\n",
       "      <td>15</td>\n",
       "      <td>我拿了一支笔给她。</td>\n",
       "      <td>4.0</td>\n",
       "    </tr>\n",
       "    <tr>\n",
       "      <th>4</th>\n",
       "      <td>1</td>\n",
       "      <td>咱俩谁跟谁呀。</td>\n",
       "      <td>16</td>\n",
       "      <td>咱俩关系很好。</td>\n",
       "      <td>4.0</td>\n",
       "    </tr>\n",
       "  </tbody>\n",
       "</table>\n",
       "</div>"
      ],
      "text/plain": [
       "   no   sentence1  index    sentence2  similarity\n",
       "0   1     咱俩谁跟谁呀。      5     我们俩谁跟谁呀。         5.0\n",
       "1   1     咱俩谁跟谁呀。      6     咱哥俩谁跟谁呀。         5.0\n",
       "2   7  我拿了汪老师一本书。     14  我拿了汪老师的一本书。         5.0\n",
       "3   2    我给了她一只笔。     15    我拿了一支笔给她。         4.0\n",
       "4   1     咱俩谁跟谁呀。     16      咱俩关系很好。         4.0"
      ]
     },
     "execution_count": 1,
     "metadata": {},
     "output_type": "execute_result"
    }
   ],
   "source": [
    "import pandas as pd\n",
    "live_data = pd.read_csv('./simtrain_to05sts.txt',sep='\\t')\n",
    "live_data.head()"
   ]
  },
  {
   "cell_type": "code",
   "execution_count": 2,
   "metadata": {},
   "outputs": [],
   "source": [
    "import numpy as np\n",
    "import torch\n",
    "import torch.nn as nn\n",
    "import torch.nn.functional as F\n",
    "import torch.optim as optim\n",
    "from torch.utils.data import Dataset, DataLoader, RandomSampler\n",
    "from torch.nn.utils.rnn import pad_sequence\n",
    "from transformers import BertTokenizer, BertModel, AdamW, BertPreTrainedModel,get_linear_schedule_with_warmup,get_cosine_with_hard_restarts_schedule_with_warmup\n",
    "from sklearn.model_selection import train_test_split\n",
    "from sklearn.metrics import roc_auc_score\n",
    "from tqdm import tqdm\n",
    "\n",
    "import os\n",
    "from typing import Tuple, List"
   ]
  },
  {
   "cell_type": "code",
   "execution_count": 7,
   "metadata": {},
   "outputs": [],
   "source": [
    "from gensim.models import FastText\n",
    "sentences = []\n",
    "# for index,row in live_data.iterrows():\n",
    "#     sentences.append(row['sentence1'])\n",
    "#     sentences.append(row['sentence2'])\n",
    "words = FastText(live_data,  size=features, window=3, min_count=1, iter=10,min_n = 3 , max_n = 6,word_ngrams = 0)"
   ]
  },
  {
   "cell_type": "code",
   "execution_count": 3,
   "metadata": {},
   "outputs": [],
   "source": [
    "from sentence_transformers import SentenceTransformer\n",
    "\n",
    "sentence_model = SentenceTransformer('distiluse-base-multilingual-cased')"
   ]
  },
  {
   "cell_type": "code",
   "execution_count": 7,
   "metadata": {},
   "outputs": [
    {
     "name": "stdout",
     "output_type": "stream",
     "text": [
      "1 (512,)\n"
     ]
    }
   ],
   "source": [
    "sentences = ['蕾姆蕾姆,这个人是不是傻？']\n",
    "sentence_embeddings = model.encode(sentences)\n",
    "print(len(sentence_embeddings),sentence_embeddings[0].shape)"
   ]
  },
  {
   "cell_type": "code",
   "execution_count": 13,
   "metadata": {},
   "outputs": [],
   "source": [
    "from sklearn.model_selection import train_test_split\n",
    "\n",
    "device = torch.device('cpu')\n",
    "# if torch.cuda.is_available():\n",
    "#     device = torch.device('cuda:0')\n",
    "train_df, val_df = train_test_split(live_data, test_size=0.05)"
   ]
  },
  {
   "cell_type": "code",
   "execution_count": 5,
   "metadata": {},
   "outputs": [],
   "source": [
    "features = 512\n",
    "def fasttext_generator(model):\n",
    "    def generate(sentence):\n",
    "        return sum([model[word] for word in sentence])/len(sentence)\n",
    "    return generate\n",
    "\n",
    "def bert_generator(model):\n",
    "    features = 512\n",
    "    def generate(sentences):\n",
    "        sentence_vecs = model.encode(sentences)[0]\n",
    "        return sentence_vecs\n",
    "    return generate"
   ]
  },
  {
   "cell_type": "code",
   "execution_count": 14,
   "metadata": {},
   "outputs": [
    {
     "name": "stderr",
     "output_type": "stream",
     "text": [
      "12109it [23:44,  8.50it/s]\n",
      "638it [01:14,  8.52it/s]\n"
     ]
    }
   ],
   "source": [
    "class SimDataset(Dataset):\n",
    "    def __init__(self, dataframe, device):\n",
    "        self.device = device\n",
    "        self.X = []\n",
    "        self.Y = []\n",
    "#         generateor = fasttext_generator(words)\n",
    "        generateor = bert_generator(sentence_model)\n",
    "        for i, (row) in tqdm(dataframe.iterrows()):\n",
    "            ## 采用平均法得到句向量\n",
    "            text1 = generate_sentence_vector(row[\"sentence1\"],generateor)\n",
    "#             print(text1)\n",
    "            text2 = generate_sentence_vector(row[\"sentence2\"],generateor)\n",
    "            if text1 is None or text2 is None: continue\n",
    "            \n",
    "            val = [(5-row[\"similarity\"])/5.0]\n",
    "#             print(val)\n",
    "            tags = torch.FloatTensor(val)\n",
    "            self.X.append([text1,text2])\n",
    "#             self.X.append(text1)\n",
    "\n",
    "            self.Y.append(tags)\n",
    "            self.X.append([text2,text1])\n",
    "            self.Y.append(tags)\n",
    "            if tags.shape[0]==0:\n",
    "                print(row[\"sentence1\"])\n",
    "                print(row[\"sentence2\"])\n",
    "                print(row[\"similarity\"])\n",
    "                print(tags)\n",
    "    \n",
    "    def __len__(self):\n",
    "        return len(self.X)\n",
    "\n",
    "    def __getitem__(self, index: int) -> Tuple[List[torch.FloatTensor], torch.LongTensor]:\n",
    "        return self.X[index], self.Y[index]\n",
    "\n",
    "def collate_fn(batch: List[Tuple[List[torch.FloatTensor], torch.LongTensor]]) \\\n",
    "        -> Tuple[torch.FloatTensor,torch.FloatTensor, torch.LongTensor]:\n",
    "    x, y = list(zip(*batch))\n",
    "#     print('-------------------')\n",
    "#     print(x)\n",
    "    x = list(zip(*x))\n",
    "    x1 = x[0]\n",
    "#     print(x1)\n",
    "#     print('-------------------')\n",
    "#     print(y)\n",
    "#     print('-------------------')\n",
    "#     print(*batch)\n",
    "    x2 = x[1]\n",
    "#     print(len(x1),type(x1))\n",
    "#     x1 = pad_sequence(x1, batch_first=True, padding_value=0)\n",
    "#     x2 = pad_sequence(x2, batch_first=True, padding_value=0)\n",
    "    y = torch.stack(y)\n",
    "    return x1, x2, y.to(device)\n",
    "\n",
    "train_dataset = SimDataset(train_df, device)\n",
    "dev_dataset = SimDataset(val_df, device)\n",
    "\n",
    "BATCH_SIZE = 8\n",
    "train_sampler = RandomSampler(train_dataset)\n",
    "dev_sampler = RandomSampler(dev_dataset)\n",
    "train_iterator = DataLoader(train_dataset, batch_size=BATCH_SIZE, sampler=train_sampler, collate_fn=collate_fn)\n",
    "dev_iterator = DataLoader(dev_dataset, batch_size=BATCH_SIZE, sampler=dev_sampler, collate_fn=collate_fn)"
   ]
  },
  {
   "cell_type": "code",
   "execution_count": 142,
   "metadata": {},
   "outputs": [
    {
     "name": "stdout",
     "output_type": "stream",
     "text": [
      "24218\n",
      "200320\n",
      "200320\n"
     ]
    }
   ],
   "source": [
    "print(len(train_dataset.X))\n",
    "import sys\n",
    "print(sys.getsizeof(train_dataset.X))\n",
    "print(sys.getsizeof(train_dataset.Y))"
   ]
  },
  {
   "cell_type": "code",
   "execution_count": 27,
   "metadata": {},
   "outputs": [],
   "source": [
    "class TextClassifier(nn.Module):\n",
    "    \n",
    "    def __init__(self,features):\n",
    "        super(TextClassifier, self).__init__()\n",
    "        self.linear_left_1 = nn.Linear(features, 256)\n",
    "        self.relu_left = nn.ReLU()\n",
    "        self.linear_left_2 = nn.Linear(256, 128)\n",
    "        self.dropout_left = nn.Dropout(0.5)\n",
    "        self.linear_left_3 = nn.Linear(128, 256)\n",
    "\n",
    "        self.linear_right_1 = nn.Linear(features, 256)\n",
    "        self.relu_right = nn.ReLU()\n",
    "        self.linear_right_2 = nn.Linear(256, 128)\n",
    "        self.dropout_right = nn.Dropout(0.5)\n",
    "        self.linear_right_3 = nn.Linear(128, 256)\n",
    "        self.softsign = nn.Softsign()\n",
    "#         self.classifier = torch.Linear(128,2)\n",
    "        \n",
    "    def forward(self, input_ids1, input_ids2, token_type_ids=None, position_ids=None, head_mask=None,\n",
    "            labels=None):\n",
    "#         print(input_ids1)\n",
    "#         print('-----------')\n",
    "        output1 = torch.FloatTensor(list(input_ids1))\n",
    "        output1 = self.linear_left_2(self.relu_left(self.linear_left_1(output1))) # batch, 2 \n",
    "        output1 = self.linear_left_3(self.dropout_left(output1)) # batch, 2 \n",
    "        \n",
    "#         output1 = torch.sigmoid(output1)\n",
    "        if input_ids2 is not None:\n",
    "            output2 = torch.FloatTensor(list(input_ids2))\n",
    "            output2 = self.linear_right_2(self.relu_right(self.linear_right_1(output2))) # batch, 2\n",
    "            output2 = self.linear_right_3(self.dropout_right(output2)) # batch, 2 \n",
    "#         output2 = torch.sigmoid(output2)\n",
    "\n",
    "            cls_output = self.softsign(F.pairwise_distance(output2,output1,p=2))\n",
    "#             print(cls_output.shape,labels.shape)\n",
    "            try:\n",
    "                cls_output = cls_output.reshape(labels.shape)\n",
    "            except:\n",
    "                print(cls_output.shape)\n",
    "                print(cls_output)\n",
    "                print('-----------')\n",
    "                print(labels)\n",
    "            criterion = nn.MSELoss()\n",
    "#             criterion = nn.BCELoss()\n",
    "            loss = 0\n",
    "            if labels is not None:\n",
    "                loss = criterion(cls_output, labels)\n",
    "            return loss, cls_output\n",
    "        else:\n",
    "            return output1\n",
    "\n",
    "model = TextClassifier(features).to(device)"
   ]
  },
  {
   "cell_type": "code",
   "execution_count": 22,
   "metadata": {},
   "outputs": [],
   "source": [
    "def train(model, iterator, optimizer, scheduler):\n",
    "    model.train()\n",
    "    total_loss = 0\n",
    "#     print(type(iterator))\n",
    "    for x1,x2,y in tqdm(iterator):\n",
    "        optimizer.zero_grad()\n",
    "\n",
    "        loss, outputs = model(x1, x2, labels = y)\n",
    "        total_loss += loss.item()\n",
    "        loss.backward()\n",
    "        optimizer.step()\n",
    "        scheduler.step()\n",
    "    avg_loss = total_loss / len(iterator)\n",
    "    print(f\"Train loss {avg_loss}\")\n",
    "    return avg_loss\n",
    "\n",
    "def count_score(true,pred):\n",
    "    cnt = np.sum((true-pred)==0)\n",
    "#     print(cnt,len(true))\n",
    "#     print(true.shape,true)\n",
    "#     print('---------')\n",
    "#     print(pred.shape,pred)\n",
    "    return cnt/len(true)\n",
    "\n",
    "def evaluate(model, iterator):\n",
    "    model.eval()\n",
    "    pred = []\n",
    "    true = []\n",
    "    with torch.no_grad():\n",
    "        total_loss = 0\n",
    "        for x1,x2, y in tqdm(iterator):\n",
    "            loss, outputs = model(x1,x2, labels=y)\n",
    "            total_loss += loss\n",
    "#             print(y.cpu().numpy())\n",
    "#             print('----------------')\n",
    "#             print(outputs.cpu().numpy().tolist())\n",
    "            true += y.cpu().numpy().tolist()\n",
    "            pred += outputs.cpu().numpy().tolist()\n",
    "    true = 5*np.array(true).reshape(1,-1)[0]\n",
    "    pred = np.rint(5*np.array(pred)).reshape(true.shape)\n",
    "#     print(true.reshape(1,-1).shape)\n",
    "#     print(true)\n",
    "#     print('-----------')\n",
    "#     print(pred)\n",
    "    for i, name in enumerate(['similarity']):\n",
    "        valid_df = pd.DataFrame({'true':true.tolist(),'pred':pred.tolist()})\n",
    "        valid_df.to_csv('df.csv')\n",
    "        val = count_score(true, pred)\n",
    "        print(f\"{name} score {val}\")\n",
    "    avg_loss = total_loss / len(iterator)\n",
    "    print(f\"Evaluate loss {avg_loss}\")\n",
    "    return avg_loss,val\n",
    "\n",
    "def save_checkpoint(model,optimizer,start_epoch,filename):\n",
    "    all_state = {'model':model.state_dict(), 'optimizer':optimizer.state_dict(), 'epoch': start_epoch,'train_loss':losses,'val_loss':val_losses,'auc':rocs}\n",
    "\n",
    "    torch.save(all_state, filename)"
   ]
  },
  {
   "cell_type": "code",
   "execution_count": 28,
   "metadata": {},
   "outputs": [
    {
     "name": "stdout",
     "output_type": "stream",
     "text": [
      "current epoch: -1\n",
      "0\n",
      "604086 1514\n"
     ]
    }
   ],
   "source": [
    "EPOCH_NUM = 200\n",
    "\n",
    "losses = []\n",
    "val_losses = []\n",
    "rocs = []\n",
    "start_epoch = -1\n",
    "\n",
    "checkpoint_name='checkpoint.pkl'\n",
    "\n",
    "no_decay = ['bias', 'LayerNorm.weight']\n",
    "optimizer_grouped_parameters = [\n",
    "{'params': [p for n, p in model.named_parameters() if not any(nd in n for nd in no_decay)], 'weight_decay': 0.01},\n",
    "{'params': [p for n, p in model.named_parameters() if any(nd in n for nd in no_decay)], 'weight_decay': 0.0}\n",
    "]\n",
    "optimizer = AdamW(optimizer_grouped_parameters, lr=2e-5, eps=1e-8)\n",
    "\n",
    "print(f\"current epoch: {start_epoch}\")\n",
    "print(len(losses))\n",
    "# triangular learning rate, linearly grows untill half of first epoch, then linearly decays \n",
    "warmup_steps = int(0.5 * len(train_iterator))\n",
    "total_steps = len(train_iterator) * EPOCH_NUM - warmup_steps\n",
    "print(total_steps,warmup_steps)\n",
    "scheduler = get_cosine_with_hard_restarts_schedule_with_warmup(optimizer, num_warmup_steps=warmup_steps, num_training_steps=total_steps,last_epoch=start_epoch)"
   ]
  },
  {
   "cell_type": "code",
   "execution_count": 29,
   "metadata": {},
   "outputs": [
    {
     "name": "stderr",
     "output_type": "stream",
     "text": [
      "  0%|▎                                                                              | 13/3028 [00:00<00:23, 129.66it/s]"
     ]
    },
    {
     "name": "stdout",
     "output_type": "stream",
     "text": [
      "================================================== EPOCH 0 ==================================================\n"
     ]
    },
    {
     "name": "stderr",
     "output_type": "stream",
     "text": [
      "100%|█████████████████████████████████████████████████████████████████████████████| 3028/3028 [00:22<00:00, 136.91it/s]\n",
      " 28%|██████████████████████▌                                                         | 45/160 [00:00<00:00, 447.31it/s]"
     ]
    },
    {
     "name": "stdout",
     "output_type": "stream",
     "text": [
      "Train loss 0.17083861797806885\n"
     ]
    },
    {
     "name": "stderr",
     "output_type": "stream",
     "text": [
      "100%|███████████████████████████████████████████████████████████████████████████████| 160/160 [00:00<00:00, 494.53it/s]\n",
      "  0%|▎                                                                              | 13/3028 [00:00<00:23, 129.30it/s]"
     ]
    },
    {
     "name": "stdout",
     "output_type": "stream",
     "text": [
      "similarity score 0.0\n",
      "Evaluate loss 0.16166837513446808\n",
      "================================================== EPOCH 1 ==================================================\n"
     ]
    },
    {
     "name": "stderr",
     "output_type": "stream",
     "text": [
      "100%|█████████████████████████████████████████████████████████████████████████████| 3028/3028 [00:22<00:00, 137.53it/s]\n",
      " 56%|████████████████████████████████████████████▌                                   | 89/160 [00:00<00:00, 445.15it/s]"
     ]
    },
    {
     "name": "stdout",
     "output_type": "stream",
     "text": [
      "Train loss 0.1476912399227368\n"
     ]
    },
    {
     "name": "stderr",
     "output_type": "stream",
     "text": [
      "100%|███████████████████████████████████████████████████████████████████████████████| 160/160 [00:00<00:00, 468.73it/s]\n",
      "  0%|▎                                                                              | 14/3028 [00:00<00:21, 139.19it/s]"
     ]
    },
    {
     "name": "stdout",
     "output_type": "stream",
     "text": [
      "similarity score 0.0\n",
      "Evaluate loss 0.13967807590961456\n",
      "================================================== EPOCH 2 ==================================================\n"
     ]
    },
    {
     "name": "stderr",
     "output_type": "stream",
     "text": [
      "100%|█████████████████████████████████████████████████████████████████████████████| 3028/3028 [00:21<00:00, 138.06it/s]\n",
      " 59%|███████████████████████████████████████████████▌                                | 95/160 [00:00<00:00, 474.84it/s]"
     ]
    },
    {
     "name": "stdout",
     "output_type": "stream",
     "text": [
      "Train loss 0.13670915124822244\n"
     ]
    },
    {
     "name": "stderr",
     "output_type": "stream",
     "text": [
      "100%|███████████████████████████████████████████████████████████████████████████████| 160/160 [00:00<00:00, 494.75it/s]\n",
      "  0%|▎                                                                              | 14/3028 [00:00<00:21, 139.18it/s]"
     ]
    },
    {
     "name": "stdout",
     "output_type": "stream",
     "text": [
      "similarity score 0.0\n",
      "Evaluate loss 0.12861637771129608\n",
      "================================================== EPOCH 3 ==================================================\n"
     ]
    },
    {
     "name": "stderr",
     "output_type": "stream",
     "text": [
      "100%|█████████████████████████████████████████████████████████████████████████████| 3028/3028 [00:21<00:00, 138.38it/s]\n",
      " 30%|████████████████████████                                                        | 48/160 [00:00<00:00, 477.91it/s]"
     ]
    },
    {
     "name": "stdout",
     "output_type": "stream",
     "text": [
      "Train loss 0.12699679369808148\n"
     ]
    },
    {
     "name": "stderr",
     "output_type": "stream",
     "text": [
      "100%|███████████████████████████████████████████████████████████████████████████████| 160/160 [00:00<00:00, 482.78it/s]\n",
      "  0%|▎                                                                              | 13/3028 [00:00<00:23, 129.23it/s]"
     ]
    },
    {
     "name": "stdout",
     "output_type": "stream",
     "text": [
      "similarity score 0.03213166144200627\n",
      "Evaluate loss 0.12071402370929718\n",
      "================================================== EPOCH 4 ==================================================\n"
     ]
    },
    {
     "name": "stderr",
     "output_type": "stream",
     "text": [
      "100%|█████████████████████████████████████████████████████████████████████████████| 3028/3028 [00:21<00:00, 138.72it/s]\n",
      " 29%|███████████████████████                                                         | 46/160 [00:00<00:00, 458.18it/s]"
     ]
    },
    {
     "name": "stdout",
     "output_type": "stream",
     "text": [
      "Train loss 0.12097704421871562\n"
     ]
    },
    {
     "name": "stderr",
     "output_type": "stream",
     "text": [
      "100%|███████████████████████████████████████████████████████████████████████████████| 160/160 [00:00<00:00, 497.86it/s]\n",
      "  0%|▎                                                                              | 14/3028 [00:00<00:21, 139.15it/s]"
     ]
    },
    {
     "name": "stdout",
     "output_type": "stream",
     "text": [
      "similarity score 0.15595611285266459\n",
      "Evaluate loss 0.11687074601650238\n",
      "================================================== EPOCH 5 ==================================================\n"
     ]
    },
    {
     "name": "stderr",
     "output_type": "stream",
     "text": [
      "100%|█████████████████████████████████████████████████████████████████████████████| 3028/3028 [00:21<00:00, 138.46it/s]\n",
      " 29%|███████████████████████                                                         | 46/160 [00:00<00:00, 458.12it/s]"
     ]
    },
    {
     "name": "stdout",
     "output_type": "stream",
     "text": [
      "Train loss 0.11777222967279713\n"
     ]
    },
    {
     "name": "stderr",
     "output_type": "stream",
     "text": [
      "100%|███████████████████████████████████████████████████████████████████████████████| 160/160 [00:00<00:00, 482.95it/s]\n",
      "  0%|▎                                                                              | 14/3028 [00:00<00:21, 139.18it/s]"
     ]
    },
    {
     "name": "stdout",
     "output_type": "stream",
     "text": [
      "similarity score 0.2139498432601881\n",
      "Evaluate loss 0.11570385843515396\n",
      "================================================== EPOCH 6 ==================================================\n"
     ]
    },
    {
     "name": "stderr",
     "output_type": "stream",
     "text": [
      "100%|█████████████████████████████████████████████████████████████████████████████| 3028/3028 [00:21<00:00, 138.55it/s]\n",
      " 28%|██████████████████████▌                                                         | 45/160 [00:00<00:00, 448.19it/s]"
     ]
    },
    {
     "name": "stdout",
     "output_type": "stream",
     "text": [
      "Train loss 0.11568135756764271\n"
     ]
    },
    {
     "name": "stderr",
     "output_type": "stream",
     "text": [
      "100%|███████████████████████████████████████████████████████████████████████████████| 160/160 [00:00<00:00, 482.85it/s]\n",
      "  0%|▎                                                                              | 14/3028 [00:00<00:22, 136.52it/s]"
     ]
    },
    {
     "name": "stdout",
     "output_type": "stream",
     "text": [
      "similarity score 0.26410658307210033\n",
      "Evaluate loss 0.11176949739456177\n",
      "================================================== EPOCH 7 ==================================================\n"
     ]
    },
    {
     "name": "stderr",
     "output_type": "stream",
     "text": [
      "100%|█████████████████████████████████████████████████████████████████████████████| 3028/3028 [00:21<00:00, 137.78it/s]\n",
      " 54%|███████████████████████████████████████████                                     | 86/160 [00:00<00:00, 423.57it/s]"
     ]
    },
    {
     "name": "stdout",
     "output_type": "stream",
     "text": [
      "Train loss 0.11371306251458298\n"
     ]
    },
    {
     "name": "stderr",
     "output_type": "stream",
     "text": [
      "100%|███████████████████████████████████████████████████████████████████████████████| 160/160 [00:00<00:00, 468.20it/s]\n",
      "  1%|▋                                                                              | 27/3028 [00:00<00:22, 132.03it/s]"
     ]
    },
    {
     "name": "stdout",
     "output_type": "stream",
     "text": [
      "similarity score 0.30877742946708464\n",
      "Evaluate loss 0.11051162332296371\n",
      "================================================== EPOCH 8 ==================================================\n"
     ]
    },
    {
     "name": "stderr",
     "output_type": "stream",
     "text": [
      "100%|█████████████████████████████████████████████████████████████████████████████| 3028/3028 [00:21<00:00, 138.28it/s]\n",
      " 58%|██████████████████████████████████████████████▌                                 | 93/160 [00:00<00:00, 460.94it/s]"
     ]
    },
    {
     "name": "stdout",
     "output_type": "stream",
     "text": [
      "Train loss 0.11209016919730888\n"
     ]
    },
    {
     "name": "stderr",
     "output_type": "stream",
     "text": [
      "100%|███████████████████████████████████████████████████████████████████████████████| 160/160 [00:00<00:00, 497.72it/s]\n",
      "  0%|▎                                                                              | 14/3028 [00:00<00:21, 139.30it/s]"
     ]
    },
    {
     "name": "stdout",
     "output_type": "stream",
     "text": [
      "similarity score 0.2993730407523511\n",
      "Evaluate loss 0.11067578941583633\n",
      "================================================== EPOCH 9 ==================================================\n"
     ]
    },
    {
     "name": "stderr",
     "output_type": "stream",
     "text": [
      "100%|█████████████████████████████████████████████████████████████████████████████| 3028/3028 [00:21<00:00, 139.37it/s]\n",
      " 57%|█████████████████████████████████████████████▌                                  | 91/160 [00:00<00:00, 454.70it/s]"
     ]
    },
    {
     "name": "stdout",
     "output_type": "stream",
     "text": [
      "Train loss 0.11027936670096293\n"
     ]
    },
    {
     "name": "stderr",
     "output_type": "stream",
     "text": [
      "100%|███████████████████████████████████████████████████████████████████████████████| 160/160 [00:00<00:00, 497.63it/s]\n",
      "  1%|▋                                                                              | 27/3028 [00:00<00:22, 131.41it/s]"
     ]
    },
    {
     "name": "stdout",
     "output_type": "stream",
     "text": [
      "similarity score 0.3158307210031348\n",
      "Evaluate loss 0.11022479832172394\n",
      "================================================== EPOCH 10 ==================================================\n"
     ]
    },
    {
     "name": "stderr",
     "output_type": "stream",
     "text": [
      "100%|█████████████████████████████████████████████████████████████████████████████| 3028/3028 [00:22<00:00, 136.92it/s]\n",
      " 52%|██████████████████████████████████████████                                      | 84/160 [00:00<00:00, 409.09it/s]"
     ]
    },
    {
     "name": "stdout",
     "output_type": "stream",
     "text": [
      "Train loss 0.10883816578434694\n"
     ]
    },
    {
     "name": "stderr",
     "output_type": "stream",
     "text": [
      "100%|███████████████████████████████████████████████████████████████████████████████| 160/160 [00:00<00:00, 444.58it/s]\n",
      "  0%|▎                                                                              | 12/3028 [00:00<00:25, 117.30it/s]"
     ]
    },
    {
     "name": "stdout",
     "output_type": "stream",
     "text": [
      "similarity score 0.3542319749216301\n",
      "Evaluate loss 0.11032404750585556\n",
      "================================================== EPOCH 11 ==================================================\n"
     ]
    },
    {
     "name": "stderr",
     "output_type": "stream",
     "text": [
      "100%|█████████████████████████████████████████████████████████████████████████████| 3028/3028 [00:21<00:00, 137.99it/s]\n",
      " 28%|██████████████████████                                                          | 44/160 [00:00<00:00, 438.21it/s]"
     ]
    },
    {
     "name": "stdout",
     "output_type": "stream",
     "text": [
      "Train loss 0.10774154292928274\n"
     ]
    },
    {
     "name": "stderr",
     "output_type": "stream",
     "text": [
      "100%|███████████████████████████████████████████████████████████████████████████████| 160/160 [00:00<00:00, 482.65it/s]\n",
      "  0%|▎                                                                              | 14/3028 [00:00<00:21, 139.26it/s]"
     ]
    },
    {
     "name": "stdout",
     "output_type": "stream",
     "text": [
      "similarity score 0.4122257053291536\n",
      "Evaluate loss 0.10555867850780487\n",
      "================================================== EPOCH 12 ==================================================\n"
     ]
    },
    {
     "name": "stderr",
     "output_type": "stream",
     "text": [
      "100%|█████████████████████████████████████████████████████████████████████████████| 3028/3028 [00:22<00:00, 133.60it/s]\n",
      " 29%|███████████████████████                                                         | 46/160 [00:00<00:00, 457.80it/s]"
     ]
    },
    {
     "name": "stdout",
     "output_type": "stream",
     "text": [
      "Train loss 0.10668752428966659\n"
     ]
    },
    {
     "name": "stderr",
     "output_type": "stream",
     "text": [
      "100%|███████████████████████████████████████████████████████████████████████████████| 160/160 [00:00<00:00, 479.67it/s]\n",
      "  0%|▍                                                                              | 15/3028 [00:00<00:20, 149.23it/s]"
     ]
    },
    {
     "name": "stdout",
     "output_type": "stream",
     "text": [
      "similarity score 0.3942006269592476\n",
      "Evaluate loss 0.10660161823034286\n",
      "================================================== EPOCH 13 ==================================================\n"
     ]
    },
    {
     "name": "stderr",
     "output_type": "stream",
     "text": [
      "100%|█████████████████████████████████████████████████████████████████████████████| 3028/3028 [00:21<00:00, 138.34it/s]\n",
      " 29%|███████████████████████                                                         | 46/160 [00:00<00:00, 457.49it/s]"
     ]
    },
    {
     "name": "stdout",
     "output_type": "stream",
     "text": [
      "Train loss 0.10587098069465627\n"
     ]
    },
    {
     "name": "stderr",
     "output_type": "stream",
     "text": [
      "100%|███████████████████████████████████████████████████████████████████████████████| 160/160 [00:00<00:00, 497.83it/s]\n",
      "  0%|▎                                                                              | 14/3028 [00:00<00:21, 139.17it/s]"
     ]
    },
    {
     "name": "stdout",
     "output_type": "stream",
     "text": [
      "similarity score 0.39106583072100315\n",
      "Evaluate loss 0.1076040044426918\n",
      "================================================== EPOCH 14 ==================================================\n"
     ]
    },
    {
     "name": "stderr",
     "output_type": "stream",
     "text": [
      "100%|█████████████████████████████████████████████████████████████████████████████| 3028/3028 [00:22<00:00, 137.15it/s]\n",
      " 55%|████████████████████████████████████████████                                    | 88/160 [00:00<00:00, 438.18it/s]"
     ]
    },
    {
     "name": "stdout",
     "output_type": "stream",
     "text": [
      "Train loss 0.10476757050261191\n"
     ]
    },
    {
     "name": "stderr",
     "output_type": "stream",
     "text": [
      "100%|███████████████████████████████████████████████████████████████████████████████| 160/160 [00:00<00:00, 482.72it/s]\n",
      "  0%|▎                                                                              | 14/3028 [00:00<00:21, 139.15it/s]"
     ]
    },
    {
     "name": "stdout",
     "output_type": "stream",
     "text": [
      "similarity score 0.38009404388714735\n",
      "Evaluate loss 0.10546108335256577\n",
      "================================================== EPOCH 15 ==================================================\n"
     ]
    },
    {
     "name": "stderr",
     "output_type": "stream",
     "text": [
      "100%|█████████████████████████████████████████████████████████████████████████████| 3028/3028 [00:21<00:00, 138.16it/s]\n",
      " 27%|█████████████████████▌                                                          | 43/160 [00:00<00:00, 427.86it/s]"
     ]
    },
    {
     "name": "stdout",
     "output_type": "stream",
     "text": [
      "Train loss 0.10394106931028496\n"
     ]
    },
    {
     "name": "stderr",
     "output_type": "stream",
     "text": [
      "100%|███████████████████████████████████████████████████████████████████████████████| 160/160 [00:00<00:00, 471.34it/s]\n",
      "  0%|▎                                                                              | 13/3028 [00:00<00:23, 129.31it/s]"
     ]
    },
    {
     "name": "stdout",
     "output_type": "stream",
     "text": [
      "similarity score 0.3981191222570533\n",
      "Evaluate loss 0.10402774810791016\n",
      "================================================== EPOCH 16 ==================================================\n"
     ]
    },
    {
     "name": "stderr",
     "output_type": "stream",
     "text": [
      "100%|█████████████████████████████████████████████████████████████████████████████| 3028/3028 [00:21<00:00, 138.08it/s]\n",
      " 28%|██████████████████████                                                          | 44/160 [00:00<00:00, 438.10it/s]"
     ]
    },
    {
     "name": "stdout",
     "output_type": "stream",
     "text": [
      "Train loss 0.10297461783653679\n"
     ]
    },
    {
     "name": "stderr",
     "output_type": "stream",
     "text": [
      "100%|███████████████████████████████████████████████████████████████████████████████| 160/160 [00:00<00:00, 468.68it/s]\n",
      "  0%|▍                                                                              | 15/3028 [00:00<00:20, 149.07it/s]"
     ]
    },
    {
     "name": "stdout",
     "output_type": "stream",
     "text": [
      "similarity score 0.4396551724137931\n",
      "Evaluate loss 0.10255108028650284\n",
      "================================================== EPOCH 17 ==================================================\n"
     ]
    },
    {
     "name": "stderr",
     "output_type": "stream",
     "text": [
      "100%|█████████████████████████████████████████████████████████████████████████████| 3028/3028 [00:21<00:00, 137.89it/s]\n",
      " 29%|███████████████████████                                                         | 46/160 [00:00<00:00, 458.34it/s]"
     ]
    },
    {
     "name": "stdout",
     "output_type": "stream",
     "text": [
      "Train loss 0.10204473583670849\n"
     ]
    },
    {
     "name": "stderr",
     "output_type": "stream",
     "text": [
      "100%|███████████████████████████████████████████████████████████████████████████████| 160/160 [00:00<00:00, 482.90it/s]\n",
      "  1%|▋                                                                              | 27/3028 [00:00<00:22, 132.07it/s]"
     ]
    },
    {
     "name": "stdout",
     "output_type": "stream",
     "text": [
      "similarity score 0.438871473354232\n",
      "Evaluate loss 0.10463498532772064\n",
      "================================================== EPOCH 18 ==================================================\n"
     ]
    },
    {
     "name": "stderr",
     "output_type": "stream",
     "text": [
      "100%|█████████████████████████████████████████████████████████████████████████████| 3028/3028 [00:21<00:00, 137.83it/s]\n",
      " 28%|██████████████████████                                                          | 44/160 [00:00<00:00, 438.24it/s]"
     ]
    },
    {
     "name": "stdout",
     "output_type": "stream",
     "text": [
      "Train loss 0.10123160496723803\n"
     ]
    },
    {
     "name": "stderr",
     "output_type": "stream",
     "text": [
      "100%|███████████████████████████████████████████████████████████████████████████████| 160/160 [00:00<00:00, 482.97it/s]\n",
      "  0%|▍                                                                              | 15/3028 [00:00<00:20, 149.05it/s]"
     ]
    },
    {
     "name": "stdout",
     "output_type": "stream",
     "text": [
      "similarity score 0.427115987460815\n",
      "Evaluate loss 0.10306127369403839\n",
      "================================================== EPOCH 19 ==================================================\n"
     ]
    },
    {
     "name": "stderr",
     "output_type": "stream",
     "text": [
      "100%|█████████████████████████████████████████████████████████████████████████████| 3028/3028 [00:22<00:00, 137.01it/s]\n",
      " 59%|███████████████████████████████████████████████                                 | 94/160 [00:00<00:00, 467.71it/s]"
     ]
    },
    {
     "name": "stdout",
     "output_type": "stream",
     "text": [
      "Train loss 0.10075875854341416\n"
     ]
    },
    {
     "name": "stderr",
     "output_type": "stream",
     "text": [
      "100%|███████████████████████████████████████████████████████████████████████████████| 160/160 [00:00<00:00, 485.56it/s]\n",
      "  0%|▎                                                                              | 13/3028 [00:00<00:23, 129.20it/s]"
     ]
    },
    {
     "name": "stdout",
     "output_type": "stream",
     "text": [
      "similarity score 0.4278996865203762\n",
      "Evaluate loss 0.10026608407497406\n",
      "================================================== EPOCH 20 ==================================================\n"
     ]
    },
    {
     "name": "stderr",
     "output_type": "stream",
     "text": [
      "100%|█████████████████████████████████████████████████████████████████████████████| 3028/3028 [00:22<00:00, 135.51it/s]\n",
      " 28%|██████████████████████▌                                                         | 45/160 [00:00<00:00, 448.04it/s]"
     ]
    },
    {
     "name": "stdout",
     "output_type": "stream",
     "text": [
      "Train loss 0.09980126188792993\n"
     ]
    },
    {
     "name": "stderr",
     "output_type": "stream",
     "text": [
      "100%|███████████████████████████████████████████████████████████████████████████████| 160/160 [00:00<00:00, 482.78it/s]\n",
      "  0%|▎                                                                              | 13/3028 [00:00<00:23, 129.23it/s]"
     ]
    },
    {
     "name": "stdout",
     "output_type": "stream",
     "text": [
      "similarity score 0.4537617554858934\n",
      "Evaluate loss 0.10111085325479507\n",
      "================================================== EPOCH 21 ==================================================\n"
     ]
    },
    {
     "name": "stderr",
     "output_type": "stream",
     "text": [
      "100%|█████████████████████████████████████████████████████████████████████████████| 3028/3028 [00:22<00:00, 134.80it/s]\n",
      " 29%|███████████████████████▌                                                        | 47/160 [00:00<00:00, 467.72it/s]"
     ]
    },
    {
     "name": "stdout",
     "output_type": "stream",
     "text": [
      "Train loss 0.09943695848683434\n"
     ]
    },
    {
     "name": "stderr",
     "output_type": "stream",
     "text": [
      "100%|███████████████████████████████████████████████████████████████████████████████| 160/160 [00:00<00:00, 482.55it/s]\n",
      "  0%|▎                                                                              | 13/3028 [00:00<00:23, 129.17it/s]"
     ]
    },
    {
     "name": "stdout",
     "output_type": "stream",
     "text": [
      "similarity score 0.4278996865203762\n",
      "Evaluate loss 0.10030257701873779\n",
      "================================================== EPOCH 22 ==================================================\n"
     ]
    },
    {
     "name": "stderr",
     "output_type": "stream",
     "text": [
      "100%|█████████████████████████████████████████████████████████████████████████████| 3028/3028 [00:22<00:00, 133.90it/s]\n",
      " 54%|███████████████████████████████████████████▌                                    | 87/160 [00:00<00:00, 426.82it/s]"
     ]
    },
    {
     "name": "stdout",
     "output_type": "stream",
     "text": [
      "Train loss 0.09844819601142935\n"
     ]
    },
    {
     "name": "stderr",
     "output_type": "stream",
     "text": [
      "100%|███████████████████████████████████████████████████████████████████████████████| 160/160 [00:00<00:00, 471.43it/s]\n",
      "  0%|▎                                                                              | 14/3028 [00:00<00:21, 139.22it/s]"
     ]
    },
    {
     "name": "stdout",
     "output_type": "stream",
     "text": [
      "similarity score 0.46551724137931033\n",
      "Evaluate loss 0.09855300188064575\n",
      "================================================== EPOCH 23 ==================================================\n"
     ]
    },
    {
     "name": "stderr",
     "output_type": "stream",
     "text": [
      "100%|█████████████████████████████████████████████████████████████████████████████| 3028/3028 [00:22<00:00, 132.26it/s]\n",
      " 53%|██████████████████████████████████████████▌                                     | 85/160 [00:00<00:00, 419.37it/s]"
     ]
    },
    {
     "name": "stdout",
     "output_type": "stream",
     "text": [
      "Train loss 0.09783074601145543\n"
     ]
    },
    {
     "name": "stderr",
     "output_type": "stream",
     "text": [
      "100%|███████████████████████████████████████████████████████████████████████████████| 160/160 [00:00<00:00, 454.36it/s]\n",
      "  0%|▎                                                                              | 13/3028 [00:00<00:24, 122.03it/s]"
     ]
    },
    {
     "name": "stdout",
     "output_type": "stream",
     "text": [
      "similarity score 0.4506269592476489\n",
      "Evaluate loss 0.10024615377187729\n",
      "================================================== EPOCH 24 ==================================================\n"
     ]
    },
    {
     "name": "stderr",
     "output_type": "stream",
     "text": [
      "100%|█████████████████████████████████████████████████████████████████████████████| 3028/3028 [00:23<00:00, 126.86it/s]\n",
      " 28%|██████████████████████▌                                                         | 45/160 [00:00<00:00, 423.71it/s]"
     ]
    },
    {
     "name": "stdout",
     "output_type": "stream",
     "text": [
      "Train loss 0.09740747769399825\n"
     ]
    },
    {
     "name": "stderr",
     "output_type": "stream",
     "text": [
      "100%|███████████████████████████████████████████████████████████████████████████████| 160/160 [00:00<00:00, 456.50it/s]\n",
      "  1%|▋                                                                              | 25/3028 [00:00<00:24, 122.40it/s]"
     ]
    },
    {
     "name": "stdout",
     "output_type": "stream",
     "text": [
      "similarity score 0.4553291536050157\n",
      "Evaluate loss 0.09671579301357269\n",
      "================================================== EPOCH 25 ==================================================\n"
     ]
    },
    {
     "name": "stderr",
     "output_type": "stream",
     "text": [
      "100%|█████████████████████████████████████████████████████████████████████████████| 3028/3028 [00:23<00:00, 128.13it/s]\n",
      " 57%|██████████████████████████████████████████████                                  | 92/160 [00:00<00:00, 440.41it/s]"
     ]
    },
    {
     "name": "stdout",
     "output_type": "stream",
     "text": [
      "Train loss 0.09671602031041325\n"
     ]
    },
    {
     "name": "stderr",
     "output_type": "stream",
     "text": [
      "100%|███████████████████████████████████████████████████████████████████████████████| 160/160 [00:00<00:00, 471.22it/s]\n",
      "  0%|▎                                                                              | 13/3028 [00:00<00:23, 125.96it/s]"
     ]
    },
    {
     "name": "stdout",
     "output_type": "stream",
     "text": [
      "similarity score 0.48667711598746083\n",
      "Evaluate loss 0.09657550603151321\n",
      "================================================== EPOCH 26 ==================================================\n"
     ]
    },
    {
     "name": "stderr",
     "output_type": "stream",
     "text": [
      "100%|█████████████████████████████████████████████████████████████████████████████| 3028/3028 [00:23<00:00, 127.66it/s]\n",
      " 26%|█████████████████████                                                           | 42/160 [00:00<00:00, 417.12it/s]"
     ]
    },
    {
     "name": "stdout",
     "output_type": "stream",
     "text": [
      "Train loss 0.09672949533424213\n"
     ]
    },
    {
     "name": "stderr",
     "output_type": "stream",
     "text": [
      "100%|███████████████████████████████████████████████████████████████████████████████| 160/160 [00:00<00:00, 450.66it/s]\n",
      "  1%|▋                                                                              | 26/3028 [00:00<00:23, 128.69it/s]"
     ]
    },
    {
     "name": "stdout",
     "output_type": "stream",
     "text": [
      "similarity score 0.4561128526645768\n",
      "Evaluate loss 0.09631083905696869\n",
      "================================================== EPOCH 27 ==================================================\n"
     ]
    },
    {
     "name": "stderr",
     "output_type": "stream",
     "text": [
      "100%|█████████████████████████████████████████████████████████████████████████████| 3028/3028 [00:23<00:00, 127.69it/s]\n",
      " 55%|████████████████████████████████████████████                                    | 88/160 [00:00<00:00, 431.91it/s]"
     ]
    },
    {
     "name": "stdout",
     "output_type": "stream",
     "text": [
      "Train loss 0.0962477069911873\n"
     ]
    },
    {
     "name": "stderr",
     "output_type": "stream",
     "text": [
      "100%|███████████████████████████████████████████████████████████████████████████████| 160/160 [00:00<00:00, 465.84it/s]\n",
      "  0%|▎                                                                              | 14/3028 [00:00<00:23, 129.35it/s]"
     ]
    },
    {
     "name": "stdout",
     "output_type": "stream",
     "text": [
      "similarity score 0.46551724137931033\n",
      "Evaluate loss 0.0981568694114685\n",
      "================================================== EPOCH 28 ==================================================\n"
     ]
    },
    {
     "name": "stderr",
     "output_type": "stream",
     "text": [
      "100%|█████████████████████████████████████████████████████████████████████████████| 3028/3028 [00:23<00:00, 129.17it/s]\n",
      " 28%|██████████████████████                                                          | 44/160 [00:00<00:00, 438.12it/s]"
     ]
    },
    {
     "name": "stdout",
     "output_type": "stream",
     "text": [
      "Train loss 0.09564586254945541\n"
     ]
    },
    {
     "name": "stderr",
     "output_type": "stream",
     "text": [
      "100%|███████████████████████████████████████████████████████████████████████████████| 160/160 [00:00<00:00, 482.98it/s]\n",
      "  0%|▎                                                                              | 14/3028 [00:00<00:22, 136.53it/s]"
     ]
    },
    {
     "name": "stdout",
     "output_type": "stream",
     "text": [
      "similarity score 0.48667711598746083\n",
      "Evaluate loss 0.09673162549734116\n",
      "================================================== EPOCH 29 ==================================================\n"
     ]
    },
    {
     "name": "stderr",
     "output_type": "stream",
     "text": [
      "100%|█████████████████████████████████████████████████████████████████████████████| 3028/3028 [00:22<00:00, 133.78it/s]\n",
      " 28%|██████████████████████                                                          | 44/160 [00:00<00:00, 438.21it/s]"
     ]
    },
    {
     "name": "stdout",
     "output_type": "stream",
     "text": [
      "Train loss 0.09548384107801881\n"
     ]
    },
    {
     "name": "stderr",
     "output_type": "stream",
     "text": [
      "100%|███████████████████████████████████████████████████████████████████████████████| 160/160 [00:00<00:00, 482.97it/s]\n",
      "  0%|▎                                                                              | 14/3028 [00:00<00:21, 139.25it/s]"
     ]
    },
    {
     "name": "stdout",
     "output_type": "stream",
     "text": [
      "similarity score 0.445141065830721\n",
      "Evaluate loss 0.09705761820077896\n",
      "================================================== EPOCH 30 ==================================================\n"
     ]
    },
    {
     "name": "stderr",
     "output_type": "stream",
     "text": [
      "100%|█████████████████████████████████████████████████████████████████████████████| 3028/3028 [00:22<00:00, 134.35it/s]\n",
      " 57%|██████████████████████████████████████████████                                  | 92/160 [00:00<00:00, 458.22it/s]"
     ]
    },
    {
     "name": "stdout",
     "output_type": "stream",
     "text": [
      "Train loss 0.09539616097121892\n"
     ]
    },
    {
     "name": "stderr",
     "output_type": "stream",
     "text": [
      "100%|███████████████████████████████████████████████████████████████████████████████| 160/160 [00:00<00:00, 479.90it/s]\n",
      "  0%|▎                                                                              | 14/3028 [00:00<00:21, 139.29it/s]"
     ]
    },
    {
     "name": "stdout",
     "output_type": "stream",
     "text": [
      "similarity score 0.48119122257053293\n",
      "Evaluate loss 0.09890774637460709\n",
      "================================================== EPOCH 31 ==================================================\n"
     ]
    },
    {
     "name": "stderr",
     "output_type": "stream",
     "text": [
      "100%|█████████████████████████████████████████████████████████████████████████████| 3028/3028 [00:22<00:00, 133.67it/s]\n",
      " 26%|█████████████████████                                                           | 42/160 [00:00<00:00, 418.52it/s]"
     ]
    },
    {
     "name": "stdout",
     "output_type": "stream",
     "text": [
      "Train loss 0.09474390677074611\n"
     ]
    },
    {
     "name": "stderr",
     "output_type": "stream",
     "text": [
      "100%|███████████████████████████████████████████████████████████████████████████████| 160/160 [00:00<00:00, 483.03it/s]\n",
      "  0%|▎                                                                              | 14/3028 [00:00<00:21, 139.37it/s]"
     ]
    },
    {
     "name": "stdout",
     "output_type": "stream",
     "text": [
      "similarity score 0.4898119122257053\n",
      "Evaluate loss 0.09659604728221893\n",
      "================================================== EPOCH 32 ==================================================\n"
     ]
    },
    {
     "name": "stderr",
     "output_type": "stream",
     "text": [
      "100%|█████████████████████████████████████████████████████████████████████████████| 3028/3028 [00:22<00:00, 134.16it/s]\n",
      " 59%|███████████████████████████████████████████████                                 | 94/160 [00:00<00:00, 464.10it/s]"
     ]
    },
    {
     "name": "stdout",
     "output_type": "stream",
     "text": [
      "Train loss 0.09433126022631384\n"
     ]
    },
    {
     "name": "stderr",
     "output_type": "stream",
     "text": [
      "100%|███████████████████████████████████████████████████████████████████████████████| 160/160 [00:00<00:00, 482.83it/s]\n",
      "  0%|▎                                                                              | 14/3028 [00:00<00:21, 139.27it/s]"
     ]
    },
    {
     "name": "stdout",
     "output_type": "stream",
     "text": [
      "similarity score 0.4443573667711599\n",
      "Evaluate loss 0.10056034475564957\n",
      "================================================== EPOCH 33 ==================================================\n"
     ]
    },
    {
     "name": "stderr",
     "output_type": "stream",
     "text": [
      "100%|█████████████████████████████████████████████████████████████████████████████| 3028/3028 [00:22<00:00, 133.75it/s]\n",
      " 57%|██████████████████████████████████████████████                                  | 92/160 [00:00<00:00, 462.05it/s]"
     ]
    },
    {
     "name": "stdout",
     "output_type": "stream",
     "text": [
      "Train loss 0.09394485026647495\n"
     ]
    },
    {
     "name": "stderr",
     "output_type": "stream",
     "text": [
      "100%|███████████████████████████████████████████████████████████████████████████████| 160/160 [00:00<00:00, 482.81it/s]\n",
      "  0%|▎                                                                              | 14/3028 [00:00<00:22, 136.46it/s]"
     ]
    },
    {
     "name": "stdout",
     "output_type": "stream",
     "text": [
      "similarity score 0.4835423197492163\n",
      "Evaluate loss 0.09546007215976715\n",
      "================================================== EPOCH 34 ==================================================\n"
     ]
    },
    {
     "name": "stderr",
     "output_type": "stream",
     "text": [
      "100%|█████████████████████████████████████████████████████████████████████████████| 3028/3028 [00:22<00:00, 133.67it/s]\n",
      " 26%|█████████████████████                                                           | 42/160 [00:00<00:00, 417.99it/s]"
     ]
    },
    {
     "name": "stdout",
     "output_type": "stream",
     "text": [
      "Train loss 0.09412331718441205\n"
     ]
    },
    {
     "name": "stderr",
     "output_type": "stream",
     "text": [
      "100%|███████████████████████████████████████████████████████████████████████████████| 160/160 [00:00<00:00, 482.81it/s]\n",
      "  0%|▎                                                                              | 14/3028 [00:00<00:21, 139.26it/s]"
     ]
    },
    {
     "name": "stdout",
     "output_type": "stream",
     "text": [
      "similarity score 0.4725705329153605\n",
      "Evaluate loss 0.09753107279539108\n",
      "================================================== EPOCH 35 ==================================================\n"
     ]
    },
    {
     "name": "stderr",
     "output_type": "stream",
     "text": [
      "100%|█████████████████████████████████████████████████████████████████████████████| 3028/3028 [00:22<00:00, 134.69it/s]\n",
      " 29%|███████████████████████▌                                                        | 47/160 [00:00<00:00, 468.40it/s]"
     ]
    },
    {
     "name": "stdout",
     "output_type": "stream",
     "text": [
      "Train loss 0.09321495654803295\n"
     ]
    },
    {
     "name": "stderr",
     "output_type": "stream",
     "text": [
      "100%|███████████████████████████████████████████████████████████████████████████████| 160/160 [00:00<00:00, 479.95it/s]\n",
      "  0%|▎                                                                              | 14/3028 [00:00<00:22, 136.47it/s]"
     ]
    },
    {
     "name": "stdout",
     "output_type": "stream",
     "text": [
      "similarity score 0.493730407523511\n",
      "Evaluate loss 0.09787920862436295\n",
      "================================================== EPOCH 36 ==================================================\n"
     ]
    },
    {
     "name": "stderr",
     "output_type": "stream",
     "text": [
      "100%|█████████████████████████████████████████████████████████████████████████████| 3028/3028 [00:22<00:00, 134.87it/s]\n",
      " 29%|███████████████████████▌                                                        | 47/160 [00:00<00:00, 468.01it/s]"
     ]
    },
    {
     "name": "stdout",
     "output_type": "stream",
     "text": [
      "Train loss 0.09296671063697662\n"
     ]
    },
    {
     "name": "stderr",
     "output_type": "stream",
     "text": [
      "100%|███████████████████████████████████████████████████████████████████████████████| 160/160 [00:00<00:00, 494.96it/s]\n",
      "  0%|▎                                                                              | 13/3028 [00:00<00:23, 129.35it/s]"
     ]
    },
    {
     "name": "stdout",
     "output_type": "stream",
     "text": [
      "similarity score 0.4882445141065831\n",
      "Evaluate loss 0.09925615787506104\n",
      "================================================== EPOCH 37 ==================================================\n"
     ]
    },
    {
     "name": "stderr",
     "output_type": "stream",
     "text": [
      "100%|█████████████████████████████████████████████████████████████████████████████| 3028/3028 [00:22<00:00, 133.85it/s]\n",
      " 55%|████████████████████████████████████████████                                    | 88/160 [00:00<00:00, 434.06it/s]"
     ]
    },
    {
     "name": "stdout",
     "output_type": "stream",
     "text": [
      "Train loss 0.09292123912883765\n"
     ]
    },
    {
     "name": "stderr",
     "output_type": "stream",
     "text": [
      "100%|███████████████████████████████████████████████████████████████████████████████| 160/160 [00:00<00:00, 471.49it/s]\n",
      "  0%|▎                                                                              | 13/3028 [00:00<00:23, 129.33it/s]"
     ]
    },
    {
     "name": "stdout",
     "output_type": "stream",
     "text": [
      "similarity score 0.5039184952978056\n",
      "Evaluate loss 0.09592701494693756\n",
      "================================================== EPOCH 38 ==================================================\n"
     ]
    },
    {
     "name": "stderr",
     "output_type": "stream",
     "text": [
      "100%|█████████████████████████████████████████████████████████████████████████████| 3028/3028 [00:23<00:00, 131.28it/s]\n",
      " 28%|██████████████████████                                                          | 44/160 [00:00<00:00, 438.38it/s]"
     ]
    },
    {
     "name": "stdout",
     "output_type": "stream",
     "text": [
      "Train loss 0.09305301845288076\n"
     ]
    },
    {
     "name": "stderr",
     "output_type": "stream",
     "text": [
      "100%|███████████████████████████████████████████████████████████████████████████████| 160/160 [00:00<00:00, 485.71it/s]\n",
      "  0%|▎                                                                              | 14/3028 [00:00<00:22, 136.53it/s]"
     ]
    },
    {
     "name": "stdout",
     "output_type": "stream",
     "text": [
      "similarity score 0.4537617554858934\n",
      "Evaluate loss 0.09917131811380386\n",
      "================================================== EPOCH 39 ==================================================\n"
     ]
    },
    {
     "name": "stderr",
     "output_type": "stream",
     "text": [
      "100%|█████████████████████████████████████████████████████████████████████████████| 3028/3028 [00:22<00:00, 133.41it/s]\n",
      " 57%|█████████████████████████████████████████████▌                                  | 91/160 [00:00<00:00, 446.81it/s]"
     ]
    },
    {
     "name": "stdout",
     "output_type": "stream",
     "text": [
      "Train loss 0.09226442040931532\n"
     ]
    },
    {
     "name": "stderr",
     "output_type": "stream",
     "text": [
      "100%|███████████████████████████████████████████████████████████████████████████████| 160/160 [00:00<00:00, 480.07it/s]\n",
      "  0%|▎                                                                              | 13/3028 [00:00<00:23, 129.29it/s]"
     ]
    },
    {
     "name": "stdout",
     "output_type": "stream",
     "text": [
      "similarity score 0.47962382445141066\n",
      "Evaluate loss 0.0981774777173996\n",
      "================================================== EPOCH 40 ==================================================\n"
     ]
    },
    {
     "name": "stderr",
     "output_type": "stream",
     "text": [
      "100%|█████████████████████████████████████████████████████████████████████████████| 3028/3028 [00:22<00:00, 133.25it/s]\n",
      " 56%|████████████████████████████████████████████▌                                   | 89/160 [00:00<00:00, 441.15it/s]"
     ]
    },
    {
     "name": "stdout",
     "output_type": "stream",
     "text": [
      "Train loss 0.09163436427156661\n"
     ]
    },
    {
     "name": "stderr",
     "output_type": "stream",
     "text": [
      "100%|███████████████████████████████████████████████████████████████████████████████| 160/160 [00:00<00:00, 468.68it/s]\n",
      "  0%|▎                                                                              | 14/3028 [00:00<00:21, 139.19it/s]"
     ]
    },
    {
     "name": "stdout",
     "output_type": "stream",
     "text": [
      "similarity score 0.5031347962382445\n",
      "Evaluate loss 0.09736286848783493\n",
      "================================================== EPOCH 41 ==================================================\n"
     ]
    },
    {
     "name": "stderr",
     "output_type": "stream",
     "text": [
      "100%|█████████████████████████████████████████████████████████████████████████████| 3028/3028 [00:22<00:00, 133.36it/s]\n",
      " 57%|█████████████████████████████████████████████▌                                  | 91/160 [00:00<00:00, 446.77it/s]"
     ]
    },
    {
     "name": "stdout",
     "output_type": "stream",
     "text": [
      "Train loss 0.09181903594469067\n"
     ]
    },
    {
     "name": "stderr",
     "output_type": "stream",
     "text": [
      "100%|███████████████████████████████████████████████████████████████████████████████| 160/160 [00:00<00:00, 485.83it/s]\n",
      "  0%|▎                                                                              | 13/3028 [00:00<00:23, 129.33it/s]"
     ]
    },
    {
     "name": "stdout",
     "output_type": "stream",
     "text": [
      "similarity score 0.4772727272727273\n",
      "Evaluate loss 0.09809989482164383\n",
      "================================================== EPOCH 42 ==================================================\n"
     ]
    },
    {
     "name": "stderr",
     "output_type": "stream",
     "text": [
      "100%|█████████████████████████████████████████████████████████████████████████████| 3028/3028 [00:22<00:00, 133.97it/s]\n",
      " 57%|█████████████████████████████████████████████▌                                  | 91/160 [00:00<00:00, 451.23it/s]"
     ]
    },
    {
     "name": "stdout",
     "output_type": "stream",
     "text": [
      "Train loss 0.0918544638665735\n"
     ]
    },
    {
     "name": "stderr",
     "output_type": "stream",
     "text": [
      "100%|███████████████████████████████████████████████████████████████████████████████| 160/160 [00:00<00:00, 480.03it/s]\n",
      "  0%|▎                                                                              | 14/3028 [00:00<00:21, 139.29it/s]"
     ]
    },
    {
     "name": "stdout",
     "output_type": "stream",
     "text": [
      "similarity score 0.5188087774294671\n",
      "Evaluate loss 0.0959438756108284\n",
      "================================================== EPOCH 43 ==================================================\n"
     ]
    },
    {
     "name": "stderr",
     "output_type": "stream",
     "text": [
      "100%|█████████████████████████████████████████████████████████████████████████████| 3028/3028 [00:22<00:00, 134.39it/s]\n",
      " 28%|██████████████████████▌                                                         | 45/160 [00:00<00:00, 448.31it/s]"
     ]
    },
    {
     "name": "stdout",
     "output_type": "stream",
     "text": [
      "Train loss 0.09126219753850476\n"
     ]
    },
    {
     "name": "stderr",
     "output_type": "stream",
     "text": [
      "100%|███████████████████████████████████████████████████████████████████████████████| 160/160 [00:00<00:00, 482.80it/s]\n",
      "  0%|▎                                                                              | 13/3028 [00:00<00:23, 129.37it/s]"
     ]
    },
    {
     "name": "stdout",
     "output_type": "stream",
     "text": [
      "similarity score 0.47100313479623823\n",
      "Evaluate loss 0.09864051640033722\n",
      "================================================== EPOCH 44 ==================================================\n"
     ]
    },
    {
     "name": "stderr",
     "output_type": "stream",
     "text": [
      "100%|█████████████████████████████████████████████████████████████████████████████| 3028/3028 [00:22<00:00, 132.21it/s]\n",
      " 54%|███████████████████████████████████████████▌                                    | 87/160 [00:00<00:00, 421.20it/s]"
     ]
    },
    {
     "name": "stdout",
     "output_type": "stream",
     "text": [
      "Train loss 0.09079041853384084\n"
     ]
    },
    {
     "name": "stderr",
     "output_type": "stream",
     "text": [
      "100%|███████████████████████████████████████████████████████████████████████████████| 160/160 [00:00<00:00, 465.16it/s]\n",
      "  1%|▋                                                                              | 25/3028 [00:00<00:24, 121.24it/s]"
     ]
    },
    {
     "name": "stdout",
     "output_type": "stream",
     "text": [
      "similarity score 0.49686520376175547\n",
      "Evaluate loss 0.09812014549970627\n",
      "================================================== EPOCH 45 ==================================================\n"
     ]
    },
    {
     "name": "stderr",
     "output_type": "stream",
     "text": [
      "100%|█████████████████████████████████████████████████████████████████████████████| 3028/3028 [00:23<00:00, 129.39it/s]\n",
      " 51%|█████████████████████████████████████████                                       | 82/160 [00:00<00:00, 398.34it/s]"
     ]
    },
    {
     "name": "stdout",
     "output_type": "stream",
     "text": [
      "Train loss 0.09043610527529534\n"
     ]
    },
    {
     "name": "stderr",
     "output_type": "stream",
     "text": [
      "100%|███████████████████████████████████████████████████████████████████████████████| 160/160 [00:00<00:00, 444.54it/s]\n",
      "  0%|▎                                                                              | 13/3028 [00:00<00:23, 129.08it/s]"
     ]
    },
    {
     "name": "stdout",
     "output_type": "stream",
     "text": [
      "similarity score 0.5109717868338558\n",
      "Evaluate loss 0.09915543347597122\n",
      "================================================== EPOCH 46 ==================================================\n"
     ]
    },
    {
     "name": "stderr",
     "output_type": "stream",
     "text": [
      "100%|█████████████████████████████████████████████████████████████████████████████| 3028/3028 [00:23<00:00, 127.03it/s]\n",
      " 28%|██████████████████████                                                          | 44/160 [00:00<00:00, 438.07it/s]"
     ]
    },
    {
     "name": "stdout",
     "output_type": "stream",
     "text": [
      "Train loss 0.09050602941740614\n"
     ]
    },
    {
     "name": "stderr",
     "output_type": "stream",
     "text": [
      "100%|███████████████████████████████████████████████████████████████████████████████| 160/160 [00:00<00:00, 482.92it/s]\n",
      "  0%|▎                                                                              | 14/3028 [00:00<00:21, 139.06it/s]"
     ]
    },
    {
     "name": "stdout",
     "output_type": "stream",
     "text": [
      "similarity score 0.5274294670846394\n",
      "Evaluate loss 0.09480586647987366\n",
      "================================================== EPOCH 47 ==================================================\n"
     ]
    },
    {
     "name": "stderr",
     "output_type": "stream",
     "text": [
      "100%|█████████████████████████████████████████████████████████████████████████████| 3028/3028 [00:22<00:00, 132.71it/s]\n",
      " 55%|████████████████████████████████████████████                                    | 88/160 [00:00<00:00, 434.06it/s]"
     ]
    },
    {
     "name": "stdout",
     "output_type": "stream",
     "text": [
      "Train loss 0.0899790916640325\n"
     ]
    },
    {
     "name": "stderr",
     "output_type": "stream",
     "text": [
      "100%|███████████████████████████████████████████████████████████████████████████████| 160/160 [00:00<00:00, 482.93it/s]\n",
      "  0%|▎                                                                              | 14/3028 [00:00<00:21, 139.19it/s]"
     ]
    },
    {
     "name": "stdout",
     "output_type": "stream",
     "text": [
      "similarity score 0.5039184952978056\n",
      "Evaluate loss 0.09581510722637177\n",
      "================================================== EPOCH 48 ==================================================\n"
     ]
    },
    {
     "name": "stderr",
     "output_type": "stream",
     "text": [
      "100%|█████████████████████████████████████████████████████████████████████████████| 3028/3028 [00:22<00:00, 133.38it/s]\n",
      " 28%|██████████████████████▌                                                         | 45/160 [00:00<00:00, 448.33it/s]"
     ]
    },
    {
     "name": "stdout",
     "output_type": "stream",
     "text": [
      "Train loss 0.090024225153518\n"
     ]
    },
    {
     "name": "stderr",
     "output_type": "stream",
     "text": [
      "100%|███████████████████████████████████████████████████████████████████████████████| 160/160 [00:00<00:00, 483.00it/s]\n",
      "  0%|▎                                                                              | 14/3028 [00:00<00:21, 139.16it/s]"
     ]
    },
    {
     "name": "stdout",
     "output_type": "stream",
     "text": [
      "similarity score 0.49059561128526646\n",
      "Evaluate loss 0.09387049078941345\n",
      "================================================== EPOCH 49 ==================================================\n"
     ]
    },
    {
     "name": "stderr",
     "output_type": "stream",
     "text": [
      "100%|█████████████████████████████████████████████████████████████████████████████| 3028/3028 [00:22<00:00, 132.73it/s]\n",
      " 29%|███████████████████████                                                         | 46/160 [00:00<00:00, 458.12it/s]"
     ]
    },
    {
     "name": "stdout",
     "output_type": "stream",
     "text": [
      "Train loss 0.08976839306846426\n"
     ]
    },
    {
     "name": "stderr",
     "output_type": "stream",
     "text": [
      "100%|███████████████████████████████████████████████████████████████████████████████| 160/160 [00:00<00:00, 479.96it/s]\n",
      "  0%|▎                                                                              | 14/3028 [00:00<00:22, 136.46it/s]"
     ]
    },
    {
     "name": "stdout",
     "output_type": "stream",
     "text": [
      "similarity score 0.5250783699059561\n",
      "Evaluate loss 0.0958145260810852\n",
      "================================================== EPOCH 50 ==================================================\n"
     ]
    },
    {
     "name": "stderr",
     "output_type": "stream",
     "text": [
      "100%|█████████████████████████████████████████████████████████████████████████████| 3028/3028 [00:22<00:00, 133.37it/s]\n",
      " 28%|██████████████████████▌                                                         | 45/160 [00:00<00:00, 448.32it/s]"
     ]
    },
    {
     "name": "stdout",
     "output_type": "stream",
     "text": [
      "Train loss 0.08922592325982191\n"
     ]
    },
    {
     "name": "stderr",
     "output_type": "stream",
     "text": [
      "100%|███████████████████████████████████████████████████████████████████████████████| 160/160 [00:00<00:00, 482.87it/s]\n",
      "  0%|▎                                                                              | 14/3028 [00:00<00:21, 139.10it/s]"
     ]
    },
    {
     "name": "stdout",
     "output_type": "stream",
     "text": [
      "similarity score 0.5195924764890282\n",
      "Evaluate loss 0.09471562504768372\n",
      "================================================== EPOCH 51 ==================================================\n"
     ]
    },
    {
     "name": "stderr",
     "output_type": "stream",
     "text": [
      "100%|█████████████████████████████████████████████████████████████████████████████| 3028/3028 [00:22<00:00, 133.90it/s]\n",
      " 29%|███████████████████████▌                                                        | 47/160 [00:00<00:00, 467.38it/s]"
     ]
    },
    {
     "name": "stdout",
     "output_type": "stream",
     "text": [
      "Train loss 0.08911123193349552\n"
     ]
    },
    {
     "name": "stderr",
     "output_type": "stream",
     "text": [
      "100%|███████████████████████████████████████████████████████████████████████████████| 160/160 [00:00<00:00, 482.63it/s]\n",
      "  0%|▎                                                                              | 14/3028 [00:00<00:21, 139.27it/s]"
     ]
    },
    {
     "name": "stdout",
     "output_type": "stream",
     "text": [
      "similarity score 0.47100313479623823\n",
      "Evaluate loss 0.09580492973327637\n",
      "================================================== EPOCH 52 ==================================================\n"
     ]
    },
    {
     "name": "stderr",
     "output_type": "stream",
     "text": [
      "100%|█████████████████████████████████████████████████████████████████████████████| 3028/3028 [00:22<00:00, 133.73it/s]\n",
      " 29%|███████████████████████                                                         | 46/160 [00:00<00:00, 458.02it/s]"
     ]
    },
    {
     "name": "stdout",
     "output_type": "stream",
     "text": [
      "Train loss 0.08938260389086845\n"
     ]
    },
    {
     "name": "stderr",
     "output_type": "stream",
     "text": [
      "100%|███████████████████████████████████████████████████████████████████████████████| 160/160 [00:00<00:00, 485.81it/s]\n",
      "  1%|▋                                                                              | 27/3028 [00:00<00:22, 136.12it/s]"
     ]
    },
    {
     "name": "stdout",
     "output_type": "stream",
     "text": [
      "similarity score 0.5203761755485894\n",
      "Evaluate loss 0.09500095993280411\n",
      "================================================== EPOCH 53 ==================================================\n"
     ]
    },
    {
     "name": "stderr",
     "output_type": "stream",
     "text": [
      "100%|█████████████████████████████████████████████████████████████████████████████| 3028/3028 [00:22<00:00, 134.10it/s]\n",
      " 57%|██████████████████████████████████████████████                                  | 92/160 [00:00<00:00, 458.18it/s]"
     ]
    },
    {
     "name": "stdout",
     "output_type": "stream",
     "text": [
      "Train loss 0.08885059993591989\n"
     ]
    },
    {
     "name": "stderr",
     "output_type": "stream",
     "text": [
      "100%|███████████████████████████████████████████████████████████████████████████████| 160/160 [00:00<00:00, 498.04it/s]\n",
      "  0%|▎                                                                              | 13/3028 [00:00<00:23, 129.28it/s]"
     ]
    },
    {
     "name": "stdout",
     "output_type": "stream",
     "text": [
      "similarity score 0.5195924764890282\n",
      "Evaluate loss 0.0933929830789566\n",
      "================================================== EPOCH 54 ==================================================\n"
     ]
    },
    {
     "name": "stderr",
     "output_type": "stream",
     "text": [
      "100%|█████████████████████████████████████████████████████████████████████████████| 3028/3028 [00:22<00:00, 134.51it/s]\n",
      " 29%|███████████████████████▌                                                        | 47/160 [00:00<00:00, 468.16it/s]"
     ]
    },
    {
     "name": "stdout",
     "output_type": "stream",
     "text": [
      "Train loss 0.08870143011179131\n"
     ]
    },
    {
     "name": "stderr",
     "output_type": "stream",
     "text": [
      "100%|███████████████████████████████████████████████████████████████████████████████| 160/160 [00:00<00:00, 497.84it/s]\n",
      "  0%|▎                                                                              | 14/3028 [00:00<00:21, 139.24it/s]"
     ]
    },
    {
     "name": "stdout",
     "output_type": "stream",
     "text": [
      "similarity score 0.5211598746081505\n",
      "Evaluate loss 0.09512107074260712\n",
      "================================================== EPOCH 55 ==================================================\n"
     ]
    },
    {
     "name": "stderr",
     "output_type": "stream",
     "text": [
      "100%|█████████████████████████████████████████████████████████████████████████████| 3028/3028 [00:22<00:00, 132.50it/s]\n",
      " 54%|███████████████████████████████████████████                                     | 86/160 [00:00<00:00, 423.95it/s]"
     ]
    },
    {
     "name": "stdout",
     "output_type": "stream",
     "text": [
      "Train loss 0.08830014374370095\n"
     ]
    },
    {
     "name": "stderr",
     "output_type": "stream",
     "text": [
      "100%|███████████████████████████████████████████████████████████████████████████████| 160/160 [00:00<00:00, 457.76it/s]\n",
      "  0%|▎                                                                              | 13/3028 [00:00<00:23, 129.32it/s]"
     ]
    },
    {
     "name": "stdout",
     "output_type": "stream",
     "text": [
      "similarity score 0.5031347962382445\n",
      "Evaluate loss 0.09152527898550034\n",
      "================================================== EPOCH 56 ==================================================\n"
     ]
    },
    {
     "name": "stderr",
     "output_type": "stream",
     "text": [
      "100%|█████████████████████████████████████████████████████████████████████████████| 3028/3028 [00:22<00:00, 132.91it/s]\n",
      " 54%|███████████████████████████████████████████▌                                    | 87/160 [00:00<00:00, 431.20it/s]"
     ]
    },
    {
     "name": "stdout",
     "output_type": "stream",
     "text": [
      "Train loss 0.08873018773861323\n"
     ]
    },
    {
     "name": "stderr",
     "output_type": "stream",
     "text": [
      "100%|███████████████████████████████████████████████████████████████████████████████| 160/160 [00:00<00:00, 471.45it/s]\n",
      "  0%|▎                                                                              | 14/3028 [00:00<00:22, 136.56it/s]"
     ]
    },
    {
     "name": "stdout",
     "output_type": "stream",
     "text": [
      "similarity score 0.5219435736677116\n",
      "Evaluate loss 0.09496939927339554\n",
      "================================================== EPOCH 57 ==================================================\n"
     ]
    },
    {
     "name": "stderr",
     "output_type": "stream",
     "text": [
      "100%|█████████████████████████████████████████████████████████████████████████████| 3028/3028 [00:22<00:00, 132.12it/s]\n",
      " 28%|██████████████████████▌                                                         | 45/160 [00:00<00:00, 448.08it/s]"
     ]
    },
    {
     "name": "stdout",
     "output_type": "stream",
     "text": [
      "Train loss 0.08867116793396525\n"
     ]
    },
    {
     "name": "stderr",
     "output_type": "stream",
     "text": [
      "100%|███████████████████████████████████████████████████████████████████████████████| 160/160 [00:00<00:00, 479.94it/s]\n",
      "  0%|▎                                                                              | 14/3028 [00:00<00:21, 139.23it/s]"
     ]
    },
    {
     "name": "stdout",
     "output_type": "stream",
     "text": [
      "similarity score 0.4898119122257053\n",
      "Evaluate loss 0.09712035208940506\n",
      "================================================== EPOCH 58 ==================================================\n"
     ]
    },
    {
     "name": "stderr",
     "output_type": "stream",
     "text": [
      "100%|█████████████████████████████████████████████████████████████████████████████| 3028/3028 [00:22<00:00, 133.15it/s]\n",
      " 29%|███████████████████████                                                         | 46/160 [00:00<00:00, 458.02it/s]"
     ]
    },
    {
     "name": "stdout",
     "output_type": "stream",
     "text": [
      "Train loss 0.08837136194822556\n"
     ]
    },
    {
     "name": "stderr",
     "output_type": "stream",
     "text": [
      "100%|███████████████████████████████████████████████████████████████████████████████| 160/160 [00:00<00:00, 471.37it/s]\n",
      "  1%|▋                                                                              | 26/3028 [00:00<00:23, 129.26it/s]"
     ]
    },
    {
     "name": "stdout",
     "output_type": "stream",
     "text": [
      "similarity score 0.5031347962382445\n",
      "Evaluate loss 0.09673982113599777\n",
      "================================================== EPOCH 59 ==================================================\n"
     ]
    },
    {
     "name": "stderr",
     "output_type": "stream",
     "text": [
      "100%|█████████████████████████████████████████████████████████████████████████████| 3028/3028 [00:23<00:00, 126.88it/s]\n",
      " 58%|██████████████████████████████████████████████▌                                 | 93/160 [00:00<00:00, 460.90it/s]"
     ]
    },
    {
     "name": "stdout",
     "output_type": "stream",
     "text": [
      "Train loss 0.08779643119896899\n"
     ]
    },
    {
     "name": "stderr",
     "output_type": "stream",
     "text": [
      "100%|███████████████████████████████████████████████████████████████████████████████| 160/160 [00:00<00:00, 497.76it/s]\n",
      "  0%|▎                                                                              | 13/3028 [00:00<00:23, 129.26it/s]"
     ]
    },
    {
     "name": "stdout",
     "output_type": "stream",
     "text": [
      "similarity score 0.5227272727272727\n",
      "Evaluate loss 0.09555671364068985\n",
      "================================================== EPOCH 60 ==================================================\n"
     ]
    },
    {
     "name": "stderr",
     "output_type": "stream",
     "text": [
      "100%|█████████████████████████████████████████████████████████████████████████████| 3028/3028 [00:22<00:00, 134.07it/s]\n",
      " 28%|██████████████████████▌                                                         | 45/160 [00:00<00:00, 448.39it/s]"
     ]
    },
    {
     "name": "stdout",
     "output_type": "stream",
     "text": [
      "Train loss 0.08814622815024807\n"
     ]
    },
    {
     "name": "stderr",
     "output_type": "stream",
     "text": [
      "100%|███████████████████████████████████████████████████████████████████████████████| 160/160 [00:00<00:00, 498.04it/s]\n",
      "  0%|▎                                                                              | 13/3028 [00:00<00:23, 129.35it/s]"
     ]
    },
    {
     "name": "stdout",
     "output_type": "stream",
     "text": [
      "similarity score 0.4952978056426332\n",
      "Evaluate loss 0.09364262223243713\n",
      "================================================== EPOCH 61 ==================================================\n"
     ]
    },
    {
     "name": "stderr",
     "output_type": "stream",
     "text": [
      "100%|█████████████████████████████████████████████████████████████████████████████| 3028/3028 [00:22<00:00, 134.14it/s]\n",
      " 58%|██████████████████████████████████████████████▌                                 | 93/160 [00:00<00:00, 468.60it/s]"
     ]
    },
    {
     "name": "stdout",
     "output_type": "stream",
     "text": [
      "Train loss 0.08774535901467113\n"
     ]
    },
    {
     "name": "stderr",
     "output_type": "stream",
     "text": [
      "100%|███████████████████████████████████████████████████████████████████████████████| 160/160 [00:00<00:00, 497.87it/s]\n",
      "  0%|▎                                                                              | 14/3028 [00:00<00:22, 136.54it/s]"
     ]
    },
    {
     "name": "stdout",
     "output_type": "stream",
     "text": [
      "similarity score 0.48510971786833856\n",
      "Evaluate loss 0.09347005188465118\n",
      "================================================== EPOCH 62 ==================================================\n"
     ]
    },
    {
     "name": "stderr",
     "output_type": "stream",
     "text": [
      "100%|█████████████████████████████████████████████████████████████████████████████| 3028/3028 [00:22<00:00, 134.06it/s]\n",
      " 56%|████████████████████████████████████████████▌                                   | 89/160 [00:00<00:00, 436.73it/s]"
     ]
    },
    {
     "name": "stdout",
     "output_type": "stream",
     "text": [
      "Train loss 0.08741628337046194\n"
     ]
    },
    {
     "name": "stderr",
     "output_type": "stream",
     "text": [
      "100%|███████████████████████████████████████████████████████████████████████████████| 160/160 [00:00<00:00, 482.85it/s]\n",
      "  0%|▎                                                                              | 14/3028 [00:00<00:21, 139.17it/s]"
     ]
    },
    {
     "name": "stdout",
     "output_type": "stream",
     "text": [
      "similarity score 0.5289968652037618\n",
      "Evaluate loss 0.09492383897304535\n",
      "================================================== EPOCH 63 ==================================================\n"
     ]
    },
    {
     "name": "stderr",
     "output_type": "stream",
     "text": [
      "100%|█████████████████████████████████████████████████████████████████████████████| 3028/3028 [00:22<00:00, 133.98it/s]\n",
      " 57%|██████████████████████████████████████████████                                  | 92/160 [00:00<00:00, 458.28it/s]"
     ]
    },
    {
     "name": "stdout",
     "output_type": "stream",
     "text": [
      "Train loss 0.08799761281268181\n"
     ]
    },
    {
     "name": "stderr",
     "output_type": "stream",
     "text": [
      "100%|███████████████████████████████████████████████████████████████████████████████| 160/160 [00:00<00:00, 483.07it/s]\n",
      "  0%|▎                                                                              | 13/3028 [00:00<00:23, 129.35it/s]"
     ]
    },
    {
     "name": "stdout",
     "output_type": "stream",
     "text": [
      "similarity score 0.524294670846395\n",
      "Evaluate loss 0.09387050569057465\n",
      "================================================== EPOCH 64 ==================================================\n"
     ]
    },
    {
     "name": "stderr",
     "output_type": "stream",
     "text": [
      "100%|█████████████████████████████████████████████████████████████████████████████| 3028/3028 [00:22<00:00, 133.41it/s]\n",
      " 57%|█████████████████████████████████████████████▌                                  | 91/160 [00:00<00:00, 451.19it/s]"
     ]
    },
    {
     "name": "stdout",
     "output_type": "stream",
     "text": [
      "Train loss 0.08761683469747415\n"
     ]
    },
    {
     "name": "stderr",
     "output_type": "stream",
     "text": [
      "100%|███████████████████████████████████████████████████████████████████████████████| 160/160 [00:00<00:00, 494.89it/s]\n",
      "  1%|▋                                                                              | 27/3028 [00:00<00:22, 132.10it/s]"
     ]
    },
    {
     "name": "stdout",
     "output_type": "stream",
     "text": [
      "similarity score 0.5070532915360502\n",
      "Evaluate loss 0.0949186235666275\n",
      "================================================== EPOCH 65 ==================================================\n"
     ]
    },
    {
     "name": "stderr",
     "output_type": "stream",
     "text": [
      "100%|█████████████████████████████████████████████████████████████████████████████| 3028/3028 [00:22<00:00, 133.82it/s]\n",
      " 26%|█████████████████████                                                           | 42/160 [00:00<00:00, 418.18it/s]"
     ]
    },
    {
     "name": "stdout",
     "output_type": "stream",
     "text": [
      "Train loss 0.0874608852299265\n"
     ]
    },
    {
     "name": "stderr",
     "output_type": "stream",
     "text": [
      "100%|███████████████████████████████████████████████████████████████████████████████| 160/160 [00:00<00:00, 455.38it/s]\n",
      "  0%|▎                                                                              | 14/3028 [00:00<00:22, 136.56it/s]"
     ]
    },
    {
     "name": "stdout",
     "output_type": "stream",
     "text": [
      "similarity score 0.5\n",
      "Evaluate loss 0.0948324128985405\n",
      "================================================== EPOCH 66 ==================================================\n"
     ]
    },
    {
     "name": "stderr",
     "output_type": "stream",
     "text": [
      "100%|█████████████████████████████████████████████████████████████████████████████| 3028/3028 [00:22<00:00, 133.53it/s]\n",
      " 28%|██████████████████████▌                                                         | 45/160 [00:00<00:00, 448.15it/s]"
     ]
    },
    {
     "name": "stdout",
     "output_type": "stream",
     "text": [
      "Train loss 0.08724489122654694\n"
     ]
    },
    {
     "name": "stderr",
     "output_type": "stream",
     "text": [
      "100%|███████████████████████████████████████████████████████████████████████████████| 160/160 [00:00<00:00, 471.34it/s]\n",
      "  0%|▎                                                                              | 14/3028 [00:00<00:22, 136.41it/s]"
     ]
    },
    {
     "name": "stdout",
     "output_type": "stream",
     "text": [
      "similarity score 0.5047021943573667\n",
      "Evaluate loss 0.09557652473449707\n",
      "================================================== EPOCH 67 ==================================================\n"
     ]
    },
    {
     "name": "stderr",
     "output_type": "stream",
     "text": [
      "100%|█████████████████████████████████████████████████████████████████████████████| 3028/3028 [00:22<00:00, 133.42it/s]\n",
      " 56%|████████████████████████████████████████████▌                                   | 89/160 [00:00<00:00, 436.81it/s]"
     ]
    },
    {
     "name": "stdout",
     "output_type": "stream",
     "text": [
      "Train loss 0.08733868648702847\n"
     ]
    },
    {
     "name": "stderr",
     "output_type": "stream",
     "text": [
      "100%|███████████████████████████████████████████████████████████████████████████████| 160/160 [00:00<00:00, 482.90it/s]\n",
      "  0%|▎                                                                              | 13/3028 [00:00<00:23, 129.38it/s]"
     ]
    },
    {
     "name": "stdout",
     "output_type": "stream",
     "text": [
      "similarity score 0.5062695924764891\n",
      "Evaluate loss 0.09533703327178955\n",
      "================================================== EPOCH 68 ==================================================\n"
     ]
    },
    {
     "name": "stderr",
     "output_type": "stream",
     "text": [
      "100%|█████████████████████████████████████████████████████████████████████████████| 3028/3028 [00:23<00:00, 130.66it/s]\n",
      " 56%|█████████████████████████████████████████████                                   | 90/160 [00:00<00:00, 439.45it/s]"
     ]
    },
    {
     "name": "stdout",
     "output_type": "stream",
     "text": [
      "Train loss 0.08725718059361749\n"
     ]
    },
    {
     "name": "stderr",
     "output_type": "stream",
     "text": [
      "100%|███████████████████████████████████████████████████████████████████████████████| 160/160 [00:00<00:00, 468.46it/s]\n",
      "  1%|▋                                                                              | 27/3028 [00:00<00:22, 132.13it/s]"
     ]
    },
    {
     "name": "stdout",
     "output_type": "stream",
     "text": [
      "similarity score 0.5039184952978056\n",
      "Evaluate loss 0.09690575301647186\n",
      "================================================== EPOCH 69 ==================================================\n"
     ]
    },
    {
     "name": "stderr",
     "output_type": "stream",
     "text": [
      "100%|█████████████████████████████████████████████████████████████████████████████| 3028/3028 [00:22<00:00, 132.77it/s]\n",
      " 28%|██████████████████████                                                          | 44/160 [00:00<00:00, 438.26it/s]"
     ]
    },
    {
     "name": "stdout",
     "output_type": "stream",
     "text": [
      "Train loss 0.08677521492326891\n"
     ]
    },
    {
     "name": "stderr",
     "output_type": "stream",
     "text": [
      "100%|███████████████████████████████████████████████████████████████████████████████| 160/160 [00:00<00:00, 482.94it/s]\n",
      "  0%|▎                                                                              | 13/3028 [00:00<00:23, 129.18it/s]"
     ]
    },
    {
     "name": "stdout",
     "output_type": "stream",
     "text": [
      "similarity score 0.4945141065830721\n",
      "Evaluate loss 0.09438703209161758\n",
      "================================================== EPOCH 70 ==================================================\n"
     ]
    },
    {
     "name": "stderr",
     "output_type": "stream",
     "text": [
      "100%|█████████████████████████████████████████████████████████████████████████████| 3028/3028 [00:22<00:00, 133.13it/s]\n",
      " 29%|███████████████████████▌                                                        | 47/160 [00:00<00:00, 467.92it/s]"
     ]
    },
    {
     "name": "stdout",
     "output_type": "stream",
     "text": [
      "Train loss 0.08725945971757937\n"
     ]
    },
    {
     "name": "stderr",
     "output_type": "stream",
     "text": [
      "100%|███████████████████████████████████████████████████████████████████████████████| 160/160 [00:00<00:00, 482.68it/s]\n",
      "  0%|▎                                                                              | 13/3028 [00:00<00:23, 129.18it/s]"
     ]
    },
    {
     "name": "stdout",
     "output_type": "stream",
     "text": [
      "similarity score 0.5399686520376176\n",
      "Evaluate loss 0.0913175716996193\n",
      "================================================== EPOCH 71 ==================================================\n"
     ]
    },
    {
     "name": "stderr",
     "output_type": "stream",
     "text": [
      "100%|█████████████████████████████████████████████████████████████████████████████| 3028/3028 [00:22<00:00, 133.95it/s]\n",
      " 29%|███████████████████████▌                                                        | 47/160 [00:00<00:00, 467.84it/s]"
     ]
    },
    {
     "name": "stdout",
     "output_type": "stream",
     "text": [
      "Train loss 0.08669944779965547\n"
     ]
    },
    {
     "name": "stderr",
     "output_type": "stream",
     "text": [
      "100%|███████████████████████████████████████████████████████████████████████████████| 160/160 [00:00<00:00, 479.82it/s]\n",
      "  0%|▍                                                                              | 15/3028 [00:00<00:20, 149.22it/s]"
     ]
    },
    {
     "name": "stdout",
     "output_type": "stream",
     "text": [
      "similarity score 0.5156739811912225\n",
      "Evaluate loss 0.09299946576356888\n",
      "================================================== EPOCH 72 ==================================================\n"
     ]
    },
    {
     "name": "stderr",
     "output_type": "stream",
     "text": [
      "100%|█████████████████████████████████████████████████████████████████████████████| 3028/3028 [00:22<00:00, 134.51it/s]\n",
      " 56%|█████████████████████████████████████████████                                   | 90/160 [00:00<00:00, 443.72it/s]"
     ]
    },
    {
     "name": "stdout",
     "output_type": "stream",
     "text": [
      "Train loss 0.08679189930675807\n"
     ]
    },
    {
     "name": "stderr",
     "output_type": "stream",
     "text": [
      "100%|███████████████████████████████████████████████████████████████████████████████| 160/160 [00:00<00:00, 455.10it/s]\n",
      "  0%|▎                                                                              | 14/3028 [00:00<00:21, 139.26it/s]"
     ]
    },
    {
     "name": "stdout",
     "output_type": "stream",
     "text": [
      "similarity score 0.4843260188087774\n",
      "Evaluate loss 0.09145534783601761\n",
      "================================================== EPOCH 73 ==================================================\n"
     ]
    },
    {
     "name": "stderr",
     "output_type": "stream",
     "text": [
      "100%|█████████████████████████████████████████████████████████████████████████████| 3028/3028 [00:22<00:00, 134.87it/s]\n",
      " 59%|███████████████████████████████████████████████                                 | 94/160 [00:00<00:00, 468.13it/s]"
     ]
    },
    {
     "name": "stdout",
     "output_type": "stream",
     "text": [
      "Train loss 0.08627319947517781\n"
     ]
    },
    {
     "name": "stderr",
     "output_type": "stream",
     "text": [
      "100%|███████████████████████████████████████████████████████████████████████████████| 160/160 [00:00<00:00, 494.81it/s]\n",
      "  0%|▎                                                                              | 14/3028 [00:00<00:21, 139.19it/s]"
     ]
    },
    {
     "name": "stdout",
     "output_type": "stream",
     "text": [
      "similarity score 0.49216300940438873\n",
      "Evaluate loss 0.09181582927703857\n",
      "================================================== EPOCH 74 ==================================================\n"
     ]
    },
    {
     "name": "stderr",
     "output_type": "stream",
     "text": [
      "100%|█████████████████████████████████████████████████████████████████████████████| 3028/3028 [00:22<00:00, 134.34it/s]\n",
      " 57%|█████████████████████████████████████████████▌                                  | 91/160 [00:00<00:00, 451.03it/s]"
     ]
    },
    {
     "name": "stdout",
     "output_type": "stream",
     "text": [
      "Train loss 0.0868949430466899\n"
     ]
    },
    {
     "name": "stderr",
     "output_type": "stream",
     "text": [
      "100%|███████████████████████████████████████████████████████████████████████████████| 160/160 [00:00<00:00, 479.85it/s]\n",
      "  0%|▎                                                                              | 13/3028 [00:00<00:23, 129.36it/s]"
     ]
    },
    {
     "name": "stdout",
     "output_type": "stream",
     "text": [
      "similarity score 0.518025078369906\n",
      "Evaluate loss 0.09131240099668503\n",
      "================================================== EPOCH 75 ==================================================\n"
     ]
    },
    {
     "name": "stderr",
     "output_type": "stream",
     "text": [
      "100%|█████████████████████████████████████████████████████████████████████████████| 3028/3028 [00:22<00:00, 134.45it/s]\n",
      " 28%|██████████████████████                                                          | 44/160 [00:00<00:00, 438.20it/s]"
     ]
    },
    {
     "name": "stdout",
     "output_type": "stream",
     "text": [
      "Train loss 0.0861557797575554\n"
     ]
    },
    {
     "name": "stderr",
     "output_type": "stream",
     "text": [
      "100%|███████████████████████████████████████████████████████████████████████████████| 160/160 [00:00<00:00, 468.67it/s]\n",
      "  0%|▎                                                                              | 14/3028 [00:00<00:21, 139.03it/s]"
     ]
    },
    {
     "name": "stdout",
     "output_type": "stream",
     "text": [
      "similarity score 0.5227272727272727\n",
      "Evaluate loss 0.0963689535856247\n",
      "================================================== EPOCH 76 ==================================================\n"
     ]
    },
    {
     "name": "stderr",
     "output_type": "stream",
     "text": [
      "100%|█████████████████████████████████████████████████████████████████████████████| 3028/3028 [00:22<00:00, 134.65it/s]\n",
      " 28%|██████████████████████▌                                                         | 45/160 [00:00<00:00, 447.87it/s]"
     ]
    },
    {
     "name": "stdout",
     "output_type": "stream",
     "text": [
      "Train loss 0.08620793537557854\n"
     ]
    },
    {
     "name": "stderr",
     "output_type": "stream",
     "text": [
      "100%|███████████████████████████████████████████████████████████████████████████████| 160/160 [00:00<00:00, 482.54it/s]\n",
      "  0%|▎                                                                              | 14/3028 [00:00<00:21, 139.18it/s]"
     ]
    },
    {
     "name": "stdout",
     "output_type": "stream",
     "text": [
      "similarity score 0.5141065830721003\n",
      "Evaluate loss 0.09523080289363861\n",
      "================================================== EPOCH 77 ==================================================\n"
     ]
    },
    {
     "name": "stderr",
     "output_type": "stream",
     "text": [
      "100%|█████████████████████████████████████████████████████████████████████████████| 3028/3028 [00:22<00:00, 134.15it/s]\n",
      " 56%|█████████████████████████████████████████████                                   | 90/160 [00:00<00:00, 448.13it/s]"
     ]
    },
    {
     "name": "stdout",
     "output_type": "stream",
     "text": [
      "Train loss 0.08607536329318187\n"
     ]
    },
    {
     "name": "stderr",
     "output_type": "stream",
     "text": [
      "100%|███████████████████████████████████████████████████████████████████████████████| 160/160 [00:00<00:00, 482.83it/s]\n",
      "  0%|▎                                                                              | 13/3028 [00:00<00:23, 129.23it/s]"
     ]
    },
    {
     "name": "stdout",
     "output_type": "stream",
     "text": [
      "similarity score 0.5086206896551724\n",
      "Evaluate loss 0.09281925857067108\n",
      "================================================== EPOCH 78 ==================================================\n"
     ]
    },
    {
     "name": "stderr",
     "output_type": "stream",
     "text": [
      "100%|█████████████████████████████████████████████████████████████████████████████| 3028/3028 [00:22<00:00, 132.99it/s]\n",
      " 55%|████████████████████████████████████████████                                    | 88/160 [00:00<00:00, 438.22it/s]"
     ]
    },
    {
     "name": "stdout",
     "output_type": "stream",
     "text": [
      "Train loss 0.08639949817517083\n"
     ]
    },
    {
     "name": "stderr",
     "output_type": "stream",
     "text": [
      "100%|███████████████████████████████████████████████████████████████████████████████| 160/160 [00:00<00:00, 455.26it/s]\n",
      "  0%|▎                                                                              | 13/3028 [00:00<00:23, 129.35it/s]"
     ]
    },
    {
     "name": "stdout",
     "output_type": "stream",
     "text": [
      "similarity score 0.5211598746081505\n",
      "Evaluate loss 0.09180449694395065\n",
      "================================================== EPOCH 79 ==================================================\n"
     ]
    },
    {
     "name": "stderr",
     "output_type": "stream",
     "text": [
      "100%|█████████████████████████████████████████████████████████████████████████████| 3028/3028 [00:22<00:00, 133.97it/s]\n",
      " 57%|██████████████████████████████████████████████                                  | 92/160 [00:00<00:00, 449.53it/s]"
     ]
    },
    {
     "name": "stdout",
     "output_type": "stream",
     "text": [
      "Train loss 0.08608287093397217\n"
     ]
    },
    {
     "name": "stderr",
     "output_type": "stream",
     "text": [
      "100%|███████████████████████████████████████████████████████████████████████████████| 160/160 [00:00<00:00, 482.93it/s]\n",
      "  0%|▎                                                                              | 13/3028 [00:00<00:23, 129.23it/s]"
     ]
    },
    {
     "name": "stdout",
     "output_type": "stream",
     "text": [
      "similarity score 0.5117554858934169\n",
      "Evaluate loss 0.09418700635433197\n",
      "================================================== EPOCH 80 ==================================================\n"
     ]
    },
    {
     "name": "stderr",
     "output_type": "stream",
     "text": [
      "100%|█████████████████████████████████████████████████████████████████████████████| 3028/3028 [00:22<00:00, 134.93it/s]\n",
      " 55%|████████████████████████████████████████████                                    | 88/160 [00:00<00:00, 433.96it/s]"
     ]
    },
    {
     "name": "stdout",
     "output_type": "stream",
     "text": [
      "Train loss 0.08575825301797746\n"
     ]
    },
    {
     "name": "stderr",
     "output_type": "stream",
     "text": [
      "100%|███████████████████████████████████████████████████████████████████████████████| 160/160 [00:00<00:00, 482.74it/s]\n",
      "  0%|▎                                                                              | 13/3028 [00:00<00:23, 129.26it/s]"
     ]
    },
    {
     "name": "stdout",
     "output_type": "stream",
     "text": [
      "similarity score 0.5407523510971787\n",
      "Evaluate loss 0.09342867136001587\n",
      "================================================== EPOCH 81 ==================================================\n"
     ]
    },
    {
     "name": "stderr",
     "output_type": "stream",
     "text": [
      "100%|█████████████████████████████████████████████████████████████████████████████| 3028/3028 [00:22<00:00, 133.02it/s]\n",
      " 29%|███████████████████████                                                         | 46/160 [00:00<00:00, 458.00it/s]"
     ]
    },
    {
     "name": "stdout",
     "output_type": "stream",
     "text": [
      "Train loss 0.08589041055202586\n"
     ]
    },
    {
     "name": "stderr",
     "output_type": "stream",
     "text": [
      "100%|███████████████████████████████████████████████████████████████████████████████| 160/160 [00:00<00:00, 485.63it/s]\n",
      "  0%|▎                                                                              | 14/3028 [00:00<00:21, 139.18it/s]"
     ]
    },
    {
     "name": "stdout",
     "output_type": "stream",
     "text": [
      "similarity score 0.5384012539184952\n",
      "Evaluate loss 0.09409352391958237\n",
      "================================================== EPOCH 82 ==================================================\n"
     ]
    },
    {
     "name": "stderr",
     "output_type": "stream",
     "text": [
      "100%|█████████████████████████████████████████████████████████████████████████████| 3028/3028 [00:22<00:00, 134.69it/s]\n",
      " 28%|██████████████████████▌                                                         | 45/160 [00:00<00:00, 447.98it/s]"
     ]
    },
    {
     "name": "stdout",
     "output_type": "stream",
     "text": [
      "Train loss 0.08600600825682962\n"
     ]
    },
    {
     "name": "stderr",
     "output_type": "stream",
     "text": [
      "100%|███████████████████████████████████████████████████████████████████████████████| 160/160 [00:00<00:00, 485.63it/s]\n",
      "  0%|▎                                                                              | 13/3028 [00:00<00:23, 129.22it/s]"
     ]
    },
    {
     "name": "stdout",
     "output_type": "stream",
     "text": [
      "similarity score 0.5188087774294671\n",
      "Evaluate loss 0.09571915864944458\n",
      "================================================== EPOCH 83 ==================================================\n"
     ]
    },
    {
     "name": "stderr",
     "output_type": "stream",
     "text": [
      "100%|█████████████████████████████████████████████████████████████████████████████| 3028/3028 [00:22<00:00, 133.77it/s]\n",
      " 57%|█████████████████████████████████████████████▌                                  | 91/160 [00:00<00:00, 450.80it/s]"
     ]
    },
    {
     "name": "stdout",
     "output_type": "stream",
     "text": [
      "Train loss 0.08621912819420724\n"
     ]
    },
    {
     "name": "stderr",
     "output_type": "stream",
     "text": [
      "100%|███████████████████████████████████████████████████████████████████████████████| 160/160 [00:00<00:00, 482.77it/s]\n",
      "  0%|▎                                                                              | 14/3028 [00:00<00:22, 136.32it/s]"
     ]
    },
    {
     "name": "stdout",
     "output_type": "stream",
     "text": [
      "similarity score 0.49608150470219436\n",
      "Evaluate loss 0.09452475607395172\n",
      "================================================== EPOCH 84 ==================================================\n"
     ]
    },
    {
     "name": "stderr",
     "output_type": "stream",
     "text": [
      "100%|█████████████████████████████████████████████████████████████████████████████| 3028/3028 [00:22<00:00, 133.61it/s]\n",
      " 56%|█████████████████████████████████████████████                                   | 90/160 [00:00<00:00, 439.38it/s]"
     ]
    },
    {
     "name": "stdout",
     "output_type": "stream",
     "text": [
      "Train loss 0.08573227148359122\n"
     ]
    },
    {
     "name": "stderr",
     "output_type": "stream",
     "text": [
      "100%|███████████████████████████████████████████████████████████████████████████████| 160/160 [00:00<00:00, 468.59it/s]\n",
      "  0%|▎                                                                              | 13/3028 [00:00<00:23, 129.16it/s]"
     ]
    },
    {
     "name": "stdout",
     "output_type": "stream",
     "text": [
      "similarity score 0.5227272727272727\n",
      "Evaluate loss 0.0956147313117981\n",
      "================================================== EPOCH 85 ==================================================\n"
     ]
    },
    {
     "name": "stderr",
     "output_type": "stream",
     "text": [
      "100%|█████████████████████████████████████████████████████████████████████████████| 3028/3028 [00:22<00:00, 134.64it/s]\n",
      " 59%|███████████████████████████████████████████████                                 | 94/160 [00:00<00:00, 471.83it/s]"
     ]
    },
    {
     "name": "stdout",
     "output_type": "stream",
     "text": [
      "Train loss 0.08536209546410493\n"
     ]
    },
    {
     "name": "stderr",
     "output_type": "stream",
     "text": [
      "100%|███████████████████████████████████████████████████████████████████████████████| 160/160 [00:00<00:00, 494.78it/s]\n",
      "  0%|▎                                                                              | 14/3028 [00:00<00:22, 136.59it/s]"
     ]
    },
    {
     "name": "stdout",
     "output_type": "stream",
     "text": [
      "similarity score 0.5289968652037618\n",
      "Evaluate loss 0.09357039630413055\n",
      "================================================== EPOCH 86 ==================================================\n"
     ]
    },
    {
     "name": "stderr",
     "output_type": "stream",
     "text": [
      "100%|█████████████████████████████████████████████████████████████████████████████| 3028/3028 [00:22<00:00, 134.56it/s]\n",
      " 56%|████████████████████████████████████████████▌                                   | 89/160 [00:00<00:00, 436.84it/s]"
     ]
    },
    {
     "name": "stdout",
     "output_type": "stream",
     "text": [
      "Train loss 0.0850934257607506\n"
     ]
    },
    {
     "name": "stderr",
     "output_type": "stream",
     "text": [
      "100%|███████████████████████████████████████████████████████████████████████████████| 160/160 [00:00<00:00, 471.24it/s]\n",
      "  0%|▎                                                                              | 13/3028 [00:00<00:23, 129.28it/s]"
     ]
    },
    {
     "name": "stdout",
     "output_type": "stream",
     "text": [
      "similarity score 0.5188087774294671\n",
      "Evaluate loss 0.09377484768629074\n",
      "================================================== EPOCH 87 ==================================================\n"
     ]
    },
    {
     "name": "stderr",
     "output_type": "stream",
     "text": [
      "100%|█████████████████████████████████████████████████████████████████████████████| 3028/3028 [00:22<00:00, 134.26it/s]\n",
      " 59%|███████████████████████████████████████████████▌                                | 95/160 [00:00<00:00, 470.83it/s]"
     ]
    },
    {
     "name": "stdout",
     "output_type": "stream",
     "text": [
      "Train loss 0.08486332873708619\n"
     ]
    },
    {
     "name": "stderr",
     "output_type": "stream",
     "text": [
      "100%|███████████████████████████████████████████████████████████████████████████████| 160/160 [00:00<00:00, 497.84it/s]\n",
      "  0%|▎                                                                              | 13/3028 [00:00<00:23, 129.22it/s]"
     ]
    },
    {
     "name": "stdout",
     "output_type": "stream",
     "text": [
      "similarity score 0.5297805642633229\n",
      "Evaluate loss 0.09456637501716614\n",
      "================================================== EPOCH 88 ==================================================\n"
     ]
    },
    {
     "name": "stderr",
     "output_type": "stream",
     "text": [
      "100%|█████████████████████████████████████████████████████████████████████████████| 3028/3028 [00:22<00:00, 134.34it/s]\n",
      " 55%|████████████████████████████████████████████                                    | 88/160 [00:00<00:00, 433.71it/s]"
     ]
    },
    {
     "name": "stdout",
     "output_type": "stream",
     "text": [
      "Train loss 0.08520651264319164\n"
     ]
    },
    {
     "name": "stderr",
     "output_type": "stream",
     "text": [
      "100%|███████████████████████████████████████████████████████████████████████████████| 160/160 [00:00<00:00, 471.35it/s]\n",
      "  0%|▎                                                                              | 14/3028 [00:00<00:22, 136.51it/s]"
     ]
    },
    {
     "name": "stdout",
     "output_type": "stream",
     "text": [
      "similarity score 0.5282131661442007\n",
      "Evaluate loss 0.09373115003108978\n",
      "================================================== EPOCH 89 ==================================================\n"
     ]
    },
    {
     "name": "stderr",
     "output_type": "stream",
     "text": [
      "100%|█████████████████████████████████████████████████████████████████████████████| 3028/3028 [00:22<00:00, 135.29it/s]\n",
      " 59%|███████████████████████████████████████████████▌                                | 95/160 [00:00<00:00, 474.97it/s]"
     ]
    },
    {
     "name": "stdout",
     "output_type": "stream",
     "text": [
      "Train loss 0.08496931654507543\n"
     ]
    },
    {
     "name": "stderr",
     "output_type": "stream",
     "text": [
      "100%|███████████████████████████████████████████████████████████████████████████████| 160/160 [00:00<00:00, 497.97it/s]\n",
      "  0%|▍                                                                              | 15/3028 [00:00<00:20, 146.26it/s]"
     ]
    },
    {
     "name": "stdout",
     "output_type": "stream",
     "text": [
      "similarity score 0.5258620689655172\n",
      "Evaluate loss 0.09739774465560913\n",
      "================================================== EPOCH 90 ==================================================\n"
     ]
    },
    {
     "name": "stderr",
     "output_type": "stream",
     "text": [
      "100%|█████████████████████████████████████████████████████████████████████████████| 3028/3028 [00:22<00:00, 135.18it/s]\n",
      " 57%|██████████████████████████████████████████████                                  | 92/160 [00:00<00:00, 453.91it/s]"
     ]
    },
    {
     "name": "stdout",
     "output_type": "stream",
     "text": [
      "Train loss 0.08525632787411269\n"
     ]
    },
    {
     "name": "stderr",
     "output_type": "stream",
     "text": [
      "100%|███████████████████████████████████████████████████████████████████████████████| 160/160 [00:00<00:00, 482.90it/s]\n",
      "  0%|▎                                                                              | 13/3028 [00:00<00:23, 129.32it/s]"
     ]
    },
    {
     "name": "stdout",
     "output_type": "stream",
     "text": [
      "similarity score 0.4898119122257053\n",
      "Evaluate loss 0.09605453908443451\n",
      "================================================== EPOCH 91 ==================================================\n"
     ]
    },
    {
     "name": "stderr",
     "output_type": "stream",
     "text": [
      "100%|█████████████████████████████████████████████████████████████████████████████| 3028/3028 [00:22<00:00, 134.02it/s]\n",
      " 57%|█████████████████████████████████████████████▌                                  | 91/160 [00:00<00:00, 458.64it/s]"
     ]
    },
    {
     "name": "stdout",
     "output_type": "stream",
     "text": [
      "Train loss 0.08472219912931656\n"
     ]
    },
    {
     "name": "stderr",
     "output_type": "stream",
     "text": [
      "100%|███████████████████████████████████████████████████████████████████████████████| 160/160 [00:00<00:00, 468.57it/s]\n",
      "  0%|▎                                                                              | 14/3028 [00:00<00:21, 139.11it/s]"
     ]
    },
    {
     "name": "stdout",
     "output_type": "stream",
     "text": [
      "similarity score 0.5438871473354232\n",
      "Evaluate loss 0.09603995084762573\n",
      "================================================== EPOCH 92 ==================================================\n"
     ]
    },
    {
     "name": "stderr",
     "output_type": "stream",
     "text": [
      "100%|█████████████████████████████████████████████████████████████████████████████| 3028/3028 [00:22<00:00, 134.32it/s]\n",
      " 59%|███████████████████████████████████████████████                                 | 94/160 [00:00<00:00, 467.94it/s]"
     ]
    },
    {
     "name": "stdout",
     "output_type": "stream",
     "text": [
      "Train loss 0.08514065776340007\n"
     ]
    },
    {
     "name": "stderr",
     "output_type": "stream",
     "text": [
      "100%|███████████████████████████████████████████████████████████████████████████████| 160/160 [00:00<00:00, 497.84it/s]\n",
      "  0%|▎                                                                              | 14/3028 [00:00<00:21, 139.27it/s]"
     ]
    },
    {
     "name": "stdout",
     "output_type": "stream",
     "text": [
      "similarity score 0.5148902821316614\n",
      "Evaluate loss 0.0936998575925827\n",
      "================================================== EPOCH 93 ==================================================\n"
     ]
    },
    {
     "name": "stderr",
     "output_type": "stream",
     "text": [
      "100%|█████████████████████████████████████████████████████████████████████████████| 3028/3028 [00:23<00:00, 130.86it/s]\n",
      " 29%|███████████████████████                                                         | 46/160 [00:00<00:00, 457.79it/s]"
     ]
    },
    {
     "name": "stdout",
     "output_type": "stream",
     "text": [
      "Train loss 0.08489383078583786\n"
     ]
    },
    {
     "name": "stderr",
     "output_type": "stream",
     "text": [
      "100%|███████████████████████████████████████████████████████████████████████████████| 160/160 [00:00<00:00, 468.45it/s]\n",
      "  0%|▎                                                                              | 13/3028 [00:00<00:23, 129.20it/s]"
     ]
    },
    {
     "name": "stdout",
     "output_type": "stream",
     "text": [
      "similarity score 0.5101880877742947\n",
      "Evaluate loss 0.09319080412387848\n",
      "================================================== EPOCH 94 ==================================================\n"
     ]
    },
    {
     "name": "stderr",
     "output_type": "stream",
     "text": [
      "100%|█████████████████████████████████████████████████████████████████████████████| 3028/3028 [00:23<00:00, 130.44it/s]\n",
      " 29%|███████████████████████                                                         | 46/160 [00:00<00:00, 458.12it/s]"
     ]
    },
    {
     "name": "stdout",
     "output_type": "stream",
     "text": [
      "Train loss 0.08478475720581662\n"
     ]
    },
    {
     "name": "stderr",
     "output_type": "stream",
     "text": [
      "100%|███████████████████████████████████████████████████████████████████████████████| 160/160 [00:00<00:00, 482.79it/s]\n",
      "  0%|▎                                                                              | 13/3028 [00:00<00:23, 129.24it/s]"
     ]
    },
    {
     "name": "stdout",
     "output_type": "stream",
     "text": [
      "similarity score 0.4992163009404389\n",
      "Evaluate loss 0.09521937370300293\n",
      "================================================== EPOCH 95 ==================================================\n"
     ]
    },
    {
     "name": "stderr",
     "output_type": "stream",
     "text": [
      "100%|█████████████████████████████████████████████████████████████████████████████| 3028/3028 [00:23<00:00, 128.42it/s]\n",
      " 55%|████████████████████████████████████████████                                    | 88/160 [00:00<00:00, 434.18it/s]"
     ]
    },
    {
     "name": "stdout",
     "output_type": "stream",
     "text": [
      "Train loss 0.08468334583768282\n"
     ]
    },
    {
     "name": "stderr",
     "output_type": "stream",
     "text": [
      "100%|███████████████████████████████████████████████████████████████████████████████| 160/160 [00:00<00:00, 468.78it/s]\n",
      "  0%|▎                                                                              | 13/3028 [00:00<00:23, 129.36it/s]"
     ]
    },
    {
     "name": "stdout",
     "output_type": "stream",
     "text": [
      "similarity score 0.5313479623824452\n",
      "Evaluate loss 0.09281325340270996\n",
      "================================================== EPOCH 96 ==================================================\n"
     ]
    },
    {
     "name": "stderr",
     "output_type": "stream",
     "text": [
      "100%|█████████████████████████████████████████████████████████████████████████████| 3028/3028 [00:24<00:00, 124.86it/s]\n",
      " 51%|█████████████████████████████████████████                                       | 82/160 [00:00<00:00, 401.82it/s]"
     ]
    },
    {
     "name": "stdout",
     "output_type": "stream",
     "text": [
      "Train loss 0.08444932893570174\n"
     ]
    },
    {
     "name": "stderr",
     "output_type": "stream",
     "text": [
      "100%|███████████████████████████████████████████████████████████████████████████████| 160/160 [00:00<00:00, 420.77it/s]\n",
      "  0%|▎                                                                              | 12/3028 [00:00<00:25, 119.48it/s]"
     ]
    },
    {
     "name": "stdout",
     "output_type": "stream",
     "text": [
      "similarity score 0.5227272727272727\n",
      "Evaluate loss 0.09369657933712006\n",
      "================================================== EPOCH 97 ==================================================\n"
     ]
    },
    {
     "name": "stderr",
     "output_type": "stream",
     "text": [
      "100%|█████████████████████████████████████████████████████████████████████████████| 3028/3028 [00:24<00:00, 125.53it/s]\n",
      " 30%|████████████████████████                                                        | 48/160 [00:00<00:00, 451.50it/s]"
     ]
    },
    {
     "name": "stdout",
     "output_type": "stream",
     "text": [
      "Train loss 0.08471634052763047\n"
     ]
    },
    {
     "name": "stderr",
     "output_type": "stream",
     "text": [
      "100%|███████████████████████████████████████████████████████████████████████████████| 160/160 [00:00<00:00, 484.94it/s]\n",
      "  0%|▎                                                                              | 14/3028 [00:00<00:23, 129.10it/s]"
     ]
    },
    {
     "name": "stdout",
     "output_type": "stream",
     "text": [
      "similarity score 0.5501567398119123\n",
      "Evaluate loss 0.09405393898487091\n",
      "================================================== EPOCH 98 ==================================================\n"
     ]
    },
    {
     "name": "stderr",
     "output_type": "stream",
     "text": [
      "100%|█████████████████████████████████████████████████████████████████████████████| 3028/3028 [00:23<00:00, 127.98it/s]\n",
      " 56%|████████████████████████████████████████████▌                                   | 89/160 [00:00<00:00, 437.51it/s]"
     ]
    },
    {
     "name": "stdout",
     "output_type": "stream",
     "text": [
      "Train loss 0.08437611486080264\n"
     ]
    },
    {
     "name": "stderr",
     "output_type": "stream",
     "text": [
      "100%|███████████████████████████████████████████████████████████████████████████████| 160/160 [00:00<00:00, 464.16it/s]\n",
      "  0%|▎                                                                              | 12/3028 [00:00<00:27, 110.81it/s]"
     ]
    },
    {
     "name": "stdout",
     "output_type": "stream",
     "text": [
      "similarity score 0.5344827586206896\n",
      "Evaluate loss 0.09421153366565704\n",
      "================================================== EPOCH 99 ==================================================\n"
     ]
    },
    {
     "name": "stderr",
     "output_type": "stream",
     "text": [
      "100%|█████████████████████████████████████████████████████████████████████████████| 3028/3028 [00:23<00:00, 127.01it/s]\n",
      " 60%|████████████████████████████████████████████████                                | 96/160 [00:00<00:00, 460.65it/s]"
     ]
    },
    {
     "name": "stdout",
     "output_type": "stream",
     "text": [
      "Train loss 0.0842533433775121\n"
     ]
    },
    {
     "name": "stderr",
     "output_type": "stream",
     "text": [
      "100%|███████████████████████████████████████████████████████████████████████████████| 160/160 [00:00<00:00, 482.67it/s]\n",
      "  0%|▎                                                                              | 13/3028 [00:00<00:23, 129.12it/s]"
     ]
    },
    {
     "name": "stdout",
     "output_type": "stream",
     "text": [
      "similarity score 0.5078369905956113\n",
      "Evaluate loss 0.09456536918878555\n",
      "================================================== EPOCH 100 ==================================================\n"
     ]
    },
    {
     "name": "stderr",
     "output_type": "stream",
     "text": [
      "100%|█████████████████████████████████████████████████████████████████████████████| 3028/3028 [00:24<00:00, 124.43it/s]\n",
      " 57%|█████████████████████████████████████████████▌                                  | 91/160 [00:00<00:00, 438.48it/s]"
     ]
    },
    {
     "name": "stdout",
     "output_type": "stream",
     "text": [
      "Train loss 0.08462517696079525\n"
     ]
    },
    {
     "name": "stderr",
     "output_type": "stream",
     "text": [
      "100%|███████████████████████████████████████████████████████████████████████████████| 160/160 [00:00<00:00, 457.42it/s]\n",
      "  0%|▎                                                                              | 13/3028 [00:00<00:23, 128.34it/s]"
     ]
    },
    {
     "name": "stdout",
     "output_type": "stream",
     "text": [
      "similarity score 0.5611285266457681\n",
      "Evaluate loss 0.09430065751075745\n",
      "================================================== EPOCH 101 ==================================================\n"
     ]
    },
    {
     "name": "stderr",
     "output_type": "stream",
     "text": [
      "100%|█████████████████████████████████████████████████████████████████████████████| 3028/3028 [00:24<00:00, 125.71it/s]\n",
      " 29%|███████████████████████▌                                                        | 47/160 [00:00<00:00, 442.46it/s]"
     ]
    },
    {
     "name": "stdout",
     "output_type": "stream",
     "text": [
      "Train loss 0.08434797674518994\n"
     ]
    },
    {
     "name": "stderr",
     "output_type": "stream",
     "text": [
      "100%|███████████████████████████████████████████████████████████████████████████████| 160/160 [00:00<00:00, 471.00it/s]\n",
      "  0%|▎                                                                              | 13/3028 [00:00<00:24, 124.75it/s]"
     ]
    },
    {
     "name": "stdout",
     "output_type": "stream",
     "text": [
      "similarity score 0.5094043887147336\n",
      "Evaluate loss 0.09647218883037567\n",
      "================================================== EPOCH 102 ==================================================\n"
     ]
    },
    {
     "name": "stderr",
     "output_type": "stream",
     "text": [
      "100%|█████████████████████████████████████████████████████████████████████████████| 3028/3028 [00:24<00:00, 124.17it/s]\n",
      " 28%|██████████████████████▌                                                         | 45/160 [00:00<00:00, 442.63it/s]"
     ]
    },
    {
     "name": "stdout",
     "output_type": "stream",
     "text": [
      "Train loss 0.08443024212977686\n"
     ]
    },
    {
     "name": "stderr",
     "output_type": "stream",
     "text": [
      "100%|███████████████████████████████████████████████████████████████████████████████| 160/160 [00:00<00:00, 481.05it/s]\n",
      "  0%|▎                                                                              | 13/3028 [00:00<00:23, 129.05it/s]"
     ]
    },
    {
     "name": "stdout",
     "output_type": "stream",
     "text": [
      "similarity score 0.5376175548589341\n",
      "Evaluate loss 0.09253215789794922\n",
      "================================================== EPOCH 103 ==================================================\n"
     ]
    },
    {
     "name": "stderr",
     "output_type": "stream",
     "text": [
      "100%|█████████████████████████████████████████████████████████████████████████████| 3028/3028 [00:23<00:00, 128.41it/s]\n",
      " 27%|█████████████████████▌                                                          | 43/160 [00:00<00:00, 425.56it/s]"
     ]
    },
    {
     "name": "stdout",
     "output_type": "stream",
     "text": [
      "Train loss 0.08448976674340136\n"
     ]
    },
    {
     "name": "stderr",
     "output_type": "stream",
     "text": [
      "100%|███████████████████████████████████████████████████████████████████████████████| 160/160 [00:00<00:00, 471.19it/s]\n",
      "  0%|▎                                                                              | 13/3028 [00:00<00:23, 125.96it/s]"
     ]
    },
    {
     "name": "stdout",
     "output_type": "stream",
     "text": [
      "similarity score 0.5462382445141066\n",
      "Evaluate loss 0.09211551398038864\n",
      "================================================== EPOCH 104 ==================================================\n"
     ]
    },
    {
     "name": "stderr",
     "output_type": "stream",
     "text": [
      "100%|█████████████████████████████████████████████████████████████████████████████| 3028/3028 [00:23<00:00, 128.65it/s]\n",
      " 58%|██████████████████████████████████████████████▌                                 | 93/160 [00:00<00:00, 452.22it/s]"
     ]
    },
    {
     "name": "stdout",
     "output_type": "stream",
     "text": [
      "Train loss 0.08402845308121111\n"
     ]
    },
    {
     "name": "stderr",
     "output_type": "stream",
     "text": [
      "100%|███████████████████████████████████████████████████████████████████████████████| 160/160 [00:00<00:00, 470.92it/s]\n",
      "  0%|▎                                                                              | 14/3028 [00:00<00:22, 136.21it/s]"
     ]
    },
    {
     "name": "stdout",
     "output_type": "stream",
     "text": [
      "similarity score 0.530564263322884\n",
      "Evaluate loss 0.09280519187450409\n",
      "================================================== EPOCH 105 ==================================================\n"
     ]
    },
    {
     "name": "stderr",
     "output_type": "stream",
     "text": [
      "100%|█████████████████████████████████████████████████████████████████████████████| 3028/3028 [00:24<00:00, 126.08it/s]\n",
      " 27%|█████████████████████▌                                                          | 43/160 [00:00<00:00, 428.15it/s]"
     ]
    },
    {
     "name": "stdout",
     "output_type": "stream",
     "text": [
      "Train loss 0.0845275797136943\n"
     ]
    },
    {
     "name": "stderr",
     "output_type": "stream",
     "text": [
      "100%|███████████████████████████████████████████████████████████████████████████████| 160/160 [00:00<00:00, 455.20it/s]\n",
      "  0%|▎                                                                              | 13/3028 [00:00<00:23, 129.20it/s]"
     ]
    },
    {
     "name": "stdout",
     "output_type": "stream",
     "text": [
      "similarity score 0.5336990595611285\n",
      "Evaluate loss 0.09466149657964706\n",
      "================================================== EPOCH 106 ==================================================\n"
     ]
    },
    {
     "name": "stderr",
     "output_type": "stream",
     "text": [
      "100%|█████████████████████████████████████████████████████████████████████████████| 3028/3028 [00:23<00:00, 126.25it/s]\n",
      " 52%|█████████████████████████████████████████▌                                      | 83/160 [00:00<00:00, 414.15it/s]"
     ]
    },
    {
     "name": "stdout",
     "output_type": "stream",
     "text": [
      "Train loss 0.08378284416727252\n"
     ]
    },
    {
     "name": "stderr",
     "output_type": "stream",
     "text": [
      "100%|███████████████████████████████████████████████████████████████████████████████| 160/160 [00:00<00:00, 391.55it/s]\n",
      "  0%|▎                                                                              | 11/3028 [00:00<00:27, 109.79it/s]"
     ]
    },
    {
     "name": "stdout",
     "output_type": "stream",
     "text": [
      "similarity score 0.5282131661442007\n",
      "Evaluate loss 0.09232410043478012\n",
      "================================================== EPOCH 107 ==================================================\n"
     ]
    },
    {
     "name": "stderr",
     "output_type": "stream",
     "text": [
      "100%|█████████████████████████████████████████████████████████████████████████████| 3028/3028 [00:23<00:00, 126.75it/s]\n",
      " 29%|███████████████████████▌                                                        | 47/160 [00:00<00:00, 447.50it/s]"
     ]
    },
    {
     "name": "stdout",
     "output_type": "stream",
     "text": [
      "Train loss 0.08401134316262\n"
     ]
    },
    {
     "name": "stderr",
     "output_type": "stream",
     "text": [
      "100%|███████████████████████████████████████████████████████████████████████████████| 160/160 [00:00<00:00, 471.36it/s]\n",
      "  0%|▎                                                                              | 13/3028 [00:00<00:25, 119.98it/s]"
     ]
    },
    {
     "name": "stdout",
     "output_type": "stream",
     "text": [
      "similarity score 0.5250783699059561\n",
      "Evaluate loss 0.09605401009321213\n",
      "================================================== EPOCH 108 ==================================================\n"
     ]
    },
    {
     "name": "stderr",
     "output_type": "stream",
     "text": [
      "100%|█████████████████████████████████████████████████████████████████████████████| 3028/3028 [00:23<00:00, 127.13it/s]\n",
      " 53%|██████████████████████████████████████████▌                                     | 85/160 [00:00<00:00, 420.68it/s]"
     ]
    },
    {
     "name": "stdout",
     "output_type": "stream",
     "text": [
      "Train loss 0.0838102804127185\n"
     ]
    },
    {
     "name": "stderr",
     "output_type": "stream",
     "text": [
      "100%|███████████████████████████████████████████████████████████████████████████████| 160/160 [00:00<00:00, 457.91it/s]\n",
      "  0%|▎                                                                              | 14/3028 [00:00<00:21, 137.72it/s]"
     ]
    },
    {
     "name": "stdout",
     "output_type": "stream",
     "text": [
      "similarity score 0.5094043887147336\n",
      "Evaluate loss 0.09347499161958694\n",
      "================================================== EPOCH 109 ==================================================\n"
     ]
    },
    {
     "name": "stderr",
     "output_type": "stream",
     "text": [
      "100%|█████████████████████████████████████████████████████████████████████████████| 3028/3028 [00:23<00:00, 130.93it/s]\n",
      " 28%|██████████████████████▌                                                         | 45/160 [00:00<00:00, 448.29it/s]"
     ]
    },
    {
     "name": "stdout",
     "output_type": "stream",
     "text": [
      "Train loss 0.08382050585685435\n"
     ]
    },
    {
     "name": "stderr",
     "output_type": "stream",
     "text": [
      "100%|███████████████████████████████████████████████████████████████████████████████| 160/160 [00:00<00:00, 482.91it/s]\n",
      "  0%|▎                                                                              | 14/3028 [00:00<00:22, 136.53it/s]"
     ]
    },
    {
     "name": "stdout",
     "output_type": "stream",
     "text": [
      "similarity score 0.4945141065830721\n",
      "Evaluate loss 0.10064227879047394\n",
      "================================================== EPOCH 110 ==================================================\n"
     ]
    },
    {
     "name": "stderr",
     "output_type": "stream",
     "text": [
      "100%|█████████████████████████████████████████████████████████████████████████████| 3028/3028 [00:22<00:00, 134.80it/s]\n",
      " 57%|█████████████████████████████████████████████▌                                  | 91/160 [00:00<00:00, 455.15it/s]"
     ]
    },
    {
     "name": "stdout",
     "output_type": "stream",
     "text": [
      "Train loss 0.08411974787810213\n"
     ]
    },
    {
     "name": "stderr",
     "output_type": "stream",
     "text": [
      "100%|███████████████████████████████████████████████████████████████████████████████| 160/160 [00:00<00:00, 482.85it/s]\n",
      "  0%|▎                                                                              | 14/3028 [00:00<00:21, 139.14it/s]"
     ]
    },
    {
     "name": "stdout",
     "output_type": "stream",
     "text": [
      "similarity score 0.530564263322884\n",
      "Evaluate loss 0.09477081894874573\n",
      "================================================== EPOCH 111 ==================================================\n"
     ]
    },
    {
     "name": "stderr",
     "output_type": "stream",
     "text": [
      "100%|█████████████████████████████████████████████████████████████████████████████| 3028/3028 [00:22<00:00, 136.90it/s]\n",
      " 58%|██████████████████████████████████████████████▌                                 | 93/160 [00:00<00:00, 465.25it/s]"
     ]
    },
    {
     "name": "stdout",
     "output_type": "stream",
     "text": [
      "Train loss 0.08378085811922936\n"
     ]
    },
    {
     "name": "stderr",
     "output_type": "stream",
     "text": [
      "100%|███████████████████████████████████████████████████████████████████████████████| 160/160 [00:00<00:00, 498.20it/s]\n",
      "  0%|▎                                                                              | 14/3028 [00:00<00:21, 139.00it/s]"
     ]
    },
    {
     "name": "stdout",
     "output_type": "stream",
     "text": [
      "similarity score 0.549373040752351\n",
      "Evaluate loss 0.0940895527601242\n",
      "================================================== EPOCH 112 ==================================================\n"
     ]
    },
    {
     "name": "stderr",
     "output_type": "stream",
     "text": [
      "100%|█████████████████████████████████████████████████████████████████████████████| 3028/3028 [00:23<00:00, 127.85it/s]\n",
      " 24%|███████████████████▌                                                            | 39/160 [00:00<00:00, 387.51it/s]"
     ]
    },
    {
     "name": "stdout",
     "output_type": "stream",
     "text": [
      "Train loss 0.08378122338898729\n"
     ]
    },
    {
     "name": "stderr",
     "output_type": "stream",
     "text": [
      "100%|███████████████████████████████████████████████████████████████████████████████| 160/160 [00:00<00:00, 418.50it/s]\n",
      "  0%|▎                                                                              | 13/3028 [00:00<00:23, 129.09it/s]"
     ]
    },
    {
     "name": "stdout",
     "output_type": "stream",
     "text": [
      "similarity score 0.5391849529780565\n",
      "Evaluate loss 0.09596613794565201\n",
      "================================================== EPOCH 113 ==================================================\n"
     ]
    },
    {
     "name": "stderr",
     "output_type": "stream",
     "text": [
      "100%|█████████████████████████████████████████████████████████████████████████████| 3028/3028 [00:23<00:00, 127.09it/s]\n",
      " 29%|███████████████████████                                                         | 46/160 [00:00<00:00, 458.27it/s]"
     ]
    },
    {
     "name": "stdout",
     "output_type": "stream",
     "text": [
      "Train loss 0.0831288786327726\n"
     ]
    },
    {
     "name": "stderr",
     "output_type": "stream",
     "text": [
      "100%|███████████████████████████████████████████████████████████████████████████████| 160/160 [00:00<00:00, 482.71it/s]\n",
      "  0%|▎                                                                              | 13/3028 [00:00<00:23, 129.32it/s]"
     ]
    },
    {
     "name": "stdout",
     "output_type": "stream",
     "text": [
      "similarity score 0.5438871473354232\n",
      "Evaluate loss 0.09331619739532471\n",
      "================================================== EPOCH 114 ==================================================\n"
     ]
    },
    {
     "name": "stderr",
     "output_type": "stream",
     "text": [
      "100%|█████████████████████████████████████████████████████████████████████████████| 3028/3028 [00:23<00:00, 129.54it/s]\n",
      " 55%|████████████████████████████████████████████                                    | 88/160 [00:00<00:00, 438.01it/s]"
     ]
    },
    {
     "name": "stdout",
     "output_type": "stream",
     "text": [
      "Train loss 0.08355681471090796\n"
     ]
    },
    {
     "name": "stderr",
     "output_type": "stream",
     "text": [
      "100%|███████████████████████████████████████████████████████████████████████████████| 160/160 [00:00<00:00, 455.03it/s]\n",
      "  0%|▎                                                                              | 12/3028 [00:00<00:25, 119.23it/s]"
     ]
    },
    {
     "name": "stdout",
     "output_type": "stream",
     "text": [
      "similarity score 0.5525078369905956\n",
      "Evaluate loss 0.09494464099407196\n",
      "================================================== EPOCH 115 ==================================================\n"
     ]
    },
    {
     "name": "stderr",
     "output_type": "stream",
     "text": [
      "100%|█████████████████████████████████████████████████████████████████████████████| 3028/3028 [00:23<00:00, 131.13it/s]\n",
      " 29%|███████████████████████                                                         | 46/160 [00:00<00:00, 457.29it/s]"
     ]
    },
    {
     "name": "stdout",
     "output_type": "stream",
     "text": [
      "Train loss 0.08391292905442656\n"
     ]
    },
    {
     "name": "stderr",
     "output_type": "stream",
     "text": [
      "100%|███████████████████████████████████████████████████████████████████████████████| 160/160 [00:00<00:00, 471.15it/s]\n",
      "  0%|▎                                                                              | 14/3028 [00:00<00:21, 139.24it/s]"
     ]
    },
    {
     "name": "stdout",
     "output_type": "stream",
     "text": [
      "similarity score 0.49216300940438873\n",
      "Evaluate loss 0.09313714504241943\n",
      "================================================== EPOCH 116 ==================================================\n"
     ]
    },
    {
     "name": "stderr",
     "output_type": "stream",
     "text": [
      "100%|█████████████████████████████████████████████████████████████████████████████| 3028/3028 [00:23<00:00, 131.28it/s]\n",
      " 55%|████████████████████████████████████████████                                    | 88/160 [00:00<00:00, 433.82it/s]"
     ]
    },
    {
     "name": "stdout",
     "output_type": "stream",
     "text": [
      "Train loss 0.083869065155301\n"
     ]
    },
    {
     "name": "stderr",
     "output_type": "stream",
     "text": [
      "100%|███████████████████████████████████████████████████████████████████████████████| 160/160 [00:00<00:00, 482.68it/s]\n",
      "  0%|▎                                                                              | 13/3028 [00:00<00:23, 129.27it/s]"
     ]
    },
    {
     "name": "stdout",
     "output_type": "stream",
     "text": [
      "similarity score 0.5579937304075235\n",
      "Evaluate loss 0.0929800420999527\n",
      "================================================== EPOCH 117 ==================================================\n"
     ]
    },
    {
     "name": "stderr",
     "output_type": "stream",
     "text": [
      "100%|█████████████████████████████████████████████████████████████████████████████| 3028/3028 [00:25<00:00, 118.43it/s]\n",
      " 44%|███████████████████████████████████▌                                            | 71/160 [00:00<00:00, 351.10it/s]"
     ]
    },
    {
     "name": "stdout",
     "output_type": "stream",
     "text": [
      "Train loss 0.08355906599984336\n"
     ]
    },
    {
     "name": "stderr",
     "output_type": "stream",
     "text": [
      "100%|███████████████████████████████████████████████████████████████████████████████| 160/160 [00:00<00:00, 389.74it/s]\n",
      "  0%|▎                                                                              | 13/3028 [00:00<00:23, 129.17it/s]"
     ]
    },
    {
     "name": "stdout",
     "output_type": "stream",
     "text": [
      "similarity score 0.5611285266457681\n",
      "Evaluate loss 0.09274385124444962\n",
      "================================================== EPOCH 118 ==================================================\n"
     ]
    },
    {
     "name": "stderr",
     "output_type": "stream",
     "text": [
      "100%|█████████████████████████████████████████████████████████████████████████████| 3028/3028 [00:24<00:00, 126.15it/s]\n",
      " 23%|██████████████████▌                                                             | 37/160 [00:00<00:00, 368.22it/s]"
     ]
    },
    {
     "name": "stdout",
     "output_type": "stream",
     "text": [
      "Train loss 0.08373955376016418\n"
     ]
    },
    {
     "name": "stderr",
     "output_type": "stream",
     "text": [
      "100%|███████████████████████████████████████████████████████████████████████████████| 160/160 [00:00<00:00, 441.88it/s]\n",
      "  0%|▎                                                                              | 13/3028 [00:00<00:23, 129.05it/s]"
     ]
    },
    {
     "name": "stdout",
     "output_type": "stream",
     "text": [
      "similarity score 0.542319749216301\n",
      "Evaluate loss 0.09201322495937347\n",
      "================================================== EPOCH 119 ==================================================\n"
     ]
    },
    {
     "name": "stderr",
     "output_type": "stream",
     "text": [
      "100%|█████████████████████████████████████████████████████████████████████████████| 3028/3028 [00:23<00:00, 127.83it/s]\n",
      " 27%|█████████████████████▌                                                          | 43/160 [00:00<00:00, 428.37it/s]"
     ]
    },
    {
     "name": "stdout",
     "output_type": "stream",
     "text": [
      "Train loss 0.08344194523892039\n"
     ]
    },
    {
     "name": "stderr",
     "output_type": "stream",
     "text": [
      "100%|███████████████████████████████████████████████████████████████████████████████| 160/160 [00:00<00:00, 482.97it/s]\n",
      "  0%|▎                                                                              | 14/3028 [00:00<00:21, 139.25it/s]"
     ]
    },
    {
     "name": "stdout",
     "output_type": "stream",
     "text": [
      "similarity score 0.512539184952978\n",
      "Evaluate loss 0.09211032092571259\n",
      "================================================== EPOCH 120 ==================================================\n"
     ]
    },
    {
     "name": "stderr",
     "output_type": "stream",
     "text": [
      "100%|█████████████████████████████████████████████████████████████████████████████| 3028/3028 [00:22<00:00, 132.47it/s]\n",
      " 28%|██████████████████████▌                                                         | 45/160 [00:00<00:00, 448.39it/s]"
     ]
    },
    {
     "name": "stdout",
     "output_type": "stream",
     "text": [
      "Train loss 0.08367350082549997\n"
     ]
    },
    {
     "name": "stderr",
     "output_type": "stream",
     "text": [
      "100%|███████████████████████████████████████████████████████████████████████████████| 160/160 [00:00<00:00, 483.01it/s]\n",
      "  0%|▎                                                                              | 13/3028 [00:00<00:23, 129.11it/s]"
     ]
    },
    {
     "name": "stdout",
     "output_type": "stream",
     "text": [
      "similarity score 0.5438871473354232\n",
      "Evaluate loss 0.09512151777744293\n",
      "================================================== EPOCH 121 ==================================================\n"
     ]
    },
    {
     "name": "stderr",
     "output_type": "stream",
     "text": [
      "100%|█████████████████████████████████████████████████████████████████████████████| 3028/3028 [00:23<00:00, 130.25it/s]\n",
      " 30%|████████████████████████                                                        | 48/160 [00:00<00:00, 478.26it/s]"
     ]
    },
    {
     "name": "stdout",
     "output_type": "stream",
     "text": [
      "Train loss 0.08275607588589917\n"
     ]
    },
    {
     "name": "stderr",
     "output_type": "stream",
     "text": [
      "100%|███████████████████████████████████████████████████████████████████████████████| 160/160 [00:00<00:00, 498.05it/s]\n",
      "  0%|▎                                                                              | 13/3028 [00:00<00:23, 129.06it/s]"
     ]
    },
    {
     "name": "stdout",
     "output_type": "stream",
     "text": [
      "similarity score 0.5431034482758621\n",
      "Evaluate loss 0.09454504400491714\n",
      "================================================== EPOCH 122 ==================================================\n"
     ]
    },
    {
     "name": "stderr",
     "output_type": "stream",
     "text": [
      "100%|█████████████████████████████████████████████████████████████████████████████| 3028/3028 [00:22<00:00, 132.48it/s]\n",
      " 57%|█████████████████████████████████████████████▌                                  | 91/160 [00:00<00:00, 450.96it/s]"
     ]
    },
    {
     "name": "stdout",
     "output_type": "stream",
     "text": [
      "Train loss 0.08313585938573624\n"
     ]
    },
    {
     "name": "stderr",
     "output_type": "stream",
     "text": [
      "100%|███████████████████████████████████████████████████████████████████████████████| 160/160 [00:00<00:00, 482.29it/s]\n",
      "  0%|▎                                                                              | 13/3028 [00:00<00:23, 129.31it/s]"
     ]
    },
    {
     "name": "stdout",
     "output_type": "stream",
     "text": [
      "similarity score 0.5556426332288401\n",
      "Evaluate loss 0.09290565550327301\n",
      "================================================== EPOCH 123 ==================================================\n"
     ]
    },
    {
     "name": "stderr",
     "output_type": "stream",
     "text": [
      "100%|█████████████████████████████████████████████████████████████████████████████| 3028/3028 [00:23<00:00, 131.19it/s]\n",
      " 28%|██████████████████████▌                                                         | 45/160 [00:00<00:00, 448.10it/s]"
     ]
    },
    {
     "name": "stdout",
     "output_type": "stream",
     "text": [
      "Train loss 0.08355362401183945\n"
     ]
    },
    {
     "name": "stderr",
     "output_type": "stream",
     "text": [
      "100%|███████████████████████████████████████████████████████████████████████████████| 160/160 [00:00<00:00, 468.30it/s]\n",
      "  1%|▋                                                                              | 26/3028 [00:00<00:23, 129.28it/s]"
     ]
    },
    {
     "name": "stdout",
     "output_type": "stream",
     "text": [
      "similarity score 0.5525078369905956\n",
      "Evaluate loss 0.0937914103269577\n",
      "================================================== EPOCH 124 ==================================================\n"
     ]
    },
    {
     "name": "stderr",
     "output_type": "stream",
     "text": [
      "100%|█████████████████████████████████████████████████████████████████████████████| 3028/3028 [00:22<00:00, 136.99it/s]\n",
      " 30%|████████████████████████                                                        | 48/160 [00:00<00:00, 478.17it/s]"
     ]
    },
    {
     "name": "stdout",
     "output_type": "stream",
     "text": [
      "Train loss 0.08285400680837786\n"
     ]
    },
    {
     "name": "stderr",
     "output_type": "stream",
     "text": [
      "100%|███████████████████████████████████████████████████████████████████████████████| 160/160 [00:00<00:00, 510.98it/s]\n",
      "  0%|▎                                                                              | 13/3028 [00:00<00:23, 129.35it/s]"
     ]
    },
    {
     "name": "stdout",
     "output_type": "stream",
     "text": [
      "similarity score 0.5336990595611285\n",
      "Evaluate loss 0.09169349819421768\n",
      "================================================== EPOCH 125 ==================================================\n"
     ]
    },
    {
     "name": "stderr",
     "output_type": "stream",
     "text": [
      "100%|█████████████████████████████████████████████████████████████████████████████| 3028/3028 [00:22<00:00, 134.35it/s]\n",
      " 49%|███████████████████████████████████████                                         | 78/160 [00:00<00:00, 391.96it/s]"
     ]
    },
    {
     "name": "stdout",
     "output_type": "stream",
     "text": [
      "Train loss 0.0831015027898854\n"
     ]
    },
    {
     "name": "stderr",
     "output_type": "stream",
     "text": [
      "100%|███████████████████████████████████████████████████████████████████████████████| 160/160 [00:00<00:00, 442.52it/s]\n",
      "  0%|▎                                                                              | 13/3028 [00:00<00:23, 129.36it/s]"
     ]
    },
    {
     "name": "stdout",
     "output_type": "stream",
     "text": [
      "similarity score 0.5289968652037618\n",
      "Evaluate loss 0.09199295192956924\n",
      "================================================== EPOCH 126 ==================================================\n"
     ]
    },
    {
     "name": "stderr",
     "output_type": "stream",
     "text": [
      "100%|█████████████████████████████████████████████████████████████████████████████| 3028/3028 [00:24<00:00, 123.30it/s]\n",
      " 56%|█████████████████████████████████████████████                                   | 90/160 [00:00<00:00, 451.74it/s]"
     ]
    },
    {
     "name": "stdout",
     "output_type": "stream",
     "text": [
      "Train loss 0.08326920705514959\n"
     ]
    },
    {
     "name": "stderr",
     "output_type": "stream",
     "text": [
      "100%|███████████████████████████████████████████████████████████████████████████████| 160/160 [00:00<00:00, 482.66it/s]\n",
      "  0%|▎                                                                              | 13/3028 [00:00<00:23, 129.21it/s]"
     ]
    },
    {
     "name": "stdout",
     "output_type": "stream",
     "text": [
      "similarity score 0.5062695924764891\n",
      "Evaluate loss 0.0927993506193161\n",
      "================================================== EPOCH 127 ==================================================\n"
     ]
    },
    {
     "name": "stderr",
     "output_type": "stream",
     "text": [
      "100%|█████████████████████████████████████████████████████████████████████████████| 3028/3028 [00:23<00:00, 127.09it/s]\n",
      " 55%|████████████████████████████████████████████                                    | 88/160 [00:00<00:00, 429.03it/s]"
     ]
    },
    {
     "name": "stdout",
     "output_type": "stream",
     "text": [
      "Train loss 0.08290718755788752\n"
     ]
    },
    {
     "name": "stderr",
     "output_type": "stream",
     "text": [
      "100%|███████████████████████████████████████████████████████████████████████████████| 160/160 [00:00<00:00, 471.01it/s]\n",
      "  0%|▎                                                                              | 13/3028 [00:00<00:23, 129.15it/s]"
     ]
    },
    {
     "name": "stdout",
     "output_type": "stream",
     "text": [
      "similarity score 0.5164576802507836\n",
      "Evaluate loss 0.09336291253566742\n",
      "================================================== EPOCH 128 ==================================================\n"
     ]
    },
    {
     "name": "stderr",
     "output_type": "stream",
     "text": [
      "100%|█████████████████████████████████████████████████████████████████████████████| 3028/3028 [00:24<00:00, 124.78it/s]\n",
      " 51%|████████████████████████████████████████▌                                       | 81/160 [00:00<00:00, 389.41it/s]"
     ]
    },
    {
     "name": "stdout",
     "output_type": "stream",
     "text": [
      "Train loss 0.08315005029293787\n"
     ]
    },
    {
     "name": "stderr",
     "output_type": "stream",
     "text": [
      "100%|███████████████████████████████████████████████████████████████████████████████| 160/160 [00:00<00:00, 423.58it/s]\n",
      "  0%|▎                                                                              | 12/3028 [00:00<00:26, 113.11it/s]"
     ]
    },
    {
     "name": "stdout",
     "output_type": "stream",
     "text": [
      "similarity score 0.5603448275862069\n",
      "Evaluate loss 0.09232406318187714\n",
      "================================================== EPOCH 129 ==================================================\n"
     ]
    },
    {
     "name": "stderr",
     "output_type": "stream",
     "text": [
      "100%|█████████████████████████████████████████████████████████████████████████████| 3028/3028 [00:24<00:00, 126.00it/s]\n",
      " 55%|████████████████████████████████████████████                                    | 88/160 [00:00<00:00, 433.85it/s]"
     ]
    },
    {
     "name": "stdout",
     "output_type": "stream",
     "text": [
      "Train loss 0.08261115777188921\n"
     ]
    },
    {
     "name": "stderr",
     "output_type": "stream",
     "text": [
      "100%|███████████████████████████████████████████████████████████████████████████████| 160/160 [00:00<00:00, 454.88it/s]\n",
      "  0%|▎                                                                              | 13/3028 [00:00<00:23, 126.48it/s]"
     ]
    },
    {
     "name": "stdout",
     "output_type": "stream",
     "text": [
      "similarity score 0.5391849529780565\n",
      "Evaluate loss 0.09078503400087357\n",
      "================================================== EPOCH 130 ==================================================\n"
     ]
    },
    {
     "name": "stderr",
     "output_type": "stream",
     "text": [
      "100%|█████████████████████████████████████████████████████████████████████████████| 3028/3028 [00:24<00:00, 124.56it/s]\n",
      " 26%|████████████████████▌                                                           | 41/160 [00:00<00:00, 407.30it/s]"
     ]
    },
    {
     "name": "stdout",
     "output_type": "stream",
     "text": [
      "Train loss 0.08286542118128076\n"
     ]
    },
    {
     "name": "stderr",
     "output_type": "stream",
     "text": [
      "100%|███████████████████████████████████████████████████████████████████████████████| 160/160 [00:00<00:00, 444.02it/s]\n",
      "  0%|▎                                                                              | 13/3028 [00:00<00:23, 129.21it/s]"
     ]
    },
    {
     "name": "stdout",
     "output_type": "stream",
     "text": [
      "similarity score 0.5681818181818182\n",
      "Evaluate loss 0.09250171482563019\n",
      "================================================== EPOCH 131 ==================================================\n"
     ]
    },
    {
     "name": "stderr",
     "output_type": "stream",
     "text": [
      "100%|█████████████████████████████████████████████████████████████████████████████| 3028/3028 [00:23<00:00, 130.32it/s]\n",
      " 29%|███████████████████████                                                         | 46/160 [00:00<00:00, 457.81it/s]"
     ]
    },
    {
     "name": "stdout",
     "output_type": "stream",
     "text": [
      "Train loss 0.08284264656275578\n"
     ]
    },
    {
     "name": "stderr",
     "output_type": "stream",
     "text": [
      "100%|███████████████████████████████████████████████████████████████████████████████| 160/160 [00:00<00:00, 479.56it/s]\n",
      "  0%|▎                                                                              | 14/3028 [00:00<00:21, 139.17it/s]"
     ]
    },
    {
     "name": "stdout",
     "output_type": "stream",
     "text": [
      "similarity score 0.5752351097178683\n",
      "Evaluate loss 0.0935937911272049\n",
      "================================================== EPOCH 132 ==================================================\n"
     ]
    },
    {
     "name": "stderr",
     "output_type": "stream",
     "text": [
      "100%|█████████████████████████████████████████████████████████████████████████████| 3028/3028 [00:23<00:00, 128.00it/s]\n",
      " 59%|███████████████████████████████████████████████                                 | 94/160 [00:00<00:00, 463.92it/s]"
     ]
    },
    {
     "name": "stdout",
     "output_type": "stream",
     "text": [
      "Train loss 0.08305185735440208\n"
     ]
    },
    {
     "name": "stderr",
     "output_type": "stream",
     "text": [
      "100%|███████████████████████████████████████████████████████████████████████████████| 160/160 [00:00<00:00, 494.66it/s]\n",
      "  0%|▎                                                                              | 13/3028 [00:00<00:23, 129.36it/s]"
     ]
    },
    {
     "name": "stdout",
     "output_type": "stream",
     "text": [
      "similarity score 0.5407523510971787\n",
      "Evaluate loss 0.09199759364128113\n",
      "================================================== EPOCH 133 ==================================================\n"
     ]
    },
    {
     "name": "stderr",
     "output_type": "stream",
     "text": [
      "100%|█████████████████████████████████████████████████████████████████████████████| 3028/3028 [00:23<00:00, 129.91it/s]\n",
      " 26%|█████████████████████                                                           | 42/160 [00:00<00:00, 418.16it/s]"
     ]
    },
    {
     "name": "stdout",
     "output_type": "stream",
     "text": [
      "Train loss 0.08287670398433969\n"
     ]
    },
    {
     "name": "stderr",
     "output_type": "stream",
     "text": [
      "100%|███████████████████████████████████████████████████████████████████████████████| 160/160 [00:00<00:00, 468.35it/s]\n",
      "  0%|▎                                                                              | 13/3028 [00:00<00:23, 129.09it/s]"
     ]
    },
    {
     "name": "stdout",
     "output_type": "stream",
     "text": [
      "similarity score 0.5721003134796239\n",
      "Evaluate loss 0.09154313802719116\n",
      "================================================== EPOCH 134 ==================================================\n"
     ]
    },
    {
     "name": "stderr",
     "output_type": "stream",
     "text": [
      "100%|█████████████████████████████████████████████████████████████████████████████| 3028/3028 [00:23<00:00, 130.19it/s]\n",
      " 56%|████████████████████████████████████████████▌                                   | 89/160 [00:00<00:00, 441.13it/s]"
     ]
    },
    {
     "name": "stdout",
     "output_type": "stream",
     "text": [
      "Train loss 0.08221674668944048\n"
     ]
    },
    {
     "name": "stderr",
     "output_type": "stream",
     "text": [
      "100%|███████████████████████████████████████████████████████████████████████████████| 160/160 [00:00<00:00, 482.72it/s]\n",
      "  0%|▎                                                                              | 13/3028 [00:00<00:23, 129.26it/s]"
     ]
    },
    {
     "name": "stdout",
     "output_type": "stream",
     "text": [
      "similarity score 0.5415360501567398\n",
      "Evaluate loss 0.09217865765094757\n",
      "================================================== EPOCH 135 ==================================================\n"
     ]
    },
    {
     "name": "stderr",
     "output_type": "stream",
     "text": [
      "100%|█████████████████████████████████████████████████████████████████████████████| 3028/3028 [00:23<00:00, 129.58it/s]\n",
      " 55%|████████████████████████████████████████████                                    | 88/160 [00:00<00:00, 437.78it/s]"
     ]
    },
    {
     "name": "stdout",
     "output_type": "stream",
     "text": [
      "Train loss 0.08279226574179584\n"
     ]
    },
    {
     "name": "stderr",
     "output_type": "stream",
     "text": [
      "100%|███████████████████████████████████████████████████████████████████████████████| 160/160 [00:00<00:00, 482.19it/s]\n",
      "  0%|▎                                                                              | 13/3028 [00:00<00:23, 126.61it/s]"
     ]
    },
    {
     "name": "stdout",
     "output_type": "stream",
     "text": [
      "similarity score 0.512539184952978\n",
      "Evaluate loss 0.0943852886557579\n",
      "================================================== EPOCH 136 ==================================================\n"
     ]
    },
    {
     "name": "stderr",
     "output_type": "stream",
     "text": [
      "100%|█████████████████████████████████████████████████████████████████████████████| 3028/3028 [00:23<00:00, 129.69it/s]\n",
      " 57%|█████████████████████████████████████████████▌                                  | 91/160 [00:00<00:00, 455.05it/s]"
     ]
    },
    {
     "name": "stdout",
     "output_type": "stream",
     "text": [
      "Train loss 0.08227625440807995\n"
     ]
    },
    {
     "name": "stderr",
     "output_type": "stream",
     "text": [
      "100%|███████████████████████████████████████████████████████████████████████████████| 160/160 [00:00<00:00, 471.35it/s]\n",
      "  0%|▎                                                                              | 13/3028 [00:00<00:23, 129.06it/s]"
     ]
    },
    {
     "name": "stdout",
     "output_type": "stream",
     "text": [
      "similarity score 0.5705329153605015\n",
      "Evaluate loss 0.09099280089139938\n",
      "================================================== EPOCH 137 ==================================================\n"
     ]
    },
    {
     "name": "stderr",
     "output_type": "stream",
     "text": [
      "100%|█████████████████████████████████████████████████████████████████████████████| 3028/3028 [00:23<00:00, 129.34it/s]\n",
      " 28%|██████████████████████                                                          | 44/160 [00:00<00:00, 438.28it/s]"
     ]
    },
    {
     "name": "stdout",
     "output_type": "stream",
     "text": [
      "Train loss 0.0822564818018394\n"
     ]
    },
    {
     "name": "stderr",
     "output_type": "stream",
     "text": [
      "100%|███████████████████████████████████████████████████████████████████████████████| 160/160 [00:00<00:00, 482.85it/s]\n",
      "  0%|▎                                                                              | 13/3028 [00:00<00:23, 126.75it/s]"
     ]
    },
    {
     "name": "stdout",
     "output_type": "stream",
     "text": [
      "similarity score 0.5250783699059561\n",
      "Evaluate loss 0.09165327250957489\n",
      "================================================== EPOCH 138 ==================================================\n"
     ]
    },
    {
     "name": "stderr",
     "output_type": "stream",
     "text": [
      "100%|█████████████████████████████████████████████████████████████████████████████| 3028/3028 [00:24<00:00, 126.08it/s]\n",
      " 51%|█████████████████████████████████████████                                       | 82/160 [00:00<00:00, 384.69it/s]"
     ]
    },
    {
     "name": "stdout",
     "output_type": "stream",
     "text": [
      "Train loss 0.0830008508130441\n"
     ]
    },
    {
     "name": "stderr",
     "output_type": "stream",
     "text": [
      "100%|███████████████████████████████████████████████████████████████████████████████| 160/160 [00:00<00:00, 434.26it/s]\n",
      "  0%|▎                                                                              | 13/3028 [00:00<00:24, 123.39it/s]"
     ]
    },
    {
     "name": "stdout",
     "output_type": "stream",
     "text": [
      "similarity score 0.5572100313479624\n",
      "Evaluate loss 0.09208676218986511\n",
      "================================================== EPOCH 139 ==================================================\n"
     ]
    },
    {
     "name": "stderr",
     "output_type": "stream",
     "text": [
      "100%|█████████████████████████████████████████████████████████████████████████████| 3028/3028 [00:23<00:00, 126.24it/s]\n",
      " 27%|█████████████████████▌                                                          | 43/160 [00:00<00:00, 428.24it/s]"
     ]
    },
    {
     "name": "stdout",
     "output_type": "stream",
     "text": [
      "Train loss 0.08236745193154986\n"
     ]
    },
    {
     "name": "stderr",
     "output_type": "stream",
     "text": [
      "100%|███████████████████████████████████████████████████████████████████████████████| 160/160 [00:00<00:00, 468.39it/s]\n",
      "  0%|▎                                                                              | 13/3028 [00:00<00:23, 129.33it/s]"
     ]
    },
    {
     "name": "stdout",
     "output_type": "stream",
     "text": [
      "similarity score 0.5713166144200627\n",
      "Evaluate loss 0.09328708052635193\n",
      "================================================== EPOCH 140 ==================================================\n"
     ]
    },
    {
     "name": "stderr",
     "output_type": "stream",
     "text": [
      "100%|█████████████████████████████████████████████████████████████████████████████| 3028/3028 [00:23<00:00, 126.99it/s]\n",
      " 28%|██████████████████████▌                                                         | 45/160 [00:00<00:00, 434.39it/s]"
     ]
    },
    {
     "name": "stdout",
     "output_type": "stream",
     "text": [
      "Train loss 0.08225090365143016\n"
     ]
    },
    {
     "name": "stderr",
     "output_type": "stream",
     "text": [
      "100%|███████████████████████████████████████████████████████████████████████████████| 160/160 [00:00<00:00, 460.36it/s]\n",
      "  0%|▎                                                                              | 13/3028 [00:00<00:24, 122.94it/s]"
     ]
    },
    {
     "name": "stdout",
     "output_type": "stream",
     "text": [
      "similarity score 0.5611285266457681\n",
      "Evaluate loss 0.09205164015293121\n",
      "================================================== EPOCH 141 ==================================================\n"
     ]
    },
    {
     "name": "stderr",
     "output_type": "stream",
     "text": [
      "100%|█████████████████████████████████████████████████████████████████████████████| 3028/3028 [00:23<00:00, 127.38it/s]\n",
      " 53%|██████████████████████████████████████████▌                                     | 85/160 [00:00<00:00, 416.73it/s]"
     ]
    },
    {
     "name": "stdout",
     "output_type": "stream",
     "text": [
      "Train loss 0.08246980933276438\n"
     ]
    },
    {
     "name": "stderr",
     "output_type": "stream",
     "text": [
      "100%|███████████████████████████████████████████████████████████████████████████████| 160/160 [00:00<00:00, 442.54it/s]\n",
      "  0%|▎                                                                              | 13/3028 [00:00<00:23, 129.22it/s]"
     ]
    },
    {
     "name": "stdout",
     "output_type": "stream",
     "text": [
      "similarity score 0.567398119122257\n",
      "Evaluate loss 0.09159423410892487\n",
      "================================================== EPOCH 142 ==================================================\n"
     ]
    },
    {
     "name": "stderr",
     "output_type": "stream",
     "text": [
      "100%|█████████████████████████████████████████████████████████████████████████████| 3028/3028 [00:23<00:00, 129.25it/s]\n",
      " 26%|████████████████████▌                                                           | 41/160 [00:00<00:00, 407.36it/s]"
     ]
    },
    {
     "name": "stdout",
     "output_type": "stream",
     "text": [
      "Train loss 0.08233995320771537\n"
     ]
    },
    {
     "name": "stderr",
     "output_type": "stream",
     "text": [
      "100%|███████████████████████████████████████████████████████████████████████████████| 160/160 [00:00<00:00, 444.54it/s]\n",
      "  0%|▎                                                                              | 13/3028 [00:00<00:23, 129.26it/s]"
     ]
    },
    {
     "name": "stdout",
     "output_type": "stream",
     "text": [
      "similarity score 0.5744514106583072\n",
      "Evaluate loss 0.09341826289892197\n",
      "================================================== EPOCH 143 ==================================================\n"
     ]
    },
    {
     "name": "stderr",
     "output_type": "stream",
     "text": [
      "100%|█████████████████████████████████████████████████████████████████████████████| 3028/3028 [00:22<00:00, 131.76it/s]\n",
      " 27%|█████████████████████▌                                                          | 43/160 [00:00<00:00, 427.61it/s]"
     ]
    },
    {
     "name": "stdout",
     "output_type": "stream",
     "text": [
      "Train loss 0.08257606862847357\n"
     ]
    },
    {
     "name": "stderr",
     "output_type": "stream",
     "text": [
      "100%|███████████████████████████████████████████████████████████████████████████████| 160/160 [00:00<00:00, 465.52it/s]\n",
      "  0%|▎                                                                              | 12/3028 [00:00<00:25, 118.89it/s]"
     ]
    },
    {
     "name": "stdout",
     "output_type": "stream",
     "text": [
      "similarity score 0.512539184952978\n",
      "Evaluate loss 0.09188057482242584\n",
      "================================================== EPOCH 144 ==================================================\n"
     ]
    },
    {
     "name": "stderr",
     "output_type": "stream",
     "text": [
      "100%|█████████████████████████████████████████████████████████████████████████████| 3028/3028 [00:23<00:00, 130.34it/s]\n",
      " 28%|██████████████████████▌                                                         | 45/160 [00:00<00:00, 448.15it/s]"
     ]
    },
    {
     "name": "stdout",
     "output_type": "stream",
     "text": [
      "Train loss 0.08246635121586018\n"
     ]
    },
    {
     "name": "stderr",
     "output_type": "stream",
     "text": [
      "100%|███████████████████████████████████████████████████████████████████████████████| 160/160 [00:00<00:00, 457.99it/s]\n",
      "  0%|▎                                                                              | 13/3028 [00:00<00:23, 129.28it/s]"
     ]
    },
    {
     "name": "stdout",
     "output_type": "stream",
     "text": [
      "similarity score 0.567398119122257\n",
      "Evaluate loss 0.09249470382928848\n",
      "================================================== EPOCH 145 ==================================================\n"
     ]
    },
    {
     "name": "stderr",
     "output_type": "stream",
     "text": [
      "100%|█████████████████████████████████████████████████████████████████████████████| 3028/3028 [00:23<00:00, 129.17it/s]\n",
      " 28%|██████████████████████                                                          | 44/160 [00:00<00:00, 438.22it/s]"
     ]
    },
    {
     "name": "stdout",
     "output_type": "stream",
     "text": [
      "Train loss 0.08199496414294637\n"
     ]
    },
    {
     "name": "stderr",
     "output_type": "stream",
     "text": [
      "100%|███████████████████████████████████████████████████████████████████████████████| 160/160 [00:00<00:00, 455.14it/s]\n",
      "  0%|▎                                                                              | 13/3028 [00:00<00:23, 129.27it/s]"
     ]
    },
    {
     "name": "stdout",
     "output_type": "stream",
     "text": [
      "similarity score 0.5681818181818182\n",
      "Evaluate loss 0.0927727147936821\n",
      "================================================== EPOCH 146 ==================================================\n"
     ]
    },
    {
     "name": "stderr",
     "output_type": "stream",
     "text": [
      "100%|█████████████████████████████████████████████████████████████████████████████| 3028/3028 [00:24<00:00, 126.11it/s]\n",
      " 52%|██████████████████████████████████████████                                      | 84/160 [00:00<00:00, 409.73it/s]"
     ]
    },
    {
     "name": "stdout",
     "output_type": "stream",
     "text": [
      "Train loss 0.08242833569301865\n"
     ]
    },
    {
     "name": "stderr",
     "output_type": "stream",
     "text": [
      "100%|███████████████████████████████████████████████████████████████████████████████| 160/160 [00:00<00:00, 431.88it/s]\n",
      "  0%|▎                                                                              | 12/3028 [00:00<00:26, 115.49it/s]"
     ]
    },
    {
     "name": "stdout",
     "output_type": "stream",
     "text": [
      "similarity score 0.5619122257053292\n",
      "Evaluate loss 0.09116175770759583\n",
      "================================================== EPOCH 147 ==================================================\n"
     ]
    },
    {
     "name": "stderr",
     "output_type": "stream",
     "text": [
      "100%|█████████████████████████████████████████████████████████████████████████████| 3028/3028 [00:23<00:00, 127.35it/s]\n",
      " 28%|██████████████████████                                                          | 44/160 [00:00<00:00, 437.25it/s]"
     ]
    },
    {
     "name": "stdout",
     "output_type": "stream",
     "text": [
      "Train loss 0.08170027129653204\n"
     ]
    },
    {
     "name": "stderr",
     "output_type": "stream",
     "text": [
      "100%|███████████████████████████████████████████████████████████████████████████████| 160/160 [00:00<00:00, 468.43it/s]\n",
      "  0%|▎                                                                              | 13/3028 [00:00<00:23, 129.06it/s]"
     ]
    },
    {
     "name": "stdout",
     "output_type": "stream",
     "text": [
      "similarity score 0.5094043887147336\n",
      "Evaluate loss 0.09205061197280884\n",
      "================================================== EPOCH 148 ==================================================\n"
     ]
    },
    {
     "name": "stderr",
     "output_type": "stream",
     "text": [
      "100%|█████████████████████████████████████████████████████████████████████████████| 3028/3028 [00:23<00:00, 127.46it/s]\n",
      " 28%|██████████████████████▌                                                         | 45/160 [00:00<00:00, 448.09it/s]"
     ]
    },
    {
     "name": "stdout",
     "output_type": "stream",
     "text": [
      "Train loss 0.08232609141412557\n"
     ]
    },
    {
     "name": "stderr",
     "output_type": "stream",
     "text": [
      "100%|███████████████████████████████████████████████████████████████████████████████| 160/160 [00:00<00:00, 468.68it/s]\n",
      "  0%|▎                                                                              | 13/3028 [00:00<00:23, 129.23it/s]"
     ]
    },
    {
     "name": "stdout",
     "output_type": "stream",
     "text": [
      "similarity score 0.542319749216301\n",
      "Evaluate loss 0.09089109301567078\n",
      "================================================== EPOCH 149 ==================================================\n"
     ]
    },
    {
     "name": "stderr",
     "output_type": "stream",
     "text": [
      "100%|█████████████████████████████████████████████████████████████████████████████| 3028/3028 [00:23<00:00, 128.09it/s]\n",
      " 29%|███████████████████████                                                         | 46/160 [00:00<00:00, 423.92it/s]"
     ]
    },
    {
     "name": "stdout",
     "output_type": "stream",
     "text": [
      "Train loss 0.08204763425364008\n"
     ]
    },
    {
     "name": "stderr",
     "output_type": "stream",
     "text": [
      "100%|███████████████████████████████████████████████████████████████████████████████| 160/160 [00:00<00:00, 445.68it/s]\n",
      "  0%|▎                                                                              | 12/3028 [00:00<00:25, 119.88it/s]"
     ]
    },
    {
     "name": "stdout",
     "output_type": "stream",
     "text": [
      "similarity score 0.5666144200626959\n",
      "Evaluate loss 0.0922330766916275\n",
      "================================================== EPOCH 150 ==================================================\n"
     ]
    },
    {
     "name": "stderr",
     "output_type": "stream",
     "text": [
      "100%|█████████████████████████████████████████████████████████████████████████████| 3028/3028 [00:23<00:00, 127.76it/s]\n",
      " 53%|██████████████████████████████████████████▌                                     | 85/160 [00:00<00:00, 420.25it/s]"
     ]
    },
    {
     "name": "stdout",
     "output_type": "stream",
     "text": [
      "Train loss 0.082109714066702\n"
     ]
    },
    {
     "name": "stderr",
     "output_type": "stream",
     "text": [
      "100%|███████████████████████████████████████████████████████████████████████████████| 160/160 [00:00<00:00, 457.49it/s]\n",
      "  0%|▎                                                                              | 14/3028 [00:00<00:22, 134.36it/s]"
     ]
    },
    {
     "name": "stdout",
     "output_type": "stream",
     "text": [
      "similarity score 0.5250783699059561\n",
      "Evaluate loss 0.09593497216701508\n",
      "================================================== EPOCH 151 ==================================================\n"
     ]
    },
    {
     "name": "stderr",
     "output_type": "stream",
     "text": [
      "100%|█████████████████████████████████████████████████████████████████████████████| 3028/3028 [00:23<00:00, 128.89it/s]\n",
      " 55%|████████████████████████████████████████████                                    | 88/160 [00:00<00:00, 433.07it/s]"
     ]
    },
    {
     "name": "stdout",
     "output_type": "stream",
     "text": [
      "Train loss 0.08206406440217537\n"
     ]
    },
    {
     "name": "stderr",
     "output_type": "stream",
     "text": [
      "100%|███████████████████████████████████████████████████████████████████████████████| 160/160 [00:00<00:00, 454.92it/s]\n",
      "  0%|▎                                                                              | 13/3028 [00:00<00:23, 128.99it/s]"
     ]
    },
    {
     "name": "stdout",
     "output_type": "stream",
     "text": [
      "similarity score 0.5689655172413793\n",
      "Evaluate loss 0.09201955050230026\n",
      "================================================== EPOCH 152 ==================================================\n"
     ]
    },
    {
     "name": "stderr",
     "output_type": "stream",
     "text": [
      "100%|█████████████████████████████████████████████████████████████████████████████| 3028/3028 [00:23<00:00, 127.99it/s]\n",
      " 53%|██████████████████████████████████████████▌                                     | 85/160 [00:00<00:00, 420.84it/s]"
     ]
    },
    {
     "name": "stdout",
     "output_type": "stream",
     "text": [
      "Train loss 0.08138670980723642\n"
     ]
    },
    {
     "name": "stderr",
     "output_type": "stream",
     "text": [
      "100%|███████████████████████████████████████████████████████████████████████████████| 160/160 [00:00<00:00, 444.80it/s]\n",
      "  0%|▎                                                                              | 13/3028 [00:00<00:23, 128.94it/s]"
     ]
    },
    {
     "name": "stdout",
     "output_type": "stream",
     "text": [
      "similarity score 0.5760188087774295\n",
      "Evaluate loss 0.09139853715896606\n",
      "================================================== EPOCH 153 ==================================================\n"
     ]
    },
    {
     "name": "stderr",
     "output_type": "stream",
     "text": [
      "100%|█████████████████████████████████████████████████████████████████████████████| 3028/3028 [00:23<00:00, 127.43it/s]\n",
      " 57%|█████████████████████████████████████████████▌                                  | 91/160 [00:00<00:00, 450.98it/s]"
     ]
    },
    {
     "name": "stdout",
     "output_type": "stream",
     "text": [
      "Train loss 0.08190383878644172\n"
     ]
    },
    {
     "name": "stderr",
     "output_type": "stream",
     "text": [
      "100%|███████████████████████████████████████████████████████████████████████████████| 160/160 [00:00<00:00, 482.79it/s]\n",
      "  0%|▎                                                                              | 13/3028 [00:00<00:23, 129.31it/s]"
     ]
    },
    {
     "name": "stdout",
     "output_type": "stream",
     "text": [
      "similarity score 0.5775862068965517\n",
      "Evaluate loss 0.0911024659872055\n",
      "================================================== EPOCH 154 ==================================================\n"
     ]
    },
    {
     "name": "stderr",
     "output_type": "stream",
     "text": [
      "100%|█████████████████████████████████████████████████████████████████████████████| 3028/3028 [00:22<00:00, 131.89it/s]\n",
      " 55%|████████████████████████████████████████████                                    | 88/160 [00:00<00:00, 434.08it/s]"
     ]
    },
    {
     "name": "stdout",
     "output_type": "stream",
     "text": [
      "Train loss 0.0817781986285089\n"
     ]
    },
    {
     "name": "stderr",
     "output_type": "stream",
     "text": [
      "100%|███████████████████████████████████████████████████████████████████████████████| 160/160 [00:00<00:00, 468.73it/s]\n",
      "  0%|▎                                                                              | 13/3028 [00:00<00:23, 129.22it/s]"
     ]
    },
    {
     "name": "stdout",
     "output_type": "stream",
     "text": [
      "similarity score 0.5752351097178683\n",
      "Evaluate loss 0.09042926132678986\n",
      "================================================== EPOCH 155 ==================================================\n"
     ]
    },
    {
     "name": "stderr",
     "output_type": "stream",
     "text": [
      "100%|█████████████████████████████████████████████████████████████████████████████| 3028/3028 [00:22<00:00, 131.78it/s]\n",
      " 57%|█████████████████████████████████████████████▌                                  | 91/160 [00:00<00:00, 454.98it/s]"
     ]
    },
    {
     "name": "stdout",
     "output_type": "stream",
     "text": [
      "Train loss 0.08186050313867843\n"
     ]
    },
    {
     "name": "stderr",
     "output_type": "stream",
     "text": [
      "100%|███████████████████████████████████████████████████████████████████████████████| 160/160 [00:00<00:00, 471.42it/s]\n",
      "  1%|▋                                                                              | 26/3028 [00:00<00:23, 129.24it/s]"
     ]
    },
    {
     "name": "stdout",
     "output_type": "stream",
     "text": [
      "similarity score 0.5744514106583072\n",
      "Evaluate loss 0.09218695014715195\n",
      "================================================== EPOCH 156 ==================================================\n"
     ]
    },
    {
     "name": "stderr",
     "output_type": "stream",
     "text": [
      "100%|█████████████████████████████████████████████████████████████████████████████| 3028/3028 [00:22<00:00, 131.94it/s]\n",
      " 28%|██████████████████████▌                                                         | 45/160 [00:00<00:00, 448.26it/s]"
     ]
    },
    {
     "name": "stdout",
     "output_type": "stream",
     "text": [
      "Train loss 0.08183544995489284\n"
     ]
    },
    {
     "name": "stderr",
     "output_type": "stream",
     "text": [
      "100%|███████████████████████████████████████████████████████████████████████████████| 160/160 [00:00<00:00, 471.27it/s]\n",
      "  0%|▎                                                                              | 13/3028 [00:00<00:23, 129.26it/s]"
     ]
    },
    {
     "name": "stdout",
     "output_type": "stream",
     "text": [
      "similarity score 0.554858934169279\n",
      "Evaluate loss 0.09047440439462662\n",
      "================================================== EPOCH 157 ==================================================\n"
     ]
    },
    {
     "name": "stderr",
     "output_type": "stream",
     "text": [
      "100%|█████████████████████████████████████████████████████████████████████████████| 3028/3028 [00:22<00:00, 132.55it/s]\n",
      " 28%|██████████████████████▌                                                         | 45/160 [00:00<00:00, 448.14it/s]"
     ]
    },
    {
     "name": "stdout",
     "output_type": "stream",
     "text": [
      "Train loss 0.0819643649727517\n"
     ]
    },
    {
     "name": "stderr",
     "output_type": "stream",
     "text": [
      "100%|███████████████████████████████████████████████████████████████████████████████| 160/160 [00:00<00:00, 465.86it/s]\n",
      "  0%|▎                                                                              | 14/3028 [00:00<00:22, 136.57it/s]"
     ]
    },
    {
     "name": "stdout",
     "output_type": "stream",
     "text": [
      "similarity score 0.5603448275862069\n",
      "Evaluate loss 0.09355240315198898\n",
      "================================================== EPOCH 158 ==================================================\n"
     ]
    },
    {
     "name": "stderr",
     "output_type": "stream",
     "text": [
      "100%|█████████████████████████████████████████████████████████████████████████████| 3028/3028 [00:22<00:00, 131.82it/s]\n",
      " 56%|████████████████████████████████████████████▌                                   | 89/160 [00:00<00:00, 444.95it/s]"
     ]
    },
    {
     "name": "stdout",
     "output_type": "stream",
     "text": [
      "Train loss 0.08221498898747519\n"
     ]
    },
    {
     "name": "stderr",
     "output_type": "stream",
     "text": [
      "100%|███████████████████████████████████████████████████████████████████████████████| 160/160 [00:00<00:00, 482.86it/s]\n",
      "  0%|▎                                                                              | 14/3028 [00:00<00:22, 136.52it/s]"
     ]
    },
    {
     "name": "stdout",
     "output_type": "stream",
     "text": [
      "similarity score 0.572884012539185\n",
      "Evaluate loss 0.09199129045009613\n",
      "================================================== EPOCH 159 ==================================================\n"
     ]
    },
    {
     "name": "stderr",
     "output_type": "stream",
     "text": [
      "100%|█████████████████████████████████████████████████████████████████████████████| 3028/3028 [00:22<00:00, 132.29it/s]\n",
      " 56%|█████████████████████████████████████████████                                   | 90/160 [00:00<00:00, 448.24it/s]"
     ]
    },
    {
     "name": "stdout",
     "output_type": "stream",
     "text": [
      "Train loss 0.08167838041485771\n"
     ]
    },
    {
     "name": "stderr",
     "output_type": "stream",
     "text": [
      "100%|███████████████████████████████████████████████████████████████████████████████| 160/160 [00:00<00:00, 482.89it/s]\n",
      "  0%|▎                                                                              | 13/3028 [00:00<00:23, 129.32it/s]"
     ]
    },
    {
     "name": "stdout",
     "output_type": "stream",
     "text": [
      "similarity score 0.567398119122257\n",
      "Evaluate loss 0.09274981915950775\n",
      "================================================== EPOCH 160 ==================================================\n"
     ]
    },
    {
     "name": "stderr",
     "output_type": "stream",
     "text": [
      "100%|█████████████████████████████████████████████████████████████████████████████| 3028/3028 [00:22<00:00, 132.47it/s]\n",
      " 56%|█████████████████████████████████████████████                                   | 90/160 [00:00<00:00, 444.09it/s]"
     ]
    },
    {
     "name": "stdout",
     "output_type": "stream",
     "text": [
      "Train loss 0.08152415155465567\n"
     ]
    },
    {
     "name": "stderr",
     "output_type": "stream",
     "text": [
      "100%|███████████████████████████████████████████████████████████████████████████████| 160/160 [00:00<00:00, 482.85it/s]\n",
      "  0%|▎                                                                              | 13/3028 [00:00<00:23, 129.34it/s]"
     ]
    },
    {
     "name": "stdout",
     "output_type": "stream",
     "text": [
      "similarity score 0.572884012539185\n",
      "Evaluate loss 0.09186679124832153\n",
      "================================================== EPOCH 161 ==================================================\n"
     ]
    },
    {
     "name": "stderr",
     "output_type": "stream",
     "text": [
      "100%|█████████████████████████████████████████████████████████████████████████████| 3028/3028 [00:22<00:00, 132.48it/s]\n",
      " 28%|██████████████████████▌                                                         | 45/160 [00:00<00:00, 448.09it/s]"
     ]
    },
    {
     "name": "stdout",
     "output_type": "stream",
     "text": [
      "Train loss 0.08186547975251181\n"
     ]
    },
    {
     "name": "stderr",
     "output_type": "stream",
     "text": [
      "100%|███████████████████████████████████████████████████████████████████████████████| 160/160 [00:00<00:00, 482.72it/s]\n",
      "  0%|▎                                                                              | 13/3028 [00:00<00:23, 129.19it/s]"
     ]
    },
    {
     "name": "stdout",
     "output_type": "stream",
     "text": [
      "similarity score 0.5540752351097179\n",
      "Evaluate loss 0.09265080094337463\n",
      "================================================== EPOCH 162 ==================================================\n"
     ]
    },
    {
     "name": "stderr",
     "output_type": "stream",
     "text": [
      "100%|█████████████████████████████████████████████████████████████████████████████| 3028/3028 [00:23<00:00, 131.11it/s]\n",
      " 57%|█████████████████████████████████████████████▌                                  | 91/160 [00:00<00:00, 451.29it/s]"
     ]
    },
    {
     "name": "stdout",
     "output_type": "stream",
     "text": [
      "Train loss 0.08211093988882247\n"
     ]
    },
    {
     "name": "stderr",
     "output_type": "stream",
     "text": [
      "100%|███████████████████████████████████████████████████████████████████████████████| 160/160 [00:00<00:00, 442.74it/s]\n",
      "  0%|▎                                                                              | 12/3028 [00:00<00:25, 119.19it/s]"
     ]
    },
    {
     "name": "stdout",
     "output_type": "stream",
     "text": [
      "similarity score 0.5822884012539185\n",
      "Evaluate loss 0.09220737963914871\n",
      "================================================== EPOCH 163 ==================================================\n"
     ]
    },
    {
     "name": "stderr",
     "output_type": "stream",
     "text": [
      "100%|█████████████████████████████████████████████████████████████████████████████| 3028/3028 [00:23<00:00, 129.99it/s]\n",
      " 28%|██████████████████████                                                          | 44/160 [00:00<00:00, 438.06it/s]"
     ]
    },
    {
     "name": "stdout",
     "output_type": "stream",
     "text": [
      "Train loss 0.08155612114737243\n"
     ]
    },
    {
     "name": "stderr",
     "output_type": "stream",
     "text": [
      "100%|███████████████████████████████████████████████████████████████████████████████| 160/160 [00:00<00:00, 468.61it/s]\n",
      "  0%|▎                                                                              | 13/3028 [00:00<00:23, 129.29it/s]"
     ]
    },
    {
     "name": "stdout",
     "output_type": "stream",
     "text": [
      "similarity score 0.5744514106583072\n",
      "Evaluate loss 0.09201999008655548\n",
      "================================================== EPOCH 164 ==================================================\n"
     ]
    },
    {
     "name": "stderr",
     "output_type": "stream",
     "text": [
      "100%|█████████████████████████████████████████████████████████████████████████████| 3028/3028 [00:23<00:00, 127.59it/s]\n",
      " 24%|███████████████████▌                                                            | 39/160 [00:00<00:00, 387.59it/s]"
     ]
    },
    {
     "name": "stdout",
     "output_type": "stream",
     "text": [
      "Train loss 0.08188964583682015\n"
     ]
    },
    {
     "name": "stderr",
     "output_type": "stream",
     "text": [
      "100%|███████████████████████████████████████████████████████████████████████████████| 160/160 [00:00<00:00, 441.91it/s]\n",
      "  0%|▎                                                                              | 13/3028 [00:00<00:23, 129.17it/s]"
     ]
    },
    {
     "name": "stdout",
     "output_type": "stream",
     "text": [
      "similarity score 0.5775862068965517\n",
      "Evaluate loss 0.08966775238513947\n",
      "================================================== EPOCH 165 ==================================================\n"
     ]
    },
    {
     "name": "stderr",
     "output_type": "stream",
     "text": [
      "100%|█████████████████████████████████████████████████████████████████████████████| 3028/3028 [00:23<00:00, 131.34it/s]\n",
      " 51%|█████████████████████████████████████████                                       | 82/160 [00:00<00:00, 415.34it/s]"
     ]
    },
    {
     "name": "stdout",
     "output_type": "stream",
     "text": [
      "Train loss 0.08129311829571313\n"
     ]
    },
    {
     "name": "stderr",
     "output_type": "stream",
     "text": [
      "100%|███████████████████████████████████████████████████████████████████████████████| 160/160 [00:00<00:00, 442.49it/s]\n",
      "  0%|▎                                                                              | 13/3028 [00:00<00:23, 129.11it/s]"
     ]
    },
    {
     "name": "stdout",
     "output_type": "stream",
     "text": [
      "similarity score 0.5799373040752351\n",
      "Evaluate loss 0.09156951308250427\n",
      "================================================== EPOCH 166 ==================================================\n"
     ]
    },
    {
     "name": "stderr",
     "output_type": "stream",
     "text": [
      "100%|█████████████████████████████████████████████████████████████████████████████| 3028/3028 [00:23<00:00, 126.20it/s]\n",
      " 57%|██████████████████████████████████████████████                                  | 92/160 [00:00<00:00, 453.96it/s]"
     ]
    },
    {
     "name": "stdout",
     "output_type": "stream",
     "text": [
      "Train loss 0.08166564847987029\n"
     ]
    },
    {
     "name": "stderr",
     "output_type": "stream",
     "text": [
      "100%|███████████████████████████████████████████████████████████████████████████████| 160/160 [00:00<00:00, 494.85it/s]\n",
      "  0%|▎                                                                              | 14/3028 [00:00<00:21, 139.25it/s]"
     ]
    },
    {
     "name": "stdout",
     "output_type": "stream",
     "text": [
      "similarity score 0.5721003134796239\n",
      "Evaluate loss 0.09040051698684692\n",
      "================================================== EPOCH 167 ==================================================\n"
     ]
    },
    {
     "name": "stderr",
     "output_type": "stream",
     "text": [
      "100%|█████████████████████████████████████████████████████████████████████████████| 3028/3028 [00:24<00:00, 125.62it/s]\n",
      " 57%|█████████████████████████████████████████████▌                                  | 91/160 [00:00<00:00, 451.09it/s]"
     ]
    },
    {
     "name": "stdout",
     "output_type": "stream",
     "text": [
      "Train loss 0.0819181858841745\n"
     ]
    },
    {
     "name": "stderr",
     "output_type": "stream",
     "text": [
      "100%|███████████████████████████████████████████████████████████████████████████████| 160/160 [00:00<00:00, 468.46it/s]\n",
      "  0%|▎                                                                              | 13/3028 [00:00<00:23, 129.26it/s]"
     ]
    },
    {
     "name": "stdout",
     "output_type": "stream",
     "text": [
      "similarity score 0.5721003134796239\n",
      "Evaluate loss 0.09117820113897324\n",
      "================================================== EPOCH 168 ==================================================\n"
     ]
    },
    {
     "name": "stderr",
     "output_type": "stream",
     "text": [
      "100%|█████████████████████████████████████████████████████████████████████████████| 3028/3028 [00:22<00:00, 131.81it/s]\n",
      " 56%|█████████████████████████████████████████████                                   | 90/160 [00:00<00:00, 451.85it/s]"
     ]
    },
    {
     "name": "stdout",
     "output_type": "stream",
     "text": [
      "Train loss 0.08151464933305586\n"
     ]
    },
    {
     "name": "stderr",
     "output_type": "stream",
     "text": [
      "100%|███████████████████████████████████████████████████████████████████████████████| 160/160 [00:00<00:00, 479.77it/s]\n",
      "  0%|▎                                                                              | 14/3028 [00:00<00:21, 139.16it/s]"
     ]
    },
    {
     "name": "stdout",
     "output_type": "stream",
     "text": [
      "similarity score 0.5752351097178683\n",
      "Evaluate loss 0.09210781753063202\n",
      "================================================== EPOCH 169 ==================================================\n"
     ]
    },
    {
     "name": "stderr",
     "output_type": "stream",
     "text": [
      "100%|█████████████████████████████████████████████████████████████████████████████| 3028/3028 [00:23<00:00, 130.92it/s]\n",
      " 57%|█████████████████████████████████████████████▌                                  | 91/160 [00:00<00:00, 455.06it/s]"
     ]
    },
    {
     "name": "stdout",
     "output_type": "stream",
     "text": [
      "Train loss 0.08131176579254279\n"
     ]
    },
    {
     "name": "stderr",
     "output_type": "stream",
     "text": [
      "100%|███████████████████████████████████████████████████████████████████████████████| 160/160 [00:00<00:00, 482.83it/s]\n",
      "  0%|▎                                                                              | 13/3028 [00:00<00:23, 129.20it/s]"
     ]
    },
    {
     "name": "stdout",
     "output_type": "stream",
     "text": [
      "similarity score 0.5768025078369906\n",
      "Evaluate loss 0.09160369634628296\n",
      "================================================== EPOCH 170 ==================================================\n"
     ]
    },
    {
     "name": "stderr",
     "output_type": "stream",
     "text": [
      "100%|█████████████████████████████████████████████████████████████████████████████| 3028/3028 [00:23<00:00, 130.74it/s]\n",
      " 55%|████████████████████████████████████████████                                    | 88/160 [00:00<00:00, 438.09it/s]"
     ]
    },
    {
     "name": "stdout",
     "output_type": "stream",
     "text": [
      "Train loss 0.08118103010652376\n"
     ]
    },
    {
     "name": "stderr",
     "output_type": "stream",
     "text": [
      "100%|███████████████████████████████████████████████████████████████████████████████| 160/160 [00:00<00:00, 455.00it/s]\n",
      "  0%|▎                                                                              | 13/3028 [00:00<00:23, 129.26it/s]"
     ]
    },
    {
     "name": "stdout",
     "output_type": "stream",
     "text": [
      "similarity score 0.5775862068965517\n",
      "Evaluate loss 0.0913691520690918\n",
      "================================================== EPOCH 171 ==================================================\n"
     ]
    },
    {
     "name": "stderr",
     "output_type": "stream",
     "text": [
      "100%|█████████████████████████████████████████████████████████████████████████████| 3028/3028 [00:22<00:00, 131.88it/s]\n",
      " 55%|████████████████████████████████████████████                                    | 88/160 [00:00<00:00, 433.95it/s]"
     ]
    },
    {
     "name": "stdout",
     "output_type": "stream",
     "text": [
      "Train loss 0.08119657634112484\n"
     ]
    },
    {
     "name": "stderr",
     "output_type": "stream",
     "text": [
      "100%|███████████████████████████████████████████████████████████████████████████████| 160/160 [00:00<00:00, 482.73it/s]\n",
      "  0%|▎                                                                              | 13/3028 [00:00<00:23, 129.32it/s]"
     ]
    },
    {
     "name": "stdout",
     "output_type": "stream",
     "text": [
      "similarity score 0.5901253918495298\n",
      "Evaluate loss 0.09242171049118042\n",
      "================================================== EPOCH 172 ==================================================\n"
     ]
    },
    {
     "name": "stderr",
     "output_type": "stream",
     "text": [
      "100%|█████████████████████████████████████████████████████████████████████████████| 3028/3028 [00:23<00:00, 129.93it/s]\n",
      " 55%|████████████████████████████████████████████                                    | 88/160 [00:00<00:00, 438.12it/s]"
     ]
    },
    {
     "name": "stdout",
     "output_type": "stream",
     "text": [
      "Train loss 0.0816852947513424\n"
     ]
    },
    {
     "name": "stderr",
     "output_type": "stream",
     "text": [
      "100%|███████████████████████████████████████████████████████████████████████████████| 160/160 [00:00<00:00, 482.78it/s]\n",
      "  0%|▎                                                                              | 14/3028 [00:00<00:21, 139.26it/s]"
     ]
    },
    {
     "name": "stdout",
     "output_type": "stream",
     "text": [
      "similarity score 0.585423197492163\n",
      "Evaluate loss 0.09118612110614777\n",
      "================================================== EPOCH 173 ==================================================\n"
     ]
    },
    {
     "name": "stderr",
     "output_type": "stream",
     "text": [
      "100%|█████████████████████████████████████████████████████████████████████████████| 3028/3028 [00:23<00:00, 131.15it/s]\n",
      " 28%|██████████████████████▌                                                         | 45/160 [00:00<00:00, 448.18it/s]"
     ]
    },
    {
     "name": "stdout",
     "output_type": "stream",
     "text": [
      "Train loss 0.08128566259684046\n"
     ]
    },
    {
     "name": "stderr",
     "output_type": "stream",
     "text": [
      "100%|███████████████████████████████████████████████████████████████████████████████| 160/160 [00:00<00:00, 498.05it/s]\n",
      "  0%|▎                                                                              | 14/3028 [00:00<00:22, 136.49it/s]"
     ]
    },
    {
     "name": "stdout",
     "output_type": "stream",
     "text": [
      "similarity score 0.5807210031347962\n",
      "Evaluate loss 0.09184172749519348\n",
      "================================================== EPOCH 174 ==================================================\n"
     ]
    },
    {
     "name": "stderr",
     "output_type": "stream",
     "text": [
      "100%|█████████████████████████████████████████████████████████████████████████████| 3028/3028 [00:23<00:00, 131.53it/s]\n",
      " 56%|█████████████████████████████████████████████                                   | 90/160 [00:00<00:00, 443.80it/s]"
     ]
    },
    {
     "name": "stdout",
     "output_type": "stream",
     "text": [
      "Train loss 0.08118952499810837\n"
     ]
    },
    {
     "name": "stderr",
     "output_type": "stream",
     "text": [
      "100%|███████████████████████████████████████████████████████████████████████████████| 160/160 [00:00<00:00, 482.72it/s]\n",
      "  0%|▎                                                                              | 14/3028 [00:00<00:22, 136.49it/s]"
     ]
    },
    {
     "name": "stdout",
     "output_type": "stream",
     "text": [
      "similarity score 0.5822884012539185\n",
      "Evaluate loss 0.09099087119102478\n",
      "================================================== EPOCH 175 ==================================================\n"
     ]
    },
    {
     "name": "stderr",
     "output_type": "stream",
     "text": [
      "100%|█████████████████████████████████████████████████████████████████████████████| 3028/3028 [00:23<00:00, 130.96it/s]\n",
      " 28%|██████████████████████▌                                                         | 45/160 [00:00<00:00, 448.27it/s]"
     ]
    },
    {
     "name": "stdout",
     "output_type": "stream",
     "text": [
      "Train loss 0.08172404426909723\n"
     ]
    },
    {
     "name": "stderr",
     "output_type": "stream",
     "text": [
      "100%|███████████████████████████████████████████████████████████████████████████████| 160/160 [00:00<00:00, 482.95it/s]\n",
      "  0%|▎                                                                              | 14/3028 [00:00<00:22, 136.55it/s]"
     ]
    },
    {
     "name": "stdout",
     "output_type": "stream",
     "text": [
      "similarity score 0.5815047021943573\n",
      "Evaluate loss 0.0908445343375206\n",
      "================================================== EPOCH 176 ==================================================\n"
     ]
    },
    {
     "name": "stderr",
     "output_type": "stream",
     "text": [
      "100%|█████████████████████████████████████████████████████████████████████████████| 3028/3028 [00:22<00:00, 131.81it/s]\n",
      " 57%|██████████████████████████████████████████████                                  | 92/160 [00:00<00:00, 458.11it/s]"
     ]
    },
    {
     "name": "stdout",
     "output_type": "stream",
     "text": [
      "Train loss 0.08144909141164167\n"
     ]
    },
    {
     "name": "stderr",
     "output_type": "stream",
     "text": [
      "100%|███████████████████████████████████████████████████████████████████████████████| 160/160 [00:00<00:00, 479.79it/s]\n",
      "  0%|▎                                                                              | 13/3028 [00:00<00:23, 129.28it/s]"
     ]
    },
    {
     "name": "stdout",
     "output_type": "stream",
     "text": [
      "similarity score 0.5901253918495298\n",
      "Evaluate loss 0.09101749211549759\n",
      "================================================== EPOCH 177 ==================================================\n"
     ]
    },
    {
     "name": "stderr",
     "output_type": "stream",
     "text": [
      "100%|█████████████████████████████████████████████████████████████████████████████| 3028/3028 [00:23<00:00, 129.67it/s]\n",
      " 56%|█████████████████████████████████████████████                                   | 90/160 [00:00<00:00, 448.12it/s]"
     ]
    },
    {
     "name": "stdout",
     "output_type": "stream",
     "text": [
      "Train loss 0.08136984742099088\n"
     ]
    },
    {
     "name": "stderr",
     "output_type": "stream",
     "text": [
      "100%|███████████████████████████████████████████████████████████████████████████████| 160/160 [00:00<00:00, 468.50it/s]\n",
      "  0%|▎                                                                              | 12/3028 [00:00<00:25, 119.21it/s]"
     ]
    },
    {
     "name": "stdout",
     "output_type": "stream",
     "text": [
      "similarity score 0.5869905956112853\n",
      "Evaluate loss 0.09044026583433151\n",
      "================================================== EPOCH 178 ==================================================\n"
     ]
    },
    {
     "name": "stderr",
     "output_type": "stream",
     "text": [
      "100%|█████████████████████████████████████████████████████████████████████████████| 3028/3028 [00:23<00:00, 129.02it/s]\n",
      " 56%|████████████████████████████████████████████▌                                   | 89/160 [00:00<00:00, 445.01it/s]"
     ]
    },
    {
     "name": "stdout",
     "output_type": "stream",
     "text": [
      "Train loss 0.08162358371476161\n"
     ]
    },
    {
     "name": "stderr",
     "output_type": "stream",
     "text": [
      "100%|███████████████████████████████████████████████████████████████████████████████| 160/160 [00:00<00:00, 479.90it/s]\n",
      "  0%|▎                                                                              | 13/3028 [00:00<00:23, 129.25it/s]"
     ]
    },
    {
     "name": "stdout",
     "output_type": "stream",
     "text": [
      "similarity score 0.5893416927899686\n",
      "Evaluate loss 0.09096653759479523\n",
      "================================================== EPOCH 179 ==================================================\n"
     ]
    },
    {
     "name": "stderr",
     "output_type": "stream",
     "text": [
      "100%|█████████████████████████████████████████████████████████████████████████████| 3028/3028 [00:23<00:00, 126.21it/s]\n",
      " 28%|██████████████████████▌                                                         | 45/160 [00:00<00:00, 447.70it/s]"
     ]
    },
    {
     "name": "stdout",
     "output_type": "stream",
     "text": [
      "Train loss 0.08193837934549034\n"
     ]
    },
    {
     "name": "stderr",
     "output_type": "stream",
     "text": [
      "100%|███████████████████████████████████████████████████████████████████████████████| 160/160 [00:00<00:00, 471.20it/s]\n",
      "  0%|▎                                                                              | 13/3028 [00:00<00:23, 129.25it/s]"
     ]
    },
    {
     "name": "stdout",
     "output_type": "stream",
     "text": [
      "similarity score 0.5940438871473355\n",
      "Evaluate loss 0.0917166918516159\n",
      "================================================== EPOCH 180 ==================================================\n"
     ]
    },
    {
     "name": "stderr",
     "output_type": "stream",
     "text": [
      "100%|█████████████████████████████████████████████████████████████████████████████| 3028/3028 [00:23<00:00, 126.21it/s]\n",
      " 28%|██████████████████████                                                          | 44/160 [00:00<00:00, 409.42it/s]"
     ]
    },
    {
     "name": "stdout",
     "output_type": "stream",
     "text": [
      "Train loss 0.08117282000310963\n"
     ]
    },
    {
     "name": "stderr",
     "output_type": "stream",
     "text": [
      "100%|███████████████████████████████████████████████████████████████████████████████| 160/160 [00:00<00:00, 456.20it/s]\n",
      "  0%|▎                                                                              | 13/3028 [00:00<00:25, 119.60it/s]"
     ]
    },
    {
     "name": "stdout",
     "output_type": "stream",
     "text": [
      "similarity score 0.5877742946708464\n",
      "Evaluate loss 0.09039470553398132\n",
      "================================================== EPOCH 181 ==================================================\n"
     ]
    },
    {
     "name": "stderr",
     "output_type": "stream",
     "text": [
      "100%|█████████████████████████████████████████████████████████████████████████████| 3028/3028 [00:23<00:00, 127.43it/s]\n",
      " 56%|████████████████████████████████████████████▌                                   | 89/160 [00:00<00:00, 441.07it/s]"
     ]
    },
    {
     "name": "stdout",
     "output_type": "stream",
     "text": [
      "Train loss 0.08138530411010286\n"
     ]
    },
    {
     "name": "stderr",
     "output_type": "stream",
     "text": [
      "100%|███████████████████████████████████████████████████████████████████████████████| 160/160 [00:00<00:00, 482.80it/s]\n",
      "  0%|▎                                                                              | 14/3028 [00:00<00:22, 136.49it/s]"
     ]
    },
    {
     "name": "stdout",
     "output_type": "stream",
     "text": [
      "similarity score 0.5909090909090909\n",
      "Evaluate loss 0.09052886068820953\n",
      "================================================== EPOCH 182 ==================================================\n"
     ]
    },
    {
     "name": "stderr",
     "output_type": "stream",
     "text": [
      "100%|█████████████████████████████████████████████████████████████████████████████| 3028/3028 [00:23<00:00, 130.58it/s]\n",
      " 54%|███████████████████████████████████████████▌                                    | 87/160 [00:00<00:00, 431.10it/s]"
     ]
    },
    {
     "name": "stdout",
     "output_type": "stream",
     "text": [
      "Train loss 0.08130288715007569\n"
     ]
    },
    {
     "name": "stderr",
     "output_type": "stream",
     "text": [
      "100%|███████████████████████████████████████████████████████████████████████████████| 160/160 [00:00<00:00, 468.13it/s]\n",
      "  0%|▎                                                                              | 13/3028 [00:00<00:23, 129.21it/s]"
     ]
    },
    {
     "name": "stdout",
     "output_type": "stream",
     "text": [
      "similarity score 0.5877742946708464\n",
      "Evaluate loss 0.09116174280643463\n",
      "================================================== EPOCH 183 ==================================================\n"
     ]
    },
    {
     "name": "stderr",
     "output_type": "stream",
     "text": [
      "100%|█████████████████████████████████████████████████████████████████████████████| 3028/3028 [00:23<00:00, 130.31it/s]\n",
      " 28%|██████████████████████▌                                                         | 45/160 [00:00<00:00, 447.32it/s]"
     ]
    },
    {
     "name": "stdout",
     "output_type": "stream",
     "text": [
      "Train loss 0.0812513234921226\n"
     ]
    },
    {
     "name": "stderr",
     "output_type": "stream",
     "text": [
      "100%|███████████████████████████████████████████████████████████████████████████████| 160/160 [00:00<00:00, 497.49it/s]\n",
      "  0%|▎                                                                              | 13/3028 [00:00<00:23, 129.22it/s]"
     ]
    },
    {
     "name": "stdout",
     "output_type": "stream",
     "text": [
      "similarity score 0.5893416927899686\n",
      "Evaluate loss 0.09102774411439896\n",
      "================================================== EPOCH 184 ==================================================\n"
     ]
    },
    {
     "name": "stderr",
     "output_type": "stream",
     "text": [
      "100%|█████████████████████████████████████████████████████████████████████████████| 3028/3028 [00:23<00:00, 128.98it/s]\n",
      " 54%|███████████████████████████████████████████▌                                    | 87/160 [00:00<00:00, 426.38it/s]"
     ]
    },
    {
     "name": "stdout",
     "output_type": "stream",
     "text": [
      "Train loss 0.08158331954312883\n"
     ]
    },
    {
     "name": "stderr",
     "output_type": "stream",
     "text": [
      "100%|███████████████████████████████████████████████████████████████████████████████| 160/160 [00:00<00:00, 468.35it/s]\n",
      "  0%|▎                                                                              | 13/3028 [00:00<00:23, 129.27it/s]"
     ]
    },
    {
     "name": "stdout",
     "output_type": "stream",
     "text": [
      "similarity score 0.5846394984326019\n",
      "Evaluate loss 0.09099792689085007\n",
      "================================================== EPOCH 185 ==================================================\n"
     ]
    },
    {
     "name": "stderr",
     "output_type": "stream",
     "text": [
      "100%|█████████████████████████████████████████████████████████████████████████████| 3028/3028 [00:23<00:00, 129.26it/s]\n",
      " 28%|██████████████████████▌                                                         | 45/160 [00:00<00:00, 447.89it/s]"
     ]
    },
    {
     "name": "stdout",
     "output_type": "stream",
     "text": [
      "Train loss 0.08154551803447796\n"
     ]
    },
    {
     "name": "stderr",
     "output_type": "stream",
     "text": [
      "100%|███████████████████████████████████████████████████████████████████████████████| 160/160 [00:00<00:00, 452.41it/s]\n",
      "  0%|▎                                                                              | 13/3028 [00:00<00:23, 129.18it/s]"
     ]
    },
    {
     "name": "stdout",
     "output_type": "stream",
     "text": [
      "similarity score 0.5877742946708464\n",
      "Evaluate loss 0.09087838977575302\n",
      "================================================== EPOCH 186 ==================================================\n"
     ]
    },
    {
     "name": "stderr",
     "output_type": "stream",
     "text": [
      "100%|█████████████████████████████████████████████████████████████████████████████| 3028/3028 [00:22<00:00, 133.41it/s]\n",
      " 28%|██████████████████████                                                          | 44/160 [00:00<00:00, 438.01it/s]"
     ]
    },
    {
     "name": "stdout",
     "output_type": "stream",
     "text": [
      "Train loss 0.08154727132173435\n"
     ]
    },
    {
     "name": "stderr",
     "output_type": "stream",
     "text": [
      "100%|███████████████████████████████████████████████████████████████████████████████| 160/160 [00:00<00:00, 482.83it/s]\n",
      "  0%|▎                                                                              | 14/3028 [00:00<00:21, 139.15it/s]"
     ]
    },
    {
     "name": "stdout",
     "output_type": "stream",
     "text": [
      "similarity score 0.5893416927899686\n",
      "Evaluate loss 0.09110889583826065\n",
      "================================================== EPOCH 187 ==================================================\n"
     ]
    },
    {
     "name": "stderr",
     "output_type": "stream",
     "text": [
      "100%|█████████████████████████████████████████████████████████████████████████████| 3028/3028 [00:22<00:00, 133.66it/s]\n",
      " 58%|██████████████████████████████████████████████▌                                 | 93/160 [00:00<00:00, 464.91it/s]"
     ]
    },
    {
     "name": "stdout",
     "output_type": "stream",
     "text": [
      "Train loss 0.08120987334712643\n"
     ]
    },
    {
     "name": "stderr",
     "output_type": "stream",
     "text": [
      "100%|███████████████████████████████████████████████████████████████████████████████| 160/160 [00:00<00:00, 497.82it/s]\n",
      "  0%|▎                                                                              | 14/3028 [00:00<00:22, 136.40it/s]"
     ]
    },
    {
     "name": "stdout",
     "output_type": "stream",
     "text": [
      "similarity score 0.5901253918495298\n",
      "Evaluate loss 0.09073319286108017\n",
      "================================================== EPOCH 188 ==================================================\n"
     ]
    },
    {
     "name": "stderr",
     "output_type": "stream",
     "text": [
      "100%|█████████████████████████████████████████████████████████████████████████████| 3028/3028 [00:22<00:00, 134.00it/s]\n",
      " 29%|███████████████████████                                                         | 46/160 [00:00<00:00, 458.11it/s]"
     ]
    },
    {
     "name": "stdout",
     "output_type": "stream",
     "text": [
      "Train loss 0.0814655972315202\n"
     ]
    },
    {
     "name": "stderr",
     "output_type": "stream",
     "text": [
      "100%|███████████████████████████████████████████████████████████████████████████████| 160/160 [00:00<00:00, 497.82it/s]\n",
      "  0%|▎                                                                              | 14/3028 [00:00<00:22, 136.35it/s]"
     ]
    },
    {
     "name": "stdout",
     "output_type": "stream",
     "text": [
      "similarity score 0.5862068965517241\n",
      "Evaluate loss 0.09074878692626953\n",
      "================================================== EPOCH 189 ==================================================\n"
     ]
    },
    {
     "name": "stderr",
     "output_type": "stream",
     "text": [
      "100%|█████████████████████████████████████████████████████████████████████████████| 3028/3028 [00:23<00:00, 129.50it/s]\n",
      " 52%|██████████████████████████████████████████                                      | 84/160 [00:00<00:00, 408.74it/s]"
     ]
    },
    {
     "name": "stdout",
     "output_type": "stream",
     "text": [
      "Train loss 0.08136942370993404\n"
     ]
    },
    {
     "name": "stderr",
     "output_type": "stream",
     "text": [
      "100%|███████████████████████████████████████████████████████████████████████████████| 160/160 [00:00<00:00, 454.34it/s]\n",
      "  0%|▎                                                                              | 13/3028 [00:00<00:23, 126.59it/s]"
     ]
    },
    {
     "name": "stdout",
     "output_type": "stream",
     "text": [
      "similarity score 0.5901253918495298\n",
      "Evaluate loss 0.09095829725265503\n",
      "================================================== EPOCH 190 ==================================================\n"
     ]
    },
    {
     "name": "stderr",
     "output_type": "stream",
     "text": [
      "100%|█████████████████████████████████████████████████████████████████████████████| 3028/3028 [00:23<00:00, 130.44it/s]\n",
      " 27%|█████████████████████▌                                                          | 43/160 [00:00<00:00, 427.24it/s]"
     ]
    },
    {
     "name": "stdout",
     "output_type": "stream",
     "text": [
      "Train loss 0.0816145775548033\n"
     ]
    },
    {
     "name": "stderr",
     "output_type": "stream",
     "text": [
      "100%|███████████████████████████████████████████████████████████████████████████████| 160/160 [00:00<00:00, 454.74it/s]\n",
      "  0%|▎                                                                              | 12/3028 [00:00<00:25, 116.88it/s]"
     ]
    },
    {
     "name": "stdout",
     "output_type": "stream",
     "text": [
      "similarity score 0.5862068965517241\n",
      "Evaluate loss 0.0908341333270073\n",
      "================================================== EPOCH 191 ==================================================\n"
     ]
    },
    {
     "name": "stderr",
     "output_type": "stream",
     "text": [
      "100%|█████████████████████████████████████████████████████████████████████████████| 3028/3028 [00:23<00:00, 127.95it/s]\n",
      " 54%|███████████████████████████████████████████                                     | 86/160 [00:00<00:00, 423.67it/s]"
     ]
    },
    {
     "name": "stdout",
     "output_type": "stream",
     "text": [
      "Train loss 0.0809353531418704\n"
     ]
    },
    {
     "name": "stderr",
     "output_type": "stream",
     "text": [
      "100%|███████████████████████████████████████████████████████████████████████████████| 160/160 [00:00<00:00, 454.96it/s]\n",
      "  0%|▎                                                                              | 14/3028 [00:00<00:21, 139.11it/s]"
     ]
    },
    {
     "name": "stdout",
     "output_type": "stream",
     "text": [
      "similarity score 0.5893416927899686\n",
      "Evaluate loss 0.09102080762386322\n",
      "================================================== EPOCH 192 ==================================================\n"
     ]
    },
    {
     "name": "stderr",
     "output_type": "stream",
     "text": [
      "100%|█████████████████████████████████████████████████████████████████████████████| 3028/3028 [00:23<00:00, 130.13it/s]\n",
      " 57%|██████████████████████████████████████████████                                  | 92/160 [00:00<00:00, 461.65it/s]"
     ]
    },
    {
     "name": "stdout",
     "output_type": "stream",
     "text": [
      "Train loss 0.08178652830906655\n"
     ]
    },
    {
     "name": "stderr",
     "output_type": "stream",
     "text": [
      "100%|███████████████████████████████████████████████████████████████████████████████| 160/160 [00:00<00:00, 494.62it/s]\n",
      "  0%|▎                                                                              | 13/3028 [00:00<00:23, 129.30it/s]"
     ]
    },
    {
     "name": "stdout",
     "output_type": "stream",
     "text": [
      "similarity score 0.5869905956112853\n",
      "Evaluate loss 0.0914601981639862\n",
      "================================================== EPOCH 193 ==================================================\n"
     ]
    },
    {
     "name": "stderr",
     "output_type": "stream",
     "text": [
      "100%|█████████████████████████████████████████████████████████████████████████████| 3028/3028 [00:23<00:00, 129.24it/s]\n",
      " 27%|█████████████████████▌                                                          | 43/160 [00:00<00:00, 428.16it/s]"
     ]
    },
    {
     "name": "stdout",
     "output_type": "stream",
     "text": [
      "Train loss 0.0817728715464645\n"
     ]
    },
    {
     "name": "stderr",
     "output_type": "stream",
     "text": [
      "100%|███████████████████████████████████████████████████████████████████████████████| 160/160 [00:00<00:00, 468.59it/s]\n",
      "  0%|▎                                                                              | 13/3028 [00:00<00:23, 129.32it/s]"
     ]
    },
    {
     "name": "stdout",
     "output_type": "stream",
     "text": [
      "similarity score 0.5909090909090909\n",
      "Evaluate loss 0.09081870317459106\n",
      "================================================== EPOCH 194 ==================================================\n"
     ]
    },
    {
     "name": "stderr",
     "output_type": "stream",
     "text": [
      "100%|█████████████████████████████████████████████████████████████████████████████| 3028/3028 [00:23<00:00, 130.22it/s]\n",
      " 57%|█████████████████████████████████████████████▌                                  | 91/160 [00:00<00:00, 446.58it/s]"
     ]
    },
    {
     "name": "stdout",
     "output_type": "stream",
     "text": [
      "Train loss 0.08121424716599888\n"
     ]
    },
    {
     "name": "stderr",
     "output_type": "stream",
     "text": [
      "100%|███████████████████████████████████████████████████████████████████████████████| 160/160 [00:00<00:00, 485.71it/s]\n",
      "  0%|▎                                                                              | 13/3028 [00:00<00:23, 129.28it/s]"
     ]
    },
    {
     "name": "stdout",
     "output_type": "stream",
     "text": [
      "similarity score 0.591692789968652\n",
      "Evaluate loss 0.09116142243146896\n",
      "================================================== EPOCH 195 ==================================================\n"
     ]
    },
    {
     "name": "stderr",
     "output_type": "stream",
     "text": [
      "100%|█████████████████████████████████████████████████████████████████████████████| 3028/3028 [00:23<00:00, 128.46it/s]\n",
      " 29%|███████████████████████▌                                                        | 47/160 [00:00<00:00, 467.79it/s]"
     ]
    },
    {
     "name": "stdout",
     "output_type": "stream",
     "text": [
      "Train loss 0.08110799200126509\n"
     ]
    },
    {
     "name": "stderr",
     "output_type": "stream",
     "text": [
      "100%|███████████████████████████████████████████████████████████████████████████████| 160/160 [00:00<00:00, 479.63it/s]\n",
      "  0%|▎                                                                              | 14/3028 [00:00<00:22, 136.56it/s]"
     ]
    },
    {
     "name": "stdout",
     "output_type": "stream",
     "text": [
      "similarity score 0.591692789968652\n",
      "Evaluate loss 0.09086904674768448\n",
      "================================================== EPOCH 196 ==================================================\n"
     ]
    },
    {
     "name": "stderr",
     "output_type": "stream",
     "text": [
      "100%|█████████████████████████████████████████████████████████████████████████████| 3028/3028 [00:23<00:00, 128.29it/s]\n",
      " 29%|███████████████████████                                                         | 46/160 [00:00<00:00, 457.94it/s]"
     ]
    },
    {
     "name": "stdout",
     "output_type": "stream",
     "text": [
      "Train loss 0.08120684463594138\n"
     ]
    },
    {
     "name": "stderr",
     "output_type": "stream",
     "text": [
      "100%|███████████████████████████████████████████████████████████████████████████████| 160/160 [00:00<00:00, 497.82it/s]\n",
      "  0%|▎                                                                              | 13/3028 [00:00<00:23, 129.32it/s]"
     ]
    },
    {
     "name": "stdout",
     "output_type": "stream",
     "text": [
      "similarity score 0.5924764890282131\n",
      "Evaluate loss 0.09171923249959946\n",
      "================================================== EPOCH 197 ==================================================\n"
     ]
    },
    {
     "name": "stderr",
     "output_type": "stream",
     "text": [
      "100%|█████████████████████████████████████████████████████████████████████████████| 3028/3028 [00:23<00:00, 127.82it/s]\n",
      " 26%|█████████████████████                                                           | 42/160 [00:00<00:00, 418.19it/s]"
     ]
    },
    {
     "name": "stdout",
     "output_type": "stream",
     "text": [
      "Train loss 0.08163273130241958\n"
     ]
    },
    {
     "name": "stderr",
     "output_type": "stream",
     "text": [
      "100%|███████████████████████████████████████████████████████████████████████████████| 160/160 [00:00<00:00, 455.18it/s]\n",
      "  0%|▎                                                                              | 13/3028 [00:00<00:23, 129.21it/s]"
     ]
    },
    {
     "name": "stdout",
     "output_type": "stream",
     "text": [
      "similarity score 0.5924764890282131\n",
      "Evaluate loss 0.09092255681753159\n",
      "================================================== EPOCH 198 ==================================================\n"
     ]
    },
    {
     "name": "stderr",
     "output_type": "stream",
     "text": [
      "100%|█████████████████████████████████████████████████████████████████████████████| 3028/3028 [00:23<00:00, 127.95it/s]\n",
      " 50%|████████████████████████████████████████                                        | 80/160 [00:00<00:00, 384.19it/s]"
     ]
    },
    {
     "name": "stdout",
     "output_type": "stream",
     "text": [
      "Train loss 0.08151963123671226\n"
     ]
    },
    {
     "name": "stderr",
     "output_type": "stream",
     "text": [
      "100%|███████████████████████████████████████████████████████████████████████████████| 160/160 [00:00<00:00, 441.98it/s]\n",
      "  0%|▎                                                                              | 13/3028 [00:00<00:23, 129.27it/s]"
     ]
    },
    {
     "name": "stdout",
     "output_type": "stream",
     "text": [
      "similarity score 0.5924764890282131\n",
      "Evaluate loss 0.09147912263870239\n",
      "================================================== EPOCH 199 ==================================================\n"
     ]
    },
    {
     "name": "stderr",
     "output_type": "stream",
     "text": [
      "100%|█████████████████████████████████████████████████████████████████████████████| 3028/3028 [00:23<00:00, 129.42it/s]\n",
      " 54%|███████████████████████████████████████████▌                                    | 87/160 [00:00<00:00, 426.37it/s]"
     ]
    },
    {
     "name": "stdout",
     "output_type": "stream",
     "text": [
      "Train loss 0.08141238174806908\n"
     ]
    },
    {
     "name": "stderr",
     "output_type": "stream",
     "text": [
      "100%|███████████████████████████████████████████████████████████████████████████████| 160/160 [00:00<00:00, 455.01it/s]"
     ]
    },
    {
     "name": "stdout",
     "output_type": "stream",
     "text": [
      "similarity score 0.5924764890282131\n",
      "Evaluate loss 0.09150727838277817\n"
     ]
    },
    {
     "name": "stderr",
     "output_type": "stream",
     "text": [
      "\n"
     ]
    }
   ],
   "source": [
    "## 小0.478056426\n",
    "for i in range(EPOCH_NUM-start_epoch-1):\n",
    "    print('=' * 50, f\"EPOCH {start_epoch+i+1}\", '=' * 50)\n",
    "    l = train(model, train_iterator, optimizer, scheduler)\n",
    "    losses.append(l)\n",
    "    l,r = evaluate(model, dev_iterator)\n",
    "    val_losses.append(l)\n",
    "    rocs.append(r)\n",
    "    save_checkpoint(model,optimizer,i,checkpoint_name)"
   ]
  },
  {
   "cell_type": "code",
   "execution_count": 30,
   "metadata": {},
   "outputs": [
    {
     "data": {
      "text/plain": [
       "<matplotlib.legend.Legend at 0x299a434b0f0>"
      ]
     },
     "execution_count": 30,
     "metadata": {},
     "output_type": "execute_result"
    },
    {
     "data": {
      "image/png": "[encoded data removed]",
      "text/plain": [
       "<Figure size 432x288 with 2 Axes>"
      ]
     },
     "metadata": {},
     "output_type": "display_data"
    }
   ],
   "source": [
    "import matplotlib.pyplot as plt\n",
    "\n",
    "x = range(len(losses))\n",
    "\n",
    "plt.figure(1)\n",
    "\n",
    "ax1 = plt.subplot(1,2,1)\n",
    "ax2 = plt.subplot(1,2,2)\n",
    "\n",
    "plt.sca(ax1)\n",
    "plt.plot(x, losses, 'r',label='train loss')\n",
    "plt.plot(x, val_losses, ms=10,label='validate loss')\n",
    "plt.legend()  # 让图例生效\n",
    "\n",
    "plt.sca(ax2)\n",
    "plt.plot(x, rocs, 'g',ms=10,label='accuracy')\n",
    "\n",
    "plt.legend()  # 让图例生效\n",
    "## 1. score 0.47805\n",
    "## 2. score 0.55 （添加加入dropou+linear）\n",
    "## 3. score 0.58(扩大输出向量，从64->128)\n",
    "## 4. score 0.592(扩大输出向量，从128->256)"
   ]
  },
  {
   "cell_type": "code",
   "execution_count": null,
   "metadata": {},
   "outputs": [],
   "source": []
  }
 ],
 "metadata": {
  "kernelspec": {
   "display_name": "Python 3",
   "language": "python",
   "name": "python3"
  },
  "language_info": {
   "codemirror_mode": {
    "name": "ipython",
    "version": 3
   },
   "file_extension": ".py",
   "mimetype": "text/x-python",
   "name": "python",
   "nbconvert_exporter": "python",
   "pygments_lexer": "ipython3",
   "version": "3.6.5"
  }
 },
 "nbformat": 4,
 "nbformat_minor": 2
}
