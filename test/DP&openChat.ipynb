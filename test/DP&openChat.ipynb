{
 "cells": [
  {
   "cell_type": "code",
   "execution_count": 1,
   "metadata": {},
   "outputs": [
    {
     "name": "stderr",
     "output_type": "stream",
     "text": [
      "Building prefix dict from the default dictionary ...\n",
      "Loading model from cache C:\\Users\\yuanwb\\AppData\\Local\\Temp\\jieba.cache\n",
      "Loading model cost 2.009 seconds.\n",
      "Prefix dict has been built successfully.\n"
     ]
    },
    {
     "name": "stdout",
     "output_type": "stream",
     "text": [
      "[pair('蕾', 'nr'), pair('姆', 'x'), pair('蕾', 'nr'), pair('姆', 'x'), pair('这个', 'r'), pair('人', 'n'), pair('是不是', 'l'), pair('傻', 'a')]\n"
     ]
    }
   ],
   "source": [
    "import jieba\n",
    "import re\n",
    "import jieba.analyse\n",
    "import jieba.posseg\n",
    "\n",
    "def cut_sentence(sentence):\n",
    "    cleaned_data = ''.join(re.findall(r'[\\u4e00-\\u9fa5]', sentence))\n",
    "    return jieba.posseg.lcut(cleaned_data)\n",
    "\n",
    "word=\"盗墓不是请客吃饭，不是做文章，不是绘画绣花，不能那样雅致，那样从容不迫，文质彬彬，那样温良恭俭让，盗墓是一门技术，一门进行破坏的技术。古代贵族们建造坟墓的时候，一定是想方设法的防止被盗，故此无所不用其极，在墓中设置种种机关暗器，消息埋伏，有巨石、流沙、毒箭、毒虫、陷坑等等数不胜数。到了明代，受到西洋奇技淫巧的影响，一些大墓甚至用到了西洋的八宝转心机关，尤其是清代的帝陵，堪称集数千年防盗技术于一体的杰作，大军阀孙殿英想挖开东陵用里面的财宝充当军饷，起动大批军队，连挖带炸用了五六天才得手，其坚固程度可想而知。盗墓贼的课题就是千方百计的破解这些机关，进入墓中探宝。不过在现代，比起如何挖开古墓更困难的是寻找古墓，地面上有封土堆和石碑之类明显建筑的大墓早就被人发掘得差不多了，如果要找那些年深日深藏于地下，又没有任何地上标记的古墓，那就需要一定的技术和特殊工具了，铁钎、洛阳铲、竹钉，钻地龙，探阴爪，黑折子等工具都应运而生，还有一些高手不依赖工具，有的通过寻找古代文献中的线索寻找古墓，还有极少数的一些人掌握秘术，可以通过解读山川河流的脉象，用看风水的本领找墓穴，我就是属于最后这一类的，在我的盗墓生涯中踏遍了各地，其间经历了很多诡异离奇的事迹，若是一件件的表白出来，足以让观者惊心，闻者乍舌，毕竟那些龙形虎藏、揭天拔地、倒海翻江的举动，都非比寻常。\"\n",
    "sentence = \"蕾姆蕾姆,这个人是不是傻？\"\n",
    "wordlist = cut_sentence(sentence)\n",
    "print(wordlist)"
   ]
  },
  {
   "cell_type": "code",
   "execution_count": 2,
   "metadata": {},
   "outputs": [
    {
     "name": "stdout",
     "output_type": "stream",
     "text": [
      "[pair('团队', 'n'), pair('因', 'p'), pair('无法', 'n'), pair('登陆', 'v'), pair('暂时', 'd'), pair('无法', 'n'), pair('解决', 'v'), pair('无法', 'n'), pair('登陆', 'v'), pair('问题', 'n')]\n"
     ]
    }
   ],
   "source": [
    "wordlist = cut_sentence('VPN团队因无法登陆VPN暂时无法解决VPN无法登陆问题')\n",
    "print(wordlist)"
   ]
  },
  {
   "cell_type": "code",
   "execution_count": 1,
   "metadata": {},
   "outputs": [
    {
     "name": "stdout",
     "output_type": "stream",
     "text": [
      "Executing op Range in device /job:localhost/replica:0/task:0/device:CPU:0\n",
      "Executing op Cast in device /job:localhost/replica:0/task:0/device:CPU:0\n",
      "Executing op HashTableV2 in device /job:localhost/replica:0/task:0/device:CPU:0\n",
      "Executing op LookupTableImportV2 in device /job:localhost/replica:0/task:0/device:CPU:0\n",
      "Executing op HashTableV2 in device /job:localhost/replica:0/task:0/device:CPU:0\n",
      "Executing op TruncatedNormal in device /job:localhost/replica:0/task:0/device:CPU:0\n",
      "Executing op Mul in device /job:localhost/replica:0/task:0/device:CPU:0\n",
      "Executing op Add in device /job:localhost/replica:0/task:0/device:CPU:0\n",
      "Executing op MutexV2 in device /job:localhost/replica:0/task:0/device:CPU:0\n",
      "Executing op VarHandleOp in device /job:localhost/replica:0/task:0/device:CPU:0\n",
      "Executing op VarIsInitializedOp in device /job:localhost/replica:0/task:0/device:CPU:0\n",
      "Executing op LogicalNot in device /job:localhost/replica:0/task:0/device:CPU:0\n",
      "Executing op Assert in device /job:localhost/replica:0/task:0/device:CPU:0\n",
      "Executing op AssignVariableOp in device /job:localhost/replica:0/task:0/device:CPU:0\n",
      "Executing op RandomUniform in device /job:localhost/replica:0/task:0/device:CPU:0\n",
      "Executing op Sub in device /job:localhost/replica:0/task:0/device:CPU:0\n",
      "Executing op Mul in device /job:localhost/replica:0/task:0/device:CPU:0\n",
      "Executing op Add in device /job:localhost/replica:0/task:0/device:CPU:0\n",
      "Executing op VarHandleOp in device /job:localhost/replica:0/task:0/device:CPU:0\n",
      "Executing op Fill in device /job:localhost/replica:0/task:0/device:CPU:0\n",
      "Executing op VarHandleOp in device /job:localhost/replica:0/task:0/device:CPU:0\n",
      "Executing op VarHandleOp in device /job:localhost/replica:0/task:0/device:CPU:0\n",
      "Executing op AssignVariableOp in device /job:localhost/replica:0/task:0/device:CPU:0\n",
      "Executing op VarHandleOp in device /job:localhost/replica:0/task:0/device:CPU:0\n",
      "Executing op VarHandleOp in device /job:localhost/replica:0/task:0/device:CPU:0\n"
     ]
    }
   ],
   "source": [
    "import hanlp\n",
    "\n",
    "tokenizer = hanlp.load('PKU_NAME_MERGED_SIX_MONTHS_CONVSEG')"
   ]
  },
  {
   "cell_type": "code",
   "execution_count": 16,
   "metadata": {},
   "outputs": [],
   "source": [
    "syntaxnNet"
   ]
  },
  {
   "cell_type": "markdown",
   "metadata": {},
   "source": [
    "IP：简单从句\n",
    "NP：名词短语\n",
    "VP：动词短语\n",
    "PU：断句符，通常是句号、问号、感叹号等标点符号\n",
    "LCP：方位词短语\n",
    "PP：介词短语\n",
    "CP：由‘的’构成的表示修饰性关系的短语\n",
    "DNP：由‘的’构成的表示所属关系的短语\n",
    "ADVP：副词短语\n",
    "ADJP：形容词短语\n",
    "DP：限定词短语\n",
    "QP：量词短语\n",
    "NN：常用名词\n",
    "NR：固有名词\n",
    "NT：时间名词\n",
    "PN：代词\n",
    "VV：动词\n",
    "VC：是\n",
    "CC：表示连词\n",
    "VE：有\n",
    "VA：表语形容词\n",
    "AS：内容标记（如：了）\n",
    "VRD：动补复合词\n",
    "CD: 表示基数词\n",
    "DT: determiner 表示限定词\n",
    "EX: existential there 存在句\n",
    "FW: foreign word 外来词\n",
    "IN: preposition or conjunction, subordinating 介词或从属连词\n",
    "JJ: adjective or numeral, ordinal 形容词或序数词\n",
    "JJR: adjective, comparative 形容词比较级\n",
    "JJS: adjective, superlative 形容词最高级\n",
    "LS: list item marker 列表标识\n",
    "MD: modal auxiliary 情态助动词\n",
    "PDT: pre-determiner 前位限定词\n",
    "POS: genitive marker 所有格标记\n",
    "PRP: pronoun, personal 人称代词\n",
    "RB: adverb 副词\n",
    "RBR: adverb, comparative 副词比较级\n",
    "RBS: adverb, superlative 副词最高级\n",
    "RP: particle 小品词 \n",
    "SYM: symbol 符号\n",
    "TO:”to” as preposition or infinitive marker 作为介词或不定式标记 \n",
    "WDT: WH-determiner WH限定词\n",
    "WP: WH-pronoun WH代词\n",
    "WP$: WH-pronoun, possessive WH所有格代词\n",
    "WRB:Wh-adverb WH副词\n",
    "    \n",
    "关系表示\n",
    "abbrev: abbreviation modifier，缩写\n",
    "acomp: adjectival complement，形容词的补充；\n",
    "advcl : adverbial clause modifier，状语从句修饰词\n",
    "advmod: adverbial modifier状语\n",
    "agent: agent，代理，一般有by的时候会出现这个\n",
    "amod: adjectival modifier形容词\n",
    "appos: appositional modifier,同位词\n",
    "attr: attributive，属性\n",
    "aux: auxiliary，非主要动词和助词，如BE,HAVE SHOULD/COULD等到\n",
    "auxpass: passive auxiliary 被动词\n",
    "cc: coordination，并列关系，一般取第一个词\n",
    "ccomp: clausal complement从句补充\n",
    "complm: complementizer，引导从句的词好重聚中的主要动词\n",
    "conj : conjunct，连接两个并列的词。\n",
    "cop: copula。系动词（如be,seem,appear等），（命题主词与谓词间的）连系\n",
    "csubj : clausal subject，从主关系\n",
    "csubjpass: clausal passive subject 主从被动关系\n",
    "dep: dependent依赖关系\n",
    "det: determiner决定词，如冠词等\n",
    "dobj : direct object直接宾语\n",
    "expl: expletive，主要是抓取there\n",
    "infmod: infinitival modifier，动词不定式\n",
    "iobj : indirect object，非直接宾语，也就是所以的间接宾语；\n",
    "mark: marker，主要出现在有“that” or “whether”“because”, “when”,\n",
    "mwe: multi-word expression，多个词的表示\n",
    "neg: negation modifier否定词\n",
    "nn: noun compound modifier名词组合形式\n",
    "npadvmod: noun phrase as adverbial modifier名词作状语\n",
    "nsubj : nominal subject，名词主语\n",
    "nsubjpass: passive nominal subject，被动的名词主语\n",
    "num: numeric modifier，数值修饰\n",
    "number: element of compound number，组合数字\n",
    "parataxis: parataxis: parataxis，并列关系\n",
    "partmod: participial modifier动词形式的修饰\n",
    "pcomp: prepositional complement，介词补充\n",
    "pobj : object of a preposition，介词的宾语\n",
    "poss: possession modifier，所有形式，所有格，所属\n",
    "possessive: possessive modifier，这个表示所有者和那个’S的关系\n",
    "preconj : preconjunct，常常是出现在 “either”, “both”, “neither”的情况下\n",
    "predet: predeterminer，前缀决定，常常是表示所有\n",
    "prep: prepositional modifier\n",
    "prepc: prepositional clausal modifier\n",
    "prt: phrasal verb particle，动词短语\n",
    "punct: punctuation，这个很少见，但是保留下来了，结果当中不会出现这个\n",
    "purpcl : purpose clause modifier，目的从句\n",
    "quantmod: quantifier phrase modifier，数量短语\n",
    "rcmod: relative clause modifier相关关系\n",
    "ref : referent，指示物，指代\n",
    "rel : relative\n",
    "root: root，最重要的词，从它开始，根节点\n",
    "tmod: temporal modifier\n",
    "xcomp: open clausal complement\n",
    "xsubj : controlling subject 掌控者\n",
    "\n",
    " \n",
    "\n",
    " \n",
    "\n",
    " \n",
    "\n",
    "中心语为谓词\n",
    "  subj — 主语\n",
    " nsubj — 名词性主语（nominal subject） （同步，建设）\n",
    "   top — 主题（topic） （是，建筑）\n",
    "npsubj — 被动型主语（nominal passive subject），专指由“被”引导的被动句中的主语，一般是谓词语义上的受事 （称作，镍）\n",
    " csubj — 从句主语（clausal subject），中文不存在\n",
    " xsubj — x主语，一般是一个主语下面含多个从句 （完善，有些）\n",
    "\n",
    " \n",
    "\n",
    "中心语为谓词或介词   \n",
    "   obj — 宾语\n",
    "  dobj — 直接宾语 （颁布，文件）\n",
    "  iobj — 间接宾语（indirect object），基本不存在\n",
    " range — 间接宾语为数量词，又称为与格 （成交，元）\n",
    "  pobj — 介词宾语 （根据，要求）\n",
    "  lobj — 时间介词 （来，近年）\n",
    "\n",
    " \n",
    "\n",
    "中心语为谓词\n",
    "  comp — 补语\n",
    " ccomp — 从句补语，一般由两个动词构成，中心语引导后一个动词所在的从句(IP) （出现，纳入）\n",
    " xcomp — x从句补语（xclausal complement），不存在   \n",
    " acomp — 形容词补语（adjectival complement）\n",
    " tcomp — 时间补语（temporal complement） （遇到，以前）\n",
    "lccomp — 位置补语（localizer complement） （占，以上）\n",
    "       — 结果补语（resultative complement）\n",
    "\n",
    " \n",
    "\n",
    "中心语为名词\n",
    "   mod — 修饰语（modifier）\n",
    "  pass — 被动修饰（passive）\n",
    "  tmod — 时间修饰（temporal modifier）\n",
    " rcmod — 关系从句修饰（relative clause modifier） （问题，遇到）\n",
    " numod — 数量修饰（numeric modifier） （规定，若干）\n",
    "ornmod — 序数修饰（numeric modifier）\n",
    "   clf — 类别修饰（classifier modifier） （文件，件）\n",
    "  nmod — 复合名词修饰（noun compound modifier） （浦东，上海）\n",
    "  amod — 形容词修饰（adjetive modifier） （情况，新）\n",
    "advmod — 副词修饰（adverbial modifier） （做到，基本）\n",
    "  vmod — 动词修饰（verb modifier，participle modifier）\n",
    "prnmod — 插入词修饰（parenthetical modifier）\n",
    "   neg — 不定修饰（negative modifier） (遇到，不)\n",
    "   det — 限定词修饰（determiner modifier） （活动，这些）\n",
    " possm — 所属标记（possessive marker），NP\n",
    "  poss — 所属修饰（possessive modifier），NP\n",
    "  dvpm — DVP标记（dvp marker），DVP （简单，的）\n",
    "dvpmod — DVP修饰（dvp modifier），DVP （采取，简单）\n",
    "  assm — 关联标记（associative marker），DNP （开发，的）\n",
    "assmod — 关联修饰（associative modifier），NP|QP （教训，特区）\n",
    "  prep — 介词修饰（prepositional modifier） NP|VP|IP（采取，对）\n",
    " clmod — 从句修饰（clause modifier） （因为，开始）\n",
    " plmod — 介词性地点修饰（prepositional localizer modifier） （在，上）\n",
    "   asp — 时态标词（aspect marker） （做到，了）\n",
    "partmod– 分词修饰（participial modifier） 不存在\n",
    "   etc — 等关系（etc） （办法，等）\n",
    "\n",
    " \n",
    "\n",
    "中心语为实词\n",
    "  conj — 联合(conjunct)\n",
    "   cop — 系动(copula) 双指助动词？？？？\n",
    "    cc — 连接(coordination)，指中心词与连词 （开发，与）\n",
    "\n",
    " \n",
    "\n",
    "其它\n",
    "  attr — 属性关系 （是，工程）\n",
    "cordmod– 并列联合动词（coordinated verb compound） （颁布，实行）\n",
    "  mmod — 情态动词（modal verb） （得到，能）\n",
    "    ba — 把字关系\n",
    "tclaus — 时间从句 （以后，积累）\n",
    "       — semantic dependent\n",
    "   cpm — 补语化成分（complementizer），一般指“的”引导的CP （振兴，的）"
   ]
  },
  {
   "cell_type": "code",
   "execution_count": 3,
   "metadata": {},
   "outputs": [
    {
     "name": "stdout",
     "output_type": "stream",
     "text": [
      "94 84\n",
      "['quantmod', 'acomp', 'aux', 'abbrev', 'xcomp', 'ref', 'clmod', 'attr', 'amod', 'possessive', 'dobj', 'tclaus', 'num', 'prep', 'advmod', 'punct', 'assm', 'comp', 'prepc', 'xsubj', 'auxpass', 'mark', 'preconj', 'det', 'rcomp', 'ornmod', 'infmod', 'iobj', 'lobj', 'tmod', 'asp', 'dvpmod', 'prnmod', 'plmod', 'cordmod', 'cpm', 'conj', 'pass', 'complm', 'nmod', 'prt', 'ccomp', 'expl', 'predet', 'rel', 'range', 'numod', 'csubj', 'pobj', 'advcl', 'pcomp', 'parataxis', 'cop', 'npadvmod', 'dep', 'cc', 'neg', 'agent', 'assmod', 'root', 'etc', 'mmod', 'vmod', 'mwe', 'appos', 'rcmod', 'number', 'mod', 'possm', 'purpcl', 'nsubjpass', 'subj', 'clf', 'ba', 'csubjpass', 'dvpm', 'poss', 'partmod', 'nsubj', 'top', 'npsubj', 'nn', 'obj', 'lccomp']\n"
     ]
    }
   ],
   "source": [
    "relations = [\n",
    "    'abbrev','acomp','advcl','advmod','agent','amod','appos','aux','auxpass','complm','conj','csubj','csubjpass','dep','expl','infmod','mark',\n",
    "    'mwe','nn','npadvmod','nsubj','nsubjpass','num','number','parataxis','partmod','pcomp','possessive','preconj','predet','prepc','prt',\n",
    "    'punct','purpcl','quantmod','rcmod','ref','rel','root','tmod',\n",
    "    'subj','nsubj','top','npsubj','csubj','xsubj',\n",
    "    'obj','dobj','iobj','range','pobj','lobj',\n",
    "    'comp','ccomp','xcomp','acomp','acomp','lccomp','rcomp',\n",
    "    'mod','pass','tmod','rcmod','numod','ornmod','clf','nmod','amod','advmod','vmod','prnmod','neg','det','possm','poss','dvpm','dvpmod',\n",
    "    'assm','assmod','prep','clmod','plmod','asp','partmod','etc',\n",
    "    'conj','cop','cc',\n",
    "    'attr','cordmod','mmod','ba','tclaus','cpm'\n",
    "]\n",
    "ids = list(set(relations))\n",
    "print(len(relations),len(ids))\n",
    "print(ids)"
   ]
  },
  {
   "cell_type": "code",
   "execution_count": null,
   "metadata": {},
   "outputs": [],
   "source": [
    "import torch.nn as nn\n",
    "import torch.nn.functional as F\n",
    "import torch as t\n",
    "import torch.optim as opt\n",
    "\n",
    "# 三个d维的embedding，分别为词嵌入、pos tag嵌入、关系嵌入\n",
    "dim = len(relations)\n",
    "\n",
    "NULL = '<NULL>'\n",
    "ROOT = '<ROOT>'"
   ]
  },
  {
   "cell_type": "code",
   "execution_count": 5,
   "metadata": {},
   "outputs": [
    {
     "name": "stdout",
     "output_type": "stream",
     "text": [
      "Executing op TensorDataset in device /job:localhost/replica:0/task:0/device:CPU:0\n",
      "Executing op FlatMapDataset in device /job:localhost/replica:0/task:0/device:CPU:0\n",
      "Executing op PaddedBatchDatasetV2 in device /job:localhost/replica:0/task:0/device:CPU:0\n",
      "Executing op PrefetchDataset in device /job:localhost/replica:0/task:0/device:CPU:0\n",
      "Executing op ParallelMapDataset in device /job:localhost/replica:0/task:0/device:CPU:0\n",
      "Executing op OptimizeDataset in device /job:localhost/replica:0/task:0/device:CPU:0\n",
      "Executing op ModelDataset in device /job:localhost/replica:0/task:0/device:CPU:0\n"
     ]
    },
    {
     "data": {
      "text/plain": [
       "['蕾姆蕾姆', '，', '这个', '人', '是', '不', '是', '傻', '？']"
      ]
     },
     "execution_count": 5,
     "metadata": {},
     "output_type": "execute_result"
    }
   ],
   "source": [
    "tokenizer('蕾姆蕾姆，这个人是不是傻？')"
   ]
  },
  {
   "cell_type": "code",
   "execution_count": null,
   "metadata": {},
   "outputs": [
    {
     "name": "stdout",
     "output_type": "stream",
     "text": [
      "Executing op HashTableV2 in device /job:localhost/replica:0/task:0/device:CPU:0\n",
      "Executing op HashTableV2 in device /job:localhost/replica:0/task:0/device:CPU:0\n"
     ]
    },
    {
     "name": "stderr",
     "output_type": "stream",
     "text": [
      "\n"
     ]
    }
   ],
   "source": [
    "tagger = hanlp.load(hanlp.pretrained.pos.CTB5_POS_RNN_FASTTEXT_ZH)\n",
    "tagger(['蜡烛', '两', '头', '烧'])"
   ]
  },
  {
   "cell_type": "code",
   "execution_count": null,
   "metadata": {},
   "outputs": [],
   "source": [
    "recognizer = hanlp.load(hanlp.pretrained.ner.MSRA_NER_BERT_BASE_ZH)\n",
    "recognizer([list('蜡烛两头烧')"
   ]
  },
  {
   "cell_type": "code",
   "execution_count": 2,
   "metadata": {},
   "outputs": [
    {
     "name": "stdout",
     "output_type": "stream",
     "text": [
      "Executing op HashTableV2 in device /job:localhost/replica:0/task:0/device:CPU:0\n",
      "Executing op HashTableV2 in device /job:localhost/replica:0/task:0/device:CPU:0\n",
      "Executing op HashTableV2 in device /job:localhost/replica:0/task:0/device:CPU:0\n",
      "Executing op Fill in device /job:localhost/replica:0/task:0/device:CPU:0\n",
      "Executing op VarHandleOp in device /job:localhost/replica:0/task:0/device:CPU:0\n",
      "Executing op NotEqual in device /job:localhost/replica:0/task:0/device:CPU:0\n",
      "Executing op GreaterEqual in device /job:localhost/replica:0/task:0/device:CPU:0\n",
      "Executing op SelectV2 in device /job:localhost/replica:0/task:0/device:CPU:0\n",
      "Executing op VarHandleOp in device /job:localhost/replica:0/task:0/device:CPU:0\n",
      "Executing op ResourceGather in device /job:localhost/replica:0/task:0/device:CPU:0\n",
      "Executing op Identity in device /job:localhost/replica:0/task:0/device:CPU:0\n",
      "Executing op Identity in device /job:localhost/replica:0/task:0/device:CPU:0\n",
      "Executing op VarHandleOp in device /job:localhost/replica:0/task:0/device:CPU:0\n",
      "Executing op AddV2 in device /job:localhost/replica:0/task:0/device:CPU:0\n",
      "Executing op VarHandleOp in device /job:localhost/replica:0/task:0/device:CPU:0\n",
      "Executing op ConcatV2 in device /job:localhost/replica:0/task:0/device:CPU:0\n",
      "Executing op RandomStandardNormal in device /job:localhost/replica:0/task:0/device:CPU:0\n",
      "Executing op Qr in device /job:localhost/replica:0/task:0/device:CPU:0\n",
      "Executing op DiagPart in device /job:localhost/replica:0/task:0/device:CPU:0\n",
      "Executing op Sign in device /job:localhost/replica:0/task:0/device:CPU:0\n",
      "Executing op Transpose in device /job:localhost/replica:0/task:0/device:CPU:0\n",
      "Executing op Reshape in device /job:localhost/replica:0/task:0/device:CPU:0\n",
      "Executing op VarHandleOp in device /job:localhost/replica:0/task:0/device:CPU:0\n",
      "Executing op VarHandleOp in device /job:localhost/replica:0/task:0/device:CPU:0\n",
      "Executing op VarHandleOp in device /job:localhost/replica:0/task:0/device:CPU:0\n",
      "Executing op Shape in device /job:localhost/replica:0/task:0/device:CPU:0\n",
      "Executing op StridedSlice in device /job:localhost/replica:0/task:0/device:CPU:0\n",
      "Executing op ExpandDims in device /job:localhost/replica:0/task:0/device:CPU:0\n",
      "Executing op Transpose in device /job:localhost/replica:0/task:0/device:CPU:0\n",
      "Executing op Unpack in device /job:localhost/replica:0/task:0/device:CPU:0\n",
      "Executing op StridedSlice in device /job:localhost/replica:0/task:0/device:CPU:0\n",
      "Executing op ReadVariableOp in device /job:localhost/replica:0/task:0/device:CPU:0\n",
      "Executing op MatMul in device /job:localhost/replica:0/task:0/device:CPU:0\n",
      "Executing op BiasAdd in device /job:localhost/replica:0/task:0/device:CPU:0\n",
      "Executing op Split in device /job:localhost/replica:0/task:0/device:CPU:0\n",
      "Executing op Sigmoid in device /job:localhost/replica:0/task:0/device:CPU:0\n",
      "Executing op Tanh in device /job:localhost/replica:0/task:0/device:CPU:0\n",
      "Executing op Unpack in device /job:localhost/replica:0/task:0/device:CPU:0\n",
      "Executing op ZerosLike in device /job:localhost/replica:0/task:0/device:CPU:0\n",
      "Executing op Less in device /job:localhost/replica:0/task:0/device:CPU:0\n",
      "Executing op Tile in device /job:localhost/replica:0/task:0/device:CPU:0\n",
      "Executing op SelectV2 in device /job:localhost/replica:0/task:0/device:CPU:0\n",
      "Executing op AddV2 in device /job:localhost/replica:0/task:0/device:CPU:0\n",
      "Executing op Pack in device /job:localhost/replica:0/task:0/device:CPU:0\n",
      "Executing op ReverseV2 in device /job:localhost/replica:0/task:0/device:CPU:0\n",
      "Executing op ReverseV2 in device /job:localhost/replica:0/task:0/device:CPU:0\n",
      "Executing op VarHandleOp in device /job:localhost/replica:0/task:0/device:CPU:0\n",
      "Executing op VarHandleOp in device /job:localhost/replica:0/task:0/device:CPU:0\n",
      "Executing op VarHandleOp in device /job:localhost/replica:0/task:0/device:CPU:0\n",
      "Executing op LeakyRelu in device /job:localhost/replica:0/task:0/device:CPU:0\n",
      "Executing op VarHandleOp in device /job:localhost/replica:0/task:0/device:CPU:0\n",
      "Executing op VarHandleOp in device /job:localhost/replica:0/task:0/device:CPU:0\n",
      "Executing op VarHandleOp in device /job:localhost/replica:0/task:0/device:CPU:0\n",
      "Executing op StridedSlice in device /job:localhost/replica:0/task:0/device:CPU:0\n",
      "Executing op Einsum in device /job:localhost/replica:0/task:0/device:CPU:0\n",
      "Executing op Einsum in device /job:localhost/replica:0/task:0/device:CPU:0\n",
      "Executing op Squeeze in device /job:localhost/replica:0/task:0/device:CPU:0\n",
      "Executing op VarHandleOp in device /job:localhost/replica:0/task:0/device:CPU:0\n",
      "Executing op TensorDataset in device /job:localhost/replica:0/task:0/device:CPU:0\n",
      "Executing op FlatMapDataset in device /job:localhost/replica:0/task:0/device:CPU:0\n",
      "Executing op PrefetchDataset in device /job:localhost/replica:0/task:0/device:CPU:0\n",
      "Executing op OptimizeDataset in device /job:localhost/replica:0/task:0/device:CPU:0\n",
      "Executing op ModelDataset in device /job:localhost/replica:0/task:0/device:CPU:0\n",
      "Executing op AnonymousIteratorV2 in device /job:localhost/replica:0/task:0/device:CPU:0\n",
      "Executing op MakeIterator in device /job:localhost/replica:0/task:0/device:CPU:0\n",
      "Executing op IteratorGetNextSync in device /job:localhost/replica:0/task:0/device:CPU:0\n",
      "Executing op UniqueWithCounts in device /job:localhost/replica:0/task:0/device:CPU:0\n",
      "Executing op Cast in device /job:localhost/replica:0/task:0/device:CPU:0\n",
      "Executing op RandomShuffle in device /job:localhost/replica:0/task:0/device:CPU:0\n",
      "Executing op StridedSlice in device /job:localhost/replica:0/task:0/device:CPU:0\n",
      "Executing op ExpandDims in device /job:localhost/replica:0/task:0/device:CPU:0\n",
      "Executing op Abs in device /job:localhost/replica:0/task:0/device:CPU:0\n",
      "Executing op ArgMin in device /job:localhost/replica:0/task:0/device:CPU:0\n",
      "Executing op Pack in device /job:localhost/replica:0/task:0/device:CPU:0\n",
      "Executing op Transpose in device /job:localhost/replica:0/task:0/device:CPU:0\n",
      "Executing op GatherNd in device /job:localhost/replica:0/task:0/device:CPU:0\n",
      "Executing op Equal in device /job:localhost/replica:0/task:0/device:CPU:0\n",
      "Executing op Any in device /job:localhost/replica:0/task:0/device:CPU:0\n",
      "Executing op ExpandDims in device /job:localhost/replica:0/task:0/device:CPU:0\n",
      "Executing op Cast in device /job:localhost/replica:0/task:0/device:CPU:0\n",
      "Executing op Sum in device /job:localhost/replica:0/task:0/device:CPU:0\n",
      "Executing op RealDiv in device /job:localhost/replica:0/task:0/device:CPU:0\n",
      "Executing op Equal in device /job:localhost/replica:0/task:0/device:CPU:0\n",
      "Executing op All in device /job:localhost/replica:0/task:0/device:CPU:0\n",
      "Executing op GatherV2 in device /job:localhost/replica:0/task:0/device:CPU:0\n",
      "Executing op Unique in device /job:localhost/replica:0/task:0/device:CPU:0\n",
      "Executing op GatherV2 in device /job:localhost/replica:0/task:0/device:CPU:0\n",
      "Executing op Where in device /job:localhost/replica:0/task:0/device:CPU:0\n",
      "Executing op Squeeze in device /job:localhost/replica:0/task:0/device:CPU:0\n",
      "Executing op SplitV in device /job:localhost/replica:0/task:0/device:CPU:0\n",
      "Executing op Shape in device /job:localhost/replica:0/task:0/device:CPU:0\n",
      "Executing op LogicalAnd in device /job:localhost/replica:0/task:0/device:CPU:0\n",
      "Executing op Unpack in device /job:localhost/replica:0/task:0/device:CPU:0\n",
      "Executing op Unpack in device /job:localhost/replica:0/task:0/device:CPU:0\n",
      "Executing op Pack in device /job:localhost/replica:0/task:0/device:CPU:0\n",
      "Executing op ArgMax in device /job:localhost/replica:0/task:0/device:CPU:0\n",
      "Executing op ExpandDims in device /job:localhost/replica:0/task:0/device:CPU:0\n",
      "Executing op GatherV2 in device /job:localhost/replica:0/task:0/device:CPU:0\n",
      "Executing op NotEqual in device /job:localhost/replica:0/task:0/device:CPU:0\n",
      "Executing op Cast in device /job:localhost/replica:0/task:0/device:CPU:0\n",
      "Executing op Sum in device /job:localhost/replica:0/task:0/device:CPU:0\n",
      "Executing op StridedSlice in device /job:localhost/replica:0/task:0/device:CPU:0\n",
      "Executing op AddV2 in device /job:localhost/replica:0/task:0/device:CPU:0\n",
      "Executing op DeleteIterator in device /job:localhost/replica:0/task:0/device:CPU:0\n"
     ]
    },
    {
     "data": {
      "text/plain": [
       "[{'id': 1,\n",
       "  'form': '呵',\n",
       "  'cpos': 'AD',\n",
       "  'pos': None,\n",
       "  'head': 8,\n",
       "  'deprel': 'dep',\n",
       "  'lemma': None,\n",
       "  'feats': None,\n",
       "  'phead': None,\n",
       "  'pdeprel': None},\n",
       " {'id': 2,\n",
       "  'form': '，',\n",
       "  'cpos': 'PU',\n",
       "  'pos': None,\n",
       "  'head': 8,\n",
       "  'deprel': 'punct',\n",
       "  'lemma': None,\n",
       "  'feats': None,\n",
       "  'phead': None,\n",
       "  'pdeprel': None},\n",
       " {'id': 3,\n",
       "  'form': '愚蠢',\n",
       "  'cpos': 'VA',\n",
       "  'pos': None,\n",
       "  'head': 5,\n",
       "  'deprel': 'rcmod',\n",
       "  'lemma': None,\n",
       "  'feats': None,\n",
       "  'phead': None,\n",
       "  'pdeprel': None},\n",
       " {'id': 4,\n",
       "  'form': '的',\n",
       "  'cpos': 'DEC',\n",
       "  'pos': None,\n",
       "  'head': 3,\n",
       "  'deprel': 'cpm',\n",
       "  'lemma': None,\n",
       "  'feats': None,\n",
       "  'phead': None,\n",
       "  'pdeprel': None},\n",
       " {'id': 5,\n",
       "  'form': '人类',\n",
       "  'cpos': 'NN',\n",
       "  'pos': None,\n",
       "  'head': 8,\n",
       "  'deprel': 'nsubj',\n",
       "  'lemma': None,\n",
       "  'feats': None,\n",
       "  'phead': None,\n",
       "  'pdeprel': None},\n",
       " {'id': 6,\n",
       "  'form': '，',\n",
       "  'cpos': 'PU',\n",
       "  'pos': None,\n",
       "  'head': 8,\n",
       "  'deprel': 'punct',\n",
       "  'lemma': None,\n",
       "  'feats': None,\n",
       "  'phead': None,\n",
       "  'pdeprel': None},\n",
       " {'id': 7,\n",
       "  'form': '你',\n",
       "  'cpos': 'PN',\n",
       "  'pos': None,\n",
       "  'head': 8,\n",
       "  'deprel': 'nsubj',\n",
       "  'lemma': None,\n",
       "  'feats': None,\n",
       "  'phead': None,\n",
       "  'pdeprel': None},\n",
       " {'id': 8,\n",
       "  'form': '想',\n",
       "  'cpos': 'VV',\n",
       "  'pos': None,\n",
       "  'head': 0,\n",
       "  'deprel': 'root',\n",
       "  'lemma': None,\n",
       "  'feats': None,\n",
       "  'phead': None,\n",
       "  'pdeprel': None},\n",
       " {'id': 9,\n",
       "  'form': '跟',\n",
       "  'cpos': 'P',\n",
       "  'pos': None,\n",
       "  'head': 11,\n",
       "  'deprel': 'prep',\n",
       "  'lemma': None,\n",
       "  'feats': None,\n",
       "  'phead': None,\n",
       "  'pdeprel': None},\n",
       " {'id': 10,\n",
       "  'form': '我',\n",
       "  'cpos': 'PN',\n",
       "  'pos': None,\n",
       "  'head': 9,\n",
       "  'deprel': 'pobj',\n",
       "  'lemma': None,\n",
       "  'feats': None,\n",
       "  'phead': None,\n",
       "  'pdeprel': None},\n",
       " {'id': 11,\n",
       "  'form': '说',\n",
       "  'cpos': 'VV',\n",
       "  'pos': None,\n",
       "  'head': 8,\n",
       "  'deprel': 'ccomp',\n",
       "  'lemma': None,\n",
       "  'feats': None,\n",
       "  'phead': None,\n",
       "  'pdeprel': None},\n",
       " {'id': 12,\n",
       "  'form': '什么',\n",
       "  'cpos': 'PN',\n",
       "  'pos': None,\n",
       "  'head': 13,\n",
       "  'deprel': 'nsubj',\n",
       "  'lemma': None,\n",
       "  'feats': None,\n",
       "  'phead': None,\n",
       "  'pdeprel': None},\n",
       " {'id': 13,\n",
       "  'form': '喵',\n",
       "  'cpos': 'VV',\n",
       "  'pos': None,\n",
       "  'head': 11,\n",
       "  'deprel': 'ccomp',\n",
       "  'lemma': None,\n",
       "  'feats': None,\n",
       "  'phead': None,\n",
       "  'pdeprel': None}]"
      ]
     },
     "execution_count": 2,
     "metadata": {},
     "output_type": "execute_result"
    }
   ],
   "source": [
    "syntactic_parser = hanlp.load(hanlp.pretrained.dep.CTB7_BIAFFINE_DEP_ZH)\n",
    "syntactic_parser([('呵', 'AD'), ('，', 'PU'), ('愚蠢', 'VA'), ('的', 'DEC'), ('人类', 'NN'), ('，', 'PU'), ('你', 'PN'), ('想', 'VV'), ('跟', 'P'), ('我', 'PN'), ('说', 'VV'), ('什么', 'PN'), ('喵', 'VV')])"
   ]
  },
  {
   "cell_type": "markdown",
   "metadata": {},
   "source": [
    "## 开放域聊天"
   ]
  },
  {
   "cell_type": "code",
   "execution_count": 8,
   "metadata": {},
   "outputs": [
    {
     "data": {
      "text/html": [
       "<div>\n",
       "<style scoped>\n",
       "    .dataframe tbody tr th:only-of-type {\n",
       "        vertical-align: middle;\n",
       "    }\n",
       "\n",
       "    .dataframe tbody tr th {\n",
       "        vertical-align: top;\n",
       "    }\n",
       "\n",
       "    .dataframe thead th {\n",
       "        text-align: right;\n",
       "    }\n",
       "</style>\n",
       "<table border=\"1\" class=\"dataframe\">\n",
       "  <thead>\n",
       "    <tr style=\"text-align: right;\">\n",
       "      <th></th>\n",
       "      <th>#Question</th>\n",
       "      <th>Answer</th>\n",
       "    </tr>\n",
       "  </thead>\n",
       "  <tbody>\n",
       "    <tr>\n",
       "      <td>0</td>\n",
       "      <td>南京在哪里</td>\n",
       "      <td>在这里了</td>\n",
       "    </tr>\n",
       "    <tr>\n",
       "      <td>1</td>\n",
       "      <td>咋死???红烧还是爆炒</td>\n",
       "      <td>哦了哦了哦了,咱聊点别的吧</td>\n",
       "    </tr>\n",
       "    <tr>\n",
       "      <td>2</td>\n",
       "      <td>你个小骚货，哥哥的巴操你爽不爽？</td>\n",
       "      <td>不要这样说嘛！很不文明哦</td>\n",
       "    </tr>\n",
       "    <tr>\n",
       "      <td>3</td>\n",
       "      <td>额麻麻怎么会有那玩意儿</td>\n",
       "      <td>无法理解您的话，获取帮助请发送 help</td>\n",
       "    </tr>\n",
       "    <tr>\n",
       "      <td>4</td>\n",
       "      <td>孩纸,新年快乐</td>\n",
       "      <td>{r+}同乐同乐，大家一起乐~</td>\n",
       "    </tr>\n",
       "  </tbody>\n",
       "</table>\n",
       "</div>"
      ],
      "text/plain": [
       "          #Question                Answer\n",
       "0             南京在哪里                  在这里了\n",
       "1       咋死???红烧还是爆炒         哦了哦了哦了,咱聊点别的吧\n",
       "2  你个小骚货，哥哥的巴操你爽不爽？          不要这样说嘛！很不文明哦\n",
       "3       额麻麻怎么会有那玩意儿  无法理解您的话，获取帮助请发送 help\n",
       "4           孩纸,新年快乐       {r+}同乐同乐，大家一起乐~"
      ]
     },
     "execution_count": 8,
     "metadata": {},
     "output_type": "execute_result"
    }
   ],
   "source": [
    "import pandas as pd\n",
    "\n",
    "chat_data = pd.read_csv('./raw_chat_corpus/qingyun-11w/12万对话语料青云库.csv',sep='\\t')\n",
    "chat_data.head()"
   ]
  },
  {
   "cell_type": "markdown",
   "metadata": {},
   "source": [
    "## 语义向量提取"
   ]
  },
  {
   "cell_type": "code",
   "execution_count": 1,
   "metadata": {},
   "outputs": [
    {
     "data": {
      "text/html": [
       "<div>\n",
       "<style scoped>\n",
       "    .dataframe tbody tr th:only-of-type {\n",
       "        vertical-align: middle;\n",
       "    }\n",
       "\n",
       "    .dataframe tbody tr th {\n",
       "        vertical-align: top;\n",
       "    }\n",
       "\n",
       "    .dataframe thead th {\n",
       "        text-align: right;\n",
       "    }\n",
       "</style>\n",
       "<table border=\"1\" class=\"dataframe\">\n",
       "  <thead>\n",
       "    <tr style=\"text-align: right;\">\n",
       "      <th></th>\n",
       "      <th>no</th>\n",
       "      <th>sentence1</th>\n",
       "      <th>sentence2</th>\n",
       "      <th>similarity</th>\n",
       "    </tr>\n",
       "  </thead>\n",
       "  <tbody>\n",
       "    <tr>\n",
       "      <td>0</td>\n",
       "      <td>1</td>\n",
       "      <td>怎么更改花呗手机号码</td>\n",
       "      <td>我的花呗是以前的手机号码，怎么更改成现在的支付宝的号码手机号</td>\n",
       "      <td>1</td>\n",
       "    </tr>\n",
       "    <tr>\n",
       "      <td>1</td>\n",
       "      <td>2</td>\n",
       "      <td>也开不了花呗，就这样了？完事了</td>\n",
       "      <td>真的嘛？就是花呗付款</td>\n",
       "      <td>0</td>\n",
       "    </tr>\n",
       "    <tr>\n",
       "      <td>2</td>\n",
       "      <td>3</td>\n",
       "      <td>花呗冻结以后还能开通吗</td>\n",
       "      <td>我的条件可以开通花呗借款吗</td>\n",
       "      <td>0</td>\n",
       "    </tr>\n",
       "    <tr>\n",
       "      <td>3</td>\n",
       "      <td>4</td>\n",
       "      <td>如何得知关闭借呗</td>\n",
       "      <td>想永久关闭借呗</td>\n",
       "      <td>0</td>\n",
       "    </tr>\n",
       "    <tr>\n",
       "      <td>4</td>\n",
       "      <td>5</td>\n",
       "      <td>花呗扫码付钱</td>\n",
       "      <td>二维码扫描可以用花呗吗</td>\n",
       "      <td>0</td>\n",
       "    </tr>\n",
       "  </tbody>\n",
       "</table>\n",
       "</div>"
      ],
      "text/plain": [
       "   no        sentence1                       sentence2  similarity\n",
       "0   1       怎么更改花呗手机号码  我的花呗是以前的手机号码，怎么更改成现在的支付宝的号码手机号           1\n",
       "1   2  也开不了花呗，就这样了？完事了                      真的嘛？就是花呗付款           0\n",
       "2   3      花呗冻结以后还能开通吗                   我的条件可以开通花呗借款吗           0\n",
       "3   4         如何得知关闭借呗                         想永久关闭借呗           0\n",
       "4   5           花呗扫码付钱                     二维码扫描可以用花呗吗           0"
      ]
     },
     "execution_count": 1,
     "metadata": {},
     "output_type": "execute_result"
    }
   ],
   "source": [
    "import pandas as pd\n",
    "\n",
    "sim_data = pd.read_csv('./atec_nlp_sim_train_all.csv',sep='\\t')\n",
    "sim_data.head()"
   ]
  },
  {
   "cell_type": "code",
   "execution_count": 2,
   "metadata": {},
   "outputs": [],
   "source": [
    "import pandas as pd\n",
    "import numpy as np\n",
    "import torch\n",
    "import torch.nn as nn\n",
    "import torch.nn.functional as F\n",
    "import torch.optim as optim\n",
    "from torch.utils.data import Dataset, DataLoader, RandomSampler\n",
    "from torch.nn.utils.rnn import pad_sequence\n",
    "from transformers import BertTokenizer, BertModel, AdamW, BertPreTrainedModel,get_linear_schedule_with_warmup\n",
    "from sklearn.model_selection import train_test_split\n",
    "from sklearn.metrics import roc_auc_score\n",
    "from tqdm import tqdm\n",
    "\n",
    "import os\n",
    "from typing import Tuple, List\n"
   ]
  },
  {
   "cell_type": "code",
   "execution_count": null,
   "metadata": {},
   "outputs": [],
   "source": [
    "from gensim.models import FastText\n",
    "sentences = []\n",
    "features = 64\n",
    "for index,row in sim_data.iterrows():\n",
    "    sentences.append(row['sentence1'])\n",
    "    sentences.append(row['sentence2'])\n",
    "words = FastText(sentences,  size=features, window=3, min_count=1, iter=10,min_n = 3 , max_n = 6,word_ngrams = 0)"
   ]
  },
  {
   "cell_type": "code",
   "execution_count": 4,
   "metadata": {},
   "outputs": [],
   "source": [
    "from sklearn.model_selection import train_test_split\n",
    "\n",
    "device = torch.device('cpu')\n",
    "if torch.cuda.is_available():\n",
    "    device = torch.device('cuda:0')\n",
    "train_df, val_df = train_test_split(sim_data, test_size=0.05)"
   ]
  },
  {
   "cell_type": "code",
   "execution_count": 3,
   "metadata": {},
   "outputs": [],
   "source": [
    "path = \"./\"\n",
    "device = torch.device('cpu')\n",
    "if torch.cuda.is_available():\n",
    "    device = torch.device('cuda:0')\n",
    "tokenizer = BertTokenizer.from_pretrained('bert-base-cased')\n",
    "# tokenizer = BertTokenizer.from_pretrained('bert-base-chinese')\n",
    "assert tokenizer.pad_token_id == 0, \"Padding value used in masks is set to zero, please change it everywhere\"\n",
    "train_df = pd.read_csv(os.path.join(path, 'atec_nlp_sim_train_all.csv'),sep='\\t')\n",
    "# training on a part of data for speed\n",
    "# train_df = train_df.sample(frac=0.33)\n",
    "train_df, val_df = train_test_split(train_df, test_size=0.05)"
   ]
  },
  {
   "cell_type": "code",
   "execution_count": 5,
   "metadata": {},
   "outputs": [
    {
     "name": "stderr",
     "output_type": "stream",
     "text": [
      "0it [00:00, ?it/s]D:\\Program Files\\Anaconda3\\lib\\site-packages\\ipykernel_launcher.py:7: DeprecationWarning: Call to deprecated `__getitem__` (Method will be removed in 4.0.0, use self.wv.__getitem__() instead).\n",
      "  import sys\n",
      "D:\\Program Files\\Anaconda3\\lib\\site-packages\\ipykernel_launcher.py:8: DeprecationWarning: Call to deprecated `__getitem__` (Method will be removed in 4.0.0, use self.wv.__getitem__() instead).\n",
      "  \n",
      "97353it [00:58, 1663.11it/s]\n",
      "5124it [00:03, 1653.51it/s]\n"
     ]
    }
   ],
   "source": [
    "class SimDataset(Dataset):\n",
    "    def __init__(self, dataframe, device):\n",
    "        self.device = device\n",
    "        self.X = []\n",
    "        self.Y = []\n",
    "        for i, (row) in tqdm(dataframe.iterrows()):\n",
    "            text1 = sum([words[word] for word in row[\"sentence1\"]])/len(row)\n",
    "            text2 = sum([words[word] for word in row[\"sentence2\"]])/len(row)\n",
    "            val = [1-row[\"similarity\"]]\n",
    "#             print(val)\n",
    "            tags = torch.FloatTensor(val)\n",
    "            self.X.append([text1,text2])\n",
    "#             self.X.append(text1)\n",
    "\n",
    "            self.Y.append(tags)\n",
    "            self.X.append([text2,text1])\n",
    "            self.Y.append(tags)\n",
    "            if tags.shape[0]==0:\n",
    "                print(row[\"sentence1\"])\n",
    "                print(row[\"sentence2\"])\n",
    "                print(row[\"similarity\"])\n",
    "                print(tags)\n",
    "    \n",
    "    def __len__(self):\n",
    "        return len(self.X)\n",
    "\n",
    "    def __getitem__(self, index: int) -> Tuple[List[torch.FloatTensor], torch.LongTensor]:\n",
    "        return self.X[index], self.Y[index]\n",
    "\n",
    "def collate_fn(batch: List[Tuple[List[torch.FloatTensor], torch.LongTensor]]) \\\n",
    "        -> Tuple[torch.FloatTensor,torch.FloatTensor, torch.LongTensor]:\n",
    "    x, y = list(zip(*batch))\n",
    "#     print('-------------------')\n",
    "#     print(x)\n",
    "    x = list(zip(*x))\n",
    "    x1 = x[0]\n",
    "#     print(x1)\n",
    "#     print('-------------------')\n",
    "#     print(y)\n",
    "#     print('-------------------')\n",
    "#     print(*batch)\n",
    "    x2 = x[1]\n",
    "#     print(len(x1),type(x1))\n",
    "#     x1 = pad_sequence(x1, batch_first=True, padding_value=0)\n",
    "#     x2 = pad_sequence(x2, batch_first=True, padding_value=0)\n",
    "    y = torch.stack(y)\n",
    "    return x1, x2, y.to(device)\n",
    "\n",
    "train_dataset = SimDataset(train_df, device)\n",
    "dev_dataset = SimDataset(val_df, device)\n",
    "\n",
    "BATCH_SIZE = 8\n",
    "train_sampler = RandomSampler(train_dataset)\n",
    "dev_sampler = RandomSampler(dev_dataset)\n",
    "train_iterator = DataLoader(train_dataset, batch_size=BATCH_SIZE, sampler=train_sampler, collate_fn=collate_fn)\n",
    "dev_iterator = DataLoader(dev_dataset, batch_size=BATCH_SIZE, sampler=dev_sampler, collate_fn=collate_fn)"
   ]
  },
  {
   "cell_type": "code",
   "execution_count": 8,
   "metadata": {},
   "outputs": [
    {
     "ename": "NameError",
     "evalue": "name 'tokenizer' is not defined",
     "output_type": "error",
     "traceback": [
      "\u001b[1;31m---------------------------------------------------------------------------\u001b[0m",
      "\u001b[1;31mNameError\u001b[0m                                 Traceback (most recent call last)",
      "\u001b[1;32m<ipython-input-8-594e1680fa44>\u001b[0m in \u001b[0;36m<module>\u001b[1;34m\u001b[0m\n\u001b[0;32m     55\u001b[0m     \u001b[1;32mreturn\u001b[0m \u001b[0mx1\u001b[0m\u001b[1;33m.\u001b[0m\u001b[0mto\u001b[0m\u001b[1;33m(\u001b[0m\u001b[0mdevice\u001b[0m\u001b[1;33m)\u001b[0m\u001b[1;33m,\u001b[0m \u001b[0mx2\u001b[0m\u001b[1;33m.\u001b[0m\u001b[0mto\u001b[0m\u001b[1;33m(\u001b[0m\u001b[0mdevice\u001b[0m\u001b[1;33m)\u001b[0m\u001b[1;33m,\u001b[0m \u001b[0my\u001b[0m\u001b[1;33m.\u001b[0m\u001b[0mto\u001b[0m\u001b[1;33m(\u001b[0m\u001b[0mdevice\u001b[0m\u001b[1;33m)\u001b[0m\u001b[1;33m\u001b[0m\u001b[1;33m\u001b[0m\u001b[0m\n\u001b[0;32m     56\u001b[0m \u001b[1;33m\u001b[0m\u001b[0m\n\u001b[1;32m---> 57\u001b[1;33m \u001b[0mtrain_dataset\u001b[0m \u001b[1;33m=\u001b[0m \u001b[0mSimDataset\u001b[0m\u001b[1;33m(\u001b[0m\u001b[0mtokenizer\u001b[0m\u001b[1;33m,\u001b[0m \u001b[0mtrain_df\u001b[0m\u001b[1;33m,\u001b[0m \u001b[0mdevice\u001b[0m\u001b[1;33m)\u001b[0m\u001b[1;33m\u001b[0m\u001b[1;33m\u001b[0m\u001b[0m\n\u001b[0m\u001b[0;32m     58\u001b[0m \u001b[0mdev_dataset\u001b[0m \u001b[1;33m=\u001b[0m \u001b[0mSimDataset\u001b[0m\u001b[1;33m(\u001b[0m\u001b[0mtokenizer\u001b[0m\u001b[1;33m,\u001b[0m \u001b[0mval_df\u001b[0m\u001b[1;33m,\u001b[0m \u001b[0mdevice\u001b[0m\u001b[1;33m)\u001b[0m\u001b[1;33m\u001b[0m\u001b[1;33m\u001b[0m\u001b[0m\n\u001b[0;32m     59\u001b[0m \u001b[1;33m\u001b[0m\u001b[0m\n",
      "\u001b[1;31mNameError\u001b[0m: name 'tokenizer' is not defined"
     ]
    }
   ],
   "source": [
    "class SimDataset(Dataset):\n",
    "    \n",
    "    def __init__(self, tokenizer, dataframe, device):\n",
    "        self.device = device\n",
    "        self.tokenizer = tokenizer\n",
    "        self.pad_idx = tokenizer.pad_token_id\n",
    "        self.X = []\n",
    "        self.Y = []\n",
    "        for i, (row) in tqdm(dataframe.iterrows()):\n",
    "            if len(tokenizer.tokenize(row[\"sentence1\"])) > 120:\n",
    "                continue\n",
    "            text1 = tokenizer.encode(row[\"sentence1\"], add_special_tokens=True)\n",
    "            text2 = tokenizer.encode(row[\"sentence2\"], add_special_tokens=True)\n",
    "\n",
    "            text1 = torch.LongTensor(text1)\n",
    "            text2 = torch.LongTensor(text2)\n",
    "            val = [1-row[\"similarity\"]]\n",
    "#             print(val)\n",
    "            tags = torch.FloatTensor(val)\n",
    "            self.X.append([text1,text2])\n",
    "#             self.X.append(text1)\n",
    "\n",
    "            self.Y.append(tags)\n",
    "            self.X.append([text2,text1])\n",
    "            self.Y.append(tags)\n",
    "            if tags.shape[0]==0:\n",
    "                print(row[\"sentence1\"])\n",
    "                print(row[\"sentence2\"])\n",
    "                print(row[\"similarity\"])\n",
    "                print(tags)\n",
    "    \n",
    "    def __len__(self):\n",
    "        return len(self.X)\n",
    "\n",
    "    def __getitem__(self, index: int) -> Tuple[torch.LongTensor, torch.LongTensor]:\n",
    "        return self.X[index], self.Y[index]\n",
    "\n",
    "def collate_fn(batch: List[Tuple[List[torch.LongTensor], torch.LongTensor]]) \\\n",
    "        -> Tuple[torch.LongTensor,torch.LongTensor, torch.LongTensor]:\n",
    "    x, y = list(zip(*batch))\n",
    "#     print('-------------------')\n",
    "#     print(x)\n",
    "    x = list(zip(*x))\n",
    "    x1 = x[0]\n",
    "#     print(x1)\n",
    "#     print('-------------------')\n",
    "#     print(y)\n",
    "#     print('-------------------')\n",
    "#     print(*batch)\n",
    "    x2 = x[1]\n",
    "#     print(len(x1),type(x1))\n",
    "    x1 = pad_sequence(x1, batch_first=True, padding_value=0)\n",
    "    x2 = pad_sequence(x2, batch_first=True, padding_value=0)\n",
    "    y = torch.stack(y)\n",
    "    return x1.to(device), x2.to(device), y.to(device)\n",
    "\n",
    "train_dataset = SimDataset(tokenizer, train_df, device)\n",
    "dev_dataset = SimDataset(tokenizer, val_df, device)\n",
    "\n",
    "BATCH_SIZE = 8\n",
    "train_sampler = RandomSampler(train_dataset)\n",
    "dev_sampler = RandomSampler(dev_dataset)\n",
    "train_iterator = DataLoader(train_dataset, batch_size=BATCH_SIZE, sampler=train_sampler, collate_fn=collate_fn)\n",
    "dev_iterator = DataLoader(dev_dataset, batch_size=BATCH_SIZE, sampler=dev_sampler, collate_fn=collate_fn)"
   ]
  },
  {
   "cell_type": "code",
   "execution_count": 19,
   "metadata": {},
   "outputs": [
    {
     "name": "stdout",
     "output_type": "stream",
     "text": [
      "([1, 2],) (3,)\n",
      "[(1, 3, 5), (2, 4, 6)]\n"
     ]
    }
   ],
   "source": [
    "t=[1,2],3\n",
    "test = [t]\n",
    "t,tt = list(zip(*test))\n",
    "print(t,tt)\n",
    "\n",
    "t = [1,2],[3,4],[5,6]\n",
    "print(list(zip(*t)))\n",
    "# class dismoid(torch.autograd.Function):\n",
    "    \n",
    "#     @staticmethod\n",
    "#     def forward(ctx, input):\n",
    "#         ctx.save_for_backward(input)\n",
    "#         abs = torch.abs(input)\n",
    "#         return abs/(1+abs)\n",
    "    \n",
    "#     @staticmethod\n",
    "#     def backward(ctx, grad_output):\n",
    "#         input, = ctx.saved_tensors\n",
    "#         grad_input = grad_output.clone()\n",
    "#         abs = torch.abs(input)\n",
    "#         demon = 1+abs\n",
    "#         demon_2 = demon*demon\n",
    "#         grad_input[input >= 0] = 1/demon[input >= 0]-abs[input >= 0]/demon_2[input >= 0]\n",
    "#         grad_input[input < 0] = abs[input < 0]/demon_2[input < 0]-1/demon[input < 0]\n",
    "#         return grad_input"
   ]
  },
  {
   "cell_type": "code",
   "execution_count": 6,
   "metadata": {},
   "outputs": [],
   "source": [
    "class FastTextClassifier(nn.Module):\n",
    "    \n",
    "    def __init__(self,features):\n",
    "        super(FastTextClassifier, self).__init__()\n",
    "        self.linear_left_1 = nn.Linear(features, 128)\n",
    "        self.relu_left = nn.ReLU()\n",
    "        self.linear_left_2 = nn.Linear(128, 64)\n",
    "\n",
    "        self.linear_right_1 = nn.Linear(features, 128)\n",
    "        self.relu_right = nn.ReLU()\n",
    "        self.linear_right_2 = nn.Linear(128, 64)\n",
    "        self.softsign = nn.Softsign()\n",
    "#         self.classifier = torch.Linear(128,2)\n",
    "        \n",
    "    def forward(self, input_ids1, input_ids2, token_type_ids=None, position_ids=None, head_mask=None,\n",
    "            labels=None):\n",
    "#         print(input_ids1)\n",
    "#         print('-----------')\n",
    "#         print(labels)\n",
    "        output1 = torch.FloatTensor(list(input_ids1))\n",
    "        output1 = self.linear_left_2(self.relu_left(self.linear_left_1(output1))) # batch, 2 \n",
    "#         output1 = torch.sigmoid(output1)\n",
    "        if input_ids2!=None:\n",
    "            output2 = torch.FloatTensor(list(input_ids2))\n",
    "            output2 = self.linear_right_2(self.relu_right(self.linear_right_1(output2))) # batch, 2\n",
    "#         output2 = torch.sigmoid(output2)\n",
    "\n",
    "            cls_output = self.softsign(F.pairwise_distance(output2,output1))\n",
    "            criterion = nn.BCELoss()\n",
    "            loss = 0\n",
    "            if labels is not None:\n",
    "                loss = criterion(cls_output, labels)\n",
    "            return loss, cls_output\n",
    "        else:\n",
    "            return output1\n",
    "\n",
    "model = FastTextClassifier(features).to(device)"
   ]
  },
  {
   "cell_type": "code",
   "execution_count": 49,
   "metadata": {},
   "outputs": [],
   "source": [
    "class BertClassifier(BertPreTrainedModel):\n",
    "    \n",
    "    def __init__(self, config):\n",
    "        super(BertClassifier, self).__init__(config)\n",
    "        self.bert = BertModel(config)\n",
    "        self.net1 = nn.Linear(config.hidden_size, 128)\n",
    "        self.net2 = nn.Linear(config.hidden_size, 128)\n",
    "        self.softsign = nn.Softsign()\n",
    "#         self.classifier = torch.Linear(128,2)\n",
    "        \n",
    "    def forward(self, input_ids1, input_ids2, attention_mask1=None, attention_mask2=None, token_type_ids=None, position_ids=None, head_mask=None,\n",
    "                \n",
    "            labels=None):\n",
    "        outputs1 = self.bert(input_ids1,\n",
    "                               attention_mask=attention_mask1,\n",
    "                               token_type_ids=token_type_ids,\n",
    "                               position_ids=position_ids,\n",
    "                               head_mask=head_mask)\n",
    "        outputs2 = self.bert(input_ids2,\n",
    "                       attention_mask=attention_mask2,\n",
    "                       token_type_ids=token_type_ids,\n",
    "                       position_ids=position_ids,\n",
    "                       head_mask=head_mask)\n",
    "#         cls_output = outputs1[1] # batch, hidden\n",
    "        output1 = self.net1(outputs1[1]) # batch, 2 \n",
    "#         output1 = torch.sigmoid(output1)\n",
    "\n",
    "        output2 = self.net2(outputs2[1]) # batch, 2\n",
    "#         output2 = torch.sigmoid(output2)\n",
    "\n",
    "        cls_output = self.softsign(F.pairwise_distance(output2,output1))\n",
    "        criterion = nn.BCELoss()\n",
    "        loss = 0\n",
    "        if labels is not None:\n",
    "            loss = criterion(cls_output, labels)\n",
    "        return loss, cls_output\n",
    "\n",
    "model = BertClassifier.from_pretrained('bert-base-cased').to(device)"
   ]
  },
  {
   "cell_type": "code",
   "execution_count": 7,
   "metadata": {},
   "outputs": [],
   "source": [
    "def train(model, iterator, optimizer, scheduler):\n",
    "    model.train()\n",
    "    total_loss = 0\n",
    "#     print(type(iterator))\n",
    "    for x1,x2,y in tqdm(iterator):\n",
    "        optimizer.zero_grad()\n",
    "\n",
    "        loss, outputs = model(x1, x2, labels=y)\n",
    "        total_loss += loss.item()\n",
    "        loss.backward()\n",
    "        optimizer.step()\n",
    "        scheduler.step()\n",
    "    print(f\"Train loss {total_loss / len(iterator)}\")\n",
    "    return loss\n",
    "\n",
    "def evaluate(model, iterator):\n",
    "    model.eval()\n",
    "    pred = []\n",
    "    true = []\n",
    "    with torch.no_grad():\n",
    "        total_loss = 0\n",
    "        for x1,x2, y in tqdm(iterator):\n",
    "            loss, outputs = model(x1,x2, labels=y)\n",
    "            total_loss += loss\n",
    "            true += y.cpu().numpy().tolist()\n",
    "            pred += outputs.cpu().numpy().tolist()\n",
    "    true = np.array(true)\n",
    "    pred = np.array(pred)\n",
    "#     print(true.reshape(1,-1))\n",
    "#     print('-----------')\n",
    "#     print(pred)\n",
    "    for i, name in enumerate(['similarity']):\n",
    "        val = roc_auc_score(true.reshape(1,-1)[0], pred)\n",
    "        print(f\"{name} roc_auc {val}\")\n",
    "    print(f\"Evaluate loss {total_loss / len(iterator)}\")\n",
    "    return loss,val"
   ]
  },
  {
   "cell_type": "code",
   "execution_count": 31,
   "metadata": {},
   "outputs": [],
   "source": [
    "def train(model, iterator, optimizer, scheduler):\n",
    "    model.train()\n",
    "    total_loss = 0\n",
    "#     print(type(iterator))\n",
    "    for x1,x2,y in tqdm(iterator):\n",
    "        optimizer.zero_grad()\n",
    "        mask1 = (x1 != 0).float()\n",
    "        mask2 = (x2 != 0).float()\n",
    "\n",
    "        loss, outputs = model(x1, x2, attention_mask1=mask1,attention_mask2 = mask2, labels=y)\n",
    "        total_loss += loss.item()\n",
    "        loss.backward()\n",
    "        optimizer.step()\n",
    "        scheduler.step()\n",
    "    print(f\"Train loss {total_loss / len(iterator)}\")\n",
    "\n",
    "def evaluate(model, iterator):\n",
    "    model.eval()\n",
    "    pred = []\n",
    "    true = []\n",
    "    with torch.no_grad():\n",
    "        total_loss = 0\n",
    "        for x, y in tqdm(iterator):\n",
    "            mask = (x != 0).float()\n",
    "            loss, outputs = model(x, attention_mask=mask, labels=y)\n",
    "            total_loss += loss\n",
    "            true += y.cpu().numpy().tolist()\n",
    "            pred += outputs.cpu().numpy().tolist()\n",
    "    true = np.array(true)\n",
    "    pred = np.array(pred)\n",
    "    for i, name in enumerate(['toxic', 'severe_toxic', 'obscene', 'threat', 'insult', 'identity_hate']):\n",
    "        print(f\"{name} roc_auc {roc_auc_score(true[:, i], pred[:, i])}\")\n",
    "    print(f\"Evaluate loss {total_loss / len(iterator)}\")"
   ]
  },
  {
   "cell_type": "code",
   "execution_count": 8,
   "metadata": {},
   "outputs": [],
   "source": [
    "no_decay = ['bias', 'LayerNorm.weight']\n",
    "optimizer_grouped_parameters = [\n",
    "{'params': [p for n, p in model.named_parameters() if not any(nd in n for nd in no_decay)], 'weight_decay': 0.01},\n",
    "{'params': [p for n, p in model.named_parameters() if any(nd in n for nd in no_decay)], 'weight_decay': 0.0}\n",
    "]\n",
    "EPOCH_NUM = 50\n",
    "# triangular learning rate, linearly grows untill half of first epoch, then linearly decays \n",
    "warmup_steps = int(0.5 * len(train_iterator))\n",
    "total_steps = len(train_iterator) * EPOCH_NUM - warmup_steps\n",
    "optimizer = AdamW(optimizer_grouped_parameters, lr=2e-5, eps=1e-8)\n",
    "scheduler = get_linear_schedule_with_warmup(optimizer, num_warmup_steps=warmup_steps, num_training_steps=total_steps)"
   ]
  },
  {
   "cell_type": "code",
   "execution_count": 9,
   "metadata": {
    "scrolled": true
   },
   "outputs": [
    {
     "name": "stdout",
     "output_type": "stream",
     "text": [
      "================================================== EPOCH 0 ==================================================\n"
     ]
    },
    {
     "name": "stderr",
     "output_type": "stream",
     "text": [
      "  0%|                                                                                        | 0/24339 [00:00<?, ?it/s]D:\\Program Files\\Anaconda3\\lib\\site-packages\\torch\\nn\\modules\\loss.py:498: UserWarning: Using a target size (torch.Size([8, 1])) that is different to the input size (torch.Size([8])) is deprecated. Please ensure they have the same size.\n",
      "  return F.binary_cross_entropy(input, target, weight=self.weight, reduction=self.reduction)\n",
      "100%|██████████████████████████████████████████████████████████████████████████▉| 24333/24339 [01:15<00:00, 325.33it/s]D:\\Program Files\\Anaconda3\\lib\\site-packages\\torch\\nn\\modules\\loss.py:498: UserWarning: Using a target size (torch.Size([2, 1])) that is different to the input size (torch.Size([2])) is deprecated. Please ensure they have the same size.\n",
      "  return F.binary_cross_entropy(input, target, weight=self.weight, reduction=self.reduction)\n",
      "100%|███████████████████████████████████████████████████████████████████████████| 24339/24339 [01:15<00:00, 321.62it/s]\n"
     ]
    },
    {
     "name": "stdout",
     "output_type": "stream",
     "text": [
      "Train loss 0.47670391840410486\n"
     ]
    },
    {
     "name": "stderr",
     "output_type": "stream",
     "text": [
      "100%|████████████████████████████████████████████████████████████████████████████| 1281/1281 [00:01<00:00, 1176.99it/s]\n"
     ]
    },
    {
     "name": "stdout",
     "output_type": "stream",
     "text": [
      "similarity roc_auc 0.6083708132416656\n",
      "Evaluate loss 0.46571433544158936\n",
      "================================================== EPOCH 1 ==================================================\n"
     ]
    },
    {
     "name": "stderr",
     "output_type": "stream",
     "text": [
      "  0%|                                                                                        | 0/24339 [00:00<?, ?it/s]D:\\Program Files\\Anaconda3\\lib\\site-packages\\torch\\nn\\modules\\loss.py:498: UserWarning: Using a target size (torch.Size([8, 1])) that is different to the input size (torch.Size([8])) is deprecated. Please ensure they have the same size.\n",
      "  return F.binary_cross_entropy(input, target, weight=self.weight, reduction=self.reduction)\n",
      "100%|██████████████████████████████████████████████████████████████████████████▉| 24338/24339 [01:11<00:00, 346.54it/s]D:\\Program Files\\Anaconda3\\lib\\site-packages\\torch\\nn\\modules\\loss.py:498: UserWarning: Using a target size (torch.Size([2, 1])) that is different to the input size (torch.Size([2])) is deprecated. Please ensure they have the same size.\n",
      "  return F.binary_cross_entropy(input, target, weight=self.weight, reduction=self.reduction)\n",
      "100%|███████████████████████████████████████████████████████████████████████████| 24339/24339 [01:11<00:00, 342.35it/s]\n"
     ]
    },
    {
     "name": "stdout",
     "output_type": "stream",
     "text": [
      "Train loss 0.4562737137379846\n"
     ]
    },
    {
     "name": "stderr",
     "output_type": "stream",
     "text": [
      "100%|████████████████████████████████████████████████████████████████████████████| 1281/1281 [00:01<00:00, 1233.82it/s]\n"
     ]
    },
    {
     "name": "stdout",
     "output_type": "stream",
     "text": [
      "similarity roc_auc 0.639139241476716\n",
      "Evaluate loss 0.458952397108078\n",
      "================================================== EPOCH 2 ==================================================\n"
     ]
    },
    {
     "name": "stderr",
     "output_type": "stream",
     "text": [
      "  0%|                                                                                        | 0/24339 [00:00<?, ?it/s]D:\\Program Files\\Anaconda3\\lib\\site-packages\\torch\\nn\\modules\\loss.py:498: UserWarning: Using a target size (torch.Size([8, 1])) that is different to the input size (torch.Size([8])) is deprecated. Please ensure they have the same size.\n",
      "  return F.binary_cross_entropy(input, target, weight=self.weight, reduction=self.reduction)\n",
      "100%|██████████████████████████████████████████████████████████████████████████▉| 24337/24339 [01:13<00:00, 345.53it/s]D:\\Program Files\\Anaconda3\\lib\\site-packages\\torch\\nn\\modules\\loss.py:498: UserWarning: Using a target size (torch.Size([2, 1])) that is different to the input size (torch.Size([2])) is deprecated. Please ensure they have the same size.\n",
      "  return F.binary_cross_entropy(input, target, weight=self.weight, reduction=self.reduction)\n",
      "100%|███████████████████████████████████████████████████████████████████████████| 24339/24339 [01:13<00:00, 331.73it/s]\n"
     ]
    },
    {
     "name": "stdout",
     "output_type": "stream",
     "text": [
      "Train loss 0.4507311713996623\n"
     ]
    },
    {
     "name": "stderr",
     "output_type": "stream",
     "text": [
      "100%|████████████████████████████████████████████████████████████████████████████| 1281/1281 [00:01<00:00, 1233.82it/s]\n"
     ]
    },
    {
     "name": "stdout",
     "output_type": "stream",
     "text": [
      "similarity roc_auc 0.6500549633400043\n",
      "Evaluate loss 0.4559296667575836\n",
      "================================================== EPOCH 3 ==================================================\n"
     ]
    },
    {
     "name": "stderr",
     "output_type": "stream",
     "text": [
      "  0%|                                                                                        | 0/24339 [00:00<?, ?it/s]D:\\Program Files\\Anaconda3\\lib\\site-packages\\torch\\nn\\modules\\loss.py:498: UserWarning: Using a target size (torch.Size([8, 1])) that is different to the input size (torch.Size([8])) is deprecated. Please ensure they have the same size.\n",
      "  return F.binary_cross_entropy(input, target, weight=self.weight, reduction=self.reduction)\n",
      "100%|██████████████████████████████████████████████████████████████████████████▉| 24306/24339 [01:12<00:00, 348.37it/s]D:\\Program Files\\Anaconda3\\lib\\site-packages\\torch\\nn\\modules\\loss.py:498: UserWarning: Using a target size (torch.Size([2, 1])) that is different to the input size (torch.Size([2])) is deprecated. Please ensure they have the same size.\n",
      "  return F.binary_cross_entropy(input, target, weight=self.weight, reduction=self.reduction)\n",
      "100%|███████████████████████████████████████████████████████████████████████████| 24339/24339 [01:12<00:00, 336.43it/s]\n"
     ]
    },
    {
     "name": "stdout",
     "output_type": "stream",
     "text": [
      "Train loss 0.447811455200335\n"
     ]
    },
    {
     "name": "stderr",
     "output_type": "stream",
     "text": [
      "100%|████████████████████████████████████████████████████████████████████████████| 1281/1281 [00:01<00:00, 1267.34it/s]\n"
     ]
    },
    {
     "name": "stdout",
     "output_type": "stream",
     "text": [
      "similarity roc_auc 0.6553984204369956\n",
      "Evaluate loss 0.4542199969291687\n",
      "================================================== EPOCH 4 ==================================================\n"
     ]
    },
    {
     "name": "stderr",
     "output_type": "stream",
     "text": [
      "  0%|                                                                                        | 0/24339 [00:00<?, ?it/s]D:\\Program Files\\Anaconda3\\lib\\site-packages\\torch\\nn\\modules\\loss.py:498: UserWarning: Using a target size (torch.Size([8, 1])) that is different to the input size (torch.Size([8])) is deprecated. Please ensure they have the same size.\n",
      "  return F.binary_cross_entropy(input, target, weight=self.weight, reduction=self.reduction)\n",
      "100%|██████████████████████████████████████████████████████████████████████████▉| 24308/24339 [01:11<00:00, 346.36it/s]D:\\Program Files\\Anaconda3\\lib\\site-packages\\torch\\nn\\modules\\loss.py:498: UserWarning: Using a target size (torch.Size([2, 1])) that is different to the input size (torch.Size([2])) is deprecated. Please ensure they have the same size.\n",
      "  return F.binary_cross_entropy(input, target, weight=self.weight, reduction=self.reduction)\n",
      "100%|███████████████████████████████████████████████████████████████████████████| 24339/24339 [01:11<00:00, 339.37it/s]\n"
     ]
    },
    {
     "name": "stdout",
     "output_type": "stream",
     "text": [
      "Train loss 0.4459501681233683\n"
     ]
    },
    {
     "name": "stderr",
     "output_type": "stream",
     "text": [
      "100%|████████████████████████████████████████████████████████████████████████████| 1281/1281 [00:01<00:00, 1263.66it/s]\n"
     ]
    },
    {
     "name": "stdout",
     "output_type": "stream",
     "text": [
      "similarity roc_auc 0.6604142615049231\n",
      "Evaluate loss 0.4526945948600769\n",
      "================================================== EPOCH 5 ==================================================\n"
     ]
    },
    {
     "name": "stderr",
     "output_type": "stream",
     "text": [
      "  0%|                                                                                        | 0/24339 [00:00<?, ?it/s]D:\\Program Files\\Anaconda3\\lib\\site-packages\\torch\\nn\\modules\\loss.py:498: UserWarning: Using a target size (torch.Size([8, 1])) that is different to the input size (torch.Size([8])) is deprecated. Please ensure they have the same size.\n",
      "  return F.binary_cross_entropy(input, target, weight=self.weight, reduction=self.reduction)\n",
      "100%|██████████████████████████████████████████████████████████████████████████▉| 24332/24339 [01:14<00:00, 320.55it/s]D:\\Program Files\\Anaconda3\\lib\\site-packages\\torch\\nn\\modules\\loss.py:498: UserWarning: Using a target size (torch.Size([2, 1])) that is different to the input size (torch.Size([2])) is deprecated. Please ensure they have the same size.\n",
      "  return F.binary_cross_entropy(input, target, weight=self.weight, reduction=self.reduction)\n",
      "100%|███████████████████████████████████████████████████████████████████████████| 24339/24339 [01:14<00:00, 326.35it/s]\n"
     ]
    },
    {
     "name": "stdout",
     "output_type": "stream",
     "text": [
      "Train loss 0.4445558697009122\n"
     ]
    },
    {
     "name": "stderr",
     "output_type": "stream",
     "text": [
      "100%|████████████████████████████████████████████████████████████████████████████| 1281/1281 [00:01<00:00, 1278.18it/s]\n"
     ]
    },
    {
     "name": "stdout",
     "output_type": "stream",
     "text": [
      "similarity roc_auc 0.6631841638058569\n",
      "Evaluate loss 0.45175793766975403\n",
      "================================================== EPOCH 6 ==================================================\n"
     ]
    },
    {
     "name": "stderr",
     "output_type": "stream",
     "text": [
      "  0%|                                                                                        | 0/24339 [00:00<?, ?it/s]D:\\Program Files\\Anaconda3\\lib\\site-packages\\torch\\nn\\modules\\loss.py:498: UserWarning: Using a target size (torch.Size([8, 1])) that is different to the input size (torch.Size([8])) is deprecated. Please ensure they have the same size.\n",
      "  return F.binary_cross_entropy(input, target, weight=self.weight, reduction=self.reduction)\n",
      "100%|██████████████████████████████████████████████████████████████████████████▉| 24337/24339 [01:11<00:00, 346.53it/s]D:\\Program Files\\Anaconda3\\lib\\site-packages\\torch\\nn\\modules\\loss.py:498: UserWarning: Using a target size (torch.Size([2, 1])) that is different to the input size (torch.Size([2])) is deprecated. Please ensure they have the same size.\n",
      "  return F.binary_cross_entropy(input, target, weight=self.weight, reduction=self.reduction)\n",
      "100%|███████████████████████████████████████████████████████████████████████████| 24339/24339 [01:11<00:00, 339.08it/s]\n"
     ]
    },
    {
     "name": "stdout",
     "output_type": "stream",
     "text": [
      "Train loss 0.44347249749733997\n"
     ]
    },
    {
     "name": "stderr",
     "output_type": "stream",
     "text": [
      "100%|████████████████████████████████████████████████████████████████████████████| 1281/1281 [00:01<00:00, 1246.94it/s]\n"
     ]
    },
    {
     "name": "stdout",
     "output_type": "stream",
     "text": [
      "similarity roc_auc 0.6663505052997327\n",
      "Evaluate loss 0.45074406266212463\n",
      "================================================== EPOCH 7 ==================================================\n"
     ]
    },
    {
     "name": "stderr",
     "output_type": "stream",
     "text": [
      "  0%|                                                                                        | 0/24339 [00:00<?, ?it/s]D:\\Program Files\\Anaconda3\\lib\\site-packages\\torch\\nn\\modules\\loss.py:498: UserWarning: Using a target size (torch.Size([8, 1])) that is different to the input size (torch.Size([8])) is deprecated. Please ensure they have the same size.\n",
      "  return F.binary_cross_entropy(input, target, weight=self.weight, reduction=self.reduction)\n",
      "100%|██████████████████████████████████████████████████████████████████████████▉| 24331/24339 [01:12<00:00, 348.53it/s]D:\\Program Files\\Anaconda3\\lib\\site-packages\\torch\\nn\\modules\\loss.py:498: UserWarning: Using a target size (torch.Size([2, 1])) that is different to the input size (torch.Size([2])) is deprecated. Please ensure they have the same size.\n",
      "  return F.binary_cross_entropy(input, target, weight=self.weight, reduction=self.reduction)\n",
      "100%|███████████████████████████████████████████████████████████████████████████| 24339/24339 [01:12<00:00, 334.37it/s]\n"
     ]
    },
    {
     "name": "stdout",
     "output_type": "stream",
     "text": [
      "Train loss 0.4426409817414421\n"
     ]
    },
    {
     "name": "stderr",
     "output_type": "stream",
     "text": [
      "100%|████████████████████████████████████████████████████████████████████████████| 1281/1281 [00:01<00:00, 1263.02it/s]\n"
     ]
    },
    {
     "name": "stdout",
     "output_type": "stream",
     "text": [
      "similarity roc_auc 0.6682918960137522\n",
      "Evaluate loss 0.4500703811645508\n",
      "================================================== EPOCH 8 ==================================================\n"
     ]
    },
    {
     "name": "stderr",
     "output_type": "stream",
     "text": [
      "  0%|                                                                                        | 0/24339 [00:00<?, ?it/s]D:\\Program Files\\Anaconda3\\lib\\site-packages\\torch\\nn\\modules\\loss.py:498: UserWarning: Using a target size (torch.Size([8, 1])) that is different to the input size (torch.Size([8])) is deprecated. Please ensure they have the same size.\n",
      "  return F.binary_cross_entropy(input, target, weight=self.weight, reduction=self.reduction)\n",
      "100%|██████████████████████████████████████████████████████████████████████████▉| 24334/24339 [01:29<00:00, 193.83it/s]D:\\Program Files\\Anaconda3\\lib\\site-packages\\torch\\nn\\modules\\loss.py:498: UserWarning: Using a target size (torch.Size([2, 1])) that is different to the input size (torch.Size([2])) is deprecated. Please ensure they have the same size.\n",
      "  return F.binary_cross_entropy(input, target, weight=self.weight, reduction=self.reduction)\n",
      "100%|███████████████████████████████████████████████████████████████████████████| 24339/24339 [01:29<00:00, 272.63it/s]\n"
     ]
    },
    {
     "name": "stdout",
     "output_type": "stream",
     "text": [
      "Train loss 0.4418892585770587\n"
     ]
    },
    {
     "name": "stderr",
     "output_type": "stream",
     "text": [
      "100%|█████████████████████████████████████████████████████████████████████████████| 1281/1281 [00:02<00:00, 637.49it/s]\n"
     ]
    },
    {
     "name": "stdout",
     "output_type": "stream",
     "text": [
      "similarity roc_auc 0.669196623939825\n",
      "Evaluate loss 0.4498121440410614\n",
      "================================================== EPOCH 9 ==================================================\n"
     ]
    },
    {
     "name": "stderr",
     "output_type": "stream",
     "text": [
      "  0%|                                                                                        | 0/24339 [00:00<?, ?it/s]D:\\Program Files\\Anaconda3\\lib\\site-packages\\torch\\nn\\modules\\loss.py:498: UserWarning: Using a target size (torch.Size([8, 1])) that is different to the input size (torch.Size([8])) is deprecated. Please ensure they have the same size.\n",
      "  return F.binary_cross_entropy(input, target, weight=self.weight, reduction=self.reduction)\n",
      "100%|██████████████████████████████████████████████████████████████████████████▉| 24314/24339 [01:34<00:00, 297.85it/s]D:\\Program Files\\Anaconda3\\lib\\site-packages\\torch\\nn\\modules\\loss.py:498: UserWarning: Using a target size (torch.Size([2, 1])) that is different to the input size (torch.Size([2])) is deprecated. Please ensure they have the same size.\n",
      "  return F.binary_cross_entropy(input, target, weight=self.weight, reduction=self.reduction)\n",
      "100%|███████████████████████████████████████████████████████████████████████████| 24339/24339 [01:34<00:00, 258.30it/s]\n"
     ]
    },
    {
     "name": "stdout",
     "output_type": "stream",
     "text": [
      "Train loss 0.4413181735484527\n"
     ]
    },
    {
     "name": "stderr",
     "output_type": "stream",
     "text": [
      "100%|█████████████████████████████████████████████████████████████████████████████| 1281/1281 [00:01<00:00, 806.10it/s]\n"
     ]
    },
    {
     "name": "stdout",
     "output_type": "stream",
     "text": [
      "similarity roc_auc 0.6704565098526594\n",
      "Evaluate loss 0.4492541551589966\n",
      "================================================== EPOCH 10 ==================================================\n"
     ]
    },
    {
     "name": "stderr",
     "output_type": "stream",
     "text": [
      "  0%|                                                                                        | 0/24339 [00:00<?, ?it/s]D:\\Program Files\\Anaconda3\\lib\\site-packages\\torch\\nn\\modules\\loss.py:498: UserWarning: Using a target size (torch.Size([8, 1])) that is different to the input size (torch.Size([8])) is deprecated. Please ensure they have the same size.\n",
      "  return F.binary_cross_entropy(input, target, weight=self.weight, reduction=self.reduction)\n",
      "100%|██████████████████████████████████████████████████████████████████████████▉| 24310/24339 [01:24<00:00, 343.99it/s]D:\\Program Files\\Anaconda3\\lib\\site-packages\\torch\\nn\\modules\\loss.py:498: UserWarning: Using a target size (torch.Size([2, 1])) that is different to the input size (torch.Size([2])) is deprecated. Please ensure they have the same size.\n",
      "  return F.binary_cross_entropy(input, target, weight=self.weight, reduction=self.reduction)\n",
      "100%|███████████████████████████████████████████████████████████████████████████| 24339/24339 [01:24<00:00, 286.66it/s]\n"
     ]
    },
    {
     "name": "stdout",
     "output_type": "stream",
     "text": [
      "Train loss 0.4407590369632061\n"
     ]
    },
    {
     "name": "stderr",
     "output_type": "stream",
     "text": [
      "100%|█████████████████████████████████████████████████████████████████████████████| 1281/1281 [00:01<00:00, 888.64it/s]\n"
     ]
    },
    {
     "name": "stdout",
     "output_type": "stream",
     "text": [
      "similarity roc_auc 0.672731196331259\n",
      "Evaluate loss 0.448556125164032\n",
      "================================================== EPOCH 11 ==================================================\n"
     ]
    },
    {
     "name": "stderr",
     "output_type": "stream",
     "text": [
      "  0%|                                                                                        | 0/24339 [00:00<?, ?it/s]D:\\Program Files\\Anaconda3\\lib\\site-packages\\torch\\nn\\modules\\loss.py:498: UserWarning: Using a target size (torch.Size([8, 1])) that is different to the input size (torch.Size([8])) is deprecated. Please ensure they have the same size.\n",
      "  return F.binary_cross_entropy(input, target, weight=self.weight, reduction=self.reduction)\n",
      "100%|██████████████████████████████████████████████████████████████████████████▉| 24320/24339 [01:20<00:00, 356.15it/s]D:\\Program Files\\Anaconda3\\lib\\site-packages\\torch\\nn\\modules\\loss.py:498: UserWarning: Using a target size (torch.Size([2, 1])) that is different to the input size (torch.Size([2])) is deprecated. Please ensure they have the same size.\n",
      "  return F.binary_cross_entropy(input, target, weight=self.weight, reduction=self.reduction)\n",
      "100%|███████████████████████████████████████████████████████████████████████████| 24339/24339 [01:20<00:00, 300.96it/s]\n"
     ]
    },
    {
     "name": "stdout",
     "output_type": "stream",
     "text": [
      "Train loss 0.44032827388286894\n"
     ]
    },
    {
     "name": "stderr",
     "output_type": "stream",
     "text": [
      "100%|████████████████████████████████████████████████████████████████████████████| 1281/1281 [00:00<00:00, 1304.22it/s]\n"
     ]
    },
    {
     "name": "stdout",
     "output_type": "stream",
     "text": [
      "similarity roc_auc 0.6734701013645581\n",
      "Evaluate loss 0.4481833577156067\n",
      "================================================== EPOCH 12 ==================================================\n"
     ]
    },
    {
     "name": "stderr",
     "output_type": "stream",
     "text": [
      "  0%|                                                                                        | 0/24339 [00:00<?, ?it/s]D:\\Program Files\\Anaconda3\\lib\\site-packages\\torch\\nn\\modules\\loss.py:498: UserWarning: Using a target size (torch.Size([8, 1])) that is different to the input size (torch.Size([8])) is deprecated. Please ensure they have the same size.\n",
      "  return F.binary_cross_entropy(input, target, weight=self.weight, reduction=self.reduction)\n",
      "100%|██████████████████████████████████████████████████████████████████████████▉| 24309/24339 [01:11<00:00, 335.54it/s]D:\\Program Files\\Anaconda3\\lib\\site-packages\\torch\\nn\\modules\\loss.py:498: UserWarning: Using a target size (torch.Size([2, 1])) that is different to the input size (torch.Size([2])) is deprecated. Please ensure they have the same size.\n",
      "  return F.binary_cross_entropy(input, target, weight=self.weight, reduction=self.reduction)\n",
      "100%|███████████████████████████████████████████████████████████████████████████| 24339/24339 [01:11<00:00, 341.13it/s]\n"
     ]
    },
    {
     "name": "stdout",
     "output_type": "stream",
     "text": [
      "Train loss 0.4399130715814817\n"
     ]
    },
    {
     "name": "stderr",
     "output_type": "stream",
     "text": [
      "100%|████████████████████████████████████████████████████████████████████████████| 1281/1281 [00:01<00:00, 1263.63it/s]\n"
     ]
    },
    {
     "name": "stdout",
     "output_type": "stream",
     "text": [
      "similarity roc_auc 0.6744165229915693\n",
      "Evaluate loss 0.44791004061698914\n",
      "================================================== EPOCH 13 ==================================================\n"
     ]
    },
    {
     "name": "stderr",
     "output_type": "stream",
     "text": [
      "  0%|                                                                                        | 0/24339 [00:00<?, ?it/s]D:\\Program Files\\Anaconda3\\lib\\site-packages\\torch\\nn\\modules\\loss.py:498: UserWarning: Using a target size (torch.Size([8, 1])) that is different to the input size (torch.Size([8])) is deprecated. Please ensure they have the same size.\n",
      "  return F.binary_cross_entropy(input, target, weight=self.weight, reduction=self.reduction)\n",
      "100%|██████████████████████████████████████████████████████████████████████████▉| 24320/24339 [01:15<00:00, 239.45it/s]D:\\Program Files\\Anaconda3\\lib\\site-packages\\torch\\nn\\modules\\loss.py:498: UserWarning: Using a target size (torch.Size([2, 1])) that is different to the input size (torch.Size([2])) is deprecated. Please ensure they have the same size.\n",
      "  return F.binary_cross_entropy(input, target, weight=self.weight, reduction=self.reduction)\n",
      "100%|███████████████████████████████████████████████████████████████████████████| 24339/24339 [01:15<00:00, 321.16it/s]\n"
     ]
    },
    {
     "name": "stdout",
     "output_type": "stream",
     "text": [
      "Train loss 0.439533857865255\n"
     ]
    },
    {
     "name": "stderr",
     "output_type": "stream",
     "text": [
      "100%|████████████████████████████████████████████████████████████████████████████| 1281/1281 [00:01<00:00, 1150.12it/s]\n"
     ]
    },
    {
     "name": "stdout",
     "output_type": "stream",
     "text": [
      "similarity roc_auc 0.6755584671339407\n",
      "Evaluate loss 0.4476010203361511\n",
      "================================================== EPOCH 14 ==================================================\n"
     ]
    },
    {
     "name": "stderr",
     "output_type": "stream",
     "text": [
      "  0%|                                                                                        | 0/24339 [00:00<?, ?it/s]D:\\Program Files\\Anaconda3\\lib\\site-packages\\torch\\nn\\modules\\loss.py:498: UserWarning: Using a target size (torch.Size([8, 1])) that is different to the input size (torch.Size([8])) is deprecated. Please ensure they have the same size.\n",
      "  return F.binary_cross_entropy(input, target, weight=self.weight, reduction=self.reduction)\n",
      "100%|██████████████████████████████████████████████████████████████████████████▉| 24338/24339 [01:21<00:00, 336.62it/s]D:\\Program Files\\Anaconda3\\lib\\site-packages\\torch\\nn\\modules\\loss.py:498: UserWarning: Using a target size (torch.Size([2, 1])) that is different to the input size (torch.Size([2])) is deprecated. Please ensure they have the same size.\n",
      "  return F.binary_cross_entropy(input, target, weight=self.weight, reduction=self.reduction)\n",
      "100%|███████████████████████████████████████████████████████████████████████████| 24339/24339 [01:21<00:00, 299.56it/s]\n"
     ]
    },
    {
     "name": "stdout",
     "output_type": "stream",
     "text": [
      "Train loss 0.4392182008249316\n"
     ]
    },
    {
     "name": "stderr",
     "output_type": "stream",
     "text": [
      "100%|████████████████████████████████████████████████████████████████████████████| 1281/1281 [00:01<00:00, 1189.14it/s]\n"
     ]
    },
    {
     "name": "stdout",
     "output_type": "stream",
     "text": [
      "similarity roc_auc 0.6759130857044802\n",
      "Evaluate loss 0.447488933801651\n",
      "================================================== EPOCH 15 ==================================================\n"
     ]
    },
    {
     "name": "stderr",
     "output_type": "stream",
     "text": [
      "  0%|                                                                                        | 0/24339 [00:00<?, ?it/s]D:\\Program Files\\Anaconda3\\lib\\site-packages\\torch\\nn\\modules\\loss.py:498: UserWarning: Using a target size (torch.Size([8, 1])) that is different to the input size (torch.Size([8])) is deprecated. Please ensure they have the same size.\n",
      "  return F.binary_cross_entropy(input, target, weight=self.weight, reduction=self.reduction)\n",
      "100%|██████████████████████████████████████████████████████████████████████████▉| 24323/24339 [01:12<00:00, 335.49it/s]D:\\Program Files\\Anaconda3\\lib\\site-packages\\torch\\nn\\modules\\loss.py:498: UserWarning: Using a target size (torch.Size([2, 1])) that is different to the input size (torch.Size([2])) is deprecated. Please ensure they have the same size.\n",
      "  return F.binary_cross_entropy(input, target, weight=self.weight, reduction=self.reduction)\n",
      "100%|███████████████████████████████████████████████████████████████████████████| 24339/24339 [01:12<00:00, 333.50it/s]\n"
     ]
    },
    {
     "name": "stdout",
     "output_type": "stream",
     "text": [
      "Train loss 0.43888984632295414\n"
     ]
    },
    {
     "name": "stderr",
     "output_type": "stream",
     "text": [
      "100%|████████████████████████████████████████████████████████████████████████████| 1281/1281 [00:01<00:00, 1223.80it/s]\n"
     ]
    },
    {
     "name": "stdout",
     "output_type": "stream",
     "text": [
      "similarity roc_auc 0.6766654761433339\n",
      "Evaluate loss 0.44721683859825134\n",
      "================================================== EPOCH 16 ==================================================\n"
     ]
    },
    {
     "name": "stderr",
     "output_type": "stream",
     "text": [
      "  0%|                                                                                        | 0/24339 [00:00<?, ?it/s]D:\\Program Files\\Anaconda3\\lib\\site-packages\\torch\\nn\\modules\\loss.py:498: UserWarning: Using a target size (torch.Size([8, 1])) that is different to the input size (torch.Size([8])) is deprecated. Please ensure they have the same size.\n",
      "  return F.binary_cross_entropy(input, target, weight=self.weight, reduction=self.reduction)\n",
      "100%|██████████████████████████████████████████████████████████████████████████▉| 24329/24339 [01:16<00:00, 329.46it/s]D:\\Program Files\\Anaconda3\\lib\\site-packages\\torch\\nn\\modules\\loss.py:498: UserWarning: Using a target size (torch.Size([2, 1])) that is different to the input size (torch.Size([2])) is deprecated. Please ensure they have the same size.\n",
      "  return F.binary_cross_entropy(input, target, weight=self.weight, reduction=self.reduction)\n",
      "100%|███████████████████████████████████████████████████████████████████████████| 24339/24339 [01:16<00:00, 319.97it/s]\n"
     ]
    },
    {
     "name": "stdout",
     "output_type": "stream",
     "text": [
      "Train loss 0.43865158637059815\n"
     ]
    },
    {
     "name": "stderr",
     "output_type": "stream",
     "text": [
      "100%|█████████████████████████████████████████████████████████████████████████████| 1281/1281 [00:02<00:00, 616.46it/s]\n"
     ]
    },
    {
     "name": "stdout",
     "output_type": "stream",
     "text": [
      "similarity roc_auc 0.6778857942897525\n",
      "Evaluate loss 0.4467620551586151\n",
      "================================================== EPOCH 17 ==================================================\n"
     ]
    },
    {
     "name": "stderr",
     "output_type": "stream",
     "text": [
      "  0%|                                                                                        | 0/24339 [00:00<?, ?it/s]D:\\Program Files\\Anaconda3\\lib\\site-packages\\torch\\nn\\modules\\loss.py:498: UserWarning: Using a target size (torch.Size([8, 1])) that is different to the input size (torch.Size([8])) is deprecated. Please ensure they have the same size.\n",
      "  return F.binary_cross_entropy(input, target, weight=self.weight, reduction=self.reduction)\n",
      "100%|██████████████████████████████████████████████████████████████████████████▉| 24327/24339 [01:12<00:00, 259.68it/s]D:\\Program Files\\Anaconda3\\lib\\site-packages\\torch\\nn\\modules\\loss.py:498: UserWarning: Using a target size (torch.Size([2, 1])) that is different to the input size (torch.Size([2])) is deprecated. Please ensure they have the same size.\n",
      "  return F.binary_cross_entropy(input, target, weight=self.weight, reduction=self.reduction)\n",
      "100%|███████████████████████████████████████████████████████████████████████████| 24339/24339 [01:12<00:00, 335.19it/s]\n"
     ]
    },
    {
     "name": "stdout",
     "output_type": "stream",
     "text": [
      "Train loss 0.4383856544681385\n"
     ]
    },
    {
     "name": "stderr",
     "output_type": "stream",
     "text": [
      "100%|█████████████████████████████████████████████████████████████████████████████| 1281/1281 [00:01<00:00, 922.31it/s]\n"
     ]
    },
    {
     "name": "stdout",
     "output_type": "stream",
     "text": [
      "similarity roc_auc 0.6780922955117524\n",
      "Evaluate loss 0.4468037486076355\n",
      "================================================== EPOCH 18 ==================================================\n"
     ]
    },
    {
     "name": "stderr",
     "output_type": "stream",
     "text": [
      "  0%|                                                                                        | 0/24339 [00:00<?, ?it/s]D:\\Program Files\\Anaconda3\\lib\\site-packages\\torch\\nn\\modules\\loss.py:498: UserWarning: Using a target size (torch.Size([8, 1])) that is different to the input size (torch.Size([8])) is deprecated. Please ensure they have the same size.\n",
      "  return F.binary_cross_entropy(input, target, weight=self.weight, reduction=self.reduction)\n",
      "100%|██████████████████████████████████████████████████████████████████████████▉| 24318/24339 [01:41<00:00, 300.20it/s]D:\\Program Files\\Anaconda3\\lib\\site-packages\\torch\\nn\\modules\\loss.py:498: UserWarning: Using a target size (torch.Size([2, 1])) that is different to the input size (torch.Size([2])) is deprecated. Please ensure they have the same size.\n",
      "  return F.binary_cross_entropy(input, target, weight=self.weight, reduction=self.reduction)\n",
      "100%|███████████████████████████████████████████████████████████████████████████| 24339/24339 [01:41<00:00, 238.89it/s]\n"
     ]
    },
    {
     "name": "stdout",
     "output_type": "stream",
     "text": [
      "Train loss 0.43815329384411206\n"
     ]
    },
    {
     "name": "stderr",
     "output_type": "stream",
     "text": [
      "100%|████████████████████████████████████████████████████████████████████████████| 1281/1281 [00:01<00:00, 1166.35it/s]\n"
     ]
    },
    {
     "name": "stdout",
     "output_type": "stream",
     "text": [
      "similarity roc_auc 0.678691809047165\n",
      "Evaluate loss 0.4465392529964447\n",
      "================================================== EPOCH 19 ==================================================\n"
     ]
    },
    {
     "name": "stderr",
     "output_type": "stream",
     "text": [
      "  0%|                                                                                        | 0/24339 [00:00<?, ?it/s]D:\\Program Files\\Anaconda3\\lib\\site-packages\\torch\\nn\\modules\\loss.py:498: UserWarning: Using a target size (torch.Size([8, 1])) that is different to the input size (torch.Size([8])) is deprecated. Please ensure they have the same size.\n",
      "  return F.binary_cross_entropy(input, target, weight=self.weight, reduction=self.reduction)\n",
      "100%|██████████████████████████████████████████████████████████████████████████▉| 24315/24339 [01:35<00:00, 288.36it/s]D:\\Program Files\\Anaconda3\\lib\\site-packages\\torch\\nn\\modules\\loss.py:498: UserWarning: Using a target size (torch.Size([2, 1])) that is different to the input size (torch.Size([2])) is deprecated. Please ensure they have the same size.\n",
      "  return F.binary_cross_entropy(input, target, weight=self.weight, reduction=self.reduction)\n",
      "100%|███████████████████████████████████████████████████████████████████████████| 24339/24339 [01:35<00:00, 255.31it/s]\n"
     ]
    },
    {
     "name": "stdout",
     "output_type": "stream",
     "text": [
      "Train loss 0.4379260037061447\n"
     ]
    },
    {
     "name": "stderr",
     "output_type": "stream",
     "text": [
      "100%|█████████████████████████████████████████████████████████████████████████████| 1281/1281 [00:01<00:00, 898.61it/s]\n"
     ]
    },
    {
     "name": "stdout",
     "output_type": "stream",
     "text": [
      "similarity roc_auc 0.6791847402831466\n",
      "Evaluate loss 0.44635263085365295\n",
      "================================================== EPOCH 20 ==================================================\n"
     ]
    },
    {
     "name": "stderr",
     "output_type": "stream",
     "text": [
      "  0%|                                                                                        | 0/24339 [00:00<?, ?it/s]D:\\Program Files\\Anaconda3\\lib\\site-packages\\torch\\nn\\modules\\loss.py:498: UserWarning: Using a target size (torch.Size([8, 1])) that is different to the input size (torch.Size([8])) is deprecated. Please ensure they have the same size.\n",
      "  return F.binary_cross_entropy(input, target, weight=self.weight, reduction=self.reduction)\n",
      "100%|██████████████████████████████████████████████████████████████████████████▉| 24310/24339 [01:21<00:00, 316.63it/s]D:\\Program Files\\Anaconda3\\lib\\site-packages\\torch\\nn\\modules\\loss.py:498: UserWarning: Using a target size (torch.Size([2, 1])) that is different to the input size (torch.Size([2])) is deprecated. Please ensure they have the same size.\n",
      "  return F.binary_cross_entropy(input, target, weight=self.weight, reduction=self.reduction)\n",
      "100%|███████████████████████████████████████████████████████████████████████████| 24339/24339 [01:21<00:00, 297.54it/s]\n"
     ]
    },
    {
     "name": "stdout",
     "output_type": "stream",
     "text": [
      "Train loss 0.4377512975050506\n"
     ]
    },
    {
     "name": "stderr",
     "output_type": "stream",
     "text": [
      "100%|████████████████████████████████████████████████████████████████████████████| 1281/1281 [00:01<00:00, 1116.53it/s]\n"
     ]
    },
    {
     "name": "stdout",
     "output_type": "stream",
     "text": [
      "similarity roc_auc 0.6794180219340598\n",
      "Evaluate loss 0.44629740715026855\n",
      "================================================== EPOCH 21 ==================================================\n"
     ]
    },
    {
     "name": "stderr",
     "output_type": "stream",
     "text": [
      "  0%|                                                                                        | 0/24339 [00:00<?, ?it/s]D:\\Program Files\\Anaconda3\\lib\\site-packages\\torch\\nn\\modules\\loss.py:498: UserWarning: Using a target size (torch.Size([8, 1])) that is different to the input size (torch.Size([8])) is deprecated. Please ensure they have the same size.\n",
      "  return F.binary_cross_entropy(input, target, weight=self.weight, reduction=self.reduction)\n",
      "100%|██████████████████████████████████████████████████████████████████████████▉| 24304/24339 [01:19<00:00, 296.34it/s]D:\\Program Files\\Anaconda3\\lib\\site-packages\\torch\\nn\\modules\\loss.py:498: UserWarning: Using a target size (torch.Size([2, 1])) that is different to the input size (torch.Size([2])) is deprecated. Please ensure they have the same size.\n",
      "  return F.binary_cross_entropy(input, target, weight=self.weight, reduction=self.reduction)\n",
      "100%|███████████████████████████████████████████████████████████████████████████| 24339/24339 [01:20<00:00, 304.20it/s]\n"
     ]
    },
    {
     "name": "stdout",
     "output_type": "stream",
     "text": [
      "Train loss 0.43758008104644064\n"
     ]
    },
    {
     "name": "stderr",
     "output_type": "stream",
     "text": [
      "100%|████████████████████████████████████████████████████████████████████████████| 1281/1281 [00:00<00:00, 1353.14it/s]\n"
     ]
    },
    {
     "name": "stdout",
     "output_type": "stream",
     "text": [
      "similarity roc_auc 0.6799058445811135\n",
      "Evaluate loss 0.4460628926753998\n",
      "================================================== EPOCH 22 ==================================================\n"
     ]
    },
    {
     "name": "stderr",
     "output_type": "stream",
     "text": [
      "  0%|                                                                                        | 0/24339 [00:00<?, ?it/s]D:\\Program Files\\Anaconda3\\lib\\site-packages\\torch\\nn\\modules\\loss.py:498: UserWarning: Using a target size (torch.Size([8, 1])) that is different to the input size (torch.Size([8])) is deprecated. Please ensure they have the same size.\n",
      "  return F.binary_cross_entropy(input, target, weight=self.weight, reduction=self.reduction)\n",
      "100%|██████████████████████████████████████████████████████████████████████████▉| 24319/24339 [01:26<00:00, 294.60it/s]D:\\Program Files\\Anaconda3\\lib\\site-packages\\torch\\nn\\modules\\loss.py:498: UserWarning: Using a target size (torch.Size([2, 1])) that is different to the input size (torch.Size([2])) is deprecated. Please ensure they have the same size.\n",
      "  return F.binary_cross_entropy(input, target, weight=self.weight, reduction=self.reduction)\n",
      "100%|███████████████████████████████████████████████████████████████████████████| 24339/24339 [01:26<00:00, 282.24it/s]\n"
     ]
    },
    {
     "name": "stdout",
     "output_type": "stream",
     "text": [
      "Train loss 0.43736456159951187\n"
     ]
    },
    {
     "name": "stderr",
     "output_type": "stream",
     "text": [
      "100%|█████████████████████████████████████████████████████████████████████████████| 1281/1281 [00:01<00:00, 962.52it/s]\n"
     ]
    },
    {
     "name": "stdout",
     "output_type": "stream",
     "text": [
      "similarity roc_auc 0.680151691456967\n",
      "Evaluate loss 0.44593527913093567\n",
      "================================================== EPOCH 23 ==================================================\n"
     ]
    },
    {
     "name": "stderr",
     "output_type": "stream",
     "text": [
      "  0%|                                                                                        | 0/24339 [00:00<?, ?it/s]D:\\Program Files\\Anaconda3\\lib\\site-packages\\torch\\nn\\modules\\loss.py:498: UserWarning: Using a target size (torch.Size([8, 1])) that is different to the input size (torch.Size([8])) is deprecated. Please ensure they have the same size.\n",
      "  return F.binary_cross_entropy(input, target, weight=self.weight, reduction=self.reduction)\n",
      "100%|██████████████████████████████████████████████████████████████████████████▉| 24325/24339 [01:31<00:00, 249.93it/s]D:\\Program Files\\Anaconda3\\lib\\site-packages\\torch\\nn\\modules\\loss.py:498: UserWarning: Using a target size (torch.Size([2, 1])) that is different to the input size (torch.Size([2])) is deprecated. Please ensure they have the same size.\n",
      "  return F.binary_cross_entropy(input, target, weight=self.weight, reduction=self.reduction)\n",
      "100%|███████████████████████████████████████████████████████████████████████████| 24339/24339 [01:31<00:00, 265.06it/s]\n"
     ]
    },
    {
     "name": "stdout",
     "output_type": "stream",
     "text": [
      "Train loss 0.4371598645144135\n"
     ]
    },
    {
     "name": "stderr",
     "output_type": "stream",
     "text": [
      "100%|████████████████████████████████████████████████████████████████████████████| 1281/1281 [00:01<00:00, 1164.76it/s]\n"
     ]
    },
    {
     "name": "stdout",
     "output_type": "stream",
     "text": [
      "similarity roc_auc 0.6804118169975256\n",
      "Evaluate loss 0.4459467828273773\n",
      "================================================== EPOCH 24 ==================================================\n"
     ]
    },
    {
     "name": "stderr",
     "output_type": "stream",
     "text": [
      "  0%|                                                                                        | 0/24339 [00:00<?, ?it/s]D:\\Program Files\\Anaconda3\\lib\\site-packages\\torch\\nn\\modules\\loss.py:498: UserWarning: Using a target size (torch.Size([8, 1])) that is different to the input size (torch.Size([8])) is deprecated. Please ensure they have the same size.\n",
      "  return F.binary_cross_entropy(input, target, weight=self.weight, reduction=self.reduction)\n",
      "100%|██████████████████████████████████████████████████████████████████████████▉| 24319/24339 [01:12<00:00, 351.92it/s]D:\\Program Files\\Anaconda3\\lib\\site-packages\\torch\\nn\\modules\\loss.py:498: UserWarning: Using a target size (torch.Size([2, 1])) that is different to the input size (torch.Size([2])) is deprecated. Please ensure they have the same size.\n",
      "  return F.binary_cross_entropy(input, target, weight=self.weight, reduction=self.reduction)\n",
      "100%|███████████████████████████████████████████████████████████████████████████| 24339/24339 [01:12<00:00, 334.93it/s]\n"
     ]
    },
    {
     "name": "stdout",
     "output_type": "stream",
     "text": [
      "Train loss 0.4370300324932258\n"
     ]
    },
    {
     "name": "stderr",
     "output_type": "stream",
     "text": [
      "100%|████████████████████████████████████████████████████████████████████████████| 1281/1281 [00:00<00:00, 1324.44it/s]\n"
     ]
    },
    {
     "name": "stdout",
     "output_type": "stream",
     "text": [
      "similarity roc_auc 0.6808982435084747\n",
      "Evaluate loss 0.4457589387893677\n",
      "================================================== EPOCH 25 ==================================================\n"
     ]
    },
    {
     "name": "stderr",
     "output_type": "stream",
     "text": [
      "  0%|                                                                                        | 0/24339 [00:00<?, ?it/s]D:\\Program Files\\Anaconda3\\lib\\site-packages\\torch\\nn\\modules\\loss.py:498: UserWarning: Using a target size (torch.Size([8, 1])) that is different to the input size (torch.Size([8])) is deprecated. Please ensure they have the same size.\n",
      "  return F.binary_cross_entropy(input, target, weight=self.weight, reduction=self.reduction)\n",
      "100%|██████████████████████████████████████████████████████████████████████████▉| 24308/24339 [01:11<00:00, 345.50it/s]D:\\Program Files\\Anaconda3\\lib\\site-packages\\torch\\nn\\modules\\loss.py:498: UserWarning: Using a target size (torch.Size([2, 1])) that is different to the input size (torch.Size([2])) is deprecated. Please ensure they have the same size.\n",
      "  return F.binary_cross_entropy(input, target, weight=self.weight, reduction=self.reduction)\n",
      "100%|███████████████████████████████████████████████████████████████████████████| 24339/24339 [01:11<00:00, 341.56it/s]\n"
     ]
    },
    {
     "name": "stdout",
     "output_type": "stream",
     "text": [
      "Train loss 0.4369051329155741\n"
     ]
    },
    {
     "name": "stderr",
     "output_type": "stream",
     "text": [
      "100%|████████████████████████████████████████████████████████████████████████████| 1281/1281 [00:01<00:00, 1243.39it/s]\n"
     ]
    },
    {
     "name": "stdout",
     "output_type": "stream",
     "text": [
      "similarity roc_auc 0.6814856360440712\n",
      "Evaluate loss 0.44565293192863464\n",
      "================================================== EPOCH 26 ==================================================\n"
     ]
    },
    {
     "name": "stderr",
     "output_type": "stream",
     "text": [
      "  0%|                                                                                        | 0/24339 [00:00<?, ?it/s]D:\\Program Files\\Anaconda3\\lib\\site-packages\\torch\\nn\\modules\\loss.py:498: UserWarning: Using a target size (torch.Size([8, 1])) that is different to the input size (torch.Size([8])) is deprecated. Please ensure they have the same size.\n",
      "  return F.binary_cross_entropy(input, target, weight=self.weight, reduction=self.reduction)\n",
      "100%|██████████████████████████████████████████████████████████████████████████▉| 24304/24339 [01:11<00:00, 356.51it/s]D:\\Program Files\\Anaconda3\\lib\\site-packages\\torch\\nn\\modules\\loss.py:498: UserWarning: Using a target size (torch.Size([2, 1])) that is different to the input size (torch.Size([2])) is deprecated. Please ensure they have the same size.\n",
      "  return F.binary_cross_entropy(input, target, weight=self.weight, reduction=self.reduction)\n",
      "100%|███████████████████████████████████████████████████████████████████████████| 24339/24339 [01:11<00:00, 340.23it/s]\n"
     ]
    },
    {
     "name": "stdout",
     "output_type": "stream",
     "text": [
      "Train loss 0.43673155010279197\n"
     ]
    },
    {
     "name": "stderr",
     "output_type": "stream",
     "text": [
      "100%|████████████████████████████████████████████████████████████████████████████| 1281/1281 [00:00<00:00, 1348.85it/s]\n"
     ]
    },
    {
     "name": "stdout",
     "output_type": "stream",
     "text": [
      "similarity roc_auc 0.6811797235853587\n",
      "Evaluate loss 0.44561997056007385\n",
      "================================================== EPOCH 27 ==================================================\n"
     ]
    },
    {
     "name": "stderr",
     "output_type": "stream",
     "text": [
      "  0%|                                                                                        | 0/24339 [00:00<?, ?it/s]D:\\Program Files\\Anaconda3\\lib\\site-packages\\torch\\nn\\modules\\loss.py:498: UserWarning: Using a target size (torch.Size([8, 1])) that is different to the input size (torch.Size([8])) is deprecated. Please ensure they have the same size.\n",
      "  return F.binary_cross_entropy(input, target, weight=self.weight, reduction=self.reduction)\n",
      "100%|██████████████████████████████████████████████████████████████████████████▉| 24331/24339 [01:14<00:00, 335.51it/s]D:\\Program Files\\Anaconda3\\lib\\site-packages\\torch\\nn\\modules\\loss.py:498: UserWarning: Using a target size (torch.Size([2, 1])) that is different to the input size (torch.Size([2])) is deprecated. Please ensure they have the same size.\n",
      "  return F.binary_cross_entropy(input, target, weight=self.weight, reduction=self.reduction)\n",
      "100%|███████████████████████████████████████████████████████████████████████████| 24339/24339 [01:14<00:00, 325.16it/s]\n"
     ]
    },
    {
     "name": "stdout",
     "output_type": "stream",
     "text": [
      "Train loss 0.43664524157829754\n"
     ]
    },
    {
     "name": "stderr",
     "output_type": "stream",
     "text": [
      "100%|████████████████████████████████████████████████████████████████████████████| 1281/1281 [00:01<00:00, 1201.96it/s]\n"
     ]
    },
    {
     "name": "stdout",
     "output_type": "stream",
     "text": [
      "similarity roc_auc 0.6819472494087998\n",
      "Evaluate loss 0.44539105892181396\n",
      "================================================== EPOCH 28 ==================================================\n"
     ]
    },
    {
     "name": "stderr",
     "output_type": "stream",
     "text": [
      "  0%|                                                                                        | 0/24339 [00:00<?, ?it/s]D:\\Program Files\\Anaconda3\\lib\\site-packages\\torch\\nn\\modules\\loss.py:498: UserWarning: Using a target size (torch.Size([8, 1])) that is different to the input size (torch.Size([8])) is deprecated. Please ensure they have the same size.\n",
      "  return F.binary_cross_entropy(input, target, weight=self.weight, reduction=self.reduction)\n",
      "100%|██████████████████████████████████████████████████████████████████████████▉| 24338/24339 [01:18<00:00, 318.49it/s]D:\\Program Files\\Anaconda3\\lib\\site-packages\\torch\\nn\\modules\\loss.py:498: UserWarning: Using a target size (torch.Size([2, 1])) that is different to the input size (torch.Size([2])) is deprecated. Please ensure they have the same size.\n",
      "  return F.binary_cross_entropy(input, target, weight=self.weight, reduction=self.reduction)\n",
      "100%|███████████████████████████████████████████████████████████████████████████| 24339/24339 [01:18<00:00, 310.46it/s]\n"
     ]
    },
    {
     "name": "stdout",
     "output_type": "stream",
     "text": [
      "Train loss 0.43649531210803266\n"
     ]
    },
    {
     "name": "stderr",
     "output_type": "stream",
     "text": [
      "100%|████████████████████████████████████████████████████████████████████████████| 1281/1281 [00:01<00:00, 1213.91it/s]\n"
     ]
    },
    {
     "name": "stdout",
     "output_type": "stream",
     "text": [
      "similarity roc_auc 0.6820835313308172\n",
      "Evaluate loss 0.4453652501106262\n",
      "================================================== EPOCH 29 ==================================================\n"
     ]
    },
    {
     "name": "stderr",
     "output_type": "stream",
     "text": [
      "  0%|                                                                                        | 0/24339 [00:00<?, ?it/s]D:\\Program Files\\Anaconda3\\lib\\site-packages\\torch\\nn\\modules\\loss.py:498: UserWarning: Using a target size (torch.Size([8, 1])) that is different to the input size (torch.Size([8])) is deprecated. Please ensure they have the same size.\n",
      "  return F.binary_cross_entropy(input, target, weight=self.weight, reduction=self.reduction)\n",
      "100%|██████████████████████████████████████████████████████████████████████████▉| 24310/24339 [01:14<00:00, 339.34it/s]D:\\Program Files\\Anaconda3\\lib\\site-packages\\torch\\nn\\modules\\loss.py:498: UserWarning: Using a target size (torch.Size([2, 1])) that is different to the input size (torch.Size([2])) is deprecated. Please ensure they have the same size.\n",
      "  return F.binary_cross_entropy(input, target, weight=self.weight, reduction=self.reduction)\n",
      "100%|███████████████████████████████████████████████████████████████████████████| 24339/24339 [01:14<00:00, 326.41it/s]\n"
     ]
    },
    {
     "name": "stdout",
     "output_type": "stream",
     "text": [
      "Train loss 0.4363604762589776\n"
     ]
    },
    {
     "name": "stderr",
     "output_type": "stream",
     "text": [
      "100%|████████████████████████████████████████████████████████████████████████████| 1281/1281 [00:01<00:00, 1146.01it/s]\n"
     ]
    },
    {
     "name": "stdout",
     "output_type": "stream",
     "text": [
      "similarity roc_auc 0.6818171231777885\n",
      "Evaluate loss 0.4454050362110138\n",
      "================================================== EPOCH 30 ==================================================\n"
     ]
    },
    {
     "name": "stderr",
     "output_type": "stream",
     "text": [
      "  0%|                                                                                        | 0/24339 [00:00<?, ?it/s]D:\\Program Files\\Anaconda3\\lib\\site-packages\\torch\\nn\\modules\\loss.py:498: UserWarning: Using a target size (torch.Size([8, 1])) that is different to the input size (torch.Size([8])) is deprecated. Please ensure they have the same size.\n",
      "  return F.binary_cross_entropy(input, target, weight=self.weight, reduction=self.reduction)\n",
      "100%|██████████████████████████████████████████████████████████████████████████▉| 24336/24339 [01:23<00:00, 271.73it/s]D:\\Program Files\\Anaconda3\\lib\\site-packages\\torch\\nn\\modules\\loss.py:498: UserWarning: Using a target size (torch.Size([2, 1])) that is different to the input size (torch.Size([2])) is deprecated. Please ensure they have the same size.\n",
      "  return F.binary_cross_entropy(input, target, weight=self.weight, reduction=self.reduction)\n",
      "100%|███████████████████████████████████████████████████████████████████████████| 24339/24339 [01:23<00:00, 290.30it/s]\n"
     ]
    },
    {
     "name": "stdout",
     "output_type": "stream",
     "text": [
      "Train loss 0.436237676527321\n"
     ]
    },
    {
     "name": "stderr",
     "output_type": "stream",
     "text": [
      "100%|████████████████████████████████████████████████████████████████████████████| 1281/1281 [00:00<00:00, 1288.47it/s]\n"
     ]
    },
    {
     "name": "stdout",
     "output_type": "stream",
     "text": [
      "similarity roc_auc 0.6820865774459544\n",
      "Evaluate loss 0.4453466236591339\n",
      "================================================== EPOCH 31 ==================================================\n"
     ]
    },
    {
     "name": "stderr",
     "output_type": "stream",
     "text": [
      "  0%|                                                                                        | 0/24339 [00:00<?, ?it/s]D:\\Program Files\\Anaconda3\\lib\\site-packages\\torch\\nn\\modules\\loss.py:498: UserWarning: Using a target size (torch.Size([8, 1])) that is different to the input size (torch.Size([8])) is deprecated. Please ensure they have the same size.\n",
      "  return F.binary_cross_entropy(input, target, weight=self.weight, reduction=self.reduction)\n",
      "100%|██████████████████████████████████████████████████████████████████████████▉| 24333/24339 [01:12<00:00, 362.26it/s]D:\\Program Files\\Anaconda3\\lib\\site-packages\\torch\\nn\\modules\\loss.py:498: UserWarning: Using a target size (torch.Size([2, 1])) that is different to the input size (torch.Size([2])) is deprecated. Please ensure they have the same size.\n",
      "  return F.binary_cross_entropy(input, target, weight=self.weight, reduction=self.reduction)\n",
      "100%|███████████████████████████████████████████████████████████████████████████| 24339/24339 [01:12<00:00, 333.52it/s]\n"
     ]
    },
    {
     "name": "stdout",
     "output_type": "stream",
     "text": [
      "Train loss 0.43616708886410815\n"
     ]
    },
    {
     "name": "stderr",
     "output_type": "stream",
     "text": [
      "100%|████████████████████████████████████████████████████████████████████████████| 1281/1281 [00:01<00:00, 1162.05it/s]\n"
     ]
    },
    {
     "name": "stdout",
     "output_type": "stream",
     "text": [
      "similarity roc_auc 0.6826719709684921\n",
      "Evaluate loss 0.4451580345630646\n",
      "================================================== EPOCH 32 ==================================================\n"
     ]
    },
    {
     "name": "stderr",
     "output_type": "stream",
     "text": [
      "  0%|                                                                                        | 0/24339 [00:00<?, ?it/s]D:\\Program Files\\Anaconda3\\lib\\site-packages\\torch\\nn\\modules\\loss.py:498: UserWarning: Using a target size (torch.Size([8, 1])) that is different to the input size (torch.Size([8])) is deprecated. Please ensure they have the same size.\n",
      "  return F.binary_cross_entropy(input, target, weight=self.weight, reduction=self.reduction)\n",
      "100%|██████████████████████████████████████████████████████████████████████████▉| 24331/24339 [01:27<00:00, 318.88it/s]D:\\Program Files\\Anaconda3\\lib\\site-packages\\torch\\nn\\modules\\loss.py:498: UserWarning: Using a target size (torch.Size([2, 1])) that is different to the input size (torch.Size([2])) is deprecated. Please ensure they have the same size.\n",
      "  return F.binary_cross_entropy(input, target, weight=self.weight, reduction=self.reduction)\n",
      "100%|███████████████████████████████████████████████████████████████████████████| 24339/24339 [01:27<00:00, 276.73it/s]\n"
     ]
    },
    {
     "name": "stdout",
     "output_type": "stream",
     "text": [
      "Train loss 0.4360812978361444\n"
     ]
    },
    {
     "name": "stderr",
     "output_type": "stream",
     "text": [
      "100%|████████████████████████████████████████████████████████████████████████████| 1281/1281 [00:01<00:00, 1236.80it/s]\n"
     ]
    },
    {
     "name": "stdout",
     "output_type": "stream",
     "text": [
      "similarity roc_auc 0.6829754719193875\n",
      "Evaluate loss 0.44507068395614624\n",
      "================================================== EPOCH 33 ==================================================\n"
     ]
    },
    {
     "name": "stderr",
     "output_type": "stream",
     "text": [
      "  0%|                                                                                        | 0/24339 [00:00<?, ?it/s]D:\\Program Files\\Anaconda3\\lib\\site-packages\\torch\\nn\\modules\\loss.py:498: UserWarning: Using a target size (torch.Size([8, 1])) that is different to the input size (torch.Size([8])) is deprecated. Please ensure they have the same size.\n",
      "  return F.binary_cross_entropy(input, target, weight=self.weight, reduction=self.reduction)\n",
      "100%|██████████████████████████████████████████████████████████████████████████▉| 24315/24339 [01:09<00:00, 348.73it/s]D:\\Program Files\\Anaconda3\\lib\\site-packages\\torch\\nn\\modules\\loss.py:498: UserWarning: Using a target size (torch.Size([2, 1])) that is different to the input size (torch.Size([2])) is deprecated. Please ensure they have the same size.\n",
      "  return F.binary_cross_entropy(input, target, weight=self.weight, reduction=self.reduction)\n",
      "100%|███████████████████████████████████████████████████████████████████████████| 24339/24339 [01:10<00:00, 347.49it/s]\n"
     ]
    },
    {
     "name": "stdout",
     "output_type": "stream",
     "text": [
      "Train loss 0.435951848435132\n"
     ]
    },
    {
     "name": "stderr",
     "output_type": "stream",
     "text": [
      "100%|████████████████████████████████████████████████████████████████████████████| 1281/1281 [00:00<00:00, 1316.29it/s]\n"
     ]
    },
    {
     "name": "stdout",
     "output_type": "stream",
     "text": [
      "similarity roc_auc 0.6829290186635474\n",
      "Evaluate loss 0.44506239891052246\n",
      "================================================== EPOCH 34 ==================================================\n"
     ]
    },
    {
     "name": "stderr",
     "output_type": "stream",
     "text": [
      "  0%|                                                                                        | 0/24339 [00:00<?, ?it/s]D:\\Program Files\\Anaconda3\\lib\\site-packages\\torch\\nn\\modules\\loss.py:498: UserWarning: Using a target size (torch.Size([8, 1])) that is different to the input size (torch.Size([8])) is deprecated. Please ensure they have the same size.\n",
      "  return F.binary_cross_entropy(input, target, weight=self.weight, reduction=self.reduction)\n",
      "100%|██████████████████████████████████████████████████████████████████████████▉| 24328/24339 [01:18<00:00, 334.92it/s]D:\\Program Files\\Anaconda3\\lib\\site-packages\\torch\\nn\\modules\\loss.py:498: UserWarning: Using a target size (torch.Size([2, 1])) that is different to the input size (torch.Size([2])) is deprecated. Please ensure they have the same size.\n",
      "  return F.binary_cross_entropy(input, target, weight=self.weight, reduction=self.reduction)\n",
      "100%|███████████████████████████████████████████████████████████████████████████| 24339/24339 [01:18<00:00, 309.90it/s]\n"
     ]
    },
    {
     "name": "stdout",
     "output_type": "stream",
     "text": [
      "Train loss 0.4358874807100062\n"
     ]
    },
    {
     "name": "stderr",
     "output_type": "stream",
     "text": [
      "100%|████████████████████████████████████████████████████████████████████████████| 1281/1281 [00:01<00:00, 1271.19it/s]\n"
     ]
    },
    {
     "name": "stdout",
     "output_type": "stream",
     "text": [
      "similarity roc_auc 0.6832629173050816\n",
      "Evaluate loss 0.44494882225990295\n",
      "================================================== EPOCH 35 ==================================================\n"
     ]
    },
    {
     "name": "stderr",
     "output_type": "stream",
     "text": [
      "  0%|                                                                                        | 0/24339 [00:00<?, ?it/s]D:\\Program Files\\Anaconda3\\lib\\site-packages\\torch\\nn\\modules\\loss.py:498: UserWarning: Using a target size (torch.Size([8, 1])) that is different to the input size (torch.Size([8])) is deprecated. Please ensure they have the same size.\n",
      "  return F.binary_cross_entropy(input, target, weight=self.weight, reduction=self.reduction)\n",
      "100%|██████████████████████████████████████████████████████████████████████████▉| 24312/24339 [01:12<00:00, 337.06it/s]D:\\Program Files\\Anaconda3\\lib\\site-packages\\torch\\nn\\modules\\loss.py:498: UserWarning: Using a target size (torch.Size([2, 1])) that is different to the input size (torch.Size([2])) is deprecated. Please ensure they have the same size.\n",
      "  return F.binary_cross_entropy(input, target, weight=self.weight, reduction=self.reduction)\n",
      "100%|███████████████████████████████████████████████████████████████████████████| 24339/24339 [01:12<00:00, 335.01it/s]\n"
     ]
    },
    {
     "name": "stdout",
     "output_type": "stream",
     "text": [
      "Train loss 0.4357982114269032\n"
     ]
    },
    {
     "name": "stderr",
     "output_type": "stream",
     "text": [
      "100%|████████████████████████████████████████████████████████████████████████████| 1281/1281 [00:01<00:00, 1050.25it/s]\n"
     ]
    },
    {
     "name": "stdout",
     "output_type": "stream",
     "text": [
      "similarity roc_auc 0.6833050552311443\n",
      "Evaluate loss 0.4449090361595154\n",
      "================================================== EPOCH 36 ==================================================\n"
     ]
    },
    {
     "name": "stderr",
     "output_type": "stream",
     "text": [
      "  0%|                                                                                        | 0/24339 [00:00<?, ?it/s]D:\\Program Files\\Anaconda3\\lib\\site-packages\\torch\\nn\\modules\\loss.py:498: UserWarning: Using a target size (torch.Size([8, 1])) that is different to the input size (torch.Size([8])) is deprecated. Please ensure they have the same size.\n",
      "  return F.binary_cross_entropy(input, target, weight=self.weight, reduction=self.reduction)\n",
      "100%|██████████████████████████████████████████████████████████████████████████▉| 24327/24339 [01:15<00:00, 343.99it/s]D:\\Program Files\\Anaconda3\\lib\\site-packages\\torch\\nn\\modules\\loss.py:498: UserWarning: Using a target size (torch.Size([2, 1])) that is different to the input size (torch.Size([2])) is deprecated. Please ensure they have the same size.\n",
      "  return F.binary_cross_entropy(input, target, weight=self.weight, reduction=self.reduction)\n",
      "100%|███████████████████████████████████████████████████████████████████████████| 24339/24339 [01:15<00:00, 323.13it/s]\n"
     ]
    },
    {
     "name": "stdout",
     "output_type": "stream",
     "text": [
      "Train loss 0.4357281754651175\n"
     ]
    },
    {
     "name": "stderr",
     "output_type": "stream",
     "text": [
      "100%|████████████████████████████████████████████████████████████████████████████| 1281/1281 [00:01<00:00, 1194.65it/s]\n"
     ]
    },
    {
     "name": "stdout",
     "output_type": "stream",
     "text": [
      "similarity roc_auc 0.6836846138693683\n",
      "Evaluate loss 0.4448361396789551\n",
      "================================================== EPOCH 37 ==================================================\n"
     ]
    },
    {
     "name": "stderr",
     "output_type": "stream",
     "text": [
      "  0%|                                                                                        | 0/24339 [00:00<?, ?it/s]D:\\Program Files\\Anaconda3\\lib\\site-packages\\torch\\nn\\modules\\loss.py:498: UserWarning: Using a target size (torch.Size([8, 1])) that is different to the input size (torch.Size([8])) is deprecated. Please ensure they have the same size.\n",
      "  return F.binary_cross_entropy(input, target, weight=self.weight, reduction=self.reduction)\n",
      "100%|██████████████████████████████████████████████████████████████████████████▉| 24317/24339 [01:15<00:00, 337.64it/s]D:\\Program Files\\Anaconda3\\lib\\site-packages\\torch\\nn\\modules\\loss.py:498: UserWarning: Using a target size (torch.Size([2, 1])) that is different to the input size (torch.Size([2])) is deprecated. Please ensure they have the same size.\n",
      "  return F.binary_cross_entropy(input, target, weight=self.weight, reduction=self.reduction)\n",
      "100%|███████████████████████████████████████████████████████████████████████████| 24339/24339 [01:15<00:00, 320.80it/s]\n"
     ]
    },
    {
     "name": "stdout",
     "output_type": "stream",
     "text": [
      "Train loss 0.43562668842093666\n"
     ]
    },
    {
     "name": "stderr",
     "output_type": "stream",
     "text": [
      "100%|████████████████████████████████████████████████████████████████████████████| 1281/1281 [00:01<00:00, 1277.47it/s]\n"
     ]
    },
    {
     "name": "stdout",
     "output_type": "stream",
     "text": [
      "similarity roc_auc 0.6836571036420367\n",
      "Evaluate loss 0.44482097029685974\n",
      "================================================== EPOCH 38 ==================================================\n"
     ]
    },
    {
     "name": "stderr",
     "output_type": "stream",
     "text": [
      "  0%|                                                                                        | 0/24339 [00:00<?, ?it/s]D:\\Program Files\\Anaconda3\\lib\\site-packages\\torch\\nn\\modules\\loss.py:498: UserWarning: Using a target size (torch.Size([8, 1])) that is different to the input size (torch.Size([8])) is deprecated. Please ensure they have the same size.\n",
      "  return F.binary_cross_entropy(input, target, weight=self.weight, reduction=self.reduction)\n",
      "100%|██████████████████████████████████████████████████████████████████████████▉| 24335/24339 [01:11<00:00, 333.48it/s]D:\\Program Files\\Anaconda3\\lib\\site-packages\\torch\\nn\\modules\\loss.py:498: UserWarning: Using a target size (torch.Size([2, 1])) that is different to the input size (torch.Size([2])) is deprecated. Please ensure they have the same size.\n",
      "  return F.binary_cross_entropy(input, target, weight=self.weight, reduction=self.reduction)\n",
      "100%|███████████████████████████████████████████████████████████████████████████| 24339/24339 [01:11<00:00, 338.43it/s]\n"
     ]
    },
    {
     "name": "stdout",
     "output_type": "stream",
     "text": [
      "Train loss 0.43557291885023564\n"
     ]
    },
    {
     "name": "stderr",
     "output_type": "stream",
     "text": [
      "100%|████████████████████████████████████████████████████████████████████████████| 1281/1281 [00:01<00:00, 1226.11it/s]\n"
     ]
    },
    {
     "name": "stdout",
     "output_type": "stream",
     "text": [
      "similarity roc_auc 0.6838493896600637\n",
      "Evaluate loss 0.44477877020835876\n",
      "================================================== EPOCH 39 ==================================================\n"
     ]
    },
    {
     "name": "stderr",
     "output_type": "stream",
     "text": [
      "  0%|                                                                                        | 0/24339 [00:00<?, ?it/s]D:\\Program Files\\Anaconda3\\lib\\site-packages\\torch\\nn\\modules\\loss.py:498: UserWarning: Using a target size (torch.Size([8, 1])) that is different to the input size (torch.Size([8])) is deprecated. Please ensure they have the same size.\n",
      "  return F.binary_cross_entropy(input, target, weight=self.weight, reduction=self.reduction)\n",
      "100%|██████████████████████████████████████████████████████████████████████████▉| 24318/24339 [01:17<00:00, 340.99it/s]D:\\Program Files\\Anaconda3\\lib\\site-packages\\torch\\nn\\modules\\loss.py:498: UserWarning: Using a target size (torch.Size([2, 1])) that is different to the input size (torch.Size([2])) is deprecated. Please ensure they have the same size.\n",
      "  return F.binary_cross_entropy(input, target, weight=self.weight, reduction=self.reduction)\n",
      "100%|███████████████████████████████████████████████████████████████████████████| 24339/24339 [01:17<00:00, 314.75it/s]\n"
     ]
    },
    {
     "name": "stdout",
     "output_type": "stream",
     "text": [
      "Train loss 0.4355238588209478\n"
     ]
    },
    {
     "name": "stderr",
     "output_type": "stream",
     "text": [
      "100%|████████████████████████████████████████████████████████████████████████████| 1281/1281 [00:01<00:00, 1163.70it/s]\n"
     ]
    },
    {
     "name": "stdout",
     "output_type": "stream",
     "text": [
      "similarity roc_auc 0.6839353789519536\n",
      "Evaluate loss 0.44473475217819214\n",
      "================================================== EPOCH 40 ==================================================\n"
     ]
    },
    {
     "name": "stderr",
     "output_type": "stream",
     "text": [
      "  0%|                                                                                        | 0/24339 [00:00<?, ?it/s]D:\\Program Files\\Anaconda3\\lib\\site-packages\\torch\\nn\\modules\\loss.py:498: UserWarning: Using a target size (torch.Size([8, 1])) that is different to the input size (torch.Size([8])) is deprecated. Please ensure they have the same size.\n",
      "  return F.binary_cross_entropy(input, target, weight=self.weight, reduction=self.reduction)\n",
      "100%|██████████████████████████████████████████████████████████████████████████▉| 24309/24339 [01:13<00:00, 352.96it/s]D:\\Program Files\\Anaconda3\\lib\\site-packages\\torch\\nn\\modules\\loss.py:498: UserWarning: Using a target size (torch.Size([2, 1])) that is different to the input size (torch.Size([2])) is deprecated. Please ensure they have the same size.\n",
      "  return F.binary_cross_entropy(input, target, weight=self.weight, reduction=self.reduction)\n",
      "100%|███████████████████████████████████████████████████████████████████████████| 24339/24339 [01:13<00:00, 329.38it/s]\n"
     ]
    },
    {
     "name": "stdout",
     "output_type": "stream",
     "text": [
      "Train loss 0.4354678180837544\n"
     ]
    },
    {
     "name": "stderr",
     "output_type": "stream",
     "text": [
      "100%|████████████████████████████████████████████████████████████████████████████| 1281/1281 [00:01<00:00, 1262.31it/s]\n"
     ]
    },
    {
     "name": "stdout",
     "output_type": "stream",
     "text": [
      "similarity roc_auc 0.6839203070280984\n",
      "Evaluate loss 0.4447312653064728\n",
      "================================================== EPOCH 41 ==================================================\n"
     ]
    },
    {
     "name": "stderr",
     "output_type": "stream",
     "text": [
      "  0%|                                                                                        | 0/24339 [00:00<?, ?it/s]D:\\Program Files\\Anaconda3\\lib\\site-packages\\torch\\nn\\modules\\loss.py:498: UserWarning: Using a target size (torch.Size([8, 1])) that is different to the input size (torch.Size([8])) is deprecated. Please ensure they have the same size.\n",
      "  return F.binary_cross_entropy(input, target, weight=self.weight, reduction=self.reduction)\n",
      "100%|██████████████████████████████████████████████████████████████████████████▉| 24324/24339 [01:13<00:00, 341.13it/s]D:\\Program Files\\Anaconda3\\lib\\site-packages\\torch\\nn\\modules\\loss.py:498: UserWarning: Using a target size (torch.Size([2, 1])) that is different to the input size (torch.Size([2])) is deprecated. Please ensure they have the same size.\n",
      "  return F.binary_cross_entropy(input, target, weight=self.weight, reduction=self.reduction)\n",
      "100%|███████████████████████████████████████████████████████████████████████████| 24339/24339 [01:13<00:00, 331.16it/s]\n"
     ]
    },
    {
     "name": "stdout",
     "output_type": "stream",
     "text": [
      "Train loss 0.4354083486514508\n"
     ]
    },
    {
     "name": "stderr",
     "output_type": "stream",
     "text": [
      "100%|████████████████████████████████████████████████████████████████████████████| 1281/1281 [00:01<00:00, 1247.04it/s]\n"
     ]
    },
    {
     "name": "stdout",
     "output_type": "stream",
     "text": [
      "similarity roc_auc 0.6842277742747453\n",
      "Evaluate loss 0.44465741515159607\n",
      "================================================== EPOCH 42 ==================================================\n"
     ]
    },
    {
     "name": "stderr",
     "output_type": "stream",
     "text": [
      "  0%|                                                                                        | 0/24339 [00:00<?, ?it/s]D:\\Program Files\\Anaconda3\\lib\\site-packages\\torch\\nn\\modules\\loss.py:498: UserWarning: Using a target size (torch.Size([8, 1])) that is different to the input size (torch.Size([8])) is deprecated. Please ensure they have the same size.\n",
      "  return F.binary_cross_entropy(input, target, weight=self.weight, reduction=self.reduction)\n",
      "100%|██████████████████████████████████████████████████████████████████████████▉| 24324/24339 [01:13<00:00, 244.19it/s]D:\\Program Files\\Anaconda3\\lib\\site-packages\\torch\\nn\\modules\\loss.py:498: UserWarning: Using a target size (torch.Size([2, 1])) that is different to the input size (torch.Size([2])) is deprecated. Please ensure they have the same size.\n",
      "  return F.binary_cross_entropy(input, target, weight=self.weight, reduction=self.reduction)\n",
      "100%|███████████████████████████████████████████████████████████████████████████| 24339/24339 [01:13<00:00, 330.58it/s]\n"
     ]
    },
    {
     "name": "stdout",
     "output_type": "stream",
     "text": [
      "Train loss 0.43534905782614647\n"
     ]
    },
    {
     "name": "stderr",
     "output_type": "stream",
     "text": [
      "100%|████████████████████████████████████████████████████████████████████████████| 1281/1281 [00:01<00:00, 1073.57it/s]\n"
     ]
    },
    {
     "name": "stdout",
     "output_type": "stream",
     "text": [
      "similarity roc_auc 0.6840091837832954\n",
      "Evaluate loss 0.4446817636489868\n",
      "================================================== EPOCH 43 ==================================================\n"
     ]
    },
    {
     "name": "stderr",
     "output_type": "stream",
     "text": [
      "  0%|                                                                                        | 0/24339 [00:00<?, ?it/s]D:\\Program Files\\Anaconda3\\lib\\site-packages\\torch\\nn\\modules\\loss.py:498: UserWarning: Using a target size (torch.Size([8, 1])) that is different to the input size (torch.Size([8])) is deprecated. Please ensure they have the same size.\n",
      "  return F.binary_cross_entropy(input, target, weight=self.weight, reduction=self.reduction)\n",
      "100%|██████████████████████████████████████████████████████████████████████████▉| 24336/24339 [01:15<00:00, 312.68it/s]D:\\Program Files\\Anaconda3\\lib\\site-packages\\torch\\nn\\modules\\loss.py:498: UserWarning: Using a target size (torch.Size([2, 1])) that is different to the input size (torch.Size([2])) is deprecated. Please ensure they have the same size.\n",
      "  return F.binary_cross_entropy(input, target, weight=self.weight, reduction=self.reduction)\n",
      "100%|███████████████████████████████████████████████████████████████████████████| 24339/24339 [01:15<00:00, 322.72it/s]\n"
     ]
    },
    {
     "name": "stdout",
     "output_type": "stream",
     "text": [
      "Train loss 0.43532181269889436\n"
     ]
    },
    {
     "name": "stderr",
     "output_type": "stream",
     "text": [
      "100%|████████████████████████████████████████████████████████████████████████████| 1281/1281 [00:01<00:00, 1198.57it/s]\n"
     ]
    },
    {
     "name": "stdout",
     "output_type": "stream",
     "text": [
      "similarity roc_auc 0.6843175394801906\n",
      "Evaluate loss 0.4445922374725342\n",
      "================================================== EPOCH 44 ==================================================\n"
     ]
    },
    {
     "name": "stderr",
     "output_type": "stream",
     "text": [
      "  0%|                                                                                        | 0/24339 [00:00<?, ?it/s]D:\\Program Files\\Anaconda3\\lib\\site-packages\\torch\\nn\\modules\\loss.py:498: UserWarning: Using a target size (torch.Size([8, 1])) that is different to the input size (torch.Size([8])) is deprecated. Please ensure they have the same size.\n",
      "  return F.binary_cross_entropy(input, target, weight=self.weight, reduction=self.reduction)\n",
      "100%|██████████████████████████████████████████████████████████████████████████▉| 24333/24339 [01:13<00:00, 346.08it/s]D:\\Program Files\\Anaconda3\\lib\\site-packages\\torch\\nn\\modules\\loss.py:498: UserWarning: Using a target size (torch.Size([2, 1])) that is different to the input size (torch.Size([2])) is deprecated. Please ensure they have the same size.\n",
      "  return F.binary_cross_entropy(input, target, weight=self.weight, reduction=self.reduction)\n",
      "100%|███████████████████████████████████████████████████████████████████████████| 24339/24339 [01:13<00:00, 332.51it/s]\n"
     ]
    },
    {
     "name": "stdout",
     "output_type": "stream",
     "text": [
      "Train loss 0.4352576087322587\n"
     ]
    },
    {
     "name": "stderr",
     "output_type": "stream",
     "text": [
      "100%|████████████████████████████████████████████████████████████████████████████| 1281/1281 [00:01<00:00, 1255.61it/s]\n"
     ]
    },
    {
     "name": "stdout",
     "output_type": "stream",
     "text": [
      "similarity roc_auc 0.6842830485723367\n",
      "Evaluate loss 0.4445866644382477\n",
      "================================================== EPOCH 45 ==================================================\n"
     ]
    },
    {
     "name": "stderr",
     "output_type": "stream",
     "text": [
      "  0%|                                                                                        | 0/24339 [00:00<?, ?it/s]D:\\Program Files\\Anaconda3\\lib\\site-packages\\torch\\nn\\modules\\loss.py:498: UserWarning: Using a target size (torch.Size([8, 1])) that is different to the input size (torch.Size([8])) is deprecated. Please ensure they have the same size.\n",
      "  return F.binary_cross_entropy(input, target, weight=self.weight, reduction=self.reduction)\n",
      "100%|██████████████████████████████████████████████████████████████████████████▉| 24332/24339 [01:13<00:00, 339.80it/s]D:\\Program Files\\Anaconda3\\lib\\site-packages\\torch\\nn\\modules\\loss.py:498: UserWarning: Using a target size (torch.Size([2, 1])) that is different to the input size (torch.Size([2])) is deprecated. Please ensure they have the same size.\n",
      "  return F.binary_cross_entropy(input, target, weight=self.weight, reduction=self.reduction)\n",
      "100%|███████████████████████████████████████████████████████████████████████████| 24339/24339 [01:13<00:00, 331.08it/s]\n"
     ]
    },
    {
     "name": "stdout",
     "output_type": "stream",
     "text": [
      "Train loss 0.435220720087636\n"
     ]
    },
    {
     "name": "stderr",
     "output_type": "stream",
     "text": [
      "100%|████████████████████████████████████████████████████████████████████████████| 1281/1281 [00:01<00:00, 1251.91it/s]\n"
     ]
    },
    {
     "name": "stdout",
     "output_type": "stream",
     "text": [
      "similarity roc_auc 0.6842875225539441\n",
      "Evaluate loss 0.4445887506008148\n",
      "================================================== EPOCH 46 ==================================================\n"
     ]
    },
    {
     "name": "stderr",
     "output_type": "stream",
     "text": [
      "  0%|                                                                                        | 0/24339 [00:00<?, ?it/s]D:\\Program Files\\Anaconda3\\lib\\site-packages\\torch\\nn\\modules\\loss.py:498: UserWarning: Using a target size (torch.Size([8, 1])) that is different to the input size (torch.Size([8])) is deprecated. Please ensure they have the same size.\n",
      "  return F.binary_cross_entropy(input, target, weight=self.weight, reduction=self.reduction)\n",
      "100%|██████████████████████████████████████████████████████████████████████████▉| 24329/24339 [01:15<00:00, 337.07it/s]D:\\Program Files\\Anaconda3\\lib\\site-packages\\torch\\nn\\modules\\loss.py:498: UserWarning: Using a target size (torch.Size([2, 1])) that is different to the input size (torch.Size([2])) is deprecated. Please ensure they have the same size.\n",
      "  return F.binary_cross_entropy(input, target, weight=self.weight, reduction=self.reduction)\n",
      "100%|███████████████████████████████████████████████████████████████████████████| 24339/24339 [01:15<00:00, 322.24it/s]\n"
     ]
    },
    {
     "name": "stdout",
     "output_type": "stream",
     "text": [
      "Train loss 0.4351797751417156\n"
     ]
    },
    {
     "name": "stderr",
     "output_type": "stream",
     "text": [
      "100%|████████████████████████████████████████████████████████████████████████████| 1281/1281 [00:01<00:00, 1123.87it/s]\n"
     ]
    },
    {
     "name": "stdout",
     "output_type": "stream",
     "text": [
      "similarity roc_auc 0.684295391684715\n",
      "Evaluate loss 0.4445841312408447\n",
      "================================================== EPOCH 47 ==================================================\n"
     ]
    },
    {
     "name": "stderr",
     "output_type": "stream",
     "text": [
      "  0%|                                                                                        | 0/24339 [00:00<?, ?it/s]D:\\Program Files\\Anaconda3\\lib\\site-packages\\torch\\nn\\modules\\loss.py:498: UserWarning: Using a target size (torch.Size([8, 1])) that is different to the input size (torch.Size([8])) is deprecated. Please ensure they have the same size.\n",
      "  return F.binary_cross_entropy(input, target, weight=self.weight, reduction=self.reduction)\n",
      "100%|██████████████████████████████████████████████████████████████████████████▉| 24325/24339 [01:14<00:00, 279.73it/s]D:\\Program Files\\Anaconda3\\lib\\site-packages\\torch\\nn\\modules\\loss.py:498: UserWarning: Using a target size (torch.Size([2, 1])) that is different to the input size (torch.Size([2])) is deprecated. Please ensure they have the same size.\n",
      "  return F.binary_cross_entropy(input, target, weight=self.weight, reduction=self.reduction)\n",
      "100%|███████████████████████████████████████████████████████████████████████████| 24339/24339 [01:14<00:00, 326.40it/s]\n"
     ]
    },
    {
     "name": "stdout",
     "output_type": "stream",
     "text": [
      "Train loss 0.4351433464962879\n"
     ]
    },
    {
     "name": "stderr",
     "output_type": "stream",
     "text": [
      "100%|████████████████████████████████████████████████████████████████████████████| 1281/1281 [00:01<00:00, 1248.56it/s]\n"
     ]
    },
    {
     "name": "stdout",
     "output_type": "stream",
     "text": [
      "similarity roc_auc 0.6843210932811838\n",
      "Evaluate loss 0.444575697183609\n",
      "================================================== EPOCH 48 ==================================================\n"
     ]
    },
    {
     "name": "stderr",
     "output_type": "stream",
     "text": [
      "  0%|                                                                                        | 0/24339 [00:00<?, ?it/s]D:\\Program Files\\Anaconda3\\lib\\site-packages\\torch\\nn\\modules\\loss.py:498: UserWarning: Using a target size (torch.Size([8, 1])) that is different to the input size (torch.Size([8])) is deprecated. Please ensure they have the same size.\n",
      "  return F.binary_cross_entropy(input, target, weight=self.weight, reduction=self.reduction)\n",
      "100%|██████████████████████████████████████████████████████████████████████████▉| 24329/24339 [01:14<00:00, 321.70it/s]D:\\Program Files\\Anaconda3\\lib\\site-packages\\torch\\nn\\modules\\loss.py:498: UserWarning: Using a target size (torch.Size([2, 1])) that is different to the input size (torch.Size([2])) is deprecated. Please ensure they have the same size.\n",
      "  return F.binary_cross_entropy(input, target, weight=self.weight, reduction=self.reduction)\n",
      "100%|███████████████████████████████████████████████████████████████████████████| 24339/24339 [01:14<00:00, 327.98it/s]\n"
     ]
    },
    {
     "name": "stdout",
     "output_type": "stream",
     "text": [
      "Train loss 0.4351305223802738\n"
     ]
    },
    {
     "name": "stderr",
     "output_type": "stream",
     "text": [
      "100%|████████████████████████████████████████████████████████████████████████████| 1281/1281 [00:01<00:00, 1204.79it/s]\n"
     ]
    },
    {
     "name": "stdout",
     "output_type": "stream",
     "text": [
      "similarity roc_auc 0.6843529188382929\n",
      "Evaluate loss 0.4445630609989166\n",
      "================================================== EPOCH 49 ==================================================\n"
     ]
    },
    {
     "name": "stderr",
     "output_type": "stream",
     "text": [
      "  0%|                                                                                        | 0/24339 [00:00<?, ?it/s]D:\\Program Files\\Anaconda3\\lib\\site-packages\\torch\\nn\\modules\\loss.py:498: UserWarning: Using a target size (torch.Size([8, 1])) that is different to the input size (torch.Size([8])) is deprecated. Please ensure they have the same size.\n",
      "  return F.binary_cross_entropy(input, target, weight=self.weight, reduction=self.reduction)\n",
      "100%|██████████████████████████████████████████████████████████████████████████▉| 24323/24339 [01:16<00:00, 333.09it/s]D:\\Program Files\\Anaconda3\\lib\\site-packages\\torch\\nn\\modules\\loss.py:498: UserWarning: Using a target size (torch.Size([2, 1])) that is different to the input size (torch.Size([2])) is deprecated. Please ensure they have the same size.\n",
      "  return F.binary_cross_entropy(input, target, weight=self.weight, reduction=self.reduction)\n",
      "100%|███████████████████████████████████████████████████████████████████████████| 24339/24339 [01:16<00:00, 316.19it/s]\n"
     ]
    },
    {
     "name": "stdout",
     "output_type": "stream",
     "text": [
      "Train loss 0.43508925478830596\n"
     ]
    },
    {
     "name": "stderr",
     "output_type": "stream",
     "text": [
      "100%|████████████████████████████████████████████████████████████████████████████| 1281/1281 [00:01<00:00, 1258.03it/s]\n"
     ]
    },
    {
     "name": "stdout",
     "output_type": "stream",
     "text": [
      "similarity roc_auc 0.6843427968515353\n",
      "Evaluate loss 0.4445659816265106\n"
     ]
    }
   ],
   "source": [
    "losses = []\n",
    "val_losses = []\n",
    "rocs = []\n",
    "for i in range(EPOCH_NUM):\n",
    "    print('=' * 50, f\"EPOCH {i}\", '=' * 50)\n",
    "    l = train(model, train_iterator, optimizer, scheduler)\n",
    "    losses.append(l)\n",
    "    l,r = evaluate(model, dev_iterator)\n",
    "    val_losses.append(l)\n",
    "    rocs.append(r)"
   ]
  },
  {
   "cell_type": "code",
   "execution_count": 11,
   "metadata": {},
   "outputs": [
    {
     "data": {
      "text/plain": [
       "<matplotlib.legend.Legend at 0x1b4b773ef48>"
      ]
     },
     "execution_count": 11,
     "metadata": {},
     "output_type": "execute_result"
    },
    {
     "data": {
      "image/png": "[encoded data removed]",
      "text/plain": [
       "<Figure size 432x288 with 1 Axes>"
      ]
     },
     "metadata": {
      "needs_background": "light"
     },
     "output_type": "display_data"
    }
   ],
   "source": [
    "import matplotlib.pyplot as plt\n",
    "\n",
    "x = range(EPOCH_NUM)\n",
    "\n",
    "plt.plot(x, losses, 'r',label='train loss')\n",
    "plt.plot(x, val_losses, ms=10,label='validate loss')\n",
    "plt.plot(x, rocs, 'g',ms=10,label='rocs')\n",
    "\n",
    "plt.legend()  # 让图例生效\n"
   ]
  },
  {
   "cell_type": "code",
   "execution_count": null,
   "metadata": {},
   "outputs": [],
   "source": []
  }
 ],
 "metadata": {
  "kernelspec": {
   "display_name": "Python 3",
   "language": "python",
   "name": "python3"
  },
  "language_info": {
   "codemirror_mode": {
    "name": "ipython",
    "version": 3
   },
   "file_extension": ".py",
   "mimetype": "text/x-python",
   "name": "python",
   "nbconvert_exporter": "python",
   "pygments_lexer": "ipython3",
   "version": "3.7.4"
  }
 },
 "nbformat": 4,
 "nbformat_minor": 2
}
